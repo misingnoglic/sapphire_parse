{
 "cells": [
  {
   "cell_type": "code",
   "id": "dc86468b",
   "metadata": {
    "ExecuteTime": {
     "end_time": "2024-12-16T17:24:34.227042Z",
     "start_time": "2024-12-16T17:24:33.667164Z"
    }
   },
   "source": [
    "import pandas as pd\n",
    "from IPython.display import Image\n",
    "from get_sapphires import refresh_sapphire_csv\n"
   ],
   "outputs": [],
   "execution_count": 1
  },
  {
   "metadata": {
    "ExecuteTime": {
     "end_time": "2024-12-16T17:24:34.238559Z",
     "start_time": "2024-12-16T17:24:34.236686Z"
    }
   },
   "cell_type": "code",
   "source": "# refresh_sapphire_csv() #  Uncomment to load most fresh data",
   "id": "a539499906e27197",
   "outputs": [],
   "execution_count": 2
  },
  {
   "cell_type": "code",
   "id": "c002cdf1",
   "metadata": {
    "ExecuteTime": {
     "end_time": "2024-12-16T17:24:34.261079Z",
     "start_time": "2024-12-16T17:24:34.248796Z"
    }
   },
   "source": "sapphires = pd.read_csv(\"sapphires.csv\")",
   "outputs": [],
   "execution_count": 3
  },
  {
   "cell_type": "code",
   "id": "41fe7a56",
   "metadata": {
    "ExecuteTime": {
     "end_time": "2024-12-16T17:24:34.395073Z",
     "start_time": "2024-12-16T17:24:34.386004Z"
    }
   },
   "source": [
    "sapphires.head()"
   ],
   "outputs": [
    {
     "data": {
      "text/plain": [
       "                                               name  \\\n",
       "0    Padparadscha Sapphire - Round 1.22 Ct. #PA4067   \n",
       "1    Padparadscha Sapphire - Round 1.07 Ct. #PA3962   \n",
       "2     Padparadscha Sapphire - Oval 1.02 Ct. #PA3965   \n",
       "3  Padparadscha Sapphire - Cushion 1.05 Ct. #PA4166   \n",
       "4     Padparadscha Sapphire - Pear 2.00 Ct. #PA4160   \n",
       "\n",
       "                                                 url  \\\n",
       "0  https://www.thenaturalsapphirecompany.com/1.22...   \n",
       "1  https://www.thenaturalsapphirecompany.com/1.07...   \n",
       "2  https://www.thenaturalsapphirecompany.com/1.02...   \n",
       "3  https://www.thenaturalsapphirecompany.com/1.05...   \n",
       "4  https://www.thenaturalsapphirecompany.com/2.00...   \n",
       "\n",
       "                                           image_url Item ID  Total Price  \\\n",
       "0  https://image.thenaturalsapphirecompany.com/ns...  PA4067       1708.0   \n",
       "1  https://image.thenaturalsapphirecompany.com/ns...  PA3962       2086.0   \n",
       "2  https://image.thenaturalsapphirecompany.com/ns...  PA3965       3366.0   \n",
       "3  https://image.thenaturalsapphirecompany.com/ns...  PA4166       3772.0   \n",
       "4  https://image.thenaturalsapphirecompany.com/ns...  PA4160       5550.0   \n",
       "\n",
       "   Weight    Per Carat Price                                          Color  \\\n",
       "0    1.22     $1,400 per Ct.  Padparadscha (Pinkish-Orange / Orangish-Pink)   \n",
       "1    1.07  $1,949.53 per Ct.  Padparadscha (Pinkish-Orange / Orangish-Pink)   \n",
       "2    1.02     $3,300 per Ct.  Padparadscha (Pinkish-Orange / Orangish-Pink)   \n",
       "3    1.05  $3,592.38 per Ct.  Padparadscha (Pinkish-Orange / Orangish-Pink)   \n",
       "4    2.00     $2,775 per Ct.  Padparadscha (Pinkish-Orange / Orangish-Pink)   \n",
       "\n",
       "     Shape                 Clarity              Cut Color Intensity  \\\n",
       "0    Round  Very Slightly Included  Mixed Brilliant         Intense   \n",
       "1    Round  Very Slightly Included  Mixed Brilliant           Vivid   \n",
       "2     Oval               Eye Clean  Mixed Brilliant           Vivid   \n",
       "3  Cushion       Slightly Included  Mixed Brilliant          Medium   \n",
       "4     Pear  Very Slightly Included  Mixed Brilliant         Intense   \n",
       "\n",
       "               Origin      Treatments  Length  Width  Height  Price per Length  \n",
       "0  Ceylon (Sri Lanka)  No Enhancement    6.74   6.64    3.83        253.412463  \n",
       "1          Madagascar          Heated    6.08   5.95    3.52        343.092105  \n",
       "2          Mozambique          Heated    6.99   5.00    3.40        481.545064  \n",
       "3  Ceylon (Sri Lanka)          Heated    7.55   5.64    2.69        499.602649  \n",
       "4          Madagascar          Heated    8.32   6.69    3.89        667.067308  "
      ],
      "text/html": [
       "<div>\n",
       "<style scoped>\n",
       "    .dataframe tbody tr th:only-of-type {\n",
       "        vertical-align: middle;\n",
       "    }\n",
       "\n",
       "    .dataframe tbody tr th {\n",
       "        vertical-align: top;\n",
       "    }\n",
       "\n",
       "    .dataframe thead th {\n",
       "        text-align: right;\n",
       "    }\n",
       "</style>\n",
       "<table border=\"1\" class=\"dataframe\">\n",
       "  <thead>\n",
       "    <tr style=\"text-align: right;\">\n",
       "      <th></th>\n",
       "      <th>name</th>\n",
       "      <th>url</th>\n",
       "      <th>image_url</th>\n",
       "      <th>Item ID</th>\n",
       "      <th>Total Price</th>\n",
       "      <th>Weight</th>\n",
       "      <th>Per Carat Price</th>\n",
       "      <th>Color</th>\n",
       "      <th>Shape</th>\n",
       "      <th>Clarity</th>\n",
       "      <th>Cut</th>\n",
       "      <th>Color Intensity</th>\n",
       "      <th>Origin</th>\n",
       "      <th>Treatments</th>\n",
       "      <th>Length</th>\n",
       "      <th>Width</th>\n",
       "      <th>Height</th>\n",
       "      <th>Price per Length</th>\n",
       "    </tr>\n",
       "  </thead>\n",
       "  <tbody>\n",
       "    <tr>\n",
       "      <th>0</th>\n",
       "      <td>Padparadscha Sapphire - Round 1.22 Ct. #PA4067</td>\n",
       "      <td>https://www.thenaturalsapphirecompany.com/1.22...</td>\n",
       "      <td>https://image.thenaturalsapphirecompany.com/ns...</td>\n",
       "      <td>PA4067</td>\n",
       "      <td>1708.0</td>\n",
       "      <td>1.22</td>\n",
       "      <td>$1,400 per Ct.</td>\n",
       "      <td>Padparadscha (Pinkish-Orange / Orangish-Pink)</td>\n",
       "      <td>Round</td>\n",
       "      <td>Very Slightly Included</td>\n",
       "      <td>Mixed Brilliant</td>\n",
       "      <td>Intense</td>\n",
       "      <td>Ceylon (Sri Lanka)</td>\n",
       "      <td>No Enhancement</td>\n",
       "      <td>6.74</td>\n",
       "      <td>6.64</td>\n",
       "      <td>3.83</td>\n",
       "      <td>253.412463</td>\n",
       "    </tr>\n",
       "    <tr>\n",
       "      <th>1</th>\n",
       "      <td>Padparadscha Sapphire - Round 1.07 Ct. #PA3962</td>\n",
       "      <td>https://www.thenaturalsapphirecompany.com/1.07...</td>\n",
       "      <td>https://image.thenaturalsapphirecompany.com/ns...</td>\n",
       "      <td>PA3962</td>\n",
       "      <td>2086.0</td>\n",
       "      <td>1.07</td>\n",
       "      <td>$1,949.53 per Ct.</td>\n",
       "      <td>Padparadscha (Pinkish-Orange / Orangish-Pink)</td>\n",
       "      <td>Round</td>\n",
       "      <td>Very Slightly Included</td>\n",
       "      <td>Mixed Brilliant</td>\n",
       "      <td>Vivid</td>\n",
       "      <td>Madagascar</td>\n",
       "      <td>Heated</td>\n",
       "      <td>6.08</td>\n",
       "      <td>5.95</td>\n",
       "      <td>3.52</td>\n",
       "      <td>343.092105</td>\n",
       "    </tr>\n",
       "    <tr>\n",
       "      <th>2</th>\n",
       "      <td>Padparadscha Sapphire - Oval 1.02 Ct. #PA3965</td>\n",
       "      <td>https://www.thenaturalsapphirecompany.com/1.02...</td>\n",
       "      <td>https://image.thenaturalsapphirecompany.com/ns...</td>\n",
       "      <td>PA3965</td>\n",
       "      <td>3366.0</td>\n",
       "      <td>1.02</td>\n",
       "      <td>$3,300 per Ct.</td>\n",
       "      <td>Padparadscha (Pinkish-Orange / Orangish-Pink)</td>\n",
       "      <td>Oval</td>\n",
       "      <td>Eye Clean</td>\n",
       "      <td>Mixed Brilliant</td>\n",
       "      <td>Vivid</td>\n",
       "      <td>Mozambique</td>\n",
       "      <td>Heated</td>\n",
       "      <td>6.99</td>\n",
       "      <td>5.00</td>\n",
       "      <td>3.40</td>\n",
       "      <td>481.545064</td>\n",
       "    </tr>\n",
       "    <tr>\n",
       "      <th>3</th>\n",
       "      <td>Padparadscha Sapphire - Cushion 1.05 Ct. #PA4166</td>\n",
       "      <td>https://www.thenaturalsapphirecompany.com/1.05...</td>\n",
       "      <td>https://image.thenaturalsapphirecompany.com/ns...</td>\n",
       "      <td>PA4166</td>\n",
       "      <td>3772.0</td>\n",
       "      <td>1.05</td>\n",
       "      <td>$3,592.38 per Ct.</td>\n",
       "      <td>Padparadscha (Pinkish-Orange / Orangish-Pink)</td>\n",
       "      <td>Cushion</td>\n",
       "      <td>Slightly Included</td>\n",
       "      <td>Mixed Brilliant</td>\n",
       "      <td>Medium</td>\n",
       "      <td>Ceylon (Sri Lanka)</td>\n",
       "      <td>Heated</td>\n",
       "      <td>7.55</td>\n",
       "      <td>5.64</td>\n",
       "      <td>2.69</td>\n",
       "      <td>499.602649</td>\n",
       "    </tr>\n",
       "    <tr>\n",
       "      <th>4</th>\n",
       "      <td>Padparadscha Sapphire - Pear 2.00 Ct. #PA4160</td>\n",
       "      <td>https://www.thenaturalsapphirecompany.com/2.00...</td>\n",
       "      <td>https://image.thenaturalsapphirecompany.com/ns...</td>\n",
       "      <td>PA4160</td>\n",
       "      <td>5550.0</td>\n",
       "      <td>2.00</td>\n",
       "      <td>$2,775 per Ct.</td>\n",
       "      <td>Padparadscha (Pinkish-Orange / Orangish-Pink)</td>\n",
       "      <td>Pear</td>\n",
       "      <td>Very Slightly Included</td>\n",
       "      <td>Mixed Brilliant</td>\n",
       "      <td>Intense</td>\n",
       "      <td>Madagascar</td>\n",
       "      <td>Heated</td>\n",
       "      <td>8.32</td>\n",
       "      <td>6.69</td>\n",
       "      <td>3.89</td>\n",
       "      <td>667.067308</td>\n",
       "    </tr>\n",
       "  </tbody>\n",
       "</table>\n",
       "</div>"
      ]
     },
     "execution_count": 4,
     "metadata": {},
     "output_type": "execute_result"
    }
   ],
   "execution_count": 4
  },
  {
   "cell_type": "code",
   "id": "2569c857",
   "metadata": {
    "ExecuteTime": {
     "end_time": "2024-12-16T17:24:35.514478Z",
     "start_time": "2024-12-16T17:24:35.510640Z"
    }
   },
   "source": [
    "# sapphires[\"price_per_length\"] = sapphires[\"Total Price\"]/sapphires[\"Length\"]\n",
    "sapphires[\"length_width_ratio\"] = sapphires[\"Length\"]/sapphires[\"Width\"]\n"
   ],
   "outputs": [],
   "execution_count": 5
  },
  {
   "metadata": {
    "ExecuteTime": {
     "end_time": "2024-12-16T17:24:39.119163Z",
     "start_time": "2024-12-16T17:24:39.115930Z"
    }
   },
   "cell_type": "code",
   "source": "sapphires.columns",
   "id": "135d3db7064907af",
   "outputs": [
    {
     "data": {
      "text/plain": [
       "Index(['name', 'url', 'image_url', 'Item ID', 'Total Price', 'Weight',\n",
       "       'Per Carat Price', 'Color', 'Shape', 'Clarity', 'Cut',\n",
       "       'Color Intensity', 'Origin', 'Treatments', 'Length', 'Width', 'Height',\n",
       "       'Price per Length', 'length_width_ratio'],\n",
       "      dtype='object')"
      ]
     },
     "execution_count": 6,
     "metadata": {},
     "output_type": "execute_result"
    }
   ],
   "execution_count": 6
  },
  {
   "metadata": {
    "ExecuteTime": {
     "end_time": "2024-12-16T17:24:39.361843Z",
     "start_time": "2024-12-16T17:24:39.358352Z"
    }
   },
   "cell_type": "code",
   "source": [
    "intensities_ranked = ['Colorless', 'Near Colorless', 'Faint', 'Very Light', 'Light', 'Medium Light', 'Medium', 'Medium Intense', 'Intense', 'Vivid']\n",
    "# Replace color intensity with rank\n",
    "sapphires['Color Intensity'] = sapphires['Color Intensity'].apply(lambda x: intensities_ranked.index(x))"
   ],
   "id": "3e9258a7c69ab8f6",
   "outputs": [],
   "execution_count": 7
  },
  {
   "metadata": {
    "ExecuteTime": {
     "end_time": "2024-12-16T17:24:39.685092Z",
     "start_time": "2024-12-16T17:24:39.677815Z"
    }
   },
   "cell_type": "code",
   "source": "sapphires['Color'].unique()\n",
   "id": "7f97fd93c50a66db",
   "outputs": [
    {
     "data": {
      "text/plain": [
       "array(['Padparadscha (Pinkish-Orange / Orangish-Pink)', 'Peach'],\n",
       "      dtype=object)"
      ]
     },
     "execution_count": 8,
     "metadata": {},
     "output_type": "execute_result"
    }
   ],
   "execution_count": 8
  },
  {
   "metadata": {
    "ExecuteTime": {
     "end_time": "2024-12-16T17:24:40.247312Z",
     "start_time": "2024-12-16T17:24:40.240766Z"
    }
   },
   "cell_type": "code",
   "source": "sapphires.head(1)",
   "id": "f3f91b0cd0a896df",
   "outputs": [
    {
     "data": {
      "text/plain": [
       "                                             name  \\\n",
       "0  Padparadscha Sapphire - Round 1.22 Ct. #PA4067   \n",
       "\n",
       "                                                 url  \\\n",
       "0  https://www.thenaturalsapphirecompany.com/1.22...   \n",
       "\n",
       "                                           image_url Item ID  Total Price  \\\n",
       "0  https://image.thenaturalsapphirecompany.com/ns...  PA4067       1708.0   \n",
       "\n",
       "   Weight Per Carat Price                                          Color  \\\n",
       "0    1.22  $1,400 per Ct.  Padparadscha (Pinkish-Orange / Orangish-Pink)   \n",
       "\n",
       "   Shape                 Clarity              Cut  Color Intensity  \\\n",
       "0  Round  Very Slightly Included  Mixed Brilliant                8   \n",
       "\n",
       "               Origin      Treatments  Length  Width  Height  \\\n",
       "0  Ceylon (Sri Lanka)  No Enhancement    6.74   6.64    3.83   \n",
       "\n",
       "   Price per Length  length_width_ratio  \n",
       "0        253.412463             1.01506  "
      ],
      "text/html": [
       "<div>\n",
       "<style scoped>\n",
       "    .dataframe tbody tr th:only-of-type {\n",
       "        vertical-align: middle;\n",
       "    }\n",
       "\n",
       "    .dataframe tbody tr th {\n",
       "        vertical-align: top;\n",
       "    }\n",
       "\n",
       "    .dataframe thead th {\n",
       "        text-align: right;\n",
       "    }\n",
       "</style>\n",
       "<table border=\"1\" class=\"dataframe\">\n",
       "  <thead>\n",
       "    <tr style=\"text-align: right;\">\n",
       "      <th></th>\n",
       "      <th>name</th>\n",
       "      <th>url</th>\n",
       "      <th>image_url</th>\n",
       "      <th>Item ID</th>\n",
       "      <th>Total Price</th>\n",
       "      <th>Weight</th>\n",
       "      <th>Per Carat Price</th>\n",
       "      <th>Color</th>\n",
       "      <th>Shape</th>\n",
       "      <th>Clarity</th>\n",
       "      <th>Cut</th>\n",
       "      <th>Color Intensity</th>\n",
       "      <th>Origin</th>\n",
       "      <th>Treatments</th>\n",
       "      <th>Length</th>\n",
       "      <th>Width</th>\n",
       "      <th>Height</th>\n",
       "      <th>Price per Length</th>\n",
       "      <th>length_width_ratio</th>\n",
       "    </tr>\n",
       "  </thead>\n",
       "  <tbody>\n",
       "    <tr>\n",
       "      <th>0</th>\n",
       "      <td>Padparadscha Sapphire - Round 1.22 Ct. #PA4067</td>\n",
       "      <td>https://www.thenaturalsapphirecompany.com/1.22...</td>\n",
       "      <td>https://image.thenaturalsapphirecompany.com/ns...</td>\n",
       "      <td>PA4067</td>\n",
       "      <td>1708.0</td>\n",
       "      <td>1.22</td>\n",
       "      <td>$1,400 per Ct.</td>\n",
       "      <td>Padparadscha (Pinkish-Orange / Orangish-Pink)</td>\n",
       "      <td>Round</td>\n",
       "      <td>Very Slightly Included</td>\n",
       "      <td>Mixed Brilliant</td>\n",
       "      <td>8</td>\n",
       "      <td>Ceylon (Sri Lanka)</td>\n",
       "      <td>No Enhancement</td>\n",
       "      <td>6.74</td>\n",
       "      <td>6.64</td>\n",
       "      <td>3.83</td>\n",
       "      <td>253.412463</td>\n",
       "      <td>1.01506</td>\n",
       "    </tr>\n",
       "  </tbody>\n",
       "</table>\n",
       "</div>"
      ]
     },
     "execution_count": 9,
     "metadata": {},
     "output_type": "execute_result"
    }
   ],
   "execution_count": 9
  },
  {
   "cell_type": "code",
   "id": "482429d2",
   "metadata": {
    "ExecuteTime": {
     "end_time": "2024-12-16T17:24:41.059681Z",
     "start_time": "2024-12-16T17:24:41.054499Z"
    }
   },
   "source": "sapphires[\"Shape\"].unique()",
   "outputs": [
    {
     "data": {
      "text/plain": [
       "array(['Round', 'Oval', 'Cushion', 'Pear', 'Radiant', 'Trillion', 'Heart',\n",
       "       'Emerald Cut', 'Fancy', 'Princess', 'Marquise',\n",
       "       'Asscher - Octagon'], dtype=object)"
      ]
     },
     "execution_count": 10,
     "metadata": {},
     "output_type": "execute_result"
    }
   ],
   "execution_count": 10
  },
  {
   "metadata": {
    "ExecuteTime": {
     "end_time": "2024-12-16T17:24:41.528616Z",
     "start_time": "2024-12-16T17:24:41.525169Z"
    }
   },
   "cell_type": "code",
   "source": "sapphires[\"Shape\"].unique()",
   "id": "83be38b557a9a480",
   "outputs": [
    {
     "data": {
      "text/plain": [
       "array(['Round', 'Oval', 'Cushion', 'Pear', 'Radiant', 'Trillion', 'Heart',\n",
       "       'Emerald Cut', 'Fancy', 'Princess', 'Marquise',\n",
       "       'Asscher - Octagon'], dtype=object)"
      ]
     },
     "execution_count": 11,
     "metadata": {},
     "output_type": "execute_result"
    }
   ],
   "execution_count": 11
  },
  {
   "metadata": {
    "ExecuteTime": {
     "end_time": "2024-12-16T17:24:42.013804Z",
     "start_time": "2024-12-16T17:24:42.010326Z"
    }
   },
   "cell_type": "code",
   "source": "sapphires[\"Color\"].unique()\n",
   "id": "962f865e3bd33389",
   "outputs": [
    {
     "data": {
      "text/plain": [
       "array(['Padparadscha (Pinkish-Orange / Orangish-Pink)', 'Peach'],\n",
       "      dtype=object)"
      ]
     },
     "execution_count": 12,
     "metadata": {},
     "output_type": "execute_result"
    }
   ],
   "execution_count": 12
  },
  {
   "metadata": {
    "ExecuteTime": {
     "end_time": "2024-12-16T17:24:42.631568Z",
     "start_time": "2024-12-16T17:24:42.627878Z"
    }
   },
   "cell_type": "code",
   "source": "sapphires[\"Clarity\"].unique()\n",
   "id": "5b491f394ffd2307",
   "outputs": [
    {
     "data": {
      "text/plain": [
       "array(['Very Slightly Included', 'Eye Clean', 'Slightly Included',\n",
       "       'Included'], dtype=object)"
      ]
     },
     "execution_count": 13,
     "metadata": {},
     "output_type": "execute_result"
    }
   ],
   "execution_count": 13
  },
  {
   "metadata": {
    "ExecuteTime": {
     "end_time": "2024-12-16T17:24:44.357857Z",
     "start_time": "2024-12-16T17:24:44.353703Z"
    }
   },
   "cell_type": "code",
   "source": "sapphires[\"Color Intensity\"].unique()\n",
   "id": "631278bd3238e60b",
   "outputs": [
    {
     "data": {
      "text/plain": [
       "array([8, 9, 6, 5, 7, 4, 3, 2])"
      ]
     },
     "execution_count": 14,
     "metadata": {},
     "output_type": "execute_result"
    }
   ],
   "execution_count": 14
  },
  {
   "cell_type": "code",
   "id": "719516ab",
   "metadata": {
    "ExecuteTime": {
     "end_time": "2024-12-16T17:24:44.852326Z",
     "start_time": "2024-12-16T17:24:44.849451Z"
    }
   },
   "source": [
    "from functools import reduce\n",
    "\n",
    "long_cuts = [\"Marquise\", \"Emerald Cut\", \"Oval\", \"Pear\", \"Radiant\"]\n",
    "\n",
    "filters = [\n",
    "    # (~sapphires[\"Shape\"].isin([\"Fancy\", \"Heart\", \"Trillion\"])),\n",
    "    # ((sapphires[\"Length\"] >= 8.5) | (sapphires[\"length_width_ratio\"] <= 1.5)),\n",
    "    # (~sapphires[\"Clarity\"].isin([\"Slightly Included\", \"Included\"]) ),\n",
    "    # (~sapphires[\"Color Intensity\"].isin([\"Intense\", \"Vivid\"])),\n",
    "    # (sapphires[\"Total Price\"] < 12000),\n",
    "    # (sapphires[\"Total Price\"] > 500),\n",
    "    # (sapphires[\"Weight\"] > 1)\n",
    "]\n",
    "\n",
    "# filters_added = reduce(lambda x, y: x & y, filters)\n",
    "#\n",
    "# # And all filters together\n",
    "# sapphires_filtered = sapphires[filters_added]\n",
    "sapphires_filtered = sapphires\n"
   ],
   "outputs": [],
   "execution_count": 15
  },
  {
   "cell_type": "code",
   "id": "4e674efd",
   "metadata": {
    "ExecuteTime": {
     "end_time": "2024-12-16T17:24:46.603867Z",
     "start_time": "2024-12-16T17:24:46.459047Z"
    }
   },
   "source": [
    "print(f\"Num Results: {len(sapphires_filtered)}\")\n",
    "# Sort by distance to model length width and depth.\n",
    "model_length, model_width, model_depth = 11.66, 8.41, 6.81\n",
    "sapphires_filtered[\"distance_to_model\"] = ((sapphires_filtered[\"Length\"] - model_length)**2 * 10 + (sapphires_filtered[\"Width\"] - model_width)**2 * 5 + (sapphires_filtered[\"Height\"] - model_depth)**2)**0.5\n",
    "\n",
    "# Get first 100 of the closest to model\n",
    "\n",
    "for index, row in sapphires_filtered.sort_values(by=\"distance_to_model\", ascending=True).head(100).iterrows():\n",
    "    print(row['url'])\n",
    "    print(row['name'])\n",
    "    print(f'Distance: {row[\"distance_to_model\"]}')\n",
    "    # Print difference in length, width, height\n",
    "    print(f\"Diff l, w, d= {row['Length'] - model_length}, {row['Width'] - model_width}, {row['Height'] - model_depth}\")\n",
    "    print(f\"Price per length: {row['Price per Length']}\")\n",
    "    print(f\"Price: {row['Total Price']}\")\n",
    "    print(f\"Dims: {row['Length']} x {row['Width']} x {row['Height']}\")\n",
    "    print(f\"Color: {row['Color']}\")\n",
    "    print(f'Treatments: {row[\"Treatments\"]}')\n",
    "    display(Image(url=row['image_url'], width=400))"
   ],
   "outputs": [
    {
     "name": "stdout",
     "output_type": "stream",
     "text": [
      "Num Results: 820\n",
      "https://www.thenaturalsapphirecompany.com/5.15ct-ceylon-sri-lanka-oval-padparadscha-sapphire-pa4027-/\n",
      "Padparadscha Sapphire - Oval 5.15 Ct. #PA4027\n",
      "Distance: 1.1953660527219259\n",
      "Diff l, w, d= 0.2599999999999998, -0.16999999999999993, -0.7799999999999994\n",
      "Price per length: 3683.221476510067\n",
      "Price: 43904.0\n",
      "Dims: 11.92 x 8.24 x 6.03\n",
      "Color: Padparadscha (Pinkish-Orange / Orangish-Pink)\n",
      "Treatments: Heated\n"
     ]
    },
    {
     "data": {
      "text/html": [
       "<img src=\"https://image.thenaturalsapphirecompany.com/nsc/sapphire/pa4027/image/certified-natural-ceylon(srilanka)-oval-padparadscha-sapphire-5.1500-cts-pa4027-1-full.jpg\" width=\"400\"/>"
      ],
      "text/plain": [
       "<IPython.core.display.Image object>"
      ]
     },
     "metadata": {},
     "output_type": "display_data"
    },
    {
     "name": "stdout",
     "output_type": "stream",
     "text": [
      "https://www.thenaturalsapphirecompany.com/4.21ct-ceylon-sri-lanka-oval-padparadscha-sapphire-s11716-/\n",
      "Padparadscha Sapphire - Oval 4.21 Ct. #S11716\n",
      "Distance: 1.5460918472070146\n",
      "Diff l, w, d= -0.17999999999999972, -0.09999999999999964, -1.42\n",
      "Price per length: 1754.7909407665504\n",
      "Price: 20145.0\n",
      "Dims: 11.48 x 8.31 x 5.39\n",
      "Color: Padparadscha (Pinkish-Orange / Orangish-Pink)\n",
      "Treatments: Heated\n"
     ]
    },
    {
     "data": {
      "text/html": [
       "<img src=\"https://image.thenaturalsapphirecompany.com/nsc/sapphire/s11716/image/certified-natural-ceylon(srilanka)-oval-padparadscha-sapphire-4.2100-cts-s11716-1-full.jpg\" width=\"400\"/>"
      ],
      "text/plain": [
       "<IPython.core.display.Image object>"
      ]
     },
     "metadata": {},
     "output_type": "display_data"
    },
    {
     "name": "stdout",
     "output_type": "stream",
     "text": [
      "https://www.thenaturalsapphirecompany.com/4.03ct-ceylon-sri-lanka-pear-padparadscha-sapphire-s4051-/\n",
      "Padparadscha Sapphire - Pear 4.03 Ct. #S4051\n",
      "Distance: 1.59125736447628\n",
      "Diff l, w, d= 0.1999999999999993, -0.33000000000000007, -1.2599999999999998\n",
      "Price per length: 1087.3524451939293\n",
      "Price: 12896.0\n",
      "Dims: 11.86 x 8.08 x 5.55\n",
      "Color: Padparadscha (Pinkish-Orange / Orangish-Pink)\n",
      "Treatments: Heated\n"
     ]
    },
    {
     "data": {
      "text/html": [
       "<img src=\"https://image.thenaturalsapphirecompany.com/nsc/sapphire/s4051/image/certified-natural-ceylon(srilanka)-pear-padparadscha-sapphire-4.0300-cts-s4051-1-full.jpg\" width=\"400\"/>"
      ],
      "text/plain": [
       "<IPython.core.display.Image object>"
      ]
     },
     "metadata": {},
     "output_type": "display_data"
    },
    {
     "name": "stdout",
     "output_type": "stream",
     "text": [
      "https://www.thenaturalsapphirecompany.com/5.02ct-ceylon-sri-lanka-emerald-cut-peach-sapphire-u15483-/\n",
      "Peach Sapphire - Emerald Cut 5.02 Ct. #U15483\n",
      "Distance: 1.8850464185266098\n",
      "Diff l, w, d= -0.120000000000001, 0.10999999999999943, -1.8299999999999992\n",
      "Price per length: 704.1594454072791\n",
      "Price: 8126.0\n",
      "Dims: 11.54 x 8.52 x 4.98\n",
      "Color: Peach\n",
      "Treatments: No Enhancement\n"
     ]
    },
    {
     "data": {
      "text/html": [
       "<img src=\"https://image.thenaturalsapphirecompany.com/nsc/sapphire/u15483/image/certified-natural-untreated-ceylon(srilanka)-emeraldcut-peach-sapphire-5.0200-cts-u15483-1-full.jpg\" width=\"400\"/>"
      ],
      "text/plain": [
       "<IPython.core.display.Image object>"
      ]
     },
     "metadata": {},
     "output_type": "display_data"
    },
    {
     "name": "stdout",
     "output_type": "stream",
     "text": [
      "https://www.thenaturalsapphirecompany.com/5.66ct-ceylon-sri-lanka-oval-peach-sapphire-u15851-/\n",
      "Peach Sapphire - Oval 5.66 Ct. #U15851\n",
      "Distance: 2.047535103484186\n",
      "Diff l, w, d= -0.4399999999999995, 0.6600000000000001, -0.27999999999999936\n",
      "Price per length: 1639.572192513369\n",
      "Price: 18396.0\n",
      "Dims: 11.22 x 9.07 x 6.53\n",
      "Color: Peach\n",
      "Treatments: No Enhancement\n"
     ]
    },
    {
     "data": {
      "text/html": [
       "<img src=\"https://image.thenaturalsapphirecompany.com/nsc/sapphire/u15851/image/certified-natural-untreated-ceylon(srilanka)-oval-peach-sapphire-5.6500-cts-u15851-1-full.jpg\" width=\"400\"/>"
      ],
      "text/plain": [
       "<IPython.core.display.Image object>"
      ]
     },
     "metadata": {},
     "output_type": "display_data"
    },
    {
     "name": "stdout",
     "output_type": "stream",
     "text": [
      "https://www.thenaturalsapphirecompany.com/5.11ct-madagascar-radiant-peach-sapphire-s17084-/\n",
      "Peach Sapphire - Radiant 5.11 Ct. #S17084\n",
      "Distance: 2.088276801575883\n",
      "Diff l, w, d= -0.5, 0.40000000000000036, -1.0299999999999994\n",
      "Price per length: 856.2724014336917\n",
      "Price: 9556.0\n",
      "Dims: 11.16 x 8.81 x 5.78\n",
      "Color: Peach\n",
      "Treatments: No Enhancement\n"
     ]
    },
    {
     "data": {
      "text/html": [
       "<img src=\"https://image.thenaturalsapphirecompany.com/nsc/sapphire/s17084/image/certified-natural-untreated-madagascar-radiant-peach-sapphire-5.1100-cts-s17084-1-full.jpg\" width=\"400\"/>"
      ],
      "text/plain": [
       "<IPython.core.display.Image object>"
      ]
     },
     "metadata": {},
     "output_type": "display_data"
    },
    {
     "name": "stdout",
     "output_type": "stream",
     "text": [
      "https://www.thenaturalsapphirecompany.com/6.00ct-ceylon-sri-lanka-cushion-peach-sapphire-s16113-/\n",
      "Peach Sapphire - Cushion 6.00 Ct. #S16113\n",
      "Distance: 2.091769585781378\n",
      "Diff l, w, d= -0.4499999999999993, 0.6400000000000006, -0.5499999999999998\n",
      "Price per length: 1472.167707404103\n",
      "Price: 16503.0\n",
      "Dims: 11.21 x 9.05 x 6.26\n",
      "Color: Peach\n",
      "Treatments: No Enhancement\n"
     ]
    },
    {
     "data": {
      "text/html": [
       "<img src=\"https://image.thenaturalsapphirecompany.com/nsc/sapphire/s16113/image/certified-natural-untreated-ceylon(srilanka)-cushion-peach-sapphire-6.0000-cts-s16113-1-full.jpg\" width=\"400\"/>"
      ],
      "text/plain": [
       "<IPython.core.display.Image object>"
      ]
     },
     "metadata": {},
     "output_type": "display_data"
    },
    {
     "name": "stdout",
     "output_type": "stream",
     "text": [
      "https://www.thenaturalsapphirecompany.com/6.04ct-ceylon-sri-lanka-oval-padparadscha-sapphire-s7963-/\n",
      "Padparadscha Sapphire - Oval 6.04 Ct. #S7963\n",
      "Distance: 2.3788652757144533\n",
      "Diff l, w, d= -0.13000000000000078, 1.0, -0.6999999999999993\n",
      "Price per length: 8512.575888985257\n",
      "Price: 98150.0\n",
      "Dims: 11.53 x 9.41 x 6.11\n",
      "Color: Padparadscha (Pinkish-Orange / Orangish-Pink)\n",
      "Treatments: No Enhancement\n"
     ]
    },
    {
     "data": {
      "text/html": [
       "<img src=\"https://image.thenaturalsapphirecompany.com/nsc/sapphire/s7963/image/certified-natural-untreated-ceylon(srilanka)-oval-peach-sapphire-6.0400-cts-s7963-1-full.jpg\" width=\"400\"/>"
      ],
      "text/plain": [
       "<IPython.core.display.Image object>"
      ]
     },
     "metadata": {},
     "output_type": "display_data"
    },
    {
     "name": "stdout",
     "output_type": "stream",
     "text": [
      "https://www.thenaturalsapphirecompany.com/3.66ct-madagascar-pear-padparadscha-sapphire-s7217-/\n",
      "Padparadscha Sapphire - Pear 3.66 Ct. #S7217\n",
      "Distance: 2.4082151066713284\n",
      "Diff l, w, d= -0.13000000000000078, -0.8399999999999999, -1.4499999999999993\n",
      "Price per length: 1295.1431049436253\n",
      "Price: 14933.0\n",
      "Dims: 11.53 x 7.57 x 5.36\n",
      "Color: Padparadscha (Pinkish-Orange / Orangish-Pink)\n",
      "Treatments: Heated\n"
     ]
    },
    {
     "data": {
      "text/html": [
       "<img src=\"https://image.thenaturalsapphirecompany.com/nsc/sapphire/s7217/image/certified-natural-madagascar-pear-padparadscha-sapphire-3.6600-cts-s7217-1-full.jpg\" width=\"400\"/>"
      ],
      "text/plain": [
       "<IPython.core.display.Image object>"
      ]
     },
     "metadata": {},
     "output_type": "display_data"
    },
    {
     "name": "stdout",
     "output_type": "stream",
     "text": [
      "https://www.thenaturalsapphirecompany.com/4.80ct-ceylon-sri-lanka-oval-peach-sapphire-s6784-/\n",
      "Peach Sapphire - Oval 4.80 Ct. #S6784\n",
      "Distance: 2.4395491386729646\n",
      "Diff l, w, d= -0.7300000000000004, 0.27999999999999936, -0.47999999999999954\n",
      "Price per length: 895.8828911253431\n",
      "Price: 9792.0\n",
      "Dims: 10.93 x 8.69 x 6.33\n",
      "Color: Peach\n",
      "Treatments: No Enhancement\n"
     ]
    },
    {
     "data": {
      "text/html": [
       "<img src=\"https://image.thenaturalsapphirecompany.com/nsc/sapphire/s6784/image/certified-natural-untreated-ceylon(srilanka)-oval-peach-sapphire-4.8000-cts-s6784-1-full.jpg\" width=\"400\"/>"
      ],
      "text/plain": [
       "<IPython.core.display.Image object>"
      ]
     },
     "metadata": {},
     "output_type": "display_data"
    },
    {
     "name": "stdout",
     "output_type": "stream",
     "text": [
      "https://www.thenaturalsapphirecompany.com/4.04ct-madagascar-cushion-padparadscha-sapphire-s14644-/\n",
      "Padparadscha Sapphire - Cushion 4.04 Ct. #S14644\n",
      "Distance: 2.5962665502602\n",
      "Diff l, w, d= -0.13000000000000078, -0.0600000000000005, -2.5599999999999996\n",
      "Price per length: 1161.578490893322\n",
      "Price: 13393.0\n",
      "Dims: 11.53 x 8.35 x 4.25\n",
      "Color: Padparadscha (Pinkish-Orange / Orangish-Pink)\n",
      "Treatments: Heated\n"
     ]
    },
    {
     "data": {
      "text/html": [
       "<img src=\"https://image.thenaturalsapphirecompany.com/nsc/sapphire/s14644/image/certified-natural-madagascar-cushion-padparadscha-sapphire-4.0400-cts-s14644-1-full.jpg\" width=\"400\"/>"
      ],
      "text/plain": [
       "<IPython.core.display.Image object>"
      ]
     },
     "metadata": {},
     "output_type": "display_data"
    },
    {
     "name": "stdout",
     "output_type": "stream",
     "text": [
      "https://www.thenaturalsapphirecompany.com/6.20ct-ceylon-sri-lanka-oval-peach-sapphire-s12603-/\n",
      "Peach Sapphire - Oval 6.20 Ct. #S12603\n",
      "Distance: 2.6665333299998335\n",
      "Diff l, w, d= 0.1899999999999995, 1.1500000000000004, -0.3699999999999992\n",
      "Price per length: 3852.1518987341774\n",
      "Price: 45648.0\n",
      "Dims: 11.85 x 9.56 x 6.44\n",
      "Color: Peach\n",
      "Treatments: No Enhancement\n"
     ]
    },
    {
     "data": {
      "text/html": [
       "<img src=\"https://image.thenaturalsapphirecompany.com/nsc/sapphire/s12603/image/certified-natural-untreated-ceylon(srilanka)-oval-peach-sapphire-6.2000-cts-s12603-1-full.jpg\" width=\"400\"/>"
      ],
      "text/plain": [
       "<IPython.core.display.Image object>"
      ]
     },
     "metadata": {},
     "output_type": "display_data"
    },
    {
     "name": "stdout",
     "output_type": "stream",
     "text": [
      "https://www.thenaturalsapphirecompany.com/5.44ct-ceylon-sri-lanka-oval-peach-sapphire-s16107-/\n",
      "Peach Sapphire - Oval 5.44 Ct. #S16107\n",
      "Distance: 2.7949060807118378\n",
      "Diff l, w, d= 0.3100000000000005, 0.8900000000000006, -1.6999999999999993\n",
      "Price per length: 852.2138680033416\n",
      "Price: 10201.0\n",
      "Dims: 11.97 x 9.3 x 5.11\n",
      "Color: Peach\n",
      "Treatments: No Enhancement\n"
     ]
    },
    {
     "data": {
      "text/html": [
       "<img src=\"https://image.thenaturalsapphirecompany.com/nsc/sapphire/s16107/image/certified-natural-untreated-ceylon(srilanka)-oval-peach-sapphire-5.4400-cts-s16107-1-full.jpg\" width=\"400\"/>"
      ],
      "text/plain": [
       "<IPython.core.display.Image object>"
      ]
     },
     "metadata": {},
     "output_type": "display_data"
    },
    {
     "name": "stdout",
     "output_type": "stream",
     "text": [
      "https://www.thenaturalsapphirecompany.com/4.17ct-ceylon-sri-lanka-pear-padparadscha-sapphire-pa3960-/\n",
      "Padparadscha Sapphire - Pear 4.17 Ct. #PA3960\n",
      "Distance: 2.806795325633843\n",
      "Diff l, w, d= 0.6999999999999993, -0.3000000000000007, -1.5899999999999999\n",
      "Price per length: 1336.003236245955\n",
      "Price: 16513.0\n",
      "Dims: 12.36 x 8.11 x 5.22\n",
      "Color: Padparadscha (Pinkish-Orange / Orangish-Pink)\n",
      "Treatments: Heated\n"
     ]
    },
    {
     "data": {
      "text/html": [
       "<img src=\"https://image.thenaturalsapphirecompany.com/nsc/sapphire/pa3960/image/certified-natural-ceylon(srilanka)-pear-padparadscha-sapphire-4.1700-cts-pa3960-1-full.jpg\" width=\"400\"/>"
      ],
      "text/plain": [
       "<IPython.core.display.Image object>"
      ]
     },
     "metadata": {},
     "output_type": "display_data"
    },
    {
     "name": "stdout",
     "output_type": "stream",
     "text": [
      "https://www.thenaturalsapphirecompany.com/5.03ct-ceylon-sri-lanka-oval-padparadscha-sapphire-s12599-/\n",
      "Padparadscha Sapphire - Oval 5.03 Ct. #S12599\n",
      "Distance: 2.9975156379909014\n",
      "Diff l, w, d= -0.9100000000000001, 0.1999999999999993, -0.71\n",
      "Price per length: 7264.279069767442\n",
      "Price: 78091.0\n",
      "Dims: 10.75 x 8.61 x 6.1\n",
      "Color: Padparadscha (Pinkish-Orange / Orangish-Pink)\n",
      "Treatments: No Enhancement\n"
     ]
    },
    {
     "data": {
      "text/html": [
       "<img src=\"https://image.thenaturalsapphirecompany.com/nsc/sapphire/s12599/image/certified-natural-untreated-ceylon(srilanka)-oval-padparadscha-sapphire-5.0300-cts-s12599-1-full.jpg\" width=\"400\"/>"
      ],
      "text/plain": [
       "<IPython.core.display.Image object>"
      ]
     },
     "metadata": {},
     "output_type": "display_data"
    },
    {
     "name": "stdout",
     "output_type": "stream",
     "text": [
      "https://www.thenaturalsapphirecompany.com/7.32ct-ceylon-sri-lanka-oval-padparadscha-sapphire-s8610-/\n",
      "Padparadscha Sapphire - Oval 7.32 Ct. #S8610\n",
      "Distance: 3.192867050160402\n",
      "Diff l, w, d= -0.10999999999999943, 1.3699999999999992, 0.8300000000000001\n",
      "Price per length: 3781.991341991342\n",
      "Price: 43682.0\n",
      "Dims: 11.55 x 9.78 x 7.64\n",
      "Color: Padparadscha (Pinkish-Orange / Orangish-Pink)\n",
      "Treatments: Heated\n"
     ]
    },
    {
     "data": {
      "text/html": [
       "<img src=\"https://image.thenaturalsapphirecompany.com/nsc/sapphire/s8610/image/certified-natural-ceylon(srilanka)-oval-padparadscha-sapphire-7.3200-cts-s8610-1-full.jpg\" width=\"400\"/>"
      ],
      "text/plain": [
       "<IPython.core.display.Image object>"
      ]
     },
     "metadata": {},
     "output_type": "display_data"
    },
    {
     "name": "stdout",
     "output_type": "stream",
     "text": [
      "https://www.thenaturalsapphirecompany.com/6.16ct-ceylon-sri-lanka-oval-peach-sapphire-u15137-/\n",
      "Peach Sapphire - Oval 6.16 Ct. #U15137\n",
      "Distance: 3.324981202954385\n",
      "Diff l, w, d= 0.75, 1.0399999999999991, -0.14999999999999947\n",
      "Price per length: 620.4673650282031\n",
      "Price: 7700.0\n",
      "Dims: 12.41 x 9.45 x 6.66\n",
      "Color: Peach\n",
      "Treatments: No Enhancement\n"
     ]
    },
    {
     "data": {
      "text/html": [
       "<img src=\"https://image.thenaturalsapphirecompany.com/nsc/sapphire/u15137/image/certified-natural-untreated-ceylon(srilanka)-oval-peach-sapphire-6.1600-cts-u15137-1-full.jpg\" width=\"400\"/>"
      ],
      "text/plain": [
       "<IPython.core.display.Image object>"
      ]
     },
     "metadata": {},
     "output_type": "display_data"
    },
    {
     "name": "stdout",
     "output_type": "stream",
     "text": [
      "https://www.thenaturalsapphirecompany.com/6.07ct-madagascar-oval-padparadscha-sapphire-s8367-/\n",
      "Padparadscha Sapphire - Oval 6.07 Ct. #S8367\n",
      "Distance: 3.4053780994186242\n",
      "Diff l, w, d= 0.8300000000000001, 0.8200000000000003, -1.1599999999999993\n",
      "Price per length: 3389.751801441153\n",
      "Price: 42338.0\n",
      "Dims: 12.49 x 9.23 x 5.65\n",
      "Color: Padparadscha (Pinkish-Orange / Orangish-Pink)\n",
      "Treatments: Heated\n"
     ]
    },
    {
     "data": {
      "text/html": [
       "<img src=\"https://image.thenaturalsapphirecompany.com/nsc/sapphire/s8367/image/certified-natural-ceylon(srilanka)-oval-padparadscha-sapphire-6.0700-cts-s8367-1-full.jpg\" width=\"400\"/>"
      ],
      "text/plain": [
       "<IPython.core.display.Image object>"
      ]
     },
     "metadata": {},
     "output_type": "display_data"
    },
    {
     "name": "stdout",
     "output_type": "stream",
     "text": [
      "https://www.thenaturalsapphirecompany.com/5.17ct-madagascar-oval-padparadscha-sapphire-s17873-/\n",
      "Padparadscha Sapphire - Oval 5.17 Ct. #S17873\n",
      "Distance: 3.4318945205236115\n",
      "Diff l, w, d= 0.8699999999999992, 0.6400000000000006, -1.4699999999999998\n",
      "Price per length: 2686.1133280127697\n",
      "Price: 33657.0\n",
      "Dims: 12.53 x 9.05 x 5.34\n",
      "Color: Padparadscha (Pinkish-Orange / Orangish-Pink)\n",
      "Treatments: No Enhancement\n"
     ]
    },
    {
     "data": {
      "text/html": [
       "<img src=\"https://image.thenaturalsapphirecompany.com/nsc/sapphire/s17873/image/certified-natural-untreated-madagascar-oval-padparadscha-sapphire-5.1700-cts-s17873-1-full.jpg\" width=\"400\"/>"
      ],
      "text/plain": [
       "<IPython.core.display.Image object>"
      ]
     },
     "metadata": {},
     "output_type": "display_data"
    },
    {
     "name": "stdout",
     "output_type": "stream",
     "text": [
      "https://www.thenaturalsapphirecompany.com/4.50ct-madagascar-oval-padparadscha-sapphire-pa3917-/\n",
      "Padparadscha Sapphire - Oval 4.50 Ct. #PA3917\n",
      "Distance: 3.52063914651871\n",
      "Diff l, w, d= -1.0999999999999996, -0.07000000000000028, -0.5199999999999996\n",
      "Price per length: 2972.3484848484845\n",
      "Price: 31388.0\n",
      "Dims: 10.56 x 8.34 x 6.29\n",
      "Color: Padparadscha (Pinkish-Orange / Orangish-Pink)\n",
      "Treatments: Heated\n"
     ]
    },
    {
     "data": {
      "text/html": [
       "<img src=\"https://image.thenaturalsapphirecompany.com/nsc/sapphire/pa3917/image/certified-natural-madagascar-oval-padparadscha-sapphire-4.5000-cts-pa3917-1-full.jpg\" width=\"400\"/>"
      ],
      "text/plain": [
       "<IPython.core.display.Image object>"
      ]
     },
     "metadata": {},
     "output_type": "display_data"
    },
    {
     "name": "stdout",
     "output_type": "stream",
     "text": [
      "https://www.thenaturalsapphirecompany.com/4.09ct-madagascar-oval-padparadscha-sapphire-s12597-/\n",
      "Padparadscha Sapphire - Oval 4.09 Ct. #S12597\n",
      "Distance: 3.532336337326899\n",
      "Diff l, w, d= -0.6400000000000006, -1.1500000000000004, -1.3299999999999992\n",
      "Price per length: 5112.522686025409\n",
      "Price: 56340.0\n",
      "Dims: 11.02 x 7.26 x 5.48\n",
      "Color: Padparadscha (Pinkish-Orange / Orangish-Pink)\n",
      "Treatments: No Enhancement\n"
     ]
    },
    {
     "data": {
      "text/html": [
       "<img src=\"https://image.thenaturalsapphirecompany.com/nsc/sapphire/s12597/image/certified-natural-untreated-madagascar-round-padparadscha-sapphire-4.0900-cts-s12597-1-full.jpg\" width=\"400\"/>"
      ],
      "text/plain": [
       "<IPython.core.display.Image object>"
      ]
     },
     "metadata": {},
     "output_type": "display_data"
    },
    {
     "name": "stdout",
     "output_type": "stream",
     "text": [
      "https://www.thenaturalsapphirecompany.com/3.95ct-ceylon-sri-lanka-oval-padparadscha-sapphire-s16109-/\n",
      "Padparadscha Sapphire - Oval 3.95 Ct. #S16109\n",
      "Distance: 3.660204912296578\n",
      "Diff l, w, d= -0.9900000000000002, 0.27999999999999936, -1.79\n",
      "Price per length: 1546.5791940018744\n",
      "Price: 16502.0\n",
      "Dims: 10.67 x 8.69 x 5.02\n",
      "Color: Padparadscha (Pinkish-Orange / Orangish-Pink)\n",
      "Treatments: No Enhancement\n"
     ]
    },
    {
     "data": {
      "text/html": [
       "<img src=\"https://image.thenaturalsapphirecompany.com/nsc/sapphire/s16109/image/certified-natural-untreated-ceylon(srilanka)-oval-pink-sapphire-3.9500-cts-s16109-1-full.jpg\" width=\"400\"/>"
      ],
      "text/plain": [
       "<IPython.core.display.Image object>"
      ]
     },
     "metadata": {},
     "output_type": "display_data"
    },
    {
     "name": "stdout",
     "output_type": "stream",
     "text": [
      "https://www.thenaturalsapphirecompany.com/5.04ct-madagascar-cushion-peach-sapphire-s7938-/\n",
      "Peach Sapphire - Cushion 5.04 Ct. #S7938\n",
      "Distance: 3.6730641159663975\n",
      "Diff l, w, d= -0.9700000000000006, 0.6600000000000001, -1.38\n",
      "Price per length: 801.4967259120674\n",
      "Price: 8568.0\n",
      "Dims: 10.69 x 9.07 x 5.43\n",
      "Color: Peach\n",
      "Treatments: No Enhancement\n"
     ]
    },
    {
     "data": {
      "text/html": [
       "<img src=\"https://image.thenaturalsapphirecompany.com/nsc/sapphire/s7938/image/certified-natural-untreated-ceylon(srilanka)-cushion-peach-sapphire-5.0400-cts-s7938-1-full.jpg\" width=\"400\"/>"
      ],
      "text/plain": [
       "<IPython.core.display.Image object>"
      ]
     },
     "metadata": {},
     "output_type": "display_data"
    },
    {
     "name": "stdout",
     "output_type": "stream",
     "text": [
      "https://www.thenaturalsapphirecompany.com/5.06ct-ceylon-sri-lanka-cushion-padparadscha-sapphire-s15186-/\n",
      "Padparadscha Sapphire - Cushion 5.06 Ct. #S15186\n",
      "Distance: 3.7144447768138886\n",
      "Diff l, w, d= -0.6099999999999994, 1.209999999999999, -1.6599999999999993\n",
      "Price per length: 4979.909502262443\n",
      "Price: 55028.0\n",
      "Dims: 11.05 x 9.62 x 5.15\n",
      "Color: Padparadscha (Pinkish-Orange / Orangish-Pink)\n",
      "Treatments: Heated\n"
     ]
    },
    {
     "data": {
      "text/html": [
       "<img src=\"https://image.thenaturalsapphirecompany.com/nsc/sapphire/s15186/image/certified-natural-untreated-ceylon(srilanka)-cushion-padparadscha-sapphire-5.0600-cts-s15186-1-full.jpg\" width=\"400\"/>"
      ],
      "text/plain": [
       "<IPython.core.display.Image object>"
      ]
     },
     "metadata": {},
     "output_type": "display_data"
    },
    {
     "name": "stdout",
     "output_type": "stream",
     "text": [
      "https://www.thenaturalsapphirecompany.com/8.46ct-ceylon-sri-lanka-radiant-peach-sapphire-s12648-/\n",
      "Peach Sapphire - Radiant 8.46 Ct. #S12648\n",
      "Distance: 3.7372449745768574\n",
      "Diff l, w, d= 0.879999999999999, 1.1099999999999994, 0.25\n",
      "Price per length: 1391.4673046251994\n",
      "Price: 17449.0\n",
      "Dims: 12.54 x 9.52 x 7.06\n",
      "Color: Peach\n",
      "Treatments: Heated\n"
     ]
    },
    {
     "data": {
      "text/html": [
       "<img src=\"https://image.thenaturalsapphirecompany.com/nsc/sapphire/s12648/image/certified-natural-ceylon(srilanka)-radiant-peach-sapphire-8.4600-cts-s12648-1-full.jpg\" width=\"400\"/>"
      ],
      "text/plain": [
       "<IPython.core.display.Image object>"
      ]
     },
     "metadata": {},
     "output_type": "display_data"
    },
    {
     "name": "stdout",
     "output_type": "stream",
     "text": [
      "https://www.thenaturalsapphirecompany.com/3.51ct-ceylon-sri-lanka-oval-padparadscha-sapphire-s12598-/\n",
      "Padparadscha Sapphire - Oval 3.51 Ct. #S12598\n",
      "Distance: 3.7491332331620337\n",
      "Diff l, w, d= -0.8300000000000001, -0.7700000000000005, -2.05\n",
      "Price per length: 2005.3554939981532\n",
      "Price: 21718.0\n",
      "Dims: 10.83 x 7.64 x 4.76\n",
      "Color: Padparadscha (Pinkish-Orange / Orangish-Pink)\n",
      "Treatments: No Enhancement\n"
     ]
    },
    {
     "data": {
      "text/html": [
       "<img src=\"https://image.thenaturalsapphirecompany.com/nsc/sapphire/s12598/image/certified-natural-untreated-ceylon(srilanka)-oval-padparadscha-sapphire-3.5100-cts-s12598-1-full.jpg\" width=\"400\"/>"
      ],
      "text/plain": [
       "<IPython.core.display.Image object>"
      ]
     },
     "metadata": {},
     "output_type": "display_data"
    },
    {
     "name": "stdout",
     "output_type": "stream",
     "text": [
      "https://www.thenaturalsapphirecompany.com/4.41ct-ceylon-sri-lanka-oval-padparadscha-sapphire-s13431-/\n",
      "Padparadscha Sapphire - Oval 4.41 Ct. #S13431\n",
      "Distance: 3.7554094317397664\n",
      "Diff l, w, d= -1.0899999999999999, 0.5099999999999998, -0.96\n",
      "Price per length: 3097.824030274361\n",
      "Price: 32744.0\n",
      "Dims: 10.57 x 8.92 x 5.85\n",
      "Color: Padparadscha (Pinkish-Orange / Orangish-Pink)\n",
      "Treatments: Heated\n"
     ]
    },
    {
     "data": {
      "text/html": [
       "<img src=\"https://image.thenaturalsapphirecompany.com/nsc/sapphire/s13431/image/certified-natural-ceylon(srilanka)-oval-padparadscha-sapphire-4.4100-cts-s13431-1-full.jpg\" width=\"400\"/>"
      ],
      "text/plain": [
       "<IPython.core.display.Image object>"
      ]
     },
     "metadata": {},
     "output_type": "display_data"
    },
    {
     "name": "stdout",
     "output_type": "stream",
     "text": [
      "https://www.thenaturalsapphirecompany.com/5.37ct-ceylon-sri-lanka-oval-padparadscha-sapphire-s14209-/\n",
      "Padparadscha Sapphire - Oval 5.37 Ct. #S14209\n",
      "Distance: 3.765368507862145\n",
      "Diff l, w, d= -0.8399999999999999, 1.1799999999999997, -0.39999999999999947\n",
      "Price per length: 1476.5249537892792\n",
      "Price: 15976.0\n",
      "Dims: 10.82 x 9.59 x 6.41\n",
      "Color: Padparadscha (Pinkish-Orange / Orangish-Pink)\n",
      "Treatments: No Enhancement\n"
     ]
    },
    {
     "data": {
      "text/html": [
       "<img src=\"https://image.thenaturalsapphirecompany.com/nsc/sapphire/s14209/image/certified-natural-untreated-ceylon(srilanka)-oval-padparadscha-sapphire-5.3700-cts-s14209-1-full.jpg\" width=\"400\"/>"
      ],
      "text/plain": [
       "<IPython.core.display.Image object>"
      ]
     },
     "metadata": {},
     "output_type": "display_data"
    },
    {
     "name": "stdout",
     "output_type": "stream",
     "text": [
      "https://www.thenaturalsapphirecompany.com/7.98ct-ceylon-sri-lanka-cushion-padparadscha-sapphire-s12338-/\n",
      "Padparadscha Sapphire - Cushion 7.98 Ct. #S12338\n",
      "Distance: 3.784111520555389\n",
      "Diff l, w, d= -0.5500000000000007, 1.4700000000000006, 0.7000000000000002\n",
      "Price per length: 1098.919891989199\n",
      "Price: 12209.0\n",
      "Dims: 11.11 x 9.88 x 7.51\n",
      "Color: Padparadscha (Pinkish-Orange / Orangish-Pink)\n",
      "Treatments: Heated\n"
     ]
    },
    {
     "data": {
      "text/html": [
       "<img src=\"https://image.thenaturalsapphirecompany.com/nsc/sapphire/s12338/image/certified-natural-ceylon(srilanka)-cushion-padparadscha-sapphire-7.9800-cts-s12338-1-full.jpg\" width=\"400\"/>"
      ],
      "text/plain": [
       "<IPython.core.display.Image object>"
      ]
     },
     "metadata": {},
     "output_type": "display_data"
    },
    {
     "name": "stdout",
     "output_type": "stream",
     "text": [
      "https://www.thenaturalsapphirecompany.com/5.66ct-madagascar-oval-padparadscha-sapphire-s10285-/\n",
      "Padparadscha Sapphire - Oval 5.66 Ct. #S10285\n",
      "Distance: 4.005196624386873\n",
      "Diff l, w, d= -0.6600000000000001, 1.5, -0.6599999999999993\n",
      "Price per length: 5222.636363636364\n",
      "Price: 57449.0\n",
      "Dims: 11.0 x 9.91 x 6.15\n",
      "Color: Padparadscha (Pinkish-Orange / Orangish-Pink)\n",
      "Treatments: Heated\n"
     ]
    },
    {
     "data": {
      "text/html": [
       "<img src=\"https://image.thenaturalsapphirecompany.com/nsc/sapphire/s10285/image/certified-natural-madagascar-oval-padparadscha-sapphire-5.6600-cts-s10285-1-full.jpg\" width=\"400\"/>"
      ],
      "text/plain": [
       "<IPython.core.display.Image object>"
      ]
     },
     "metadata": {},
     "output_type": "display_data"
    },
    {
     "name": "stdout",
     "output_type": "stream",
     "text": [
      "https://www.thenaturalsapphirecompany.com/3.08ct-madagascar-pear-padparadscha-sapphire-s7216-/\n",
      "Padparadscha Sapphire - Pear 3.08 Ct. #S7216\n",
      "Distance: 4.02428875703521\n",
      "Diff l, w, d= 0.5999999999999996, -1.2199999999999998, -2.2699999999999996\n",
      "Price per length: 982.3001631321372\n",
      "Price: 12043.0\n",
      "Dims: 12.26 x 7.19 x 4.54\n",
      "Color: Padparadscha (Pinkish-Orange / Orangish-Pink)\n",
      "Treatments: Heated\n"
     ]
    },
    {
     "data": {
      "text/html": [
       "<img src=\"https://image.thenaturalsapphirecompany.com/nsc/sapphire/s7216/image/certified-natural-madagascar-pear-padparadscha-sapphire-3.0800-cts-s7216-1-full.jpg\" width=\"400\"/>"
      ],
      "text/plain": [
       "<IPython.core.display.Image object>"
      ]
     },
     "metadata": {},
     "output_type": "display_data"
    },
    {
     "name": "stdout",
     "output_type": "stream",
     "text": [
      "https://www.thenaturalsapphirecompany.com/2.58ct-ceylon-sri-lanka-pear-peach-sapphire-s9560-/\n",
      "Peach Sapphire - Pear 2.58 Ct. #S9560\n",
      "Distance: 4.049333278454614\n",
      "Diff l, w, d= 0.10999999999999943, -1.4299999999999997, -2.46\n",
      "Price per length: 328.80203908241293\n",
      "Price: 3870.0\n",
      "Dims: 11.77 x 6.98 x 4.35\n",
      "Color: Peach\n",
      "Treatments: Heated\n"
     ]
    },
    {
     "data": {
      "text/html": [
       "<img src=\"https://image.thenaturalsapphirecompany.com/nsc/sapphire/s9560/image/certified-natural-ceylon(srilanka)-pear-peach-sapphire-2.5800-cts-s9560-1-full.jpg\" width=\"400\"/>"
      ],
      "text/plain": [
       "<IPython.core.display.Image object>"
      ]
     },
     "metadata": {},
     "output_type": "display_data"
    },
    {
     "name": "stdout",
     "output_type": "stream",
     "text": [
      "https://www.thenaturalsapphirecompany.com/5.11ct-ceylon-sri-lanka-oval-padparadscha-sapphire-s14210-/\n",
      "Padparadscha Sapphire - Oval 5.11 Ct. #S14210\n",
      "Distance: 4.057659423855086\n",
      "Diff l, w, d= -1.2599999999999998, 0.129999999999999, -0.71\n",
      "Price per length: 4188.75\n",
      "Price: 43563.0\n",
      "Dims: 10.4 x 8.54 x 6.1\n",
      "Color: Padparadscha (Pinkish-Orange / Orangish-Pink)\n",
      "Treatments: Heated\n"
     ]
    },
    {
     "data": {
      "text/html": [
       "<img src=\"https://image.thenaturalsapphirecompany.com/nsc/sapphire/s14210/image/certified-natural-ceylon(srilanka)-oval-padparadscha-sapphire-5.1100-cts-s14210-1-full.jpg\" width=\"400\"/>"
      ],
      "text/plain": [
       "<IPython.core.display.Image object>"
      ]
     },
     "metadata": {},
     "output_type": "display_data"
    },
    {
     "name": "stdout",
     "output_type": "stream",
     "text": [
      "https://www.thenaturalsapphirecompany.com/5.28ct-ceylon-sri-lanka-cushion-padparadscha-sapphire-pa3516-/\n",
      "Padparadscha Sapphire - Cushion 5.28 Ct. #PA3516\n",
      "Distance: 4.2120541307063\n",
      "Diff l, w, d= -1.3200000000000003, 0.25, 0.07000000000000028\n",
      "Price per length: 4442.553191489362\n",
      "Price: 45936.0\n",
      "Dims: 10.34 x 8.66 x 6.88\n",
      "Color: Padparadscha (Pinkish-Orange / Orangish-Pink)\n",
      "Treatments: No Enhancement\n"
     ]
    },
    {
     "data": {
      "text/html": [
       "<img src=\"https://image.thenaturalsapphirecompany.com/nsc/sapphire/pa3516/image/certified-natural-ceylon-cushion-padparadscha-sapphire-5.2800-cts-pa3516-1-full.jpg\" width=\"400\"/>"
      ],
      "text/plain": [
       "<IPython.core.display.Image object>"
      ]
     },
     "metadata": {},
     "output_type": "display_data"
    },
    {
     "name": "stdout",
     "output_type": "stream",
     "text": [
      "https://www.thenaturalsapphirecompany.com/4.58ct-ceylon-sri-lanka-oval-peach-sapphire-u15484-/\n",
      "Peach Sapphire - Oval 4.58 Ct. #U15484\n",
      "Distance: 4.24645734701292\n",
      "Diff l, w, d= -1.3200000000000003, 0.2599999999999998, -0.5199999999999996\n",
      "Price per length: 655.5125725338492\n",
      "Price: 6778.0\n",
      "Dims: 10.34 x 8.67 x 6.29\n",
      "Color: Peach\n",
      "Treatments: No Enhancement\n"
     ]
    },
    {
     "data": {
      "text/html": [
       "<img src=\"https://image.thenaturalsapphirecompany.com/nsc/sapphire/u15484/image/certified-natural-untreated-ceylon(srilanka)-oval-peach-sapphire-4.5800-cts-u15484-1-full.jpg\" width=\"400\"/>"
      ],
      "text/plain": [
       "<IPython.core.display.Image object>"
      ]
     },
     "metadata": {},
     "output_type": "display_data"
    },
    {
     "name": "stdout",
     "output_type": "stream",
     "text": [
      "https://www.thenaturalsapphirecompany.com/5.02ct-ceylon-sri-lanka-emerald-cut-peach-sapphire-s11359-/\n",
      "Peach Sapphire - Emerald Cut 5.02 Ct. #S11359\n",
      "Distance: 4.285393797540665\n",
      "Diff l, w, d= -1.2599999999999998, -0.6299999999999999, -0.71\n",
      "Price per length: 580.4807692307692\n",
      "Price: 6037.0\n",
      "Dims: 10.4 x 7.78 x 6.1\n",
      "Color: Peach\n",
      "Treatments: No Enhancement\n"
     ]
    },
    {
     "data": {
      "text/html": [
       "<img src=\"https://image.thenaturalsapphirecompany.com/nsc/sapphire/s11359/image/certified-natural-untreated-ceylon(srilanka)-emerald-peach(yellow-orange)-sapphire-5.0200-cts-s11359-1-full.jpg\" width=\"400\"/>"
      ],
      "text/plain": [
       "<IPython.core.display.Image object>"
      ]
     },
     "metadata": {},
     "output_type": "display_data"
    },
    {
     "name": "stdout",
     "output_type": "stream",
     "text": [
      "https://www.thenaturalsapphirecompany.com/4.16ct-madagascar-oval-padparadscha-sapphire-s17459-/\n",
      "Padparadscha Sapphire - Oval 4.16 Ct. #S17459\n",
      "Distance: 4.3766882456944565\n",
      "Diff l, w, d= -1.290000000000001, -0.6600000000000001, -0.5799999999999992\n",
      "Price per length: 1654.7733847637417\n",
      "Price: 17160.0\n",
      "Dims: 10.37 x 7.75 x 6.23\n",
      "Color: Padparadscha (Pinkish-Orange / Orangish-Pink)\n",
      "Treatments: No Enhancement\n"
     ]
    },
    {
     "data": {
      "text/html": [
       "<img src=\"https://image.thenaturalsapphirecompany.com/nsc/sapphire/s17459/image/certified-natural-untreated-madagascar-oval-padparadscha-sapphire-4.1600-cts-s17459-1-full.jpg\" width=\"400\"/>"
      ],
      "text/plain": [
       "<IPython.core.display.Image object>"
      ]
     },
     "metadata": {},
     "output_type": "display_data"
    },
    {
     "name": "stdout",
     "output_type": "stream",
     "text": [
      "https://www.thenaturalsapphirecompany.com/3.36ct-ceylon-sri-lanka-cushion-padparadscha-sapphire-pa4117-/\n",
      "Padparadscha Sapphire - Cushion 3.36 Ct. #PA4117\n",
      "Distance: 4.471397991680006\n",
      "Diff l, w, d= -1.0999999999999996, -0.21000000000000085, -2.7699999999999996\n",
      "Price per length: 1027.746212121212\n",
      "Price: 10853.0\n",
      "Dims: 10.56 x 8.2 x 4.04\n",
      "Color: Padparadscha (Pinkish-Orange / Orangish-Pink)\n",
      "Treatments: Heated\n"
     ]
    },
    {
     "data": {
      "text/html": [
       "<img src=\"https://image.thenaturalsapphirecompany.com/nsc/sapphire/pa4117/image/certified-natural-ceylon(srilanka)-cushion-padparadscha-sapphire-3.3600-cts-pa4117-1-full.jpg\" width=\"400\"/>"
      ],
      "text/plain": [
       "<IPython.core.display.Image object>"
      ]
     },
     "metadata": {},
     "output_type": "display_data"
    },
    {
     "name": "stdout",
     "output_type": "stream",
     "text": [
      "https://www.thenaturalsapphirecompany.com/2.51ct-madagascar-pear-padparadscha-sapphire-s17281-/\n",
      "Padparadscha Sapphire - Pear 2.51 Ct. #S17281\n",
      "Distance: 4.485209025229482\n",
      "Diff l, w, d= -0.23000000000000043, -1.7199999999999998, -2.1899999999999995\n",
      "Price per length: 2717.497812773403\n",
      "Price: 31061.0\n",
      "Dims: 11.43 x 6.69 x 4.62\n",
      "Color: Padparadscha (Pinkish-Orange / Orangish-Pink)\n",
      "Treatments: No Enhancement\n"
     ]
    },
    {
     "data": {
      "text/html": [
       "<img src=\"https://image.thenaturalsapphirecompany.com/nsc/sapphire/s17281/image/certified-natural-untreated-ceylon(srilanka)-pear-pink-sapphire-2.5100-cts-s17281-1-full.jpg\" width=\"400\"/>"
      ],
      "text/plain": [
       "<IPython.core.display.Image object>"
      ]
     },
     "metadata": {},
     "output_type": "display_data"
    },
    {
     "name": "stdout",
     "output_type": "stream",
     "text": [
      "https://www.thenaturalsapphirecompany.com/3.06ct-madagascar-oval-padparadscha-sapphire-pa3845-/\n",
      "Padparadscha Sapphire - Oval 3.06 Ct. #PA3845\n",
      "Distance: 4.559100788532758\n",
      "Diff l, w, d= -1.120000000000001, -0.02999999999999936, -2.8699999999999997\n",
      "Price per length: 537.0967741935484\n",
      "Price: 5661.0\n",
      "Dims: 10.54 x 8.38 x 3.94\n",
      "Color: Padparadscha (Pinkish-Orange / Orangish-Pink)\n",
      "Treatments: Heated\n"
     ]
    },
    {
     "data": {
      "text/html": [
       "<img src=\"https://image.thenaturalsapphirecompany.com/nsc/sapphire/pa3845/image/certified-natural-madagascar-oval-padparadscha-sapphire-3.0600-cts-pa3845-1-full.jpg\" width=\"400\"/>"
      ],
      "text/plain": [
       "<IPython.core.display.Image object>"
      ]
     },
     "metadata": {},
     "output_type": "display_data"
    },
    {
     "name": "stdout",
     "output_type": "stream",
     "text": [
      "https://www.thenaturalsapphirecompany.com/3.60ct-ceylon-sri-lanka-radiant-peach-sapphire-u16918-/\n",
      "Peach Sapphire - Radiant 3.60 Ct. #U16918\n",
      "Distance: 4.57226420933874\n",
      "Diff l, w, d= -1.0500000000000007, -1.0499999999999998, -2.09\n",
      "Price per length: 533.5532516493874\n",
      "Price: 5661.0\n",
      "Dims: 10.61 x 7.36 x 4.72\n",
      "Color: Peach\n",
      "Treatments: Heated\n"
     ]
    },
    {
     "data": {
      "text/html": [
       "<img src=\"https://image.thenaturalsapphirecompany.com/nsc/sapphire/u16918/image/certified-natural-ceylon(srilanka)-radiant-peach-sapphire-3.6000-cts-u16918-1-full.jpg\" width=\"400\"/>"
      ],
      "text/plain": [
       "<IPython.core.display.Image object>"
      ]
     },
     "metadata": {},
     "output_type": "display_data"
    },
    {
     "name": "stdout",
     "output_type": "stream",
     "text": [
      "https://www.thenaturalsapphirecompany.com/6.06ct-ceylon-sri-lanka-cushion-peach-sapphire-u15850-/\n",
      "Peach Sapphire - Cushion 6.06 Ct. #U15850\n",
      "Distance: 4.5819100820509355\n",
      "Diff l, w, d= -1.2300000000000004, -1.0, 0.9300000000000006\n",
      "Price per length: 762.1284755512944\n",
      "Price: 7949.0\n",
      "Dims: 10.43 x 7.41 x 7.74\n",
      "Color: Peach\n",
      "Treatments: No Enhancement\n"
     ]
    },
    {
     "data": {
      "text/html": [
       "<img src=\"https://image.thenaturalsapphirecompany.com/nsc/sapphire/u15850/image/certified-natural-untreated-ceylon(srilanka)-cushion-peach-sapphire-6.0600-cts-u15850-1-full.jpg\" width=\"400\"/>"
      ],
      "text/plain": [
       "<IPython.core.display.Image object>"
      ]
     },
     "metadata": {},
     "output_type": "display_data"
    },
    {
     "name": "stdout",
     "output_type": "stream",
     "text": [
      "https://www.thenaturalsapphirecompany.com/8.13ct-ceylon-sri-lanka-oval-peach-sapphire-s15274-/\n",
      "Peach Sapphire - Oval 8.13 Ct. #S15274\n",
      "Distance: 4.615311473779425\n",
      "Diff l, w, d= 0.8900000000000006, 1.5899999999999999, 0.8600000000000003\n",
      "Price per length: 936.0956175298804\n",
      "Price: 11748.0\n",
      "Dims: 12.55 x 10.0 x 7.67\n",
      "Color: Peach\n",
      "Treatments: No Enhancement\n"
     ]
    },
    {
     "data": {
      "text/html": [
       "<img src=\"https://image.thenaturalsapphirecompany.com/nsc/sapphire/s15274/image/certified-natural-untreated-ceylon(srilanka)-oval-peach-sapphire-8.1300-cts-s15274-1-full.jpg\" width=\"400\"/>"
      ],
      "text/plain": [
       "<IPython.core.display.Image object>"
      ]
     },
     "metadata": {},
     "output_type": "display_data"
    },
    {
     "name": "stdout",
     "output_type": "stream",
     "text": [
      "https://www.thenaturalsapphirecompany.com/3.09ct-ceylon-sri-lanka-oval-peach-sapphire-s7892-/\n",
      "Peach Sapphire - Oval 3.09 Ct. #S7892\n",
      "Distance: 4.701552934935434\n",
      "Diff l, w, d= -1.2599999999999998, -0.2900000000000009, -2.4099999999999993\n",
      "Price per length: 522.2115384615385\n",
      "Price: 5431.0\n",
      "Dims: 10.4 x 8.12 x 4.4\n",
      "Color: Peach\n",
      "Treatments: Heated\n"
     ]
    },
    {
     "data": {
      "text/html": [
       "<img src=\"https://image.thenaturalsapphirecompany.com/nsc/sapphire/s7892/image/certified-natural-ceylon(srilanka)-oval-peach-sapphire-3.0900-cts-s7892-1-full.jpg\" width=\"400\"/>"
      ],
      "text/plain": [
       "<IPython.core.display.Image object>"
      ]
     },
     "metadata": {},
     "output_type": "display_data"
    },
    {
     "name": "stdout",
     "output_type": "stream",
     "text": [
      "https://www.thenaturalsapphirecompany.com/5.82ct-madagascar-oval-padparadscha-sapphire-pa3836-/\n",
      "Padparadscha Sapphire - Oval 5.82 Ct. #PA3836\n",
      "Distance: 4.785645202060009\n",
      "Diff l, w, d= 0.75, 1.709999999999999, -1.63\n",
      "Price per length: 1016.51893634166\n",
      "Price: 12615.0\n",
      "Dims: 12.41 x 10.12 x 5.18\n",
      "Color: Padparadscha (Pinkish-Orange / Orangish-Pink)\n",
      "Treatments: Heated\n"
     ]
    },
    {
     "data": {
      "text/html": [
       "<img src=\"https://image.thenaturalsapphirecompany.com/nsc/sapphire/pa3836/image/certified-natural-madagascar-oval-padparadscha-sapphire-5.8200-cts-pa3836-1-full.jpg\" width=\"400\"/>"
      ],
      "text/plain": [
       "<IPython.core.display.Image object>"
      ]
     },
     "metadata": {},
     "output_type": "display_data"
    },
    {
     "name": "stdout",
     "output_type": "stream",
     "text": [
      "https://www.thenaturalsapphirecompany.com/2.54ct-madagascar-pear-padparadscha-sapphire-s17872-/\n",
      "Padparadscha Sapphire - Pear 2.54 Ct. #S17872\n",
      "Distance: 4.789822543685727\n",
      "Diff l, w, d= 0.1899999999999995, -1.7700000000000005, -2.63\n",
      "Price per length: 965.6540084388186\n",
      "Price: 11443.0\n",
      "Dims: 11.85 x 6.64 x 4.18\n",
      "Color: Padparadscha (Pinkish-Orange / Orangish-Pink)\n",
      "Treatments: No Enhancement\n"
     ]
    },
    {
     "data": {
      "text/html": [
       "<img src=\"https://image.thenaturalsapphirecompany.com/nsc/sapphire/s17872/image/certified-natural-untreated-ceylon(srilanka)-pear-padparadscha-sapphire-2.5400-cts-s17872-1-full.jpg\" width=\"400\"/>"
      ],
      "text/plain": [
       "<IPython.core.display.Image object>"
      ]
     },
     "metadata": {},
     "output_type": "display_data"
    },
    {
     "name": "stdout",
     "output_type": "stream",
     "text": [
      "https://www.thenaturalsapphirecompany.com/9.12ct-burma-myanmar-cushion-padparadscha-sapphire-s15921-/\n",
      "Padparadscha Sapphire - Cushion 9.12 Ct. #S15921\n",
      "Distance: 4.7967593227094465\n",
      "Diff l, w, d= 0.22000000000000064, 2.119999999999999, -0.22999999999999954\n",
      "Price per length: 2974.7474747474744\n",
      "Price: 35340.0\n",
      "Dims: 11.88 x 10.53 x 6.58\n",
      "Color: Padparadscha (Pinkish-Orange / Orangish-Pink)\n",
      "Treatments: No Enhancement\n"
     ]
    },
    {
     "data": {
      "text/html": [
       "<img src=\"https://image.thenaturalsapphirecompany.com/nsc/sapphire/s15921/image/certified-natural-untreated-burma(myanmar)-cushion-padparadscha-sapphire-9.1200-cts-s15921-1-full.jpg\" width=\"400\"/>"
      ],
      "text/plain": [
       "<IPython.core.display.Image object>"
      ]
     },
     "metadata": {},
     "output_type": "display_data"
    },
    {
     "name": "stdout",
     "output_type": "stream",
     "text": [
      "https://www.thenaturalsapphirecompany.com/3.03ct-ceylon-sri-lanka-oval-peach-sapphire-u17397-/\n",
      "Peach Sapphire - Oval 3.03 Ct. #U17397\n",
      "Distance: 4.8103430231117645\n",
      "Diff l, w, d= -1.370000000000001, -0.3000000000000007, -1.9799999999999995\n",
      "Price per length: 403.10981535471336\n",
      "Price: 4148.0\n",
      "Dims: 10.29 x 8.11 x 4.83\n",
      "Color: Peach\n",
      "Treatments: No Enhancement\n"
     ]
    },
    {
     "data": {
      "text/html": [
       "<img src=\"https://image.thenaturalsapphirecompany.com/nsc/sapphire/u17397/image/certified-natural-untreated-ceylon(srilanka)-oval-peach-sapphire-3.0300-cts-u17397-1-full.jpg\" width=\"400\"/>"
      ],
      "text/plain": [
       "<IPython.core.display.Image object>"
      ]
     },
     "metadata": {},
     "output_type": "display_data"
    },
    {
     "name": "stdout",
     "output_type": "stream",
     "text": [
      "https://www.thenaturalsapphirecompany.com/8.08ct-madagascar-oval-padparadscha-sapphire-pa4034-/\n",
      "Padparadscha Sapphire - Oval 8.08 Ct. #PA4034\n",
      "Distance: 4.828053437980983\n",
      "Diff l, w, d= 1.0, 1.629999999999999, -0.15999999999999925\n",
      "Price per length: 4467.614533965245\n",
      "Price: 56560.0\n",
      "Dims: 12.66 x 10.04 x 6.65\n",
      "Color: Padparadscha (Pinkish-Orange / Orangish-Pink)\n",
      "Treatments: No Enhancement\n"
     ]
    },
    {
     "data": {
      "text/html": [
       "<img src=\"https://image.thenaturalsapphirecompany.com/nsc/sapphire/pa4034/image/certified-natural-untreated-madagascar-oval-padparadscha-sapphire-8.0800-cts-pa4034-1-full.jpg\" width=\"400\"/>"
      ],
      "text/plain": [
       "<IPython.core.display.Image object>"
      ]
     },
     "metadata": {},
     "output_type": "display_data"
    },
    {
     "name": "stdout",
     "output_type": "stream",
     "text": [
      "https://www.thenaturalsapphirecompany.com/5.15ct-madagascar-oval-padparadscha-sapphire-s13438-/\n",
      "Padparadscha Sapphire - Oval 5.15 Ct. #S13438\n",
      "Distance: 5.137995718176498\n",
      "Diff l, w, d= -1.540000000000001, 0.6899999999999995, 0.5500000000000007\n",
      "Price per length: 5534.189723320159\n",
      "Price: 56006.0\n",
      "Dims: 10.12 x 9.1 x 7.36\n",
      "Color: Padparadscha (Pinkish-Orange / Orangish-Pink)\n",
      "Treatments: Heated\n"
     ]
    },
    {
     "data": {
      "text/html": [
       "<img src=\"https://image.thenaturalsapphirecompany.com/nsc/sapphire/s13438/image/certified-natural-untreated-madagascar-oval-padparadscha(pinkish-orange-orangish-pink)-sapphire-5.1500-cts-s13438-1-full.jpg\" width=\"400\"/>"
      ],
      "text/plain": [
       "<IPython.core.display.Image object>"
      ]
     },
     "metadata": {},
     "output_type": "display_data"
    },
    {
     "name": "stdout",
     "output_type": "stream",
     "text": [
      "https://www.thenaturalsapphirecompany.com/1.56ct-ceylon-sri-lanka-fancy-peach-sapphire-u16662-/\n",
      "Peach Sapphire - Fancy 1.56 Ct. #U16662\n",
      "Distance: 5.151989906822411\n",
      "Diff l, w, d= -1.1600000000000001, -0.8700000000000001, -3.05\n",
      "Price per length: 118.85714285714286\n",
      "Price: 1248.0\n",
      "Dims: 10.5 x 7.54 x 3.76\n",
      "Color: Peach\n",
      "Treatments: No Enhancement\n"
     ]
    },
    {
     "data": {
      "text/html": [
       "<img src=\"https://image.thenaturalsapphirecompany.com/nsc/sapphire/u16662/image/certified-natural-untreated-ceylon(srilanka)-fancy-peach-sapphire-1.5600-cts-u16662-1-full.jpg\" width=\"400\"/>"
      ],
      "text/plain": [
       "<IPython.core.display.Image object>"
      ]
     },
     "metadata": {},
     "output_type": "display_data"
    },
    {
     "name": "stdout",
     "output_type": "stream",
     "text": [
      "https://www.thenaturalsapphirecompany.com/3.39ct-ceylon-sri-lanka-oval-peach-sapphire-u15598-/\n",
      "Peach Sapphire - Oval 3.39 Ct. #U15598\n",
      "Distance: 5.2236385786154855\n",
      "Diff l, w, d= -1.5700000000000003, -0.39000000000000057, -1.3699999999999992\n",
      "Price per length: 559.3657086223984\n",
      "Price: 5644.0\n",
      "Dims: 10.09 x 8.02 x 5.44\n",
      "Color: Peach\n",
      "Treatments: Heated\n"
     ]
    },
    {
     "data": {
      "text/html": [
       "<img src=\"https://image.thenaturalsapphirecompany.com/nsc/sapphire/u15598/image/certified-natural-untreated-ceylon(srilanka)-oval-peach-sapphire-3.3900-cts-u15598-1-full.jpg\" width=\"400\"/>"
      ],
      "text/plain": [
       "<IPython.core.display.Image object>"
      ]
     },
     "metadata": {},
     "output_type": "display_data"
    },
    {
     "name": "stdout",
     "output_type": "stream",
     "text": [
      "https://www.thenaturalsapphirecompany.com/6.59ct-ceylon-sri-lanka-cushion-peach-sapphire-u8879-/\n",
      "Peach Sapphire - Cushion 6.59 Ct. #U8879\n",
      "Distance: 5.232026376080303\n",
      "Diff l, w, d= -1.5199999999999996, 0.9100000000000001, 0.3600000000000003\n",
      "Price per length: 841.6173570019723\n",
      "Price: 8534.0\n",
      "Dims: 10.14 x 9.32 x 7.17\n",
      "Color: Peach\n",
      "Treatments: Heated\n"
     ]
    },
    {
     "data": {
      "text/html": [
       "<img src=\"https://image.thenaturalsapphirecompany.com/nsc/sapphire/u8879/image/certified-natural-ceylon-cushion-peach-sapphire-6.5900-cts-u8879-1-full.jpg\" width=\"400\"/>"
      ],
      "text/plain": [
       "<IPython.core.display.Image object>"
      ]
     },
     "metadata": {},
     "output_type": "display_data"
    },
    {
     "name": "stdout",
     "output_type": "stream",
     "text": [
      "https://www.thenaturalsapphirecompany.com/4.00ct-ceylon-sri-lanka-oval-peach-sapphire-s4123-/\n",
      "Peach Sapphire - Oval 4.00 Ct. #S4123\n",
      "Distance: 5.253189507337423\n",
      "Diff l, w, d= -1.4299999999999997, -1.17, -0.5499999999999998\n",
      "Price per length: 596.0899315738026\n",
      "Price: 6098.0\n",
      "Dims: 10.23 x 7.24 x 6.26\n",
      "Color: Peach\n",
      "Treatments: No Enhancement\n"
     ]
    },
    {
     "data": {
      "text/html": [
       "<img src=\"https://image.thenaturalsapphirecompany.com/nsc/sapphire/s4123/image/certified-natural-untreated-ceylon(srilanka)-oval-peach-sapphire-4.0000-cts-s4123-1-full.jpg\" width=\"400\"/>"
      ],
      "text/plain": [
       "<IPython.core.display.Image object>"
      ]
     },
     "metadata": {},
     "output_type": "display_data"
    },
    {
     "name": "stdout",
     "output_type": "stream",
     "text": [
      "https://www.thenaturalsapphirecompany.com/5.27ct-ceylon-sri-lanka-radiant-peach-sapphire-s18881-/\n",
      "Peach Sapphire - Radiant 5.27 Ct. #S18881\n",
      "Distance: 5.290217386837709\n",
      "Diff l, w, d= -1.67, 0.07000000000000028, -0.2699999999999996\n",
      "Price per length: 902.7027027027028\n",
      "Price: 9018.0\n",
      "Dims: 9.99 x 8.48 x 6.54\n",
      "Color: Peach\n",
      "Treatments: No Enhancement\n"
     ]
    },
    {
     "data": {
      "text/html": [
       "<img src=\"https://image.thenaturalsapphirecompany.com/nsc/sapphire/s18881/image/certified-natural-untreated-ceylon(srilanka)-radiant-peach-sapphire-5.2700-cts-s18881-1-full.jpg\" width=\"400\"/>"
      ],
      "text/plain": [
       "<IPython.core.display.Image object>"
      ]
     },
     "metadata": {},
     "output_type": "display_data"
    },
    {
     "name": "stdout",
     "output_type": "stream",
     "text": [
      "https://www.thenaturalsapphirecompany.com/3.76ct-ceylon-sri-lanka-oval-peach-sapphire-s14640-/\n",
      "Peach Sapphire - Oval 3.76 Ct. #S14640\n",
      "Distance: 5.299726408032775\n",
      "Diff l, w, d= -1.6099999999999994, -0.3000000000000007, -1.3099999999999996\n",
      "Price per length: 858.6069651741293\n",
      "Price: 8629.0\n",
      "Dims: 10.05 x 8.11 x 5.5\n",
      "Color: Peach\n",
      "Treatments: No Enhancement\n"
     ]
    },
    {
     "data": {
      "text/html": [
       "<img src=\"https://image.thenaturalsapphirecompany.com/nsc/sapphire/s14640/image/certified-natural-untreated-ceylon(srilanka)-oval-yellowishorange-sapphire-3.7600-cts-s14640-1-full.jpg\" width=\"400\"/>"
      ],
      "text/plain": [
       "<IPython.core.display.Image object>"
      ]
     },
     "metadata": {},
     "output_type": "display_data"
    },
    {
     "name": "stdout",
     "output_type": "stream",
     "text": [
      "https://www.thenaturalsapphirecompany.com/2.83ct-madagascar-oval-padparadscha-sapphire-pa3958-/\n",
      "Padparadscha Sapphire - Oval 2.83 Ct. #PA3958\n",
      "Distance: 5.351065314495797\n",
      "Diff l, w, d= -1.4900000000000002, -0.08000000000000007, -2.5299999999999994\n",
      "Price per length: 1652.9006882989183\n",
      "Price: 16810.0\n",
      "Dims: 10.17 x 8.33 x 4.28\n",
      "Color: Padparadscha (Pinkish-Orange / Orangish-Pink)\n",
      "Treatments: No Enhancement\n"
     ]
    },
    {
     "data": {
      "text/html": [
       "<img src=\"https://image.thenaturalsapphirecompany.com/nsc/sapphire/pa3958/image/certified-natural-untreated-madagascar-oval-padparadscha-sapphire-2.8300-cts-pa3958-1-full.jpg\" width=\"400\"/>"
      ],
      "text/plain": [
       "<IPython.core.display.Image object>"
      ]
     },
     "metadata": {},
     "output_type": "display_data"
    },
    {
     "name": "stdout",
     "output_type": "stream",
     "text": [
      "https://www.thenaturalsapphirecompany.com/5.31ct-ceylon-sri-lanka-round-padparadscha-sapphire-s4053-/\n",
      "Padparadscha Sapphire - Round 5.31 Ct. #S4053\n",
      "Distance: 5.3833632610107225\n",
      "Diff l, w, d= -1.0600000000000005, 1.8699999999999992, -0.5099999999999998\n",
      "Price per length: 1102.0754716981132\n",
      "Price: 11682.0\n",
      "Dims: 10.6 x 10.28 x 6.3\n",
      "Color: Padparadscha (Pinkish-Orange / Orangish-Pink)\n",
      "Treatments: No Enhancement\n"
     ]
    },
    {
     "data": {
      "text/html": [
       "<img src=\"https://image.thenaturalsapphirecompany.com/nsc/sapphire/s4053/image/certified-natural-untreated-ceylon(srilanka)-round-padparadscha-sapphire-5.3100-cts-s4053-1-full.jpg\" width=\"400\"/>"
      ],
      "text/plain": [
       "<IPython.core.display.Image object>"
      ]
     },
     "metadata": {},
     "output_type": "display_data"
    },
    {
     "name": "stdout",
     "output_type": "stream",
     "text": [
      "https://www.thenaturalsapphirecompany.com/3.34ct-ceylon-sri-lanka-oval-padparadscha-sapphire-s12596-/\n",
      "Padparadscha Sapphire - Oval 3.34 Ct. #S12596\n",
      "Distance: 5.405700694637096\n",
      "Diff l, w, d= -1.5199999999999996, -0.8200000000000003, -1.6599999999999993\n",
      "Price per length: 3829.1913214990136\n",
      "Price: 38828.0\n",
      "Dims: 10.14 x 7.59 x 5.15\n",
      "Color: Padparadscha (Pinkish-Orange / Orangish-Pink)\n",
      "Treatments: No Enhancement\n"
     ]
    },
    {
     "data": {
      "text/html": [
       "<img src=\"https://image.thenaturalsapphirecompany.com/nsc/sapphire/s12596/image/certified-natural-untreated-ceylon(srilanka)-oval-padparadscha-sapphire-3.3400-cts-s12596-1-full.jpg\" width=\"400\"/>"
      ],
      "text/plain": [
       "<IPython.core.display.Image object>"
      ]
     },
     "metadata": {},
     "output_type": "display_data"
    },
    {
     "name": "stdout",
     "output_type": "stream",
     "text": [
      "https://www.thenaturalsapphirecompany.com/3.54ct-ceylon-sri-lanka-radiant-peach-sapphire-u9103-/\n",
      "Peach Sapphire - Radiant 3.54 Ct. #U9103\n",
      "Distance: 5.454530227251472\n",
      "Diff l, w, d= -1.5899999999999999, -0.5499999999999998, -1.7199999999999998\n",
      "Price per length: 390.16881827209534\n",
      "Price: 3929.0\n",
      "Dims: 10.07 x 7.86 x 5.09\n",
      "Color: Peach\n",
      "Treatments: No Enhancement\n"
     ]
    },
    {
     "data": {
      "text/html": [
       "<img src=\"https://image.thenaturalsapphirecompany.com/nsc/sapphire/u9103/image/certified-natural-untreated-ceylon-radiant-peach-sapphire-3.5400-cts-u9103-1-full.jpg\" width=\"400\"/>"
      ],
      "text/plain": [
       "<IPython.core.display.Image object>"
      ]
     },
     "metadata": {},
     "output_type": "display_data"
    },
    {
     "name": "stdout",
     "output_type": "stream",
     "text": [
      "https://www.thenaturalsapphirecompany.com/8.27ct-ceylon-sri-lanka-asscher-octagon-peach-sapphire-u12479-/\n",
      "Peach Sapphire - Asscher - Octagon 8.27 Ct. #U12479\n",
      "Distance: 5.464567686468897\n",
      "Diff l, w, d= -0.7900000000000009, 2.1400000000000006, 0.8500000000000005\n",
      "Price per length: 1261.085556577737\n",
      "Price: 13708.0\n",
      "Dims: 10.87 x 10.55 x 7.66\n",
      "Color: Peach\n",
      "Treatments: No Enhancement\n"
     ]
    },
    {
     "data": {
      "text/html": [
       "<img src=\"https://image.thenaturalsapphirecompany.com/nsc/sapphire/u12479/image/certified-natural-untreated-ceylon-asscher-orange-sapphire-8.2700-cts-u12479-1-full.jpg\" width=\"400\"/>"
      ],
      "text/plain": [
       "<IPython.core.display.Image object>"
      ]
     },
     "metadata": {},
     "output_type": "display_data"
    },
    {
     "name": "stdout",
     "output_type": "stream",
     "text": [
      "https://www.thenaturalsapphirecompany.com/4.16ct-ceylon-sri-lanka-radiant-peach-sapphire-s17090-/\n",
      "Peach Sapphire - Radiant 4.16 Ct. #S17090\n",
      "Distance: 5.472695862187119\n",
      "Diff l, w, d= -1.5600000000000005, -0.8799999999999999, -1.3199999999999994\n",
      "Price per length: 571.4851485148515\n",
      "Price: 5772.0\n",
      "Dims: 10.1 x 7.53 x 5.49\n",
      "Color: Peach\n",
      "Treatments: Heated\n"
     ]
    },
    {
     "data": {
      "text/html": [
       "<img src=\"https://image.thenaturalsapphirecompany.com/nsc/sapphire/s17090/image/certified-natural-ceylon(srilanka)-radiant-peach-sapphire-4.1600-cts-s17090-1-full.jpg\" width=\"400\"/>"
      ],
      "text/plain": [
       "<IPython.core.display.Image object>"
      ]
     },
     "metadata": {},
     "output_type": "display_data"
    },
    {
     "name": "stdout",
     "output_type": "stream",
     "text": [
      "https://www.thenaturalsapphirecompany.com/2.08ct-ceylon-sri-lanka-pear-peach-sapphire-s10065-/\n",
      "Peach Sapphire - Pear 2.08 Ct. #S10065\n",
      "Distance: 5.527286857039356\n",
      "Diff l, w, d= -1.08, -1.5300000000000002, -2.6799999999999997\n",
      "Price per length: 235.91682419659736\n",
      "Price: 2496.0\n",
      "Dims: 10.58 x 6.88 x 4.13\n",
      "Color: Peach\n",
      "Treatments: Heated\n"
     ]
    },
    {
     "data": {
      "text/html": [
       "<img src=\"https://image.thenaturalsapphirecompany.com/nsc/sapphire/s10065/image/certified-natural-ceylon(srilanka)-pear-peach-sapphire-2.0800-cts-s10065-1-full.jpg\" width=\"400\"/>"
      ],
      "text/plain": [
       "<IPython.core.display.Image object>"
      ]
     },
     "metadata": {},
     "output_type": "display_data"
    },
    {
     "name": "stdout",
     "output_type": "stream",
     "text": [
      "https://www.thenaturalsapphirecompany.com/8.56ct-ceylon-sri-lanka-oval-padparadscha-sapphire-s7075-/\n",
      "Padparadscha Sapphire - Oval 8.56 Ct. #S7075\n",
      "Distance: 5.595096067093039\n",
      "Diff l, w, d= 0.8900000000000006, 2.1099999999999994, 1.0600000000000005\n",
      "Price per length: 863.8247011952191\n",
      "Price: 10841.0\n",
      "Dims: 12.55 x 10.52 x 7.87\n",
      "Color: Padparadscha (Pinkish-Orange / Orangish-Pink)\n",
      "Treatments: No Enhancement\n"
     ]
    },
    {
     "data": {
      "text/html": [
       "<img src=\"https://image.thenaturalsapphirecompany.com/nsc/sapphire/s7075/image/certified-natural-untreated-ceylon(srilanka)-oval-padparadscha-sapphire-8.5600-cts-s7075-1-full.jpg\" width=\"400\"/>"
      ],
      "text/plain": [
       "<IPython.core.display.Image object>"
      ]
     },
     "metadata": {},
     "output_type": "display_data"
    },
    {
     "name": "stdout",
     "output_type": "stream",
     "text": [
      "https://www.thenaturalsapphirecompany.com/2.56ct-ceylon-sri-lanka-oval-peach-sapphire-s9850-/\n",
      "Peach Sapphire - Oval 2.56 Ct. #S9850\n",
      "Distance: 5.604275153844609\n",
      "Diff l, w, d= -1.4700000000000006, -0.8600000000000003, -2.4699999999999998\n",
      "Price per length: 371.83513248282634\n",
      "Price: 3789.0\n",
      "Dims: 10.19 x 7.55 x 4.34\n",
      "Color: Peach\n",
      "Treatments: Heated\n"
     ]
    },
    {
     "data": {
      "text/html": [
       "<img src=\"https://image.thenaturalsapphirecompany.com/nsc/sapphire/s9850/image/certified-natural-ceylon(srilanka)-oval-peach-sapphire-2.5600-cts-s9850-1-full.jpg\" width=\"400\"/>"
      ],
      "text/plain": [
       "<IPython.core.display.Image object>"
      ]
     },
     "metadata": {},
     "output_type": "display_data"
    },
    {
     "name": "stdout",
     "output_type": "stream",
     "text": [
      "https://www.thenaturalsapphirecompany.com/2.49ct-madagascar-pear-padparadscha-sapphire-s12645-/\n",
      "Padparadscha Sapphire - Pear 2.49 Ct. #S12645\n",
      "Distance: 5.6278681576597\n",
      "Diff l, w, d= -1.3599999999999994, -1.21, -2.42\n",
      "Price per length: 986.3106796116504\n",
      "Price: 10159.0\n",
      "Dims: 10.3 x 7.2 x 4.39\n",
      "Color: Padparadscha (Pinkish-Orange / Orangish-Pink)\n",
      "Treatments: Heated\n"
     ]
    },
    {
     "data": {
      "text/html": [
       "<img src=\"https://image.thenaturalsapphirecompany.com/nsc/sapphire/s12645/image/certified-natural-madagascar-pear-padparadscha-sapphire-2.4900-cts-s12645-1-full.jpg\" width=\"400\"/>"
      ],
      "text/plain": [
       "<IPython.core.display.Image object>"
      ]
     },
     "metadata": {},
     "output_type": "display_data"
    },
    {
     "name": "stdout",
     "output_type": "stream",
     "text": [
      "https://www.thenaturalsapphirecompany.com/2.02ct-madagascar-pear-padparadscha-sapphire-s13425-/\n",
      "Padparadscha Sapphire - Pear 2.02 Ct. #S13425\n",
      "Distance: 5.672248231521606\n",
      "Diff l, w, d= -0.6899999999999995, -1.9699999999999998, -2.8299999999999996\n",
      "Price per length: 681.3126709206928\n",
      "Price: 7474.0\n",
      "Dims: 10.97 x 6.44 x 3.98\n",
      "Color: Padparadscha (Pinkish-Orange / Orangish-Pink)\n",
      "Treatments: Heated\n"
     ]
    },
    {
     "data": {
      "text/html": [
       "<img src=\"https://image.thenaturalsapphirecompany.com/nsc/sapphire/s13425/image/certified-natural-madagascar-pear-padparadscha-sapphire-2.0200-cts-s13425-1-full.jpg\" width=\"400\"/>"
      ],
      "text/plain": [
       "<IPython.core.display.Image object>"
      ]
     },
     "metadata": {},
     "output_type": "display_data"
    },
    {
     "name": "stdout",
     "output_type": "stream",
     "text": [
      "https://www.thenaturalsapphirecompany.com/5.64ct-ceylon-sri-lanka-cushion-peach-sapphire-s11354-/\n",
      "Peach Sapphire - Cushion 5.64 Ct. #S11354\n",
      "Distance: 5.706627725723836\n",
      "Diff l, w, d= -1.6500000000000004, -1.0099999999999998, 0.4900000000000002\n",
      "Price per length: 1527.7722277722278\n",
      "Price: 15293.0\n",
      "Dims: 10.01 x 7.4 x 7.3\n",
      "Color: Peach\n",
      "Treatments: No Enhancement\n"
     ]
    },
    {
     "data": {
      "text/html": [
       "<img src=\"https://image.thenaturalsapphirecompany.com/nsc/sapphire/s11354/image/certified-natural-untreated-ceylon(srilanka)-cushion-padparadscha-sapphire-5.6400-cts-s11354-1-full.jpg\" width=\"400\"/>"
      ],
      "text/plain": [
       "<IPython.core.display.Image object>"
      ]
     },
     "metadata": {},
     "output_type": "display_data"
    },
    {
     "name": "stdout",
     "output_type": "stream",
     "text": [
      "https://www.thenaturalsapphirecompany.com/3.11ct-ceylon-sri-lanka-oval-padparadscha-sapphire-s14207-/\n",
      "Padparadscha Sapphire - Oval 3.11 Ct. #S14207\n",
      "Distance: 5.750391291034029\n",
      "Diff l, w, d= -1.5700000000000003, -0.9400000000000004, -2.0\n",
      "Price per length: 1779.98017839445\n",
      "Price: 17960.0\n",
      "Dims: 10.09 x 7.47 x 4.81\n",
      "Color: Padparadscha (Pinkish-Orange / Orangish-Pink)\n",
      "Treatments: Heated\n"
     ]
    },
    {
     "data": {
      "text/html": [
       "<img src=\"https://image.thenaturalsapphirecompany.com/nsc/sapphire/s14207/image/certified-natural-ceylon(srilanka)-oval-padparadscha-sapphire-3.1100-cts-s14207-1-full.jpg\" width=\"400\"/>"
      ],
      "text/plain": [
       "<IPython.core.display.Image object>"
      ]
     },
     "metadata": {},
     "output_type": "display_data"
    },
    {
     "name": "stdout",
     "output_type": "stream",
     "text": [
      "https://www.thenaturalsapphirecompany.com/2.89ct-ceylon-sri-lanka-cushion-peach-sapphire-s11352-/\n",
      "Peach Sapphire - Cushion 2.89 Ct. #S11352\n",
      "Distance: 5.768231964822498\n",
      "Diff l, w, d= -0.8000000000000007, -1.75, -3.3999999999999995\n",
      "Price per length: 368.3241252302026\n",
      "Price: 4000.0\n",
      "Dims: 10.86 x 6.66 x 3.41\n",
      "Color: Peach\n",
      "Treatments: No Enhancement\n"
     ]
    },
    {
     "data": {
      "text/html": [
       "<img src=\"https://image.thenaturalsapphirecompany.com/nsc/sapphire/s11352/image/certified-natural-untreated-ceylon(srilanka)-cushion-padparadscha-sapphire-2.8900-cts-s11352-1-full.jpg\" width=\"400\"/>"
      ],
      "text/plain": [
       "<IPython.core.display.Image object>"
      ]
     },
     "metadata": {},
     "output_type": "display_data"
    },
    {
     "name": "stdout",
     "output_type": "stream",
     "text": [
      "https://www.thenaturalsapphirecompany.com/2.77ct-ceylon-sri-lanka-pear-peach-sapphire-u14631-/\n",
      "Peach Sapphire - Pear 2.77 Ct. #U14631\n",
      "Distance: 5.782006572116639\n",
      "Diff l, w, d= -1.0600000000000005, -1.92, -1.9399999999999995\n",
      "Price per length: 352.8301886792453\n",
      "Price: 3740.0\n",
      "Dims: 10.6 x 6.49 x 4.87\n",
      "Color: Peach\n",
      "Treatments: No Enhancement\n"
     ]
    },
    {
     "data": {
      "text/html": [
       "<img src=\"https://image.thenaturalsapphirecompany.com/nsc/sapphire/u14631/image/certified-natural-untreated-ceylon-pear-peach-sapphire-2.7700-cts-u14631-1-full.jpg\" width=\"400\"/>"
      ],
      "text/plain": [
       "<IPython.core.display.Image object>"
      ]
     },
     "metadata": {},
     "output_type": "display_data"
    },
    {
     "name": "stdout",
     "output_type": "stream",
     "text": [
      "https://www.thenaturalsapphirecompany.com/5.19ct-madagascar-cushion-padparadscha-sapphire-pa3970-/\n",
      "Padparadscha Sapphire - Cushion 5.19 Ct. #PA3970\n",
      "Distance: 5.798655016467181\n",
      "Diff l, w, d= -1.2799999999999994, 1.8000000000000007, -1.0199999999999996\n",
      "Price per length: 4712.52408477842\n",
      "Price: 48916.0\n",
      "Dims: 10.38 x 10.21 x 5.79\n",
      "Color: Padparadscha (Pinkish-Orange / Orangish-Pink)\n",
      "Treatments: No Enhancement\n"
     ]
    },
    {
     "data": {
      "text/html": [
       "<img src=\"https://image.thenaturalsapphirecompany.com/nsc/sapphire/pa3970/image/certified-natural-untreated-madagascar-cushion-padparadscha-sapphire-5.1900-cts-pa3970-1-full.jpg\" width=\"400\"/>"
      ],
      "text/plain": [
       "<IPython.core.display.Image object>"
      ]
     },
     "metadata": {},
     "output_type": "display_data"
    },
    {
     "name": "stdout",
     "output_type": "stream",
     "text": [
      "https://www.thenaturalsapphirecompany.com/6.18ct-ceylon-sri-lanka-round-padparadscha-sapphire-s12763-/\n",
      "Padparadscha Sapphire - Round 6.18 Ct. #S12763\n",
      "Distance: 5.877661099451038\n",
      "Diff l, w, d= -0.8599999999999994, 2.33, -0.07999999999999918\n",
      "Price per length: 3991.296296296296\n",
      "Price: 43106.0\n",
      "Dims: 10.8 x 10.74 x 6.73\n",
      "Color: Padparadscha (Pinkish-Orange / Orangish-Pink)\n",
      "Treatments: Heated\n"
     ]
    },
    {
     "data": {
      "text/html": [
       "<img src=\"https://image.thenaturalsapphirecompany.com/nsc/sapphire/s12763/image/certified-natural-ceylon(srilanka)-round-padparadscha-sapphire-6.1800-cts-s12763-1-full.jpg\" width=\"400\"/>"
      ],
      "text/plain": [
       "<IPython.core.display.Image object>"
      ]
     },
     "metadata": {},
     "output_type": "display_data"
    },
    {
     "name": "stdout",
     "output_type": "stream",
     "text": [
      "https://www.thenaturalsapphirecompany.com/3.36ct-ceylon-sri-lanka-oval-peach-sapphire-u16238-/\n",
      "Peach Sapphire - Oval 3.36 Ct. #U16238\n",
      "Distance: 5.936530973556866\n",
      "Diff l, w, d= -1.790000000000001, -0.33000000000000007, -1.63\n",
      "Price per length: 535.3596757852077\n",
      "Price: 5284.0\n",
      "Dims: 9.87 x 8.08 x 5.18\n",
      "Color: Peach\n",
      "Treatments: No Enhancement\n"
     ]
    },
    {
     "data": {
      "text/html": [
       "<img src=\"https://image.thenaturalsapphirecompany.com/nsc/sapphire/u16238/image/certified-natural-untreated-ceylon(srilanka)-oval-peach-sapphire-3.3600-cts-u16238-1-full.jpg\" width=\"400\"/>"
      ],
      "text/plain": [
       "<IPython.core.display.Image object>"
      ]
     },
     "metadata": {},
     "output_type": "display_data"
    },
    {
     "name": "stdout",
     "output_type": "stream",
     "text": [
      "https://www.thenaturalsapphirecompany.com/4.05ct-madagascar-cushion-padparadscha-sapphire-s8069-/\n",
      "Padparadscha Sapphire - Cushion 4.05 Ct. #S8069\n",
      "Distance: 5.93789525000231\n",
      "Diff l, w, d= -1.67, 0.5999999999999996, -2.3599999999999994\n",
      "Price per length: 4272.9729729729725\n",
      "Price: 42687.0\n",
      "Dims: 9.99 x 9.01 x 4.45\n",
      "Color: Padparadscha (Pinkish-Orange / Orangish-Pink)\n",
      "Treatments: No Enhancement\n"
     ]
    },
    {
     "data": {
      "text/html": [
       "<img src=\"https://image.thenaturalsapphirecompany.com/nsc/sapphire/s8069/image/certified-natural-untreated-madagascar-cushion-padparadscha-sapphire-4.0500-cts-s8069-1-full.jpg\" width=\"400\"/>"
      ],
      "text/plain": [
       "<IPython.core.display.Image object>"
      ]
     },
     "metadata": {},
     "output_type": "display_data"
    },
    {
     "name": "stdout",
     "output_type": "stream",
     "text": [
      "https://www.thenaturalsapphirecompany.com/3.04ct-madagascar-cushion-padparadscha-sapphire-s17717-/\n",
      "Padparadscha Sapphire - Cushion 3.04 Ct. #S17717\n",
      "Distance: 6.022831559989042\n",
      "Diff l, w, d= -1.3800000000000008, -1.5600000000000005, -2.25\n",
      "Price per length: 1608.7548638132296\n",
      "Price: 16538.0\n",
      "Dims: 10.28 x 6.85 x 4.56\n",
      "Color: Padparadscha (Pinkish-Orange / Orangish-Pink)\n",
      "Treatments: Heated\n"
     ]
    },
    {
     "data": {
      "text/html": [
       "<img src=\"https://image.thenaturalsapphirecompany.com/nsc/sapphire/s17717/image/certified-natural-madagascar-cushion-padparadscha-sapphire-3.0400-cts-s17717-1-full.jpg\" width=\"400\"/>"
      ],
      "text/plain": [
       "<IPython.core.display.Image object>"
      ]
     },
     "metadata": {},
     "output_type": "display_data"
    },
    {
     "name": "stdout",
     "output_type": "stream",
     "text": [
      "https://www.thenaturalsapphirecompany.com/5.03ct-ceylon-sri-lanka-round-peach-sapphire-s7224-/\n",
      "Peach Sapphire - Round 5.03 Ct. #S7224\n",
      "Distance: 6.042607053251107\n",
      "Diff l, w, d= -1.6300000000000008, 1.4100000000000001, -0.05999999999999961\n",
      "Price per length: 788.6340977068794\n",
      "Price: 7910.0\n",
      "Dims: 10.03 x 9.82 x 6.75\n",
      "Color: Peach\n",
      "Treatments: No Enhancement\n"
     ]
    },
    {
     "data": {
      "text/html": [
       "<img src=\"https://image.thenaturalsapphirecompany.com/nsc/sapphire/s7224/image/certified-natural-untreated-ceylon(srilanka)-round-peach-sapphire-5.0300-cts-s7224-1-full.jpg\" width=\"400\"/>"
      ],
      "text/plain": [
       "<IPython.core.display.Image object>"
      ]
     },
     "metadata": {},
     "output_type": "display_data"
    },
    {
     "name": "stdout",
     "output_type": "stream",
     "text": [
      "https://www.thenaturalsapphirecompany.com/3.06ct-madagascar-oval-padparadscha-sapphire-s10149-/\n",
      "Padparadscha Sapphire - Oval 3.06 Ct. #S10149\n",
      "Distance: 6.073870265325065\n",
      "Diff l, w, d= -1.7699999999999996, -0.1899999999999995, -2.3199999999999994\n",
      "Price per length: 1786.85540950455\n",
      "Price: 17672.0\n",
      "Dims: 9.89 x 8.22 x 4.49\n",
      "Color: Padparadscha (Pinkish-Orange / Orangish-Pink)\n",
      "Treatments: Heated\n"
     ]
    },
    {
     "data": {
      "text/html": [
       "<img src=\"https://image.thenaturalsapphirecompany.com/nsc/sapphire/s10149/image/certified-natural-madagascar-oval-padparadscha-sapphire-3.0600-cts-s10149-1-full.jpg\" width=\"400\"/>"
      ],
      "text/plain": [
       "<IPython.core.display.Image object>"
      ]
     },
     "metadata": {},
     "output_type": "display_data"
    },
    {
     "name": "stdout",
     "output_type": "stream",
     "text": [
      "https://www.thenaturalsapphirecompany.com/4.03ct-madagascar-cushion-padparadscha-sapphire-s10348-/\n",
      "Padparadscha Sapphire - Cushion 4.03 Ct. #S10348\n",
      "Distance: 6.089737268552723\n",
      "Diff l, w, d= -1.8599999999999994, -0.6000000000000005, -0.8299999999999992\n",
      "Price per length: 1625.408163265306\n",
      "Price: 15929.0\n",
      "Dims: 9.8 x 7.81 x 5.98\n",
      "Color: Padparadscha (Pinkish-Orange / Orangish-Pink)\n",
      "Treatments: No Enhancement\n"
     ]
    },
    {
     "data": {
      "text/html": [
       "<img src=\"https://image.thenaturalsapphirecompany.com/nsc/sapphire/s10348/image/certified-natural-untreated-madagascar-cushion-padparadscha-sapphire-4.0300-cts-s10348-1-full.jpg\" width=\"400\"/>"
      ],
      "text/plain": [
       "<IPython.core.display.Image object>"
      ]
     },
     "metadata": {},
     "output_type": "display_data"
    },
    {
     "name": "stdout",
     "output_type": "stream",
     "text": [
      "https://www.thenaturalsapphirecompany.com/7.31ct-ceylon-sri-lanka-cushion-padparadscha-sapphire-s12595-/\n",
      "Padparadscha Sapphire - Cushion 7.31 Ct. #S12595\n",
      "Distance: 6.154421175057813\n",
      "Diff l, w, d= -1.5999999999999996, 1.5600000000000005, 0.33000000000000007\n",
      "Price per length: 8974.055666003977\n",
      "Price: 90279.0\n",
      "Dims: 10.06 x 9.97 x 7.14\n",
      "Color: Padparadscha (Pinkish-Orange / Orangish-Pink)\n",
      "Treatments: No Enhancement\n"
     ]
    },
    {
     "data": {
      "text/html": [
       "<img src=\"https://image.thenaturalsapphirecompany.com/nsc/sapphire/s12595/image/certified-natural-untreated-ceylon(srilanka)-cushion-padparadscha-sapphire-7.3100-cts-s12595-1-full.jpg\" width=\"400\"/>"
      ],
      "text/plain": [
       "<IPython.core.display.Image object>"
      ]
     },
     "metadata": {},
     "output_type": "display_data"
    },
    {
     "name": "stdout",
     "output_type": "stream",
     "text": [
      "https://www.thenaturalsapphirecompany.com/3.01ct-madagascar-oval-padparadscha-sapphire-s10300-/\n",
      "Padparadscha Sapphire - Oval 3.01 Ct. #S10300\n",
      "Distance: 6.227407165104913\n",
      "Diff l, w, d= -1.8200000000000003, -0.6900000000000004, -1.8099999999999996\n",
      "Price per length: 1943.1910569105692\n",
      "Price: 19121.0\n",
      "Dims: 9.84 x 7.72 x 5.0\n",
      "Color: Padparadscha (Pinkish-Orange / Orangish-Pink)\n",
      "Treatments: Heated\n"
     ]
    },
    {
     "data": {
      "text/html": [
       "<img src=\"https://image.thenaturalsapphirecompany.com/nsc/sapphire/s10300/image/certified-natural-ceylon(srilanka)-oval-padparadscha-sapphire-3.0100-cts-s10300-1-full.jpg\" width=\"400\"/>"
      ],
      "text/plain": [
       "<IPython.core.display.Image object>"
      ]
     },
     "metadata": {},
     "output_type": "display_data"
    },
    {
     "name": "stdout",
     "output_type": "stream",
     "text": [
      "https://www.thenaturalsapphirecompany.com/5.82ct-ceylon-sri-lanka-round-padparadscha-sapphire-pa3768-/\n",
      "Padparadscha Sapphire - Round 5.82 Ct. #PA3768\n",
      "Distance: 6.23654551815346\n",
      "Diff l, w, d= -1.7200000000000006, 1.3599999999999994, 0.25\n",
      "Price per length: 3811.670020120725\n",
      "Price: 37888.0\n",
      "Dims: 9.94 x 9.77 x 7.06\n",
      "Color: Padparadscha (Pinkish-Orange / Orangish-Pink)\n",
      "Treatments: Heated\n"
     ]
    },
    {
     "data": {
      "text/html": [
       "<img src=\"https://image.thenaturalsapphirecompany.com/nsc/sapphire/pa3768/image/certified-natural-ceylon-round-padparadscha-sapphire-5.8200-cts-pa3768-1-full.jpg\" width=\"400\"/>"
      ],
      "text/plain": [
       "<IPython.core.display.Image object>"
      ]
     },
     "metadata": {},
     "output_type": "display_data"
    },
    {
     "name": "stdout",
     "output_type": "stream",
     "text": [
      "https://www.thenaturalsapphirecompany.com/2.58ct-madagascar-pear-padparadscha-sapphire-s12644-/\n",
      "Padparadscha Sapphire - Pear 2.58 Ct. #S12644\n",
      "Distance: 6.248431803260718\n",
      "Diff l, w, d= -1.4399999999999995, -1.71, -1.92\n",
      "Price per length: 1029.9412915851271\n",
      "Price: 10526.0\n",
      "Dims: 10.22 x 6.7 x 4.89\n",
      "Color: Padparadscha (Pinkish-Orange / Orangish-Pink)\n",
      "Treatments: Heated\n"
     ]
    },
    {
     "data": {
      "text/html": [
       "<img src=\"https://image.thenaturalsapphirecompany.com/nsc/sapphire/s12644/image/certified-natural-madagascar-pear-padparadscha-sapphire-2.5800-cts-s12644-1-full.jpg\" width=\"400\"/>"
      ],
      "text/plain": [
       "<IPython.core.display.Image object>"
      ]
     },
     "metadata": {},
     "output_type": "display_data"
    },
    {
     "name": "stdout",
     "output_type": "stream",
     "text": [
      "https://www.thenaturalsapphirecompany.com/3.92ct-ceylon-sri-lanka-radiant-padparadscha-sapphire-s9397-/\n",
      "Padparadscha Sapphire - Radiant 3.92 Ct. #S9397\n",
      "Distance: 6.276750751782328\n",
      "Diff l, w, d= -1.7300000000000004, -1.1500000000000004, -1.6899999999999995\n",
      "Price per length: 1073.7160120845922\n",
      "Price: 10662.0\n",
      "Dims: 9.93 x 7.26 x 5.12\n",
      "Color: Padparadscha (Pinkish-Orange / Orangish-Pink)\n",
      "Treatments: No Enhancement\n"
     ]
    },
    {
     "data": {
      "text/html": [
       "<img src=\"https://image.thenaturalsapphirecompany.com/nsc/sapphire/s9397/image/certified-natural-untreated-ceylon(srilanka)-radiant-padparadscha-sapphire-3.9200-cts-s9397-1-full.jpg\" width=\"400\"/>"
      ],
      "text/plain": [
       "<IPython.core.display.Image object>"
      ]
     },
     "metadata": {},
     "output_type": "display_data"
    },
    {
     "name": "stdout",
     "output_type": "stream",
     "text": [
      "https://www.thenaturalsapphirecompany.com/5.25ct-madagascar-pear-padparadscha-sapphire-s14312-/\n",
      "Padparadscha Sapphire - Pear 5.25 Ct. #S14312\n",
      "Distance: 6.443485081848175\n",
      "Diff l, w, d= 1.92, 0.7699999999999996, -1.2999999999999998\n",
      "Price per length: 2424.0058910162\n",
      "Price: 32918.0\n",
      "Dims: 13.58 x 9.18 x 5.51\n",
      "Color: Padparadscha (Pinkish-Orange / Orangish-Pink)\n",
      "Treatments: No Enhancement\n"
     ]
    },
    {
     "data": {
      "text/html": [
       "<img src=\"https://image.thenaturalsapphirecompany.com/nsc/sapphire/s14312/image/certified-natural-untreated-ceylon(srilanka)-pear-padparadscha-sapphire-5.2500-cts-s14312-1-full.jpg\" width=\"400\"/>"
      ],
      "text/plain": [
       "<IPython.core.display.Image object>"
      ]
     },
     "metadata": {},
     "output_type": "display_data"
    },
    {
     "name": "stdout",
     "output_type": "stream",
     "text": [
      "https://www.thenaturalsapphirecompany.com/4.23ct-ceylon-sri-lanka-oval-padparadscha-sapphire-s8173-/\n",
      "Padparadscha Sapphire - Oval 4.23 Ct. #S8173\n",
      "Distance: 6.597317636736919\n",
      "Diff l, w, d= -2.08, -0.009999999999999787, -0.5099999999999998\n",
      "Price per length: 1251.7745302713988\n",
      "Price: 11992.0\n",
      "Dims: 9.58 x 8.4 x 6.3\n",
      "Color: Padparadscha (Pinkish-Orange / Orangish-Pink)\n",
      "Treatments: No Enhancement\n"
     ]
    },
    {
     "data": {
      "text/html": [
       "<img src=\"https://image.thenaturalsapphirecompany.com/nsc/sapphire/s8173/image/certified-natural-untreated-ceylon(srilanka)-oval-padparadscha-sapphire-4.2400-cts-s8173-1-full.jpg\" width=\"400\"/>"
      ],
      "text/plain": [
       "<IPython.core.display.Image object>"
      ]
     },
     "metadata": {},
     "output_type": "display_data"
    },
    {
     "name": "stdout",
     "output_type": "stream",
     "text": [
      "https://www.thenaturalsapphirecompany.com/7.11ct-ceylon-sri-lanka-radiant-peach-sapphire-u14615-/\n",
      "Peach Sapphire - Radiant 7.11 Ct. #U14615\n",
      "Distance: 6.624152776015965\n",
      "Diff l, w, d= -1.9700000000000006, 0.9599999999999991, 0.6800000000000006\n",
      "Price per length: 1247.3684210526317\n",
      "Price: 12087.0\n",
      "Dims: 9.69 x 9.37 x 7.49\n",
      "Color: Peach\n",
      "Treatments: No Enhancement\n"
     ]
    },
    {
     "data": {
      "text/html": [
       "<img src=\"https://image.thenaturalsapphirecompany.com/nsc/sapphire/u14615/image/certified-natural-untreated-ceylon-radiant-peach-sapphire-7.1100-cts-u14615-1-full.jpg\" width=\"400\"/>"
      ],
      "text/plain": [
       "<IPython.core.display.Image object>"
      ]
     },
     "metadata": {},
     "output_type": "display_data"
    },
    {
     "name": "stdout",
     "output_type": "stream",
     "text": [
      "https://www.thenaturalsapphirecompany.com/4.02ct-madagascar-cushion-padparadscha-sapphire-s17081-/\n",
      "Padparadscha Sapphire - Cushion 4.02 Ct. #S17081\n",
      "Distance: 6.647450639154836\n",
      "Diff l, w, d= -1.9700000000000006, 0.40000000000000036, -2.1399999999999997\n",
      "Price per length: 3343.7564499484006\n",
      "Price: 32401.0\n",
      "Dims: 9.69 x 8.81 x 4.67\n",
      "Color: Padparadscha (Pinkish-Orange / Orangish-Pink)\n",
      "Treatments: No Enhancement\n"
     ]
    },
    {
     "data": {
      "text/html": [
       "<img src=\"https://image.thenaturalsapphirecompany.com/nsc/sapphire/s17081/image/certified-natural-untreated-madagascar-cushion-padparadscha-sapphire-4.0200-cts-s17081-1-full.jpg\" width=\"400\"/>"
      ],
      "text/plain": [
       "<IPython.core.display.Image object>"
      ]
     },
     "metadata": {},
     "output_type": "display_data"
    },
    {
     "name": "stdout",
     "output_type": "stream",
     "text": [
      "https://www.thenaturalsapphirecompany.com/3.03ct-madagascar-oval-padparadscha-sapphire-pa3746-/\n",
      "Padparadscha Sapphire - Oval 3.03 Ct. #PA3746\n",
      "Distance: 6.655306153739285\n",
      "Diff l, w, d= -1.9299999999999997, -0.6000000000000005, -2.29\n",
      "Price per length: 1058.787255909558\n",
      "Price: 10302.0\n",
      "Dims: 9.73 x 7.81 x 4.52\n",
      "Color: Padparadscha (Pinkish-Orange / Orangish-Pink)\n",
      "Treatments: Heated\n"
     ]
    },
    {
     "data": {
      "text/html": [
       "<img src=\"https://image.thenaturalsapphirecompany.com/nsc/sapphire/pa3746/image/certified-natural-madagascar-oval-padparadscha-sapphire-3.0300-cts-pa3746-1-full.jpg\" width=\"400\"/>"
      ],
      "text/plain": [
       "<IPython.core.display.Image object>"
      ]
     },
     "metadata": {},
     "output_type": "display_data"
    },
    {
     "name": "stdout",
     "output_type": "stream",
     "text": [
      "https://www.thenaturalsapphirecompany.com/3.04ct-ceylon-sri-lanka-cushion-padparadscha-sapphire-s10296-/\n",
      "Padparadscha Sapphire - Cushion 3.04 Ct. #S10296\n",
      "Distance: 6.698761079483282\n",
      "Diff l, w, d= -1.8000000000000007, -1.21, -2.2699999999999996\n",
      "Price per length: 570.3853955375254\n",
      "Price: 5624.0\n",
      "Dims: 9.86 x 7.2 x 4.54\n",
      "Color: Padparadscha (Pinkish-Orange / Orangish-Pink)\n",
      "Treatments: Heated\n"
     ]
    },
    {
     "data": {
      "text/html": [
       "<img src=\"https://image.thenaturalsapphirecompany.com/nsc/sapphire/s10296/image/certified-natural-untreated-ceylon(srilanka)-cushion-padparadscha-sapphire-3.0400-cts-s10296-1-full.jpg\" width=\"400\"/>"
      ],
      "text/plain": [
       "<IPython.core.display.Image object>"
      ]
     },
     "metadata": {},
     "output_type": "display_data"
    },
    {
     "name": "stdout",
     "output_type": "stream",
     "text": [
      "https://www.thenaturalsapphirecompany.com/3.18ct-ceylon-sri-lanka-oval-padparadscha-sapphire-pa3881-/\n",
      "Padparadscha Sapphire - Oval 3.18 Ct. #PA3881\n",
      "Distance: 6.842996419698023\n",
      "Diff l, w, d= -1.9499999999999993, -1.1600000000000001, -1.4399999999999995\n",
      "Price per length: 575.4891864057672\n",
      "Price: 5588.0\n",
      "Dims: 9.71 x 7.25 x 5.37\n",
      "Color: Padparadscha (Pinkish-Orange / Orangish-Pink)\n",
      "Treatments: No Enhancement\n"
     ]
    },
    {
     "data": {
      "text/html": [
       "<img src=\"https://image.thenaturalsapphirecompany.com/nsc/sapphire/pa3881/image/certified-natural-untreated-ceylon-oval-padparadscha-sapphire-2.1800-cts-pa3881-1-full.jpg\" width=\"400\"/>"
      ],
      "text/plain": [
       "<IPython.core.display.Image object>"
      ]
     },
     "metadata": {},
     "output_type": "display_data"
    },
    {
     "name": "stdout",
     "output_type": "stream",
     "text": [
      "https://www.thenaturalsapphirecompany.com/2.57ct-madagascar-oval-padparadscha-sapphire-pa3827-/\n",
      "Padparadscha Sapphire - Oval 2.57 Ct. #PA3827\n",
      "Distance: 6.962585726581755\n",
      "Diff l, w, d= -1.9399999999999995, -0.8799999999999999, -2.6399999999999997\n",
      "Price per length: 391.2551440329218\n",
      "Price: 3803.0\n",
      "Dims: 9.72 x 7.53 x 4.17\n",
      "Color: Padparadscha (Pinkish-Orange / Orangish-Pink)\n",
      "Treatments: No Enhancement\n"
     ]
    },
    {
     "data": {
      "text/html": [
       "<img src=\"https://image.thenaturalsapphirecompany.com/nsc/sapphire/pa3827/image/certified-natural-untreated-ceylon-oval-padparadscha-sapphire-2.5800-cts-pa3827-1-full.jpg\" width=\"400\"/>"
      ],
      "text/plain": [
       "<IPython.core.display.Image object>"
      ]
     },
     "metadata": {},
     "output_type": "display_data"
    },
    {
     "name": "stdout",
     "output_type": "stream",
     "text": [
      "https://www.thenaturalsapphirecompany.com/3.07ct-ceylon-sri-lanka-oval-padparadscha-sapphire-s14411-/\n",
      "Padparadscha Sapphire - Oval 3.07 Ct. #S14411\n",
      "Distance: 7.096682323452278\n",
      "Diff l, w, d= -1.9600000000000009, -1.2999999999999998, -1.8699999999999992\n",
      "Price per length: 2611.134020618557\n",
      "Price: 25328.0\n",
      "Dims: 9.7 x 7.11 x 4.94\n",
      "Color: Padparadscha (Pinkish-Orange / Orangish-Pink)\n",
      "Treatments: No Enhancement\n"
     ]
    },
    {
     "data": {
      "text/html": [
       "<img src=\"https://image.thenaturalsapphirecompany.com/nsc/sapphire/s14411/image/certified-natural-untreated-ceylon(srilanka)-oval-padparadscha-sapphire-3.0600-cts-s14411-1-full.jpg\" width=\"400\"/>"
      ],
      "text/plain": [
       "<IPython.core.display.Image object>"
      ]
     },
     "metadata": {},
     "output_type": "display_data"
    },
    {
     "name": "stdout",
     "output_type": "stream",
     "text": [
      "https://www.thenaturalsapphirecompany.com/4.50ct-madagascar-cushion-padparadscha-sapphire-pa3857-/\n",
      "Padparadscha Sapphire - Cushion 4.50 Ct. #PA3857\n",
      "Distance: 7.10275298739862\n",
      "Diff l, w, d= -2.0500000000000007, 1.08, -1.6099999999999994\n",
      "Price per length: 2317.8980228928203\n",
      "Price: 22275.0\n",
      "Dims: 9.61 x 9.49 x 5.2\n",
      "Color: Padparadscha (Pinkish-Orange / Orangish-Pink)\n",
      "Treatments: Heated\n"
     ]
    },
    {
     "data": {
      "text/html": [
       "<img src=\"https://image.thenaturalsapphirecompany.com/nsc/sapphire/pa3857/image/certified-natural-madagascar-cushion-padparadscha-sapphire-4.5000-cts-pa3857-1-full.jpg\" width=\"400\"/>"
      ],
      "text/plain": [
       "<IPython.core.display.Image object>"
      ]
     },
     "metadata": {},
     "output_type": "display_data"
    },
    {
     "name": "stdout",
     "output_type": "stream",
     "text": [
      "https://www.thenaturalsapphirecompany.com/4.95ct-ceylon-sri-lanka-radiant-peach-sapphire-u14742-/\n",
      "Peach Sapphire - Radiant 4.95 Ct. #U14742\n",
      "Distance: 7.147964745296383\n",
      "Diff l, w, d= -2.1799999999999997, 0.7899999999999991, -0.6699999999999999\n",
      "Price per length: 1242.7215189873418\n",
      "Price: 11781.0\n",
      "Dims: 9.48 x 9.2 x 6.14\n",
      "Color: Peach\n",
      "Treatments: No Enhancement\n"
     ]
    },
    {
     "data": {
      "text/html": [
       "<img src=\"https://image.thenaturalsapphirecompany.com/nsc/sapphire/u14742/image/certified-natural-ceylon-radiant-peach-sapphire-4.9500-cts-u14742-1-full.jpg\" width=\"400\"/>"
      ],
      "text/plain": [
       "<IPython.core.display.Image object>"
      ]
     },
     "metadata": {},
     "output_type": "display_data"
    },
    {
     "name": "stdout",
     "output_type": "stream",
     "text": [
      "https://www.thenaturalsapphirecompany.com/2.32ct-madagascar-pear-padparadscha-sapphire-s8160-/\n",
      "Padparadscha Sapphire - Pear 2.32 Ct. #S8160\n",
      "Distance: 7.159965083713747\n",
      "Diff l, w, d= -1.6500000000000004, -2.0, -2.01\n",
      "Price per length: 834.3656343656344\n",
      "Price: 8352.0\n",
      "Dims: 10.01 x 6.41 x 4.8\n",
      "Color: Padparadscha (Pinkish-Orange / Orangish-Pink)\n",
      "Treatments: Heated\n"
     ]
    },
    {
     "data": {
      "text/html": [
       "<img src=\"https://image.thenaturalsapphirecompany.com/nsc/sapphire/s8160/image/certified-natural-madagascar-pear-padparadscha-sapphire-2.3200-cts-s8160-1-full.jpg\" width=\"400\"/>"
      ],
      "text/plain": [
       "<IPython.core.display.Image object>"
      ]
     },
     "metadata": {},
     "output_type": "display_data"
    },
    {
     "name": "stdout",
     "output_type": "stream",
     "text": [
      "https://www.thenaturalsapphirecompany.com/4.09ct-ceylon-sri-lanka-emerald-cut-peach-sapphire-s11358-/\n",
      "Peach Sapphire - Emerald Cut 4.09 Ct. #S11358\n",
      "Distance: 7.187322171713192\n",
      "Diff l, w, d= -2.2200000000000006, -0.33999999999999986, -1.3399999999999999\n",
      "Price per length: 601.1652542372882\n",
      "Price: 5675.0\n",
      "Dims: 9.44 x 8.07 x 5.47\n",
      "Color: Peach\n",
      "Treatments: No Enhancement\n"
     ]
    },
    {
     "data": {
      "text/html": [
       "<img src=\"https://image.thenaturalsapphirecompany.com/nsc/sapphire/s11358/image/certified-natural-untreated-ceylon(srilanka)-emerald-peach(yellow-orange)-sapphire-4.0900-cts-s11358-1-full.jpg\" width=\"400\"/>"
      ],
      "text/plain": [
       "<IPython.core.display.Image object>"
      ]
     },
     "metadata": {},
     "output_type": "display_data"
    },
    {
     "name": "stdout",
     "output_type": "stream",
     "text": [
      "https://www.thenaturalsapphirecompany.com/4.99ct-ceylon-sri-lanka-round-peach-sapphire-u15317-/\n",
      "Peach Sapphire - Round 4.99 Ct. #U15317\n",
      "Distance: 7.2167513466933295\n",
      "Diff l, w, d= -2.1899999999999995, 0.8900000000000006, 0.40000000000000036\n",
      "Price per length: 731.1510031678986\n",
      "Price: 6924.0\n",
      "Dims: 9.47 x 9.3 x 7.21\n",
      "Color: Peach\n",
      "Treatments: No Enhancement\n"
     ]
    },
    {
     "data": {
      "text/html": [
       "<img src=\"https://image.thenaturalsapphirecompany.com/nsc/sapphire/u15317/image/certified-natural-untreated-ceylon(srilanka)-round-peach-sapphire-4.9900-cts-u15317-1-full.jpg\" width=\"400\"/>"
      ],
      "text/plain": [
       "<IPython.core.display.Image object>"
      ]
     },
     "metadata": {},
     "output_type": "display_data"
    },
    {
     "name": "stdout",
     "output_type": "stream",
     "text": [
      "https://www.thenaturalsapphirecompany.com/3.87ct-ceylon-sri-lanka-oval-peach-sapphire-s17160-/\n",
      "Peach Sapphire - Oval 3.87 Ct. #S17160\n",
      "Distance: 7.266849386081976\n",
      "Diff l, w, d= -2.1899999999999995, -0.9100000000000001, -0.8399999999999999\n",
      "Price per length: 547.3072861668426\n",
      "Price: 5183.0\n",
      "Dims: 9.47 x 7.5 x 5.97\n",
      "Color: Peach\n",
      "Treatments: No Enhancement\n"
     ]
    },
    {
     "data": {
      "text/html": [
       "<img src=\"https://image.thenaturalsapphirecompany.com/nsc/sapphire/s17160/image/certified-natural-untreated-ceylon(srilanka)-oval-peach-sapphire-3.8700-cts-s17160-1-full.jpg\" width=\"400\"/>"
      ],
      "text/plain": [
       "<IPython.core.display.Image object>"
      ]
     },
     "metadata": {},
     "output_type": "display_data"
    },
    {
     "name": "stdout",
     "output_type": "stream",
     "text": [
      "https://www.thenaturalsapphirecompany.com/4.03ct-ceylon-sri-lanka-pear-padparadscha-sapphire-s12803-/\n",
      "Padparadscha Sapphire - Pear 4.03 Ct. #S12803\n",
      "Distance: 7.27780186594826\n",
      "Diff l, w, d= 2.119999999999999, -0.8399999999999999, -2.119999999999999\n",
      "Price per length: 2243.831640058055\n",
      "Price: 30920.0\n",
      "Dims: 13.78 x 7.57 x 4.69\n",
      "Color: Padparadscha (Pinkish-Orange / Orangish-Pink)\n",
      "Treatments: Heated\n"
     ]
    },
    {
     "data": {
      "text/html": [
       "<img src=\"https://image.thenaturalsapphirecompany.com/nsc/sapphire/s12803/image/certified-natural-ceylon(srilanka)-pear-padparadscha-sapphire-4.0300-cts-s12803-1-full.jpg\" width=\"400\"/>"
      ],
      "text/plain": [
       "<IPython.core.display.Image object>"
      ]
     },
     "metadata": {},
     "output_type": "display_data"
    }
   ],
   "execution_count": 16
  },
  {
   "cell_type": "code",
   "id": "7fa45439",
   "metadata": {
    "ExecuteTime": {
     "end_time": "2024-11-27T02:51:04.144446Z",
     "start_time": "2024-11-27T02:51:04.133823Z"
    }
   },
   "source": [],
   "outputs": [],
   "execution_count": null
  },
  {
   "metadata": {},
   "cell_type": "code",
   "outputs": [],
   "execution_count": null,
   "source": "",
   "id": "7820b657b1e30f2f"
  }
 ],
 "metadata": {
  "kernelspec": {
   "display_name": "Python 3 (ipykernel)",
   "language": "python",
   "name": "python3"
  },
  "language_info": {
   "codemirror_mode": {
    "name": "ipython",
    "version": 3
   },
   "file_extension": ".py",
   "mimetype": "text/x-python",
   "name": "python",
   "nbconvert_exporter": "python",
   "pygments_lexer": "ipython3",
   "version": "3.9.18"
  }
 },
 "nbformat": 4,
 "nbformat_minor": 5
}
