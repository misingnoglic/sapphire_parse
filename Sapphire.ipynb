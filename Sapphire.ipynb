{
 "cells": [
  {
   "cell_type": "code",
   "id": "dc86468b",
   "metadata": {
    "ExecuteTime": {
     "end_time": "2024-11-18T03:33:27.462475Z",
     "start_time": "2024-11-18T03:33:27.452680Z"
    }
   },
   "source": [
    "import pandas as pd\n",
    "from IPython.display import Image\n"
   ],
   "outputs": [],
   "execution_count": 18
  },
  {
   "cell_type": "code",
   "id": "c002cdf1",
   "metadata": {
    "ExecuteTime": {
     "end_time": "2024-11-18T03:33:27.785924Z",
     "start_time": "2024-11-18T03:33:27.762232Z"
    }
   },
   "source": "sapphires = pd.read_csv(\"sapphires.csv\")",
   "outputs": [],
   "execution_count": 19
  },
  {
   "cell_type": "code",
   "id": "41fe7a56",
   "metadata": {
    "ExecuteTime": {
     "end_time": "2024-11-18T03:33:28.147174Z",
     "start_time": "2024-11-18T03:33:28.123255Z"
    }
   },
   "source": [
    "sapphires.head()"
   ],
   "outputs": [
    {
     "data": {
      "text/plain": [
       "                                               name  \\\n",
       "0    Padparadscha Sapphire - Round 1.22 Ct. #PA4067   \n",
       "1    Padparadscha Sapphire - Round 1.07 Ct. #PA3962   \n",
       "2     Padparadscha Sapphire - Oval 1.02 Ct. #PA3965   \n",
       "3  Padparadscha Sapphire - Cushion 1.05 Ct. #PA4166   \n",
       "4     Padparadscha Sapphire - Pear 2.00 Ct. #PA4160   \n",
       "\n",
       "                                                 url  \\\n",
       "0  https://www.thenaturalsapphirecompany.com/1.22...   \n",
       "1  https://www.thenaturalsapphirecompany.com/1.07...   \n",
       "2  https://www.thenaturalsapphirecompany.com/1.02...   \n",
       "3  https://www.thenaturalsapphirecompany.com/1.05...   \n",
       "4  https://www.thenaturalsapphirecompany.com/2.00...   \n",
       "\n",
       "                                           image_url Item ID  Total Price  \\\n",
       "0  https://image.thenaturalsapphirecompany.com/ns...  PA4067       1708.0   \n",
       "1  https://image.thenaturalsapphirecompany.com/ns...  PA3962       2086.0   \n",
       "2  https://image.thenaturalsapphirecompany.com/ns...  PA3965       3366.0   \n",
       "3  https://image.thenaturalsapphirecompany.com/ns...  PA4166       3772.0   \n",
       "4  https://image.thenaturalsapphirecompany.com/ns...  PA4160       5550.0   \n",
       "\n",
       "   Weight    Per Carat Price                                          Color  \\\n",
       "0    1.22     $1,400 per Ct.  Padparadscha (Pinkish-Orange / Orangish-Pink)   \n",
       "1    1.07  $1,949.53 per Ct.  Padparadscha (Pinkish-Orange / Orangish-Pink)   \n",
       "2    1.02     $3,300 per Ct.  Padparadscha (Pinkish-Orange / Orangish-Pink)   \n",
       "3    1.05  $3,592.38 per Ct.  Padparadscha (Pinkish-Orange / Orangish-Pink)   \n",
       "4    2.00     $2,775 per Ct.  Padparadscha (Pinkish-Orange / Orangish-Pink)   \n",
       "\n",
       "     Shape                 Clarity              Cut Color Intensity  \\\n",
       "0    Round  Very Slightly Included  Mixed Brilliant         Intense   \n",
       "1    Round  Very Slightly Included  Mixed Brilliant           Vivid   \n",
       "2     Oval               Eye Clean  Mixed Brilliant           Vivid   \n",
       "3  Cushion       Slightly Included  Mixed Brilliant          Medium   \n",
       "4     Pear  Very Slightly Included  Mixed Brilliant         Intense   \n",
       "\n",
       "               Origin      Treatments  Length  Width  Height  Price per Length  \n",
       "0  Ceylon (Sri Lanka)  No Enhancement    6.74   6.64    3.83        253.412463  \n",
       "1          Madagascar          Heated    6.08   5.95    3.52        343.092105  \n",
       "2          Mozambique          Heated    6.99   5.00    3.40        481.545064  \n",
       "3  Ceylon (Sri Lanka)          Heated    7.55   5.64    2.69        499.602649  \n",
       "4          Madagascar          Heated    8.32   6.69    3.89        667.067308  "
      ],
      "text/html": [
       "<div>\n",
       "<style scoped>\n",
       "    .dataframe tbody tr th:only-of-type {\n",
       "        vertical-align: middle;\n",
       "    }\n",
       "\n",
       "    .dataframe tbody tr th {\n",
       "        vertical-align: top;\n",
       "    }\n",
       "\n",
       "    .dataframe thead th {\n",
       "        text-align: right;\n",
       "    }\n",
       "</style>\n",
       "<table border=\"1\" class=\"dataframe\">\n",
       "  <thead>\n",
       "    <tr style=\"text-align: right;\">\n",
       "      <th></th>\n",
       "      <th>name</th>\n",
       "      <th>url</th>\n",
       "      <th>image_url</th>\n",
       "      <th>Item ID</th>\n",
       "      <th>Total Price</th>\n",
       "      <th>Weight</th>\n",
       "      <th>Per Carat Price</th>\n",
       "      <th>Color</th>\n",
       "      <th>Shape</th>\n",
       "      <th>Clarity</th>\n",
       "      <th>Cut</th>\n",
       "      <th>Color Intensity</th>\n",
       "      <th>Origin</th>\n",
       "      <th>Treatments</th>\n",
       "      <th>Length</th>\n",
       "      <th>Width</th>\n",
       "      <th>Height</th>\n",
       "      <th>Price per Length</th>\n",
       "    </tr>\n",
       "  </thead>\n",
       "  <tbody>\n",
       "    <tr>\n",
       "      <th>0</th>\n",
       "      <td>Padparadscha Sapphire - Round 1.22 Ct. #PA4067</td>\n",
       "      <td>https://www.thenaturalsapphirecompany.com/1.22...</td>\n",
       "      <td>https://image.thenaturalsapphirecompany.com/ns...</td>\n",
       "      <td>PA4067</td>\n",
       "      <td>1708.0</td>\n",
       "      <td>1.22</td>\n",
       "      <td>$1,400 per Ct.</td>\n",
       "      <td>Padparadscha (Pinkish-Orange / Orangish-Pink)</td>\n",
       "      <td>Round</td>\n",
       "      <td>Very Slightly Included</td>\n",
       "      <td>Mixed Brilliant</td>\n",
       "      <td>Intense</td>\n",
       "      <td>Ceylon (Sri Lanka)</td>\n",
       "      <td>No Enhancement</td>\n",
       "      <td>6.74</td>\n",
       "      <td>6.64</td>\n",
       "      <td>3.83</td>\n",
       "      <td>253.412463</td>\n",
       "    </tr>\n",
       "    <tr>\n",
       "      <th>1</th>\n",
       "      <td>Padparadscha Sapphire - Round 1.07 Ct. #PA3962</td>\n",
       "      <td>https://www.thenaturalsapphirecompany.com/1.07...</td>\n",
       "      <td>https://image.thenaturalsapphirecompany.com/ns...</td>\n",
       "      <td>PA3962</td>\n",
       "      <td>2086.0</td>\n",
       "      <td>1.07</td>\n",
       "      <td>$1,949.53 per Ct.</td>\n",
       "      <td>Padparadscha (Pinkish-Orange / Orangish-Pink)</td>\n",
       "      <td>Round</td>\n",
       "      <td>Very Slightly Included</td>\n",
       "      <td>Mixed Brilliant</td>\n",
       "      <td>Vivid</td>\n",
       "      <td>Madagascar</td>\n",
       "      <td>Heated</td>\n",
       "      <td>6.08</td>\n",
       "      <td>5.95</td>\n",
       "      <td>3.52</td>\n",
       "      <td>343.092105</td>\n",
       "    </tr>\n",
       "    <tr>\n",
       "      <th>2</th>\n",
       "      <td>Padparadscha Sapphire - Oval 1.02 Ct. #PA3965</td>\n",
       "      <td>https://www.thenaturalsapphirecompany.com/1.02...</td>\n",
       "      <td>https://image.thenaturalsapphirecompany.com/ns...</td>\n",
       "      <td>PA3965</td>\n",
       "      <td>3366.0</td>\n",
       "      <td>1.02</td>\n",
       "      <td>$3,300 per Ct.</td>\n",
       "      <td>Padparadscha (Pinkish-Orange / Orangish-Pink)</td>\n",
       "      <td>Oval</td>\n",
       "      <td>Eye Clean</td>\n",
       "      <td>Mixed Brilliant</td>\n",
       "      <td>Vivid</td>\n",
       "      <td>Mozambique</td>\n",
       "      <td>Heated</td>\n",
       "      <td>6.99</td>\n",
       "      <td>5.00</td>\n",
       "      <td>3.40</td>\n",
       "      <td>481.545064</td>\n",
       "    </tr>\n",
       "    <tr>\n",
       "      <th>3</th>\n",
       "      <td>Padparadscha Sapphire - Cushion 1.05 Ct. #PA4166</td>\n",
       "      <td>https://www.thenaturalsapphirecompany.com/1.05...</td>\n",
       "      <td>https://image.thenaturalsapphirecompany.com/ns...</td>\n",
       "      <td>PA4166</td>\n",
       "      <td>3772.0</td>\n",
       "      <td>1.05</td>\n",
       "      <td>$3,592.38 per Ct.</td>\n",
       "      <td>Padparadscha (Pinkish-Orange / Orangish-Pink)</td>\n",
       "      <td>Cushion</td>\n",
       "      <td>Slightly Included</td>\n",
       "      <td>Mixed Brilliant</td>\n",
       "      <td>Medium</td>\n",
       "      <td>Ceylon (Sri Lanka)</td>\n",
       "      <td>Heated</td>\n",
       "      <td>7.55</td>\n",
       "      <td>5.64</td>\n",
       "      <td>2.69</td>\n",
       "      <td>499.602649</td>\n",
       "    </tr>\n",
       "    <tr>\n",
       "      <th>4</th>\n",
       "      <td>Padparadscha Sapphire - Pear 2.00 Ct. #PA4160</td>\n",
       "      <td>https://www.thenaturalsapphirecompany.com/2.00...</td>\n",
       "      <td>https://image.thenaturalsapphirecompany.com/ns...</td>\n",
       "      <td>PA4160</td>\n",
       "      <td>5550.0</td>\n",
       "      <td>2.00</td>\n",
       "      <td>$2,775 per Ct.</td>\n",
       "      <td>Padparadscha (Pinkish-Orange / Orangish-Pink)</td>\n",
       "      <td>Pear</td>\n",
       "      <td>Very Slightly Included</td>\n",
       "      <td>Mixed Brilliant</td>\n",
       "      <td>Intense</td>\n",
       "      <td>Madagascar</td>\n",
       "      <td>Heated</td>\n",
       "      <td>8.32</td>\n",
       "      <td>6.69</td>\n",
       "      <td>3.89</td>\n",
       "      <td>667.067308</td>\n",
       "    </tr>\n",
       "  </tbody>\n",
       "</table>\n",
       "</div>"
      ]
     },
     "execution_count": 20,
     "metadata": {},
     "output_type": "execute_result"
    }
   ],
   "execution_count": 20
  },
  {
   "cell_type": "code",
   "id": "2569c857",
   "metadata": {
    "ExecuteTime": {
     "end_time": "2024-11-18T03:43:07.603399Z",
     "start_time": "2024-11-18T03:43:07.578950Z"
    }
   },
   "source": [
    "# sapphires[\"price_per_length\"] = sapphires[\"Total Price\"]/sapphires[\"Length\"]\n",
    "sapphires[\"length_width_ratio\"] = sapphires[\"Length\"]/sapphires[\"Width\"]\n"
   ],
   "outputs": [],
   "execution_count": 36
  },
  {
   "cell_type": "code",
   "id": "482429d2",
   "metadata": {
    "ExecuteTime": {
     "end_time": "2024-11-18T03:43:07.905427Z",
     "start_time": "2024-11-18T03:43:07.900582Z"
    }
   },
   "source": [
    "sapphires[\"Shape\"].unique()"
   ],
   "outputs": [
    {
     "data": {
      "text/plain": [
       "array(['Round', 'Oval', 'Cushion', 'Pear', 'Radiant', 'Trillion', 'Heart',\n",
       "       'Emerald Cut', 'Fancy', 'Princess', 'Marquise',\n",
       "       'Asscher - Octagon'], dtype=object)"
      ]
     },
     "execution_count": 37,
     "metadata": {},
     "output_type": "execute_result"
    }
   ],
   "execution_count": 37
  },
  {
   "metadata": {
    "ExecuteTime": {
     "end_time": "2024-11-18T03:43:08.150517Z",
     "start_time": "2024-11-18T03:43:08.144134Z"
    }
   },
   "cell_type": "code",
   "source": "sapphires[\"Color\"].unique()\n",
   "id": "962f865e3bd33389",
   "outputs": [
    {
     "data": {
      "text/plain": [
       "array(['Padparadscha (Pinkish-Orange / Orangish-Pink)', 'Peach'],\n",
       "      dtype=object)"
      ]
     },
     "execution_count": 38,
     "metadata": {},
     "output_type": "execute_result"
    }
   ],
   "execution_count": 38
  },
  {
   "metadata": {
    "ExecuteTime": {
     "end_time": "2024-11-18T03:43:08.879919Z",
     "start_time": "2024-11-18T03:43:08.872613Z"
    }
   },
   "cell_type": "code",
   "source": "sapphires[\"Clarity\"].unique()\n",
   "id": "5b491f394ffd2307",
   "outputs": [
    {
     "data": {
      "text/plain": [
       "array(['Very Slightly Included', 'Eye Clean', 'Slightly Included',\n",
       "       'Included'], dtype=object)"
      ]
     },
     "execution_count": 39,
     "metadata": {},
     "output_type": "execute_result"
    }
   ],
   "execution_count": 39
  },
  {
   "metadata": {
    "ExecuteTime": {
     "end_time": "2024-11-18T03:48:32.476434Z",
     "start_time": "2024-11-18T03:48:32.440181Z"
    }
   },
   "cell_type": "code",
   "source": "sapphires[\"Color Intensity\"].unique()\n",
   "id": "631278bd3238e60b",
   "outputs": [
    {
     "data": {
      "text/plain": [
       "array(['Intense', 'Vivid', 'Medium', 'Medium Light', 'Medium Intense',\n",
       "       'Light', 'Very Light', 'Faint'], dtype=object)"
      ]
     },
     "execution_count": 44,
     "metadata": {},
     "output_type": "execute_result"
    }
   ],
   "execution_count": 44
  },
  {
   "cell_type": "code",
   "id": "719516ab",
   "metadata": {
    "ExecuteTime": {
     "end_time": "2024-11-18T03:51:07.693343Z",
     "start_time": "2024-11-18T03:51:07.657505Z"
    }
   },
   "source": [
    "sapphires_filtered = sapphires[(~sapphires[\"Shape\"].isin([\"Fancy\", \"Heart\", \"Trillion\"])) & \n",
    "                              (sapphires[\"Length\"] >= 8.8) & (sapphires[\"length_width_ratio\"] >= 1.3) &\n",
    "                                (~sapphires[\"Clarity\"].isin([\"Slightly Included\", \"Included\"]) ) &\n",
    "                                    (~sapphires[\"Color Intensity\"].isin([\"Intense\", \"Vivid\"])) ]"
   ],
   "outputs": [],
   "execution_count": 49
  },
  {
   "cell_type": "code",
   "id": "4e674efd",
   "metadata": {
    "ExecuteTime": {
     "end_time": "2024-11-18T03:53:33.125649Z",
     "start_time": "2024-11-18T03:53:33.048302Z"
    }
   },
   "source": [
    "print(f\"Num Results: {len(sapphires_filtered)}\")\n",
    "for index, row in sapphires_filtered.sort_values(by=\"Price per Length\", ascending=True).iterrows():\n",
    "    print(row['url'])\n",
    "    print(row['name'])\n",
    "    print(f\"Price per length: {row['Price per Length']}\")\n",
    "    print(f\"Price: {row['Total Price']}\")\n",
    "    print(f\"Dims: {row['Length']} x {row['Width']} x {row['Height']}\")\n",
    "    print(f\"Color: {row['Color']}\")\n",
    "    print(f'Treatments: {row[\"Treatments\"]}')\n",
    "    display(Image(url=row['image_url'], width=400))"
   ],
   "outputs": [
    {
     "name": "stdout",
     "output_type": "stream",
     "text": [
      "Num Results: 47\n",
      "https://www.thenaturalsapphirecompany.com/1.87ct-ceylon-sri-lanka-pear-peach-sapphire-s11796-/\n",
      "Peach Sapphire - Pear 1.87 Ct. #S11796\n",
      "Price per length: 54.51895043731779\n",
      "Price: 561.0\n",
      "Dims: 10.29 x 5.98 x 4.22\n",
      "Color: Peach\n",
      "Treatments: No Enhancement\n"
     ]
    },
    {
     "data": {
      "text/html": [
       "<img src=\"https://image.thenaturalsapphirecompany.com/nsc/sapphire/s11796/image/certified-natural-untreated-ceylon(srilanka)-pear-yellow-sapphire-1.8700-cts-s11796-1-full.jpg\" width=\"400\"/>"
      ],
      "text/plain": [
       "<IPython.core.display.Image object>"
      ]
     },
     "metadata": {},
     "output_type": "display_data"
    },
    {
     "name": "stdout",
     "output_type": "stream",
     "text": [
      "https://www.thenaturalsapphirecompany.com/0.95ct-madagascar-marquise-padparadscha-sapphire-s11468-/\n",
      "Padparadscha Sapphire - Marquise 0.95 Ct. #S11468\n",
      "Price per length: 87.15596330275228\n",
      "Price: 855.0\n",
      "Dims: 9.81 x 4.58 x 3.08\n",
      "Color: Padparadscha (Pinkish-Orange / Orangish-Pink)\n",
      "Treatments: No Enhancement\n"
     ]
    },
    {
     "data": {
      "text/html": [
       "<img src=\"https://image.thenaturalsapphirecompany.com/nsc/sapphire/s11468/image/certified-natural-untreated-madagascar-marquise-padparadscha-sapphire-0.9500-cts-s11468-1-full.jpg\" width=\"400\"/>"
      ],
      "text/plain": [
       "<IPython.core.display.Image object>"
      ]
     },
     "metadata": {},
     "output_type": "display_data"
    },
    {
     "name": "stdout",
     "output_type": "stream",
     "text": [
      "https://www.thenaturalsapphirecompany.com/1.63ct-ceylon-sri-lanka-marquise-peach-sapphire-s13871-/\n",
      "Peach Sapphire - Marquise 1.63 Ct. #S13871\n",
      "Price per length: 216.913123844732\n",
      "Price: 2347.0\n",
      "Dims: 10.82 x 5.53 x 3.47\n",
      "Color: Peach\n",
      "Treatments: No Enhancement\n"
     ]
    },
    {
     "data": {
      "text/html": [
       "<img src=\"https://image.thenaturalsapphirecompany.com/nsc/sapphire/s13871/image/certified-natural-untreated-ceylon(srilanka)-marquise-peach-sapphire-1.6300-cts-s13871-1-full.jpg\" width=\"400\"/>"
      ],
      "text/plain": [
       "<IPython.core.display.Image object>"
      ]
     },
     "metadata": {},
     "output_type": "display_data"
    },
    {
     "name": "stdout",
     "output_type": "stream",
     "text": [
      "https://www.thenaturalsapphirecompany.com/1.75ct-ceylon-sri-lanka-oval-padparadscha-sapphire-s13856-/\n",
      "Padparadscha Sapphire - Oval 1.75 Ct. #S13856\n",
      "Price per length: 234.8993288590604\n",
      "Price: 2100.0\n",
      "Dims: 8.94 x 6.04 x 3.67\n",
      "Color: Padparadscha (Pinkish-Orange / Orangish-Pink)\n",
      "Treatments: No Enhancement\n"
     ]
    },
    {
     "data": {
      "text/html": [
       "<img src=\"https://image.thenaturalsapphirecompany.com/nsc/sapphire/s13856/image/certified-natural-untreated-ceylon(srilanka)-oval-padparadscha-sapphire-1.7500-cts-s13856-1-full.jpg\" width=\"400\"/>"
      ],
      "text/plain": [
       "<IPython.core.display.Image object>"
      ]
     },
     "metadata": {},
     "output_type": "display_data"
    },
    {
     "name": "stdout",
     "output_type": "stream",
     "text": [
      "https://www.thenaturalsapphirecompany.com/2.08ct-ceylon-sri-lanka-pear-peach-sapphire-s10065-/\n",
      "Peach Sapphire - Pear 2.08 Ct. #S10065\n",
      "Price per length: 235.91682419659736\n",
      "Price: 2496.0\n",
      "Dims: 10.58 x 6.88 x 4.13\n",
      "Color: Peach\n",
      "Treatments: Heated\n"
     ]
    },
    {
     "data": {
      "text/html": [
       "<img src=\"https://image.thenaturalsapphirecompany.com/nsc/sapphire/s10065/image/certified-natural-ceylon(srilanka)-pear-peach-sapphire-2.0800-cts-s10065-1-full.jpg\" width=\"400\"/>"
      ],
      "text/plain": [
       "<IPython.core.display.Image object>"
      ]
     },
     "metadata": {},
     "output_type": "display_data"
    },
    {
     "name": "stdout",
     "output_type": "stream",
     "text": [
      "https://www.thenaturalsapphirecompany.com/1.48ct-madagascar-pear-peach-sapphire-u16346-/\n",
      "Peach Sapphire - Pear 1.48 Ct. #U16346\n",
      "Price per length: 252.10176991150445\n",
      "Price: 2279.0\n",
      "Dims: 9.04 x 6.6 x 3.4\n",
      "Color: Peach\n",
      "Treatments: No Enhancement\n"
     ]
    },
    {
     "data": {
      "text/html": [
       "<img src=\"https://image.thenaturalsapphirecompany.com/nsc/sapphire/u16346/image/certified-natural-untreated-madagascar-pear-peach-sapphire-1.4800-cts-u16346-1-full.jpg\" width=\"400\"/>"
      ],
      "text/plain": [
       "<IPython.core.display.Image object>"
      ]
     },
     "metadata": {},
     "output_type": "display_data"
    },
    {
     "name": "stdout",
     "output_type": "stream",
     "text": [
      "https://www.thenaturalsapphirecompany.com/2.00ct-ceylon-sri-lanka-oval-peach-sapphire-s12614-/\n",
      "Peach Sapphire - Oval 2.00 Ct. #S12614\n",
      "Price per length: 279.26960257787323\n",
      "Price: 2600.0\n",
      "Dims: 9.31 x 7.09 x 3.92\n",
      "Color: Peach\n",
      "Treatments: Heated\n"
     ]
    },
    {
     "data": {
      "text/html": [
       "<img src=\"https://image.thenaturalsapphirecompany.com/nsc/sapphire/s12614/image/certified-natural-ceylon(srilanka)-oval-peach-sapphire-2.0000-cts-s12614-1-full.jpg\" width=\"400\"/>"
      ],
      "text/plain": [
       "<IPython.core.display.Image object>"
      ]
     },
     "metadata": {},
     "output_type": "display_data"
    },
    {
     "name": "stdout",
     "output_type": "stream",
     "text": [
      "https://www.thenaturalsapphirecompany.com/2.58ct-ceylon-sri-lanka-pear-peach-sapphire-s9560-/\n",
      "Peach Sapphire - Pear 2.58 Ct. #S9560\n",
      "Price per length: 328.80203908241293\n",
      "Price: 3870.0\n",
      "Dims: 11.77 x 6.98 x 4.35\n",
      "Color: Peach\n",
      "Treatments: Heated\n"
     ]
    },
    {
     "data": {
      "text/html": [
       "<img src=\"https://image.thenaturalsapphirecompany.com/nsc/sapphire/s9560/image/certified-natural-ceylon(srilanka)-pear-peach-sapphire-2.5800-cts-s9560-1-full.jpg\" width=\"400\"/>"
      ],
      "text/plain": [
       "<IPython.core.display.Image object>"
      ]
     },
     "metadata": {},
     "output_type": "display_data"
    },
    {
     "name": "stdout",
     "output_type": "stream",
     "text": [
      "https://www.thenaturalsapphirecompany.com/2.17ct-ceylon-sri-lanka-cushion-peach-sapphire-u15667-/\n",
      "Peach Sapphire - Cushion 2.17 Ct. #U15667\n",
      "Price per length: 345.2272727272727\n",
      "Price: 3038.0\n",
      "Dims: 8.8 x 6.75 x 3.98\n",
      "Color: Peach\n",
      "Treatments: No Enhancement\n"
     ]
    },
    {
     "data": {
      "text/html": [
       "<img src=\"https://image.thenaturalsapphirecompany.com/nsc/sapphire/u15667/image/certified-natural-untreated-ceylon(srilanka)-cushion-peach-sapphire-2.1700-cts-u15667-1-full.jpg\" width=\"400\"/>"
      ],
      "text/plain": [
       "<IPython.core.display.Image object>"
      ]
     },
     "metadata": {},
     "output_type": "display_data"
    },
    {
     "name": "stdout",
     "output_type": "stream",
     "text": [
      "https://www.thenaturalsapphirecompany.com/2.89ct-ceylon-sri-lanka-cushion-peach-sapphire-s11352-/\n",
      "Peach Sapphire - Cushion 2.89 Ct. #S11352\n",
      "Price per length: 368.3241252302026\n",
      "Price: 4000.0\n",
      "Dims: 10.86 x 6.66 x 3.41\n",
      "Color: Peach\n",
      "Treatments: No Enhancement\n"
     ]
    },
    {
     "data": {
      "text/html": [
       "<img src=\"https://image.thenaturalsapphirecompany.com/nsc/sapphire/s11352/image/certified-natural-untreated-ceylon(srilanka)-cushion-padparadscha-sapphire-2.8900-cts-s11352-1-full.jpg\" width=\"400\"/>"
      ],
      "text/plain": [
       "<IPython.core.display.Image object>"
      ]
     },
     "metadata": {},
     "output_type": "display_data"
    },
    {
     "name": "stdout",
     "output_type": "stream",
     "text": [
      "https://www.thenaturalsapphirecompany.com/2.56ct-ceylon-sri-lanka-oval-peach-sapphire-s9850-/\n",
      "Peach Sapphire - Oval 2.56 Ct. #S9850\n",
      "Price per length: 371.83513248282634\n",
      "Price: 3789.0\n",
      "Dims: 10.19 x 7.55 x 4.34\n",
      "Color: Peach\n",
      "Treatments: Heated\n"
     ]
    },
    {
     "data": {
      "text/html": [
       "<img src=\"https://image.thenaturalsapphirecompany.com/nsc/sapphire/s9850/image/certified-natural-ceylon(srilanka)-oval-peach-sapphire-2.5600-cts-s9850-1-full.jpg\" width=\"400\"/>"
      ],
      "text/plain": [
       "<IPython.core.display.Image object>"
      ]
     },
     "metadata": {},
     "output_type": "display_data"
    },
    {
     "name": "stdout",
     "output_type": "stream",
     "text": [
      "https://www.thenaturalsapphirecompany.com/1.59ct-ceylon-sri-lanka-pear-padparadscha-sapphire-s8195-/\n",
      "Padparadscha Sapphire - Pear 1.59 Ct. #S8195\n",
      "Price per length: 378.6108048511576\n",
      "Price: 3434.0\n",
      "Dims: 9.07 x 5.92 x 4.1\n",
      "Color: Padparadscha (Pinkish-Orange / Orangish-Pink)\n",
      "Treatments: Heated\n"
     ]
    },
    {
     "data": {
      "text/html": [
       "<img src=\"https://image.thenaturalsapphirecompany.com/nsc/sapphire/s8195/image/certified-natural-ceylon(srilanka)-pear-pink-sapphire-1.5900-cts-s8195-1-full.jpg\" width=\"400\"/>"
      ],
      "text/plain": [
       "<IPython.core.display.Image object>"
      ]
     },
     "metadata": {},
     "output_type": "display_data"
    },
    {
     "name": "stdout",
     "output_type": "stream",
     "text": [
      "https://www.thenaturalsapphirecompany.com/1.14ct-ceylon-sri-lanka-pear-padparadscha-sapphire-s13817-/\n",
      "Padparadscha Sapphire - Pear 1.14 Ct. #S13817\n",
      "Price per length: 411.7381489841987\n",
      "Price: 3648.0\n",
      "Dims: 8.86 x 5.91 x 3.21\n",
      "Color: Padparadscha (Pinkish-Orange / Orangish-Pink)\n",
      "Treatments: No Enhancement\n"
     ]
    },
    {
     "data": {
      "text/html": [
       "<img src=\"https://image.thenaturalsapphirecompany.com/nsc/sapphire/s13817/image/certified-natural-untreated-ceylon(srilanka)-pear-padparadscha-sapphire-1.1400-cts-s13817-1-full.jpg\" width=\"400\"/>"
      ],
      "text/plain": [
       "<IPython.core.display.Image object>"
      ]
     },
     "metadata": {},
     "output_type": "display_data"
    },
    {
     "name": "stdout",
     "output_type": "stream",
     "text": [
      "https://www.thenaturalsapphirecompany.com/3.90ct-ceylon-sri-lanka-pear-peach-sapphire-s8151-/\n",
      "Peach Sapphire - Pear 3.90 Ct. #S8151\n",
      "Price per length: 417.8571428571428\n",
      "Price: 5850.0\n",
      "Dims: 14.0 x 7.74 x 4.5\n",
      "Color: Peach\n",
      "Treatments: Heated\n"
     ]
    },
    {
     "data": {
      "text/html": [
       "<img src=\"https://image.thenaturalsapphirecompany.com/nsc/sapphire/s8151/image/certified-natural-ceylon(srilanka)-pear-pink-sapphire-3.9000-cts-s8151-1-full.jpg\" width=\"400\"/>"
      ],
      "text/plain": [
       "<IPython.core.display.Image object>"
      ]
     },
     "metadata": {},
     "output_type": "display_data"
    },
    {
     "name": "stdout",
     "output_type": "stream",
     "text": [
      "https://www.thenaturalsapphirecompany.com/1.75ct-ceylon-sri-lanka-oval-padparadscha-sapphire-s6420-/\n",
      "Padparadscha Sapphire - Oval 1.75 Ct. #S6420\n",
      "Price per length: 434.5372460496614\n",
      "Price: 3850.0\n",
      "Dims: 8.86 x 6.03 x 3.77\n",
      "Color: Padparadscha (Pinkish-Orange / Orangish-Pink)\n",
      "Treatments: No Enhancement\n"
     ]
    },
    {
     "data": {
      "text/html": [
       "<img src=\"https://image.thenaturalsapphirecompany.com/nsc/sapphire/s6420/image/certified-natural-untreated-ceylon(srilanka)-oval-padparadscha-sapphire-1.7500-cts-s6420-1-full.jpg\" width=\"400\"/>"
      ],
      "text/plain": [
       "<IPython.core.display.Image object>"
      ]
     },
     "metadata": {},
     "output_type": "display_data"
    },
    {
     "name": "stdout",
     "output_type": "stream",
     "text": [
      "https://www.thenaturalsapphirecompany.com/2.51ct-ceylon-sri-lanka-radiant-peach-sapphire-s11698-/\n",
      "Peach Sapphire - Radiant 2.51 Ct. #S11698\n",
      "Price per length: 468.7566418703507\n",
      "Price: 4411.0\n",
      "Dims: 9.41 x 5.94 x 4.4\n",
      "Color: Peach\n",
      "Treatments: Heated\n"
     ]
    },
    {
     "data": {
      "text/html": [
       "<img src=\"https://image.thenaturalsapphirecompany.com/nsc/sapphire/s11698/image/certified-natural-ceylon(srilanka)-radiant-peach-sapphire-2.5100-cts-s11698-1-full.jpg\" width=\"400\"/>"
      ],
      "text/plain": [
       "<IPython.core.display.Image object>"
      ]
     },
     "metadata": {},
     "output_type": "display_data"
    },
    {
     "name": "stdout",
     "output_type": "stream",
     "text": [
      "https://www.thenaturalsapphirecompany.com/1.54ct-ceylon-sri-lanka-oval-padparadscha-sapphire-pa3215-/\n",
      "Padparadscha Sapphire - Oval 1.54 Ct. #PA3215\n",
      "Price per length: 470.7423580786026\n",
      "Price: 4312.0\n",
      "Dims: 9.16 x 5.76 x 3.32\n",
      "Color: Padparadscha (Pinkish-Orange / Orangish-Pink)\n",
      "Treatments: No Enhancement\n"
     ]
    },
    {
     "data": {
      "text/html": [
       "<img src=\"https://image.thenaturalsapphirecompany.com/nsc/sapphire/pa3215/image/certified-natural-untreated-ceylon-oval-padparadscha-sapphire-1.5400-cts-pa3215-1-full.jpg\" width=\"400\"/>"
      ],
      "text/plain": [
       "<IPython.core.display.Image object>"
      ]
     },
     "metadata": {},
     "output_type": "display_data"
    },
    {
     "name": "stdout",
     "output_type": "stream",
     "text": [
      "https://www.thenaturalsapphirecompany.com/2.56ct-ceylon-sri-lanka-cushion-padparadscha-sapphire-s11152-/\n",
      "Padparadscha Sapphire - Cushion 2.56 Ct. #S11152\n",
      "Price per length: 489.0217391304348\n",
      "Price: 4499.0\n",
      "Dims: 9.2 x 6.38 x 4.75\n",
      "Color: Padparadscha (Pinkish-Orange / Orangish-Pink)\n",
      "Treatments: Heated\n"
     ]
    },
    {
     "data": {
      "text/html": [
       "<img src=\"https://image.thenaturalsapphirecompany.com/nsc/sapphire/s11152/image/certified-natural-ceylon(srilanka)-cushion-padparadscha-sapphire-2.5600-cts-s11152-1-full.jpg\" width=\"400\"/>"
      ],
      "text/plain": [
       "<IPython.core.display.Image object>"
      ]
     },
     "metadata": {},
     "output_type": "display_data"
    },
    {
     "name": "stdout",
     "output_type": "stream",
     "text": [
      "https://www.thenaturalsapphirecompany.com/1.74ct-madagascar-pear-padparadscha-sapphire-s10450-/\n",
      "Padparadscha Sapphire - Pear 1.74 Ct. #S10450\n",
      "Price per length: 493.2584269662922\n",
      "Price: 4829.0\n",
      "Dims: 9.79 x 5.33 x 4.66\n",
      "Color: Padparadscha (Pinkish-Orange / Orangish-Pink)\n",
      "Treatments: Heated\n"
     ]
    },
    {
     "data": {
      "text/html": [
       "<img src=\"https://image.thenaturalsapphirecompany.com/nsc/sapphire/s10450/image/certified-natural-ceylon(srilanka)-pear-padparadscha-sapphire-1.7400-cts-s10450-1-full.jpg\" width=\"400\"/>"
      ],
      "text/plain": [
       "<IPython.core.display.Image object>"
      ]
     },
     "metadata": {},
     "output_type": "display_data"
    },
    {
     "name": "stdout",
     "output_type": "stream",
     "text": [
      "https://www.thenaturalsapphirecompany.com/3.60ct-ceylon-sri-lanka-radiant-peach-sapphire-u16918-/\n",
      "Peach Sapphire - Radiant 3.60 Ct. #U16918\n",
      "Price per length: 533.5532516493874\n",
      "Price: 5661.0\n",
      "Dims: 10.61 x 7.36 x 4.72\n",
      "Color: Peach\n",
      "Treatments: Heated\n"
     ]
    },
    {
     "data": {
      "text/html": [
       "<img src=\"https://image.thenaturalsapphirecompany.com/nsc/sapphire/u16918/image/certified-natural-ceylon(srilanka)-radiant-peach-sapphire-3.6000-cts-u16918-1-full.jpg\" width=\"400\"/>"
      ],
      "text/plain": [
       "<IPython.core.display.Image object>"
      ]
     },
     "metadata": {},
     "output_type": "display_data"
    },
    {
     "name": "stdout",
     "output_type": "stream",
     "text": [
      "https://www.thenaturalsapphirecompany.com/2.57ct-ceylon-sri-lanka-pear-peach-sapphire-s14399-/\n",
      "Peach Sapphire - Pear 2.57 Ct. #S14399\n",
      "Price per length: 554.6129374337222\n",
      "Price: 5230.0\n",
      "Dims: 9.43 x 6.94 x 5.4\n",
      "Color: Peach\n",
      "Treatments: Heated\n"
     ]
    },
    {
     "data": {
      "text/html": [
       "<img src=\"https://image.thenaturalsapphirecompany.com/nsc/sapphire/s14399/image/certified-natural-ceylon(srilanka)-pear-peach-sapphire-2.5700-cts-s14399-1-full.jpg\" width=\"400\"/>"
      ],
      "text/plain": [
       "<IPython.core.display.Image object>"
      ]
     },
     "metadata": {},
     "output_type": "display_data"
    },
    {
     "name": "stdout",
     "output_type": "stream",
     "text": [
      "https://www.thenaturalsapphirecompany.com/3.04ct-ceylon-sri-lanka-cushion-padparadscha-sapphire-s10296-/\n",
      "Padparadscha Sapphire - Cushion 3.04 Ct. #S10296\n",
      "Price per length: 570.3853955375254\n",
      "Price: 5624.0\n",
      "Dims: 9.86 x 7.2 x 4.54\n",
      "Color: Padparadscha (Pinkish-Orange / Orangish-Pink)\n",
      "Treatments: Heated\n"
     ]
    },
    {
     "data": {
      "text/html": [
       "<img src=\"https://image.thenaturalsapphirecompany.com/nsc/sapphire/s10296/image/certified-natural-untreated-ceylon(srilanka)-cushion-padparadscha-sapphire-3.0400-cts-s10296-1-full.jpg\" width=\"400\"/>"
      ],
      "text/plain": [
       "<IPython.core.display.Image object>"
      ]
     },
     "metadata": {},
     "output_type": "display_data"
    },
    {
     "name": "stdout",
     "output_type": "stream",
     "text": [
      "https://www.thenaturalsapphirecompany.com/4.16ct-ceylon-sri-lanka-radiant-peach-sapphire-s17090-/\n",
      "Peach Sapphire - Radiant 4.16 Ct. #S17090\n",
      "Price per length: 571.4851485148515\n",
      "Price: 5772.0\n",
      "Dims: 10.1 x 7.53 x 5.49\n",
      "Color: Peach\n",
      "Treatments: Heated\n"
     ]
    },
    {
     "data": {
      "text/html": [
       "<img src=\"https://image.thenaturalsapphirecompany.com/nsc/sapphire/s17090/image/certified-natural-ceylon(srilanka)-radiant-peach-sapphire-4.1600-cts-s17090-1-full.jpg\" width=\"400\"/>"
      ],
      "text/plain": [
       "<IPython.core.display.Image object>"
      ]
     },
     "metadata": {},
     "output_type": "display_data"
    },
    {
     "name": "stdout",
     "output_type": "stream",
     "text": [
      "https://www.thenaturalsapphirecompany.com/2.01ct-madagascar-oval-padparadscha-sapphire-pa3794-/\n",
      "Padparadscha Sapphire - Oval 2.01 Ct. #PA3794\n",
      "Price per length: 574.7288503253795\n",
      "Price: 5299.0\n",
      "Dims: 9.22 x 7.01 x 3.57\n",
      "Color: Padparadscha (Pinkish-Orange / Orangish-Pink)\n",
      "Treatments: No Enhancement\n"
     ]
    },
    {
     "data": {
      "text/html": [
       "<img src=\"https://image.thenaturalsapphirecompany.com/nsc/sapphire/pa3794/image/certified-natural-untreated-madagascar-oval-padparadscha-sapphire-2.0100-cts-pa3794-1-full.jpg\" width=\"400\"/>"
      ],
      "text/plain": [
       "<IPython.core.display.Image object>"
      ]
     },
     "metadata": {},
     "output_type": "display_data"
    },
    {
     "name": "stdout",
     "output_type": "stream",
     "text": [
      "https://www.thenaturalsapphirecompany.com/3.18ct-ceylon-sri-lanka-oval-padparadscha-sapphire-pa3881-/\n",
      "Padparadscha Sapphire - Oval 3.18 Ct. #PA3881\n",
      "Price per length: 575.4891864057672\n",
      "Price: 5588.0\n",
      "Dims: 9.71 x 7.25 x 5.37\n",
      "Color: Padparadscha (Pinkish-Orange / Orangish-Pink)\n",
      "Treatments: No Enhancement\n"
     ]
    },
    {
     "data": {
      "text/html": [
       "<img src=\"https://image.thenaturalsapphirecompany.com/nsc/sapphire/pa3881/image/certified-natural-untreated-ceylon-oval-padparadscha-sapphire-2.1800-cts-pa3881-1-full.jpg\" width=\"400\"/>"
      ],
      "text/plain": [
       "<IPython.core.display.Image object>"
      ]
     },
     "metadata": {},
     "output_type": "display_data"
    },
    {
     "name": "stdout",
     "output_type": "stream",
     "text": [
      "https://www.thenaturalsapphirecompany.com/5.02ct-ceylon-sri-lanka-emerald-cut-peach-sapphire-s11359-/\n",
      "Peach Sapphire - Emerald Cut 5.02 Ct. #S11359\n",
      "Price per length: 580.4807692307692\n",
      "Price: 6037.0\n",
      "Dims: 10.4 x 7.78 x 6.1\n",
      "Color: Peach\n",
      "Treatments: No Enhancement\n"
     ]
    },
    {
     "data": {
      "text/html": [
       "<img src=\"https://image.thenaturalsapphirecompany.com/nsc/sapphire/s11359/image/certified-natural-untreated-ceylon(srilanka)-emerald-peach(yellow-orange)-sapphire-5.0200-cts-s11359-1-full.jpg\" width=\"400\"/>"
      ],
      "text/plain": [
       "<IPython.core.display.Image object>"
      ]
     },
     "metadata": {},
     "output_type": "display_data"
    },
    {
     "name": "stdout",
     "output_type": "stream",
     "text": [
      "https://www.thenaturalsapphirecompany.com/6.16ct-ceylon-sri-lanka-oval-peach-sapphire-u15137-/\n",
      "Peach Sapphire - Oval 6.16 Ct. #U15137\n",
      "Price per length: 620.4673650282031\n",
      "Price: 7700.0\n",
      "Dims: 12.41 x 9.45 x 6.66\n",
      "Color: Peach\n",
      "Treatments: No Enhancement\n"
     ]
    },
    {
     "data": {
      "text/html": [
       "<img src=\"https://image.thenaturalsapphirecompany.com/nsc/sapphire/u15137/image/certified-natural-untreated-ceylon(srilanka)-oval-peach-sapphire-6.1600-cts-u15137-1-full.jpg\" width=\"400\"/>"
      ],
      "text/plain": [
       "<IPython.core.display.Image object>"
      ]
     },
     "metadata": {},
     "output_type": "display_data"
    },
    {
     "name": "stdout",
     "output_type": "stream",
     "text": [
      "https://www.thenaturalsapphirecompany.com/5.02ct-ceylon-sri-lanka-emerald-cut-peach-sapphire-u15483-/\n",
      "Peach Sapphire - Emerald Cut 5.02 Ct. #U15483\n",
      "Price per length: 704.1594454072791\n",
      "Price: 8126.0\n",
      "Dims: 11.54 x 8.52 x 4.98\n",
      "Color: Peach\n",
      "Treatments: No Enhancement\n"
     ]
    },
    {
     "data": {
      "text/html": [
       "<img src=\"https://image.thenaturalsapphirecompany.com/nsc/sapphire/u15483/image/certified-natural-untreated-ceylon(srilanka)-emeraldcut-peach-sapphire-5.0200-cts-u15483-1-full.jpg\" width=\"400\"/>"
      ],
      "text/plain": [
       "<IPython.core.display.Image object>"
      ]
     },
     "metadata": {},
     "output_type": "display_data"
    },
    {
     "name": "stdout",
     "output_type": "stream",
     "text": [
      "https://www.thenaturalsapphirecompany.com/2.32ct-madagascar-pear-padparadscha-sapphire-s8160-/\n",
      "Padparadscha Sapphire - Pear 2.32 Ct. #S8160\n",
      "Price per length: 834.3656343656344\n",
      "Price: 8352.0\n",
      "Dims: 10.01 x 6.41 x 4.8\n",
      "Color: Padparadscha (Pinkish-Orange / Orangish-Pink)\n",
      "Treatments: Heated\n"
     ]
    },
    {
     "data": {
      "text/html": [
       "<img src=\"https://image.thenaturalsapphirecompany.com/nsc/sapphire/s8160/image/certified-natural-madagascar-pear-padparadscha-sapphire-2.3200-cts-s8160-1-full.jpg\" width=\"400\"/>"
      ],
      "text/plain": [
       "<IPython.core.display.Image object>"
      ]
     },
     "metadata": {},
     "output_type": "display_data"
    },
    {
     "name": "stdout",
     "output_type": "stream",
     "text": [
      "https://www.thenaturalsapphirecompany.com/4.39ct-ceylon-sri-lanka-emerald-cut-peach-sapphire-s15125-/\n",
      "Peach Sapphire - Emerald Cut 4.39 Ct. #S15125\n",
      "Price per length: 849.8932384341637\n",
      "Price: 11941.0\n",
      "Dims: 14.05 x 6.42 x 4.83\n",
      "Color: Peach\n",
      "Treatments: Heated\n"
     ]
    },
    {
     "data": {
      "text/html": [
       "<img src=\"https://image.thenaturalsapphirecompany.com/nsc/sapphire/s15125/image/certified-natural-ceylon(srilanka)-emeraldcut-peach-sapphire-4.3900-cts-s15125-1-full.jpg\" width=\"400\"/>"
      ],
      "text/plain": [
       "<IPython.core.display.Image object>"
      ]
     },
     "metadata": {},
     "output_type": "display_data"
    },
    {
     "name": "stdout",
     "output_type": "stream",
     "text": [
      "https://www.thenaturalsapphirecompany.com/3.92ct-ceylon-sri-lanka-radiant-padparadscha-sapphire-s9397-/\n",
      "Padparadscha Sapphire - Radiant 3.92 Ct. #S9397\n",
      "Price per length: 1073.7160120845922\n",
      "Price: 10662.0\n",
      "Dims: 9.93 x 7.26 x 5.12\n",
      "Color: Padparadscha (Pinkish-Orange / Orangish-Pink)\n",
      "Treatments: No Enhancement\n"
     ]
    },
    {
     "data": {
      "text/html": [
       "<img src=\"https://image.thenaturalsapphirecompany.com/nsc/sapphire/s9397/image/certified-natural-untreated-ceylon(srilanka)-radiant-padparadscha-sapphire-3.9200-cts-s9397-1-full.jpg\" width=\"400\"/>"
      ],
      "text/plain": [
       "<IPython.core.display.Image object>"
      ]
     },
     "metadata": {},
     "output_type": "display_data"
    },
    {
     "name": "stdout",
     "output_type": "stream",
     "text": [
      "https://www.thenaturalsapphirecompany.com/4.03ct-ceylon-sri-lanka-pear-padparadscha-sapphire-s4051-/\n",
      "Padparadscha Sapphire - Pear 4.03 Ct. #S4051\n",
      "Price per length: 1087.3524451939293\n",
      "Price: 12896.0\n",
      "Dims: 11.86 x 8.08 x 5.55\n",
      "Color: Padparadscha (Pinkish-Orange / Orangish-Pink)\n",
      "Treatments: Heated\n"
     ]
    },
    {
     "data": {
      "text/html": [
       "<img src=\"https://image.thenaturalsapphirecompany.com/nsc/sapphire/s4051/image/certified-natural-ceylon(srilanka)-pear-padparadscha-sapphire-4.0300-cts-s4051-1-full.jpg\" width=\"400\"/>"
      ],
      "text/plain": [
       "<IPython.core.display.Image object>"
      ]
     },
     "metadata": {},
     "output_type": "display_data"
    },
    {
     "name": "stdout",
     "output_type": "stream",
     "text": [
      "https://www.thenaturalsapphirecompany.com/2.31ct-madagascar-oval-padparadscha-sapphire-s11982-/\n",
      "Padparadscha Sapphire - Oval 2.31 Ct. #S11982\n",
      "Price per length: 1113.5650224215246\n",
      "Price: 9933.0\n",
      "Dims: 8.92 x 6.74 x 4.38\n",
      "Color: Padparadscha (Pinkish-Orange / Orangish-Pink)\n",
      "Treatments: No Enhancement\n"
     ]
    },
    {
     "data": {
      "text/html": [
       "<img src=\"https://image.thenaturalsapphirecompany.com/nsc/sapphire/s11982/image/certified-natural-untreated-madagascar-oval-padparadscha-sapphire-2.3100-cts-s11982-1-full.jpg\" width=\"400\"/>"
      ],
      "text/plain": [
       "<IPython.core.display.Image object>"
      ]
     },
     "metadata": {},
     "output_type": "display_data"
    },
    {
     "name": "stdout",
     "output_type": "stream",
     "text": [
      "https://www.thenaturalsapphirecompany.com/3.45ct-madagascar-cushion-padparadscha-sapphire-s7852-/\n",
      "Padparadscha Sapphire - Cushion 3.45 Ct. #S7852\n",
      "Price per length: 1139.7058823529412\n",
      "Price: 10850.0\n",
      "Dims: 9.52 x 6.76 x 5.61\n",
      "Color: Padparadscha (Pinkish-Orange / Orangish-Pink)\n",
      "Treatments: No Enhancement\n"
     ]
    },
    {
     "data": {
      "text/html": [
       "<img src=\"https://image.thenaturalsapphirecompany.com/nsc/sapphire/s7852/image/certified-natural-untreated-madagascar-cushion-padparadscha-sapphire-3.4500-cts-s7852-1-full.jpg\" width=\"400\"/>"
      ],
      "text/plain": [
       "<IPython.core.display.Image object>"
      ]
     },
     "metadata": {},
     "output_type": "display_data"
    },
    {
     "name": "stdout",
     "output_type": "stream",
     "text": [
      "https://www.thenaturalsapphirecompany.com/2.77ct-madagascar-oval-padparadscha-sapphire-pa3835-/\n",
      "Padparadscha Sapphire - Oval 2.77 Ct. #PA3835\n",
      "Price per length: 1193.4530095036955\n",
      "Price: 11302.0\n",
      "Dims: 9.47 x 6.9 x 5.01\n",
      "Color: Padparadscha (Pinkish-Orange / Orangish-Pink)\n",
      "Treatments: No Enhancement\n"
     ]
    },
    {
     "data": {
      "text/html": [
       "<img src=\"https://image.thenaturalsapphirecompany.com/nsc/sapphire/pa3835/image/certified-natural-untreated-madagascar-oval-padparadscha-sapphire-2.7700-cts-pa3835-1-full.jpg\" width=\"400\"/>"
      ],
      "text/plain": [
       "<IPython.core.display.Image object>"
      ]
     },
     "metadata": {},
     "output_type": "display_data"
    },
    {
     "name": "stdout",
     "output_type": "stream",
     "text": [
      "https://www.thenaturalsapphirecompany.com/3.66ct-madagascar-pear-padparadscha-sapphire-s7217-/\n",
      "Padparadscha Sapphire - Pear 3.66 Ct. #S7217\n",
      "Price per length: 1295.1431049436253\n",
      "Price: 14933.0\n",
      "Dims: 11.53 x 7.57 x 5.36\n",
      "Color: Padparadscha (Pinkish-Orange / Orangish-Pink)\n",
      "Treatments: Heated\n"
     ]
    },
    {
     "data": {
      "text/html": [
       "<img src=\"https://image.thenaturalsapphirecompany.com/nsc/sapphire/s7217/image/certified-natural-madagascar-pear-padparadscha-sapphire-3.6600-cts-s7217-1-full.jpg\" width=\"400\"/>"
      ],
      "text/plain": [
       "<IPython.core.display.Image object>"
      ]
     },
     "metadata": {},
     "output_type": "display_data"
    },
    {
     "name": "stdout",
     "output_type": "stream",
     "text": [
      "https://www.thenaturalsapphirecompany.com/4.17ct-ceylon-sri-lanka-pear-padparadscha-sapphire-pa3960-/\n",
      "Padparadscha Sapphire - Pear 4.17 Ct. #PA3960\n",
      "Price per length: 1336.003236245955\n",
      "Price: 16513.0\n",
      "Dims: 12.36 x 8.11 x 5.22\n",
      "Color: Padparadscha (Pinkish-Orange / Orangish-Pink)\n",
      "Treatments: Heated\n"
     ]
    },
    {
     "data": {
      "text/html": [
       "<img src=\"https://image.thenaturalsapphirecompany.com/nsc/sapphire/pa3960/image/certified-natural-ceylon(srilanka)-pear-padparadscha-sapphire-4.1700-cts-pa3960-1-full.jpg\" width=\"400\"/>"
      ],
      "text/plain": [
       "<IPython.core.display.Image object>"
      ]
     },
     "metadata": {},
     "output_type": "display_data"
    },
    {
     "name": "stdout",
     "output_type": "stream",
     "text": [
      "https://www.thenaturalsapphirecompany.com/4.16ct-madagascar-oval-padparadscha-sapphire-s17459-/\n",
      "Padparadscha Sapphire - Oval 4.16 Ct. #S17459\n",
      "Price per length: 1363.9344262295083\n",
      "Price: 14144.0\n",
      "Dims: 10.37 x 7.75 x 6.23\n",
      "Color: Padparadscha (Pinkish-Orange / Orangish-Pink)\n",
      "Treatments: No Enhancement\n"
     ]
    },
    {
     "data": {
      "text/html": [
       "<img src=\"https://image.thenaturalsapphirecompany.com/nsc/sapphire/s17459/image/certified-natural-untreated-madagascar-oval-padparadscha-sapphire-4.1600-cts-s17459-1-full.jpg\" width=\"400\"/>"
      ],
      "text/plain": [
       "<IPython.core.display.Image object>"
      ]
     },
     "metadata": {},
     "output_type": "display_data"
    },
    {
     "name": "stdout",
     "output_type": "stream",
     "text": [
      "https://www.thenaturalsapphirecompany.com/8.46ct-ceylon-sri-lanka-radiant-peach-sapphire-s12648-/\n",
      "Peach Sapphire - Radiant 8.46 Ct. #S12648\n",
      "Price per length: 1391.4673046251994\n",
      "Price: 17449.0\n",
      "Dims: 12.54 x 9.52 x 7.06\n",
      "Color: Peach\n",
      "Treatments: Heated\n"
     ]
    },
    {
     "data": {
      "text/html": [
       "<img src=\"https://image.thenaturalsapphirecompany.com/nsc/sapphire/s12648/image/certified-natural-ceylon(srilanka)-radiant-peach-sapphire-8.4600-cts-s12648-1-full.jpg\" width=\"400\"/>"
      ],
      "text/plain": [
       "<IPython.core.display.Image object>"
      ]
     },
     "metadata": {},
     "output_type": "display_data"
    },
    {
     "name": "stdout",
     "output_type": "stream",
     "text": [
      "https://www.thenaturalsapphirecompany.com/5.64ct-ceylon-sri-lanka-cushion-peach-sapphire-s11354-/\n",
      "Peach Sapphire - Cushion 5.64 Ct. #S11354\n",
      "Price per length: 1527.7722277722278\n",
      "Price: 15293.0\n",
      "Dims: 10.01 x 7.4 x 7.3\n",
      "Color: Peach\n",
      "Treatments: No Enhancement\n"
     ]
    },
    {
     "data": {
      "text/html": [
       "<img src=\"https://image.thenaturalsapphirecompany.com/nsc/sapphire/s11354/image/certified-natural-untreated-ceylon(srilanka)-cushion-padparadscha-sapphire-5.6400-cts-s11354-1-full.jpg\" width=\"400\"/>"
      ],
      "text/plain": [
       "<IPython.core.display.Image object>"
      ]
     },
     "metadata": {},
     "output_type": "display_data"
    },
    {
     "name": "stdout",
     "output_type": "stream",
     "text": [
      "https://www.thenaturalsapphirecompany.com/3.11ct-ceylon-sri-lanka-oval-padparadscha-sapphire-s14207-/\n",
      "Padparadscha Sapphire - Oval 3.11 Ct. #S14207\n",
      "Price per length: 1779.98017839445\n",
      "Price: 17960.0\n",
      "Dims: 10.09 x 7.47 x 4.81\n",
      "Color: Padparadscha (Pinkish-Orange / Orangish-Pink)\n",
      "Treatments: Heated\n"
     ]
    },
    {
     "data": {
      "text/html": [
       "<img src=\"https://image.thenaturalsapphirecompany.com/nsc/sapphire/s14207/image/certified-natural-ceylon(srilanka)-oval-padparadscha-sapphire-3.1100-cts-s14207-1-full.jpg\" width=\"400\"/>"
      ],
      "text/plain": [
       "<IPython.core.display.Image object>"
      ]
     },
     "metadata": {},
     "output_type": "display_data"
    },
    {
     "name": "stdout",
     "output_type": "stream",
     "text": [
      "https://www.thenaturalsapphirecompany.com/3.51ct-ceylon-sri-lanka-oval-padparadscha-sapphire-s12598-/\n",
      "Padparadscha Sapphire - Oval 3.51 Ct. #S12598\n",
      "Price per length: 2005.3554939981532\n",
      "Price: 21718.0\n",
      "Dims: 10.83 x 7.64 x 4.76\n",
      "Color: Padparadscha (Pinkish-Orange / Orangish-Pink)\n",
      "Treatments: No Enhancement\n"
     ]
    },
    {
     "data": {
      "text/html": [
       "<img src=\"https://image.thenaturalsapphirecompany.com/nsc/sapphire/s12598/image/certified-natural-untreated-ceylon(srilanka)-oval-padparadscha-sapphire-3.5100-cts-s12598-1-full.jpg\" width=\"400\"/>"
      ],
      "text/plain": [
       "<IPython.core.display.Image object>"
      ]
     },
     "metadata": {},
     "output_type": "display_data"
    },
    {
     "name": "stdout",
     "output_type": "stream",
     "text": [
      "https://www.thenaturalsapphirecompany.com/5.25ct-madagascar-pear-padparadscha-sapphire-s14312-/\n",
      "Padparadscha Sapphire - Pear 5.25 Ct. #S14312\n",
      "Price per length: 2424.0058910162\n",
      "Price: 32918.0\n",
      "Dims: 13.58 x 9.18 x 5.51\n",
      "Color: Padparadscha (Pinkish-Orange / Orangish-Pink)\n",
      "Treatments: No Enhancement\n"
     ]
    },
    {
     "data": {
      "text/html": [
       "<img src=\"https://image.thenaturalsapphirecompany.com/nsc/sapphire/s14312/image/certified-natural-untreated-ceylon(srilanka)-pear-padparadscha-sapphire-5.2500-cts-s14312-1-full.jpg\" width=\"400\"/>"
      ],
      "text/plain": [
       "<IPython.core.display.Image object>"
      ]
     },
     "metadata": {},
     "output_type": "display_data"
    },
    {
     "name": "stdout",
     "output_type": "stream",
     "text": [
      "https://www.thenaturalsapphirecompany.com/3.07ct-ceylon-sri-lanka-oval-padparadscha-sapphire-s14411-/\n",
      "Padparadscha Sapphire - Oval 3.07 Ct. #S14411\n",
      "Price per length: 2611.134020618557\n",
      "Price: 25328.0\n",
      "Dims: 9.7 x 7.11 x 4.94\n",
      "Color: Padparadscha (Pinkish-Orange / Orangish-Pink)\n",
      "Treatments: No Enhancement\n"
     ]
    },
    {
     "data": {
      "text/html": [
       "<img src=\"https://image.thenaturalsapphirecompany.com/nsc/sapphire/s14411/image/certified-natural-untreated-ceylon(srilanka)-oval-padparadscha-sapphire-3.0600-cts-s14411-1-full.jpg\" width=\"400\"/>"
      ],
      "text/plain": [
       "<IPython.core.display.Image object>"
      ]
     },
     "metadata": {},
     "output_type": "display_data"
    },
    {
     "name": "stdout",
     "output_type": "stream",
     "text": [
      "https://www.thenaturalsapphirecompany.com/9.05ct-ceylon-sri-lanka-oval-padparadscha-sapphire-pa3969-/\n",
      "Padparadscha Sapphire - Oval 9.05 Ct. #PA3969\n",
      "Price per length: 3053.7898936170213\n",
      "Price: 45929.0\n",
      "Dims: 15.04 x 10.67 x 6.48\n",
      "Color: Padparadscha (Pinkish-Orange / Orangish-Pink)\n",
      "Treatments: Heated\n"
     ]
    },
    {
     "data": {
      "text/html": [
       "<img src=\"https://image.thenaturalsapphirecompany.com/nsc/sapphire/pa3969/image/certified-natural-ceylon(srilanka)-oval-padparadscha-sapphire-9.0500-cts-pa3969-1-full.jpg\" width=\"400\"/>"
      ],
      "text/plain": [
       "<IPython.core.display.Image object>"
      ]
     },
     "metadata": {},
     "output_type": "display_data"
    },
    {
     "name": "stdout",
     "output_type": "stream",
     "text": [
      "https://www.thenaturalsapphirecompany.com/3.34ct-ceylon-sri-lanka-oval-padparadscha-sapphire-s12596-/\n",
      "Padparadscha Sapphire - Oval 3.34 Ct. #S12596\n",
      "Price per length: 3829.1913214990136\n",
      "Price: 38828.0\n",
      "Dims: 10.14 x 7.59 x 5.15\n",
      "Color: Padparadscha (Pinkish-Orange / Orangish-Pink)\n",
      "Treatments: No Enhancement\n"
     ]
    },
    {
     "data": {
      "text/html": [
       "<img src=\"https://image.thenaturalsapphirecompany.com/nsc/sapphire/s12596/image/certified-natural-untreated-ceylon(srilanka)-oval-padparadscha-sapphire-3.3400-cts-s12596-1-full.jpg\" width=\"400\"/>"
      ],
      "text/plain": [
       "<IPython.core.display.Image object>"
      ]
     },
     "metadata": {},
     "output_type": "display_data"
    },
    {
     "name": "stdout",
     "output_type": "stream",
     "text": [
      "https://www.thenaturalsapphirecompany.com/4.09ct-madagascar-round-padparadscha-sapphire-s12597-/\n",
      "Padparadscha Sapphire - Round 4.09 Ct. #S12597\n",
      "Price per length: 5112.522686025409\n",
      "Price: 56340.0\n",
      "Dims: 11.02 x 7.26 x 5.48\n",
      "Color: Padparadscha (Pinkish-Orange / Orangish-Pink)\n",
      "Treatments: No Enhancement\n"
     ]
    },
    {
     "data": {
      "text/html": [
       "<img src=\"https://image.thenaturalsapphirecompany.com/nsc/sapphire/s12597/image/certified-natural-untreated-madagascar-round-padparadscha-sapphire-4.0900-cts-s12597-1-full.jpg\" width=\"400\"/>"
      ],
      "text/plain": [
       "<IPython.core.display.Image object>"
      ]
     },
     "metadata": {},
     "output_type": "display_data"
    }
   ],
   "execution_count": 52
  },
  {
   "cell_type": "code",
   "execution_count": null,
   "id": "7fa45439",
   "metadata": {},
   "outputs": [],
   "source": []
  }
 ],
 "metadata": {
  "kernelspec": {
   "display_name": "Python 3 (ipykernel)",
   "language": "python",
   "name": "python3"
  },
  "language_info": {
   "codemirror_mode": {
    "name": "ipython",
    "version": 3
   },
   "file_extension": ".py",
   "mimetype": "text/x-python",
   "name": "python",
   "nbconvert_exporter": "python",
   "pygments_lexer": "ipython3",
   "version": "3.9.18"
  }
 },
 "nbformat": 4,
 "nbformat_minor": 5
}
