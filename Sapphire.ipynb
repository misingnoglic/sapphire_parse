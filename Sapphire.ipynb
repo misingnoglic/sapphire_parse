{
 "cells": [
  {
   "cell_type": "code",
   "id": "dc86468b",
   "metadata": {
    "ExecuteTime": {
     "end_time": "2024-12-16T17:41:14.147091Z",
     "start_time": "2024-12-16T17:41:14.142162Z"
    }
   },
   "source": [
    "import pandas as pd\n",
    "from IPython.display import Image\n",
    "from get_sapphires import refresh_sapphire_csv\n"
   ],
   "outputs": [],
   "execution_count": 17
  },
  {
   "metadata": {
    "ExecuteTime": {
     "end_time": "2024-12-16T17:41:14.270289Z",
     "start_time": "2024-12-16T17:41:14.267741Z"
    }
   },
   "cell_type": "code",
   "source": "# refresh_sapphire_csv() #  Uncomment to load most fresh data",
   "id": "a539499906e27197",
   "outputs": [],
   "execution_count": 18
  },
  {
   "cell_type": "code",
   "id": "c002cdf1",
   "metadata": {
    "ExecuteTime": {
     "end_time": "2024-12-16T17:41:14.444698Z",
     "start_time": "2024-12-16T17:41:14.434620Z"
    }
   },
   "source": "sapphires = pd.read_csv(\"sapphires.csv\")",
   "outputs": [],
   "execution_count": 19
  },
  {
   "cell_type": "code",
   "id": "41fe7a56",
   "metadata": {
    "ExecuteTime": {
     "end_time": "2024-12-16T17:41:14.803893Z",
     "start_time": "2024-12-16T17:41:14.793882Z"
    }
   },
   "source": [
    "sapphires.head()"
   ],
   "outputs": [
    {
     "data": {
      "text/plain": [
       "                                               name  \\\n",
       "0    Padparadscha Sapphire - Round 1.22 Ct. #PA4067   \n",
       "1    Padparadscha Sapphire - Round 1.07 Ct. #PA3962   \n",
       "2     Padparadscha Sapphire - Oval 1.02 Ct. #PA3965   \n",
       "3  Padparadscha Sapphire - Cushion 1.05 Ct. #PA4166   \n",
       "4     Padparadscha Sapphire - Pear 2.00 Ct. #PA4160   \n",
       "\n",
       "                                                 url  \\\n",
       "0  https://www.thenaturalsapphirecompany.com/1.22...   \n",
       "1  https://www.thenaturalsapphirecompany.com/1.07...   \n",
       "2  https://www.thenaturalsapphirecompany.com/1.02...   \n",
       "3  https://www.thenaturalsapphirecompany.com/1.05...   \n",
       "4  https://www.thenaturalsapphirecompany.com/2.00...   \n",
       "\n",
       "                                           image_url Item ID  Total Price  \\\n",
       "0  https://image.thenaturalsapphirecompany.com/ns...  PA4067       1708.0   \n",
       "1  https://image.thenaturalsapphirecompany.com/ns...  PA3962       2086.0   \n",
       "2  https://image.thenaturalsapphirecompany.com/ns...  PA3965       3366.0   \n",
       "3  https://image.thenaturalsapphirecompany.com/ns...  PA4166       3772.0   \n",
       "4  https://image.thenaturalsapphirecompany.com/ns...  PA4160       5550.0   \n",
       "\n",
       "   Weight    Per Carat Price                                          Color  \\\n",
       "0    1.22     $1,400 per Ct.  Padparadscha (Pinkish-Orange / Orangish-Pink)   \n",
       "1    1.07  $1,949.53 per Ct.  Padparadscha (Pinkish-Orange / Orangish-Pink)   \n",
       "2    1.02     $3,300 per Ct.  Padparadscha (Pinkish-Orange / Orangish-Pink)   \n",
       "3    1.05  $3,592.38 per Ct.  Padparadscha (Pinkish-Orange / Orangish-Pink)   \n",
       "4    2.00     $2,775 per Ct.  Padparadscha (Pinkish-Orange / Orangish-Pink)   \n",
       "\n",
       "     Shape                 Clarity              Cut Color Intensity  \\\n",
       "0    Round  Very Slightly Included  Mixed Brilliant         Intense   \n",
       "1    Round  Very Slightly Included  Mixed Brilliant           Vivid   \n",
       "2     Oval               Eye Clean  Mixed Brilliant           Vivid   \n",
       "3  Cushion       Slightly Included  Mixed Brilliant          Medium   \n",
       "4     Pear  Very Slightly Included  Mixed Brilliant         Intense   \n",
       "\n",
       "               Origin      Treatments  Length  Width  Height  Price per Length  \n",
       "0  Ceylon (Sri Lanka)  No Enhancement    6.74   6.64    3.83        253.412463  \n",
       "1          Madagascar          Heated    6.08   5.95    3.52        343.092105  \n",
       "2          Mozambique          Heated    6.99   5.00    3.40        481.545064  \n",
       "3  Ceylon (Sri Lanka)          Heated    7.55   5.64    2.69        499.602649  \n",
       "4          Madagascar          Heated    8.32   6.69    3.89        667.067308  "
      ],
      "text/html": [
       "<div>\n",
       "<style scoped>\n",
       "    .dataframe tbody tr th:only-of-type {\n",
       "        vertical-align: middle;\n",
       "    }\n",
       "\n",
       "    .dataframe tbody tr th {\n",
       "        vertical-align: top;\n",
       "    }\n",
       "\n",
       "    .dataframe thead th {\n",
       "        text-align: right;\n",
       "    }\n",
       "</style>\n",
       "<table border=\"1\" class=\"dataframe\">\n",
       "  <thead>\n",
       "    <tr style=\"text-align: right;\">\n",
       "      <th></th>\n",
       "      <th>name</th>\n",
       "      <th>url</th>\n",
       "      <th>image_url</th>\n",
       "      <th>Item ID</th>\n",
       "      <th>Total Price</th>\n",
       "      <th>Weight</th>\n",
       "      <th>Per Carat Price</th>\n",
       "      <th>Color</th>\n",
       "      <th>Shape</th>\n",
       "      <th>Clarity</th>\n",
       "      <th>Cut</th>\n",
       "      <th>Color Intensity</th>\n",
       "      <th>Origin</th>\n",
       "      <th>Treatments</th>\n",
       "      <th>Length</th>\n",
       "      <th>Width</th>\n",
       "      <th>Height</th>\n",
       "      <th>Price per Length</th>\n",
       "    </tr>\n",
       "  </thead>\n",
       "  <tbody>\n",
       "    <tr>\n",
       "      <th>0</th>\n",
       "      <td>Padparadscha Sapphire - Round 1.22 Ct. #PA4067</td>\n",
       "      <td>https://www.thenaturalsapphirecompany.com/1.22...</td>\n",
       "      <td>https://image.thenaturalsapphirecompany.com/ns...</td>\n",
       "      <td>PA4067</td>\n",
       "      <td>1708.0</td>\n",
       "      <td>1.22</td>\n",
       "      <td>$1,400 per Ct.</td>\n",
       "      <td>Padparadscha (Pinkish-Orange / Orangish-Pink)</td>\n",
       "      <td>Round</td>\n",
       "      <td>Very Slightly Included</td>\n",
       "      <td>Mixed Brilliant</td>\n",
       "      <td>Intense</td>\n",
       "      <td>Ceylon (Sri Lanka)</td>\n",
       "      <td>No Enhancement</td>\n",
       "      <td>6.74</td>\n",
       "      <td>6.64</td>\n",
       "      <td>3.83</td>\n",
       "      <td>253.412463</td>\n",
       "    </tr>\n",
       "    <tr>\n",
       "      <th>1</th>\n",
       "      <td>Padparadscha Sapphire - Round 1.07 Ct. #PA3962</td>\n",
       "      <td>https://www.thenaturalsapphirecompany.com/1.07...</td>\n",
       "      <td>https://image.thenaturalsapphirecompany.com/ns...</td>\n",
       "      <td>PA3962</td>\n",
       "      <td>2086.0</td>\n",
       "      <td>1.07</td>\n",
       "      <td>$1,949.53 per Ct.</td>\n",
       "      <td>Padparadscha (Pinkish-Orange / Orangish-Pink)</td>\n",
       "      <td>Round</td>\n",
       "      <td>Very Slightly Included</td>\n",
       "      <td>Mixed Brilliant</td>\n",
       "      <td>Vivid</td>\n",
       "      <td>Madagascar</td>\n",
       "      <td>Heated</td>\n",
       "      <td>6.08</td>\n",
       "      <td>5.95</td>\n",
       "      <td>3.52</td>\n",
       "      <td>343.092105</td>\n",
       "    </tr>\n",
       "    <tr>\n",
       "      <th>2</th>\n",
       "      <td>Padparadscha Sapphire - Oval 1.02 Ct. #PA3965</td>\n",
       "      <td>https://www.thenaturalsapphirecompany.com/1.02...</td>\n",
       "      <td>https://image.thenaturalsapphirecompany.com/ns...</td>\n",
       "      <td>PA3965</td>\n",
       "      <td>3366.0</td>\n",
       "      <td>1.02</td>\n",
       "      <td>$3,300 per Ct.</td>\n",
       "      <td>Padparadscha (Pinkish-Orange / Orangish-Pink)</td>\n",
       "      <td>Oval</td>\n",
       "      <td>Eye Clean</td>\n",
       "      <td>Mixed Brilliant</td>\n",
       "      <td>Vivid</td>\n",
       "      <td>Mozambique</td>\n",
       "      <td>Heated</td>\n",
       "      <td>6.99</td>\n",
       "      <td>5.00</td>\n",
       "      <td>3.40</td>\n",
       "      <td>481.545064</td>\n",
       "    </tr>\n",
       "    <tr>\n",
       "      <th>3</th>\n",
       "      <td>Padparadscha Sapphire - Cushion 1.05 Ct. #PA4166</td>\n",
       "      <td>https://www.thenaturalsapphirecompany.com/1.05...</td>\n",
       "      <td>https://image.thenaturalsapphirecompany.com/ns...</td>\n",
       "      <td>PA4166</td>\n",
       "      <td>3772.0</td>\n",
       "      <td>1.05</td>\n",
       "      <td>$3,592.38 per Ct.</td>\n",
       "      <td>Padparadscha (Pinkish-Orange / Orangish-Pink)</td>\n",
       "      <td>Cushion</td>\n",
       "      <td>Slightly Included</td>\n",
       "      <td>Mixed Brilliant</td>\n",
       "      <td>Medium</td>\n",
       "      <td>Ceylon (Sri Lanka)</td>\n",
       "      <td>Heated</td>\n",
       "      <td>7.55</td>\n",
       "      <td>5.64</td>\n",
       "      <td>2.69</td>\n",
       "      <td>499.602649</td>\n",
       "    </tr>\n",
       "    <tr>\n",
       "      <th>4</th>\n",
       "      <td>Padparadscha Sapphire - Pear 2.00 Ct. #PA4160</td>\n",
       "      <td>https://www.thenaturalsapphirecompany.com/2.00...</td>\n",
       "      <td>https://image.thenaturalsapphirecompany.com/ns...</td>\n",
       "      <td>PA4160</td>\n",
       "      <td>5550.0</td>\n",
       "      <td>2.00</td>\n",
       "      <td>$2,775 per Ct.</td>\n",
       "      <td>Padparadscha (Pinkish-Orange / Orangish-Pink)</td>\n",
       "      <td>Pear</td>\n",
       "      <td>Very Slightly Included</td>\n",
       "      <td>Mixed Brilliant</td>\n",
       "      <td>Intense</td>\n",
       "      <td>Madagascar</td>\n",
       "      <td>Heated</td>\n",
       "      <td>8.32</td>\n",
       "      <td>6.69</td>\n",
       "      <td>3.89</td>\n",
       "      <td>667.067308</td>\n",
       "    </tr>\n",
       "  </tbody>\n",
       "</table>\n",
       "</div>"
      ]
     },
     "execution_count": 20,
     "metadata": {},
     "output_type": "execute_result"
    }
   ],
   "execution_count": 20
  },
  {
   "cell_type": "code",
   "id": "2569c857",
   "metadata": {
    "ExecuteTime": {
     "end_time": "2024-12-16T17:41:15.473056Z",
     "start_time": "2024-12-16T17:41:15.469229Z"
    }
   },
   "source": [
    "sapphires[\"price_per_length\"] = sapphires[\"Total Price\"]/sapphires[\"Length\"]\n",
    "sapphires[\"length_width_ratio\"] = sapphires[\"Length\"]/sapphires[\"Width\"]\n"
   ],
   "outputs": [],
   "execution_count": 21
  },
  {
   "metadata": {
    "ExecuteTime": {
     "end_time": "2024-12-16T17:41:16.736402Z",
     "start_time": "2024-12-16T17:41:16.731892Z"
    }
   },
   "cell_type": "code",
   "source": "sapphires.columns",
   "id": "135d3db7064907af",
   "outputs": [
    {
     "data": {
      "text/plain": [
       "Index(['name', 'url', 'image_url', 'Item ID', 'Total Price', 'Weight',\n",
       "       'Per Carat Price', 'Color', 'Shape', 'Clarity', 'Cut',\n",
       "       'Color Intensity', 'Origin', 'Treatments', 'Length', 'Width', 'Height',\n",
       "       'Price per Length', 'price_per_length', 'length_width_ratio'],\n",
       "      dtype='object')"
      ]
     },
     "execution_count": 22,
     "metadata": {},
     "output_type": "execute_result"
    }
   ],
   "execution_count": 22
  },
  {
   "metadata": {
    "ExecuteTime": {
     "end_time": "2024-12-16T17:41:17.232925Z",
     "start_time": "2024-12-16T17:41:17.229397Z"
    }
   },
   "cell_type": "code",
   "source": [
    "intensities_ranked = ['Colorless', 'Near Colorless', 'Faint', 'Very Light', 'Light', 'Medium Light', 'Medium', 'Medium Intense', 'Intense', 'Vivid']\n",
    "# Replace color intensity with rank\n",
    "sapphires['Color Intensity'] = sapphires['Color Intensity'].apply(lambda x: intensities_ranked.index(x))"
   ],
   "id": "3e9258a7c69ab8f6",
   "outputs": [],
   "execution_count": 23
  },
  {
   "metadata": {
    "ExecuteTime": {
     "end_time": "2024-12-16T17:41:18.376950Z",
     "start_time": "2024-12-16T17:41:18.373067Z"
    }
   },
   "cell_type": "code",
   "source": "sapphires['Color'].unique()\n",
   "id": "7f97fd93c50a66db",
   "outputs": [
    {
     "data": {
      "text/plain": [
       "array(['Padparadscha (Pinkish-Orange / Orangish-Pink)', 'Peach'],\n",
       "      dtype=object)"
      ]
     },
     "execution_count": 24,
     "metadata": {},
     "output_type": "execute_result"
    }
   ],
   "execution_count": 24
  },
  {
   "metadata": {
    "ExecuteTime": {
     "end_time": "2024-12-16T17:41:19.426079Z",
     "start_time": "2024-12-16T17:41:19.419566Z"
    }
   },
   "cell_type": "code",
   "source": "sapphires.head(1)",
   "id": "f3f91b0cd0a896df",
   "outputs": [
    {
     "data": {
      "text/plain": [
       "                                             name  \\\n",
       "0  Padparadscha Sapphire - Round 1.22 Ct. #PA4067   \n",
       "\n",
       "                                                 url  \\\n",
       "0  https://www.thenaturalsapphirecompany.com/1.22...   \n",
       "\n",
       "                                           image_url Item ID  Total Price  \\\n",
       "0  https://image.thenaturalsapphirecompany.com/ns...  PA4067       1708.0   \n",
       "\n",
       "   Weight Per Carat Price                                          Color  \\\n",
       "0    1.22  $1,400 per Ct.  Padparadscha (Pinkish-Orange / Orangish-Pink)   \n",
       "\n",
       "   Shape                 Clarity              Cut  Color Intensity  \\\n",
       "0  Round  Very Slightly Included  Mixed Brilliant                8   \n",
       "\n",
       "               Origin      Treatments  Length  Width  Height  \\\n",
       "0  Ceylon (Sri Lanka)  No Enhancement    6.74   6.64    3.83   \n",
       "\n",
       "   Price per Length  price_per_length  length_width_ratio  \n",
       "0        253.412463        253.412463             1.01506  "
      ],
      "text/html": [
       "<div>\n",
       "<style scoped>\n",
       "    .dataframe tbody tr th:only-of-type {\n",
       "        vertical-align: middle;\n",
       "    }\n",
       "\n",
       "    .dataframe tbody tr th {\n",
       "        vertical-align: top;\n",
       "    }\n",
       "\n",
       "    .dataframe thead th {\n",
       "        text-align: right;\n",
       "    }\n",
       "</style>\n",
       "<table border=\"1\" class=\"dataframe\">\n",
       "  <thead>\n",
       "    <tr style=\"text-align: right;\">\n",
       "      <th></th>\n",
       "      <th>name</th>\n",
       "      <th>url</th>\n",
       "      <th>image_url</th>\n",
       "      <th>Item ID</th>\n",
       "      <th>Total Price</th>\n",
       "      <th>Weight</th>\n",
       "      <th>Per Carat Price</th>\n",
       "      <th>Color</th>\n",
       "      <th>Shape</th>\n",
       "      <th>Clarity</th>\n",
       "      <th>Cut</th>\n",
       "      <th>Color Intensity</th>\n",
       "      <th>Origin</th>\n",
       "      <th>Treatments</th>\n",
       "      <th>Length</th>\n",
       "      <th>Width</th>\n",
       "      <th>Height</th>\n",
       "      <th>Price per Length</th>\n",
       "      <th>price_per_length</th>\n",
       "      <th>length_width_ratio</th>\n",
       "    </tr>\n",
       "  </thead>\n",
       "  <tbody>\n",
       "    <tr>\n",
       "      <th>0</th>\n",
       "      <td>Padparadscha Sapphire - Round 1.22 Ct. #PA4067</td>\n",
       "      <td>https://www.thenaturalsapphirecompany.com/1.22...</td>\n",
       "      <td>https://image.thenaturalsapphirecompany.com/ns...</td>\n",
       "      <td>PA4067</td>\n",
       "      <td>1708.0</td>\n",
       "      <td>1.22</td>\n",
       "      <td>$1,400 per Ct.</td>\n",
       "      <td>Padparadscha (Pinkish-Orange / Orangish-Pink)</td>\n",
       "      <td>Round</td>\n",
       "      <td>Very Slightly Included</td>\n",
       "      <td>Mixed Brilliant</td>\n",
       "      <td>8</td>\n",
       "      <td>Ceylon (Sri Lanka)</td>\n",
       "      <td>No Enhancement</td>\n",
       "      <td>6.74</td>\n",
       "      <td>6.64</td>\n",
       "      <td>3.83</td>\n",
       "      <td>253.412463</td>\n",
       "      <td>253.412463</td>\n",
       "      <td>1.01506</td>\n",
       "    </tr>\n",
       "  </tbody>\n",
       "</table>\n",
       "</div>"
      ]
     },
     "execution_count": 25,
     "metadata": {},
     "output_type": "execute_result"
    }
   ],
   "execution_count": 25
  },
  {
   "cell_type": "code",
   "id": "482429d2",
   "metadata": {
    "ExecuteTime": {
     "end_time": "2024-12-16T17:41:19.733001Z",
     "start_time": "2024-12-16T17:41:19.729887Z"
    }
   },
   "source": "sapphires[\"Shape\"].unique()",
   "outputs": [
    {
     "data": {
      "text/plain": [
       "array(['Round', 'Oval', 'Cushion', 'Pear', 'Radiant', 'Trillion', 'Heart',\n",
       "       'Emerald Cut', 'Fancy', 'Princess', 'Marquise',\n",
       "       'Asscher - Octagon'], dtype=object)"
      ]
     },
     "execution_count": 26,
     "metadata": {},
     "output_type": "execute_result"
    }
   ],
   "execution_count": 26
  },
  {
   "metadata": {
    "ExecuteTime": {
     "end_time": "2024-12-16T17:41:21.071430Z",
     "start_time": "2024-12-16T17:41:21.067619Z"
    }
   },
   "cell_type": "code",
   "source": "sapphires[\"Shape\"].unique()",
   "id": "83be38b557a9a480",
   "outputs": [
    {
     "data": {
      "text/plain": [
       "array(['Round', 'Oval', 'Cushion', 'Pear', 'Radiant', 'Trillion', 'Heart',\n",
       "       'Emerald Cut', 'Fancy', 'Princess', 'Marquise',\n",
       "       'Asscher - Octagon'], dtype=object)"
      ]
     },
     "execution_count": 27,
     "metadata": {},
     "output_type": "execute_result"
    }
   ],
   "execution_count": 27
  },
  {
   "metadata": {
    "ExecuteTime": {
     "end_time": "2024-12-16T17:41:21.352008Z",
     "start_time": "2024-12-16T17:41:21.347876Z"
    }
   },
   "cell_type": "code",
   "source": "sapphires[\"Color\"].unique()\n",
   "id": "962f865e3bd33389",
   "outputs": [
    {
     "data": {
      "text/plain": [
       "array(['Padparadscha (Pinkish-Orange / Orangish-Pink)', 'Peach'],\n",
       "      dtype=object)"
      ]
     },
     "execution_count": 28,
     "metadata": {},
     "output_type": "execute_result"
    }
   ],
   "execution_count": 28
  },
  {
   "metadata": {
    "ExecuteTime": {
     "end_time": "2024-12-16T17:41:23.006718Z",
     "start_time": "2024-12-16T17:41:23.002107Z"
    }
   },
   "cell_type": "code",
   "source": "sapphires[\"Clarity\"].unique()\n",
   "id": "5b491f394ffd2307",
   "outputs": [
    {
     "data": {
      "text/plain": [
       "array(['Very Slightly Included', 'Eye Clean', 'Slightly Included',\n",
       "       'Included'], dtype=object)"
      ]
     },
     "execution_count": 29,
     "metadata": {},
     "output_type": "execute_result"
    }
   ],
   "execution_count": 29
  },
  {
   "metadata": {
    "ExecuteTime": {
     "end_time": "2024-12-16T17:41:24.165965Z",
     "start_time": "2024-12-16T17:41:24.161911Z"
    }
   },
   "cell_type": "code",
   "source": "sapphires[\"Color Intensity\"].unique()\n",
   "id": "631278bd3238e60b",
   "outputs": [
    {
     "data": {
      "text/plain": [
       "array([8, 9, 6, 5, 7, 4, 3, 2])"
      ]
     },
     "execution_count": 30,
     "metadata": {},
     "output_type": "execute_result"
    }
   ],
   "execution_count": 30
  },
  {
   "cell_type": "code",
   "id": "719516ab",
   "metadata": {
    "ExecuteTime": {
     "end_time": "2024-12-16T17:42:23.186990Z",
     "start_time": "2024-12-16T17:42:23.169918Z"
    }
   },
   "source": [
    "from functools import reduce\n",
    "\n",
    "long_cuts = [\"Marquise\", \"Emerald Cut\", \"Oval\", \"Pear\", \"Radiant\"]\n",
    "\n",
    "filters = [\n",
    "    (~sapphires[\"Shape\"].isin([\"Fancy\", \"Heart\", \"Trillion\"])),\n",
    "    # ((sapphires[\"Length\"] >= 8.5) | (sapphires[\"length_width_ratio\"] <= 1.5)),\n",
    "    (sapphires[\"Length\"] >= 8.5),\n",
    "    (~sapphires[\"Clarity\"].isin([\"Slightly Included\", \"Included\"]) ),\n",
    "    # (~sapphires[\"Color Intensity\"].isin([\"Intense\", \"Vivid\"])),\n",
    "    (sapphires[\"Total Price\"] < 12000),\n",
    "    (sapphires[\"Total Price\"] > 500),\n",
    "    (sapphires[\"Weight\"] > 1)\n",
    "]\n",
    "\n",
    "filters_added = reduce(lambda x, y: x & y, filters)\n",
    "#\n",
    "# # And all filters together\n",
    "sapphires_filtered = sapphires[filters_added]\n",
    "# sapphires_filtered = sapphires\n"
   ],
   "outputs": [],
   "execution_count": 31
  },
  {
   "cell_type": "code",
   "id": "4e674efd",
   "metadata": {
    "ExecuteTime": {
     "end_time": "2024-12-16T17:43:17.377108Z",
     "start_time": "2024-12-16T17:43:17.243573Z"
    }
   },
   "source": [
    "print(f\"Num Results: {len(sapphires_filtered)}\")\n",
    "# Sort by distance to model length width and depth.\n",
    "# model_length, model_width, model_depth = 11.66, 8.41, 6.81\n",
    "# sapphires_filtered[\"distance_to_model\"] = ((sapphires_filtered[\"Length\"] - model_length)**2 * 10 + (sapphires_filtered[\"Width\"] - model_width)**2 * 5 + (sapphires_filtered[\"Height\"] - model_depth)**2)**0.5\n",
    "\n",
    "\n",
    "for index, row in sapphires_filtered.sort_values(by=\"price_per_length\", ascending=True).head(100).iterrows():\n",
    "    print(row['url'])\n",
    "    print(row['name'])\n",
    "    print(f'Distance: {row[\"distance_to_model\"]}')\n",
    "    # Print difference in length, width, height\n",
    "    # print(f\"Diff l, w, d= {row['Length'] - model_length}, {row['Width'] - model_width}, {row['Height'] - model_depth}\")\n",
    "    print(f\"Price per length: {row['Price per Length']}\")\n",
    "    print(f\"Price: {row['Total Price']}\")\n",
    "    print(f\"Dims: {row['Length']} x {row['Width']} x {row['Height']}\")\n",
    "    print(f\"Color: {row['Color']}\")\n",
    "    print(f'Treatments: {row[\"Treatments\"]}')\n",
    "    display(Image(url=row['image_url'], width=400))"
   ],
   "outputs": [
    {
     "name": "stdout",
     "output_type": "stream",
     "text": [
      "Num Results: 116\n",
      "https://www.thenaturalsapphirecompany.com/1.87ct-ceylon-sri-lanka-pear-peach-sapphire-s11796-/\n",
      "Peach Sapphire - Pear 1.87 Ct. #S11796\n",
      "Distance: 7.416306358289146\n",
      "Price per length: 54.51895043731779\n",
      "Price: 561.0\n",
      "Dims: 10.29 x 5.98 x 4.22\n",
      "Color: Peach\n",
      "Treatments: No Enhancement\n"
     ]
    },
    {
     "data": {
      "text/html": [
       "<img src=\"https://image.thenaturalsapphirecompany.com/nsc/sapphire/s11796/image/certified-natural-untreated-ceylon(srilanka)-pear-yellow-sapphire-1.8700-cts-s11796-1-full.jpg\" width=\"400\"/>"
      ],
      "text/plain": [
       "<IPython.core.display.Image object>"
      ]
     },
     "metadata": {},
     "output_type": "display_data"
    },
    {
     "name": "stdout",
     "output_type": "stream",
     "text": [
      "https://www.thenaturalsapphirecompany.com/2.10ct-ceylon-sri-lanka-oval-peach-sapphire-u14949-/\n",
      "Peach Sapphire - Oval 2.10 Ct. #U14949\n",
      "Distance: 9.354298477170804\n",
      "Price per length: 211.40939597315435\n",
      "Price: 1890.0\n",
      "Dims: 8.94 x 7.54 x 3.69\n",
      "Color: Peach\n",
      "Treatments: No Enhancement\n"
     ]
    },
    {
     "data": {
      "text/html": [
       "<img src=\"https://image.thenaturalsapphirecompany.com/nsc/sapphire/u14949/image/certified-natural-untreated-ceylon-oval-peach-sapphire-2.1000-cts-u14949-1-full.jpg\" width=\"400\"/>"
      ],
      "text/plain": [
       "<IPython.core.display.Image object>"
      ]
     },
     "metadata": {},
     "output_type": "display_data"
    },
    {
     "name": "stdout",
     "output_type": "stream",
     "text": [
      "https://www.thenaturalsapphirecompany.com/1.63ct-ceylon-sri-lanka-marquise-peach-sapphire-s13871-/\n",
      "Peach Sapphire - Marquise 1.63 Ct. #S13871\n",
      "Distance: 7.725516163985419\n",
      "Price per length: 216.913123844732\n",
      "Price: 2347.0\n",
      "Dims: 10.82 x 5.53 x 3.47\n",
      "Color: Peach\n",
      "Treatments: No Enhancement\n"
     ]
    },
    {
     "data": {
      "text/html": [
       "<img src=\"https://image.thenaturalsapphirecompany.com/nsc/sapphire/s13871/image/certified-natural-untreated-ceylon(srilanka)-marquise-peach-sapphire-1.6300-cts-s13871-1-full.jpg\" width=\"400\"/>"
      ],
      "text/plain": [
       "<IPython.core.display.Image object>"
      ]
     },
     "metadata": {},
     "output_type": "display_data"
    },
    {
     "name": "stdout",
     "output_type": "stream",
     "text": [
      "https://www.thenaturalsapphirecompany.com/1.75ct-ceylon-sri-lanka-oval-peach-sapphire-s10943-/\n",
      "Peach Sapphire - Oval 1.75 Ct. #S10943\n",
      "Distance: 10.550943085809912\n",
      "Price per length: 219.7488584474886\n",
      "Price: 1925.0\n",
      "Dims: 8.76 x 6.61 x 3.49\n",
      "Color: Peach\n",
      "Treatments: No Enhancement\n"
     ]
    },
    {
     "data": {
      "text/html": [
       "<img src=\"https://image.thenaturalsapphirecompany.com/nsc/sapphire/s10943/image/certified-natural-untreated-ceylon(srilanka)-oval-peach-sapphire-1.7500-cts-s10943-1-full.jpg\" width=\"400\"/>"
      ],
      "text/plain": [
       "<IPython.core.display.Image object>"
      ]
     },
     "metadata": {},
     "output_type": "display_data"
    },
    {
     "name": "stdout",
     "output_type": "stream",
     "text": [
      "https://www.thenaturalsapphirecompany.com/1.75ct-ceylon-sri-lanka-oval-padparadscha-sapphire-s13856-/\n",
      "Padparadscha Sapphire - Oval 1.75 Ct. #S13856\n",
      "Distance: 10.57960774320107\n",
      "Price per length: 234.8993288590604\n",
      "Price: 2100.0\n",
      "Dims: 8.94 x 6.04 x 3.67\n",
      "Color: Padparadscha (Pinkish-Orange / Orangish-Pink)\n",
      "Treatments: No Enhancement\n"
     ]
    },
    {
     "data": {
      "text/html": [
       "<img src=\"https://image.thenaturalsapphirecompany.com/nsc/sapphire/s13856/image/certified-natural-untreated-ceylon(srilanka)-oval-padparadscha-sapphire-1.7500-cts-s13856-1-full.jpg\" width=\"400\"/>"
      ],
      "text/plain": [
       "<IPython.core.display.Image object>"
      ]
     },
     "metadata": {},
     "output_type": "display_data"
    },
    {
     "name": "stdout",
     "output_type": "stream",
     "text": [
      "https://www.thenaturalsapphirecompany.com/2.08ct-ceylon-sri-lanka-pear-peach-sapphire-s10065-/\n",
      "Peach Sapphire - Pear 2.08 Ct. #S10065\n",
      "Distance: 5.527286857039356\n",
      "Price per length: 235.91682419659736\n",
      "Price: 2496.0\n",
      "Dims: 10.58 x 6.88 x 4.13\n",
      "Color: Peach\n",
      "Treatments: Heated\n"
     ]
    },
    {
     "data": {
      "text/html": [
       "<img src=\"https://image.thenaturalsapphirecompany.com/nsc/sapphire/s10065/image/certified-natural-ceylon(srilanka)-pear-peach-sapphire-2.0800-cts-s10065-1-full.jpg\" width=\"400\"/>"
      ],
      "text/plain": [
       "<IPython.core.display.Image object>"
      ]
     },
     "metadata": {},
     "output_type": "display_data"
    },
    {
     "name": "stdout",
     "output_type": "stream",
     "text": [
      "https://www.thenaturalsapphirecompany.com/1.48ct-madagascar-pear-peach-sapphire-u16346-/\n",
      "Peach Sapphire - Pear 1.48 Ct. #U16346\n",
      "Distance: 9.831205419479346\n",
      "Price per length: 252.10176991150445\n",
      "Price: 2279.0\n",
      "Dims: 9.04 x 6.6 x 3.4\n",
      "Color: Peach\n",
      "Treatments: No Enhancement\n"
     ]
    },
    {
     "data": {
      "text/html": [
       "<img src=\"https://image.thenaturalsapphirecompany.com/nsc/sapphire/u16346/image/certified-natural-untreated-madagascar-pear-peach-sapphire-1.4800-cts-u16346-1-full.jpg\" width=\"400\"/>"
      ],
      "text/plain": [
       "<IPython.core.display.Image object>"
      ]
     },
     "metadata": {},
     "output_type": "display_data"
    },
    {
     "name": "stdout",
     "output_type": "stream",
     "text": [
      "https://www.thenaturalsapphirecompany.com/2.07ct-ceylon-sri-lanka-oval-peach-sapphire-u16982-/\n",
      "Peach Sapphire - Oval 2.07 Ct. #U16982\n",
      "Distance: 9.875140505329535\n",
      "Price per length: 259.6351197263398\n",
      "Price: 2277.0\n",
      "Dims: 8.77 x 7.22 x 4.18\n",
      "Color: Peach\n",
      "Treatments: No Enhancement\n"
     ]
    },
    {
     "data": {
      "text/html": [
       "<img src=\"https://image.thenaturalsapphirecompany.com/nsc/sapphire/u16982/image/certified-natural-untreated-ceylon(srilanka)-oval-peach-sapphire-2.0700-cts-u16982-1-full.jpg\" width=\"400\"/>"
      ],
      "text/plain": [
       "<IPython.core.display.Image object>"
      ]
     },
     "metadata": {},
     "output_type": "display_data"
    },
    {
     "name": "stdout",
     "output_type": "stream",
     "text": [
      "https://www.thenaturalsapphirecompany.com/2.00ct-ceylon-sri-lanka-oval-peach-sapphire-s12614-/\n",
      "Peach Sapphire - Oval 2.00 Ct. #S12614\n",
      "Distance: 8.5022996889077\n",
      "Price per length: 279.26960257787323\n",
      "Price: 2600.0\n",
      "Dims: 9.31 x 7.09 x 3.92\n",
      "Color: Peach\n",
      "Treatments: Heated\n"
     ]
    },
    {
     "data": {
      "text/html": [
       "<img src=\"https://image.thenaturalsapphirecompany.com/nsc/sapphire/s12614/image/certified-natural-ceylon(srilanka)-oval-peach-sapphire-2.0000-cts-s12614-1-full.jpg\" width=\"400\"/>"
      ],
      "text/plain": [
       "<IPython.core.display.Image object>"
      ]
     },
     "metadata": {},
     "output_type": "display_data"
    },
    {
     "name": "stdout",
     "output_type": "stream",
     "text": [
      "https://www.thenaturalsapphirecompany.com/1.72ct-ceylon-sri-lanka-pear-padparadscha-sapphire-s13854-/\n",
      "Padparadscha Sapphire - Pear 1.72 Ct. #S13854\n",
      "Distance: 10.781980337581773\n",
      "Price per length: 286.35838150289015\n",
      "Price: 2477.0\n",
      "Dims: 8.65 x 6.55 x 3.92\n",
      "Color: Padparadscha (Pinkish-Orange / Orangish-Pink)\n",
      "Treatments: No Enhancement\n"
     ]
    },
    {
     "data": {
      "text/html": [
       "<img src=\"https://image.thenaturalsapphirecompany.com/nsc/sapphire/s13854/image/certified-natural-untreated-ceylon(srilanka)-pear-padparadscha-sapphire-1.7200-cts-s13854-1-full.jpg\" width=\"400\"/>"
      ],
      "text/plain": [
       "<IPython.core.display.Image object>"
      ]
     },
     "metadata": {},
     "output_type": "display_data"
    },
    {
     "name": "stdout",
     "output_type": "stream",
     "text": [
      "https://www.thenaturalsapphirecompany.com/2.02ct-madagascar-oval-peach-sapphire-s18665-/\n",
      "Peach Sapphire - Oval 2.02 Ct. #S18665\n",
      "Distance: 9.496320340005388\n",
      "Price per length: 287.9385964912281\n",
      "Price: 2626.0\n",
      "Dims: 9.12 x 6.54 x 3.95\n",
      "Color: Peach\n",
      "Treatments: Heated\n"
     ]
    },
    {
     "data": {
      "text/html": [
       "<img src=\"https://image.thenaturalsapphirecompany.com/nsc/sapphire/s18665/image/certified-natural-madagascar-oval-peach-sapphire-2.0200-cts-s18665-1-full.jpg\" width=\"400\"/>"
      ],
      "text/plain": [
       "<IPython.core.display.Image object>"
      ]
     },
     "metadata": {},
     "output_type": "display_data"
    },
    {
     "name": "stdout",
     "output_type": "stream",
     "text": [
      "https://www.thenaturalsapphirecompany.com/1.01ct-madagascar-pear-padparadscha-sapphire-s12063-/\n",
      "Padparadscha Sapphire - Pear 1.01 Ct. #S12063\n",
      "Distance: 12.764869760401005\n",
      "Price per length: 293.2636469221835\n",
      "Price: 2525.0\n",
      "Dims: 8.61 x 5.05 x 3.14\n",
      "Color: Padparadscha (Pinkish-Orange / Orangish-Pink)\n",
      "Treatments: Heated\n"
     ]
    },
    {
     "data": {
      "text/html": [
       "<img src=\"https://image.thenaturalsapphirecompany.com/nsc/sapphire/s12063/image/certified-natural-madagascar-pear-padparadscha-sapphire-1.0100-cts-s12063-1-full.jpg\" width=\"400\"/>"
      ],
      "text/plain": [
       "<IPython.core.display.Image object>"
      ]
     },
     "metadata": {},
     "output_type": "display_data"
    },
    {
     "name": "stdout",
     "output_type": "stream",
     "text": [
      "https://www.thenaturalsapphirecompany.com/2.30ct-ceylon-sri-lanka-oval-peach-sapphire-s18072-/\n",
      "Peach Sapphire - Oval 2.30 Ct. #S18072\n",
      "Distance: 9.339694855829073\n",
      "Price per length: 301.6759776536313\n",
      "Price: 2700.0\n",
      "Dims: 8.95 x 7.17 x 4.34\n",
      "Color: Peach\n",
      "Treatments: Heated\n"
     ]
    },
    {
     "data": {
      "text/html": [
       "<img src=\"https://image.thenaturalsapphirecompany.com/nsc/sapphire/s18072/image/certified-natural-ceylon(srilanka)-oval-peach-sapphire-2.3000-cts-s18072-1-full.jpg\" width=\"400\"/>"
      ],
      "text/plain": [
       "<IPython.core.display.Image object>"
      ]
     },
     "metadata": {},
     "output_type": "display_data"
    },
    {
     "name": "stdout",
     "output_type": "stream",
     "text": [
      "https://www.thenaturalsapphirecompany.com/2.58ct-ceylon-sri-lanka-pear-peach-sapphire-s9560-/\n",
      "Peach Sapphire - Pear 2.58 Ct. #S9560\n",
      "Distance: 4.049333278454614\n",
      "Price per length: 328.80203908241293\n",
      "Price: 3870.0\n",
      "Dims: 11.77 x 6.98 x 4.35\n",
      "Color: Peach\n",
      "Treatments: Heated\n"
     ]
    },
    {
     "data": {
      "text/html": [
       "<img src=\"https://image.thenaturalsapphirecompany.com/nsc/sapphire/s9560/image/certified-natural-ceylon(srilanka)-pear-peach-sapphire-2.5800-cts-s9560-1-full.jpg\" width=\"400\"/>"
      ],
      "text/plain": [
       "<IPython.core.display.Image object>"
      ]
     },
     "metadata": {},
     "output_type": "display_data"
    },
    {
     "name": "stdout",
     "output_type": "stream",
     "text": [
      "https://www.thenaturalsapphirecompany.com/2.20ct-ceylon-sri-lanka-cushion-peach-sapphire-u15666-/\n",
      "Peach Sapphire - Cushion 2.20 Ct. #U15666\n",
      "Distance: 10.272920714188345\n",
      "Price per length: 331.0185185185185\n",
      "Price: 2860.0\n",
      "Dims: 8.64 x 7.09 x 4.44\n",
      "Color: Peach\n",
      "Treatments: No Enhancement\n"
     ]
    },
    {
     "data": {
      "text/html": [
       "<img src=\"https://image.thenaturalsapphirecompany.com/nsc/sapphire/u15666/image/certified-natural-untreated-ceylon(srilanka)-cushion-peach-sapphire-2.2000-cts-u15666-1-full.jpg\" width=\"400\"/>"
      ],
      "text/plain": [
       "<IPython.core.display.Image object>"
      ]
     },
     "metadata": {},
     "output_type": "display_data"
    },
    {
     "name": "stdout",
     "output_type": "stream",
     "text": [
      "https://www.thenaturalsapphirecompany.com/1.94ct-ceylon-sri-lanka-pear-padparadscha-sapphire-s8256-/\n",
      "Padparadscha Sapphire - Pear 1.94 Ct. #S8256\n",
      "Distance: 9.38925449649758\n",
      "Price per length: 344.1241685144124\n",
      "Price: 3104.0\n",
      "Dims: 9.02 x 7.03 x 3.82\n",
      "Color: Padparadscha (Pinkish-Orange / Orangish-Pink)\n",
      "Treatments: No Enhancement\n"
     ]
    },
    {
     "data": {
      "text/html": [
       "<img src=\"https://image.thenaturalsapphirecompany.com/nsc/sapphire/s8256/image/certified-natural-untreated-ceylon(srilanka)-pear-padparadscha-sapphire-1.9400-cts-s8256-1-full.jpg\" width=\"400\"/>"
      ],
      "text/plain": [
       "<IPython.core.display.Image object>"
      ]
     },
     "metadata": {},
     "output_type": "display_data"
    },
    {
     "name": "stdout",
     "output_type": "stream",
     "text": [
      "https://www.thenaturalsapphirecompany.com/2.17ct-ceylon-sri-lanka-cushion-peach-sapphire-u15667-/\n",
      "Peach Sapphire - Cushion 2.17 Ct. #U15667\n",
      "Distance: 10.17756847188954\n",
      "Price per length: 345.2272727272727\n",
      "Price: 3038.0\n",
      "Dims: 8.8 x 6.75 x 3.98\n",
      "Color: Peach\n",
      "Treatments: No Enhancement\n"
     ]
    },
    {
     "data": {
      "text/html": [
       "<img src=\"https://image.thenaturalsapphirecompany.com/nsc/sapphire/u15667/image/certified-natural-untreated-ceylon(srilanka)-cushion-peach-sapphire-2.1700-cts-u15667-1-full.jpg\" width=\"400\"/>"
      ],
      "text/plain": [
       "<IPython.core.display.Image object>"
      ]
     },
     "metadata": {},
     "output_type": "display_data"
    },
    {
     "name": "stdout",
     "output_type": "stream",
     "text": [
      "https://www.thenaturalsapphirecompany.com/2.77ct-ceylon-sri-lanka-pear-peach-sapphire-u14631-/\n",
      "Peach Sapphire - Pear 2.77 Ct. #U14631\n",
      "Distance: 5.782006572116639\n",
      "Price per length: 352.8301886792453\n",
      "Price: 3740.0\n",
      "Dims: 10.6 x 6.49 x 4.87\n",
      "Color: Peach\n",
      "Treatments: No Enhancement\n"
     ]
    },
    {
     "data": {
      "text/html": [
       "<img src=\"https://image.thenaturalsapphirecompany.com/nsc/sapphire/u14631/image/certified-natural-untreated-ceylon-pear-peach-sapphire-2.7700-cts-u14631-1-full.jpg\" width=\"400\"/>"
      ],
      "text/plain": [
       "<IPython.core.display.Image object>"
      ]
     },
     "metadata": {},
     "output_type": "display_data"
    },
    {
     "name": "stdout",
     "output_type": "stream",
     "text": [
      "https://www.thenaturalsapphirecompany.com/2.89ct-ceylon-sri-lanka-cushion-peach-sapphire-s11352-/\n",
      "Peach Sapphire - Cushion 2.89 Ct. #S11352\n",
      "Distance: 5.768231964822498\n",
      "Price per length: 368.3241252302026\n",
      "Price: 4000.0\n",
      "Dims: 10.86 x 6.66 x 3.41\n",
      "Color: Peach\n",
      "Treatments: No Enhancement\n"
     ]
    },
    {
     "data": {
      "text/html": [
       "<img src=\"https://image.thenaturalsapphirecompany.com/nsc/sapphire/s11352/image/certified-natural-untreated-ceylon(srilanka)-cushion-padparadscha-sapphire-2.8900-cts-s11352-1-full.jpg\" width=\"400\"/>"
      ],
      "text/plain": [
       "<IPython.core.display.Image object>"
      ]
     },
     "metadata": {},
     "output_type": "display_data"
    },
    {
     "name": "stdout",
     "output_type": "stream",
     "text": [
      "https://www.thenaturalsapphirecompany.com/2.02ct-ceylon-sri-lanka-cushion-padparadscha-sapphire-s11151-/\n",
      "Padparadscha Sapphire - Cushion 2.02 Ct. #S11151\n",
      "Distance: 10.614193327804049\n",
      "Price per length: 369.37142857142857\n",
      "Price: 3232.0\n",
      "Dims: 8.75 x 6.49 x 3.72\n",
      "Color: Padparadscha (Pinkish-Orange / Orangish-Pink)\n",
      "Treatments: Heated\n"
     ]
    },
    {
     "data": {
      "text/html": [
       "<img src=\"https://image.thenaturalsapphirecompany.com/nsc/sapphire/s11151/image/certified-natural-ceylon(srilanka)-cushion-padparadscha-sapphire-2.0200-cts-s11151-1-full.jpg\" width=\"400\"/>"
      ],
      "text/plain": [
       "<IPython.core.display.Image object>"
      ]
     },
     "metadata": {},
     "output_type": "display_data"
    },
    {
     "name": "stdout",
     "output_type": "stream",
     "text": [
      "https://www.thenaturalsapphirecompany.com/2.56ct-ceylon-sri-lanka-oval-peach-sapphire-s9850-/\n",
      "Peach Sapphire - Oval 2.56 Ct. #S9850\n",
      "Distance: 5.604275153844609\n",
      "Price per length: 371.83513248282634\n",
      "Price: 3789.0\n",
      "Dims: 10.19 x 7.55 x 4.34\n",
      "Color: Peach\n",
      "Treatments: Heated\n"
     ]
    },
    {
     "data": {
      "text/html": [
       "<img src=\"https://image.thenaturalsapphirecompany.com/nsc/sapphire/s9850/image/certified-natural-ceylon(srilanka)-oval-peach-sapphire-2.5600-cts-s9850-1-full.jpg\" width=\"400\"/>"
      ],
      "text/plain": [
       "<IPython.core.display.Image object>"
      ]
     },
     "metadata": {},
     "output_type": "display_data"
    },
    {
     "name": "stdout",
     "output_type": "stream",
     "text": [
      "https://www.thenaturalsapphirecompany.com/1.24ct-ceylon-sri-lanka-pear-padparadscha-sapphire-s17716-/\n",
      "Padparadscha Sapphire - Pear 1.24 Ct. #S17716\n",
      "Distance: 11.813441496871265\n",
      "Price per length: 373.1481481481481\n",
      "Price: 3224.0\n",
      "Dims: 8.64 x 5.68 x 3.48\n",
      "Color: Padparadscha (Pinkish-Orange / Orangish-Pink)\n",
      "Treatments: No Enhancement\n"
     ]
    },
    {
     "data": {
      "text/html": [
       "<img src=\"https://image.thenaturalsapphirecompany.com/nsc/sapphire/s17716/image/certified-natural-untreated-ceylon(srilanka)-pear-padparadscha-sapphire-1.2400-cts-s17716-1-full.jpg\" width=\"400\"/>"
      ],
      "text/plain": [
       "<IPython.core.display.Image object>"
      ]
     },
     "metadata": {},
     "output_type": "display_data"
    },
    {
     "name": "stdout",
     "output_type": "stream",
     "text": [
      "https://www.thenaturalsapphirecompany.com/1.59ct-ceylon-sri-lanka-pear-padparadscha-sapphire-s8195-/\n",
      "Padparadscha Sapphire - Pear 1.59 Ct. #S8195\n",
      "Distance: 10.267696918004543\n",
      "Price per length: 378.6108048511576\n",
      "Price: 3434.0\n",
      "Dims: 9.07 x 5.92 x 4.1\n",
      "Color: Padparadscha (Pinkish-Orange / Orangish-Pink)\n",
      "Treatments: Heated\n"
     ]
    },
    {
     "data": {
      "text/html": [
       "<img src=\"https://image.thenaturalsapphirecompany.com/nsc/sapphire/s8195/image/certified-natural-ceylon(srilanka)-pear-pink-sapphire-1.5900-cts-s8195-1-full.jpg\" width=\"400\"/>"
      ],
      "text/plain": [
       "<IPython.core.display.Image object>"
      ]
     },
     "metadata": {},
     "output_type": "display_data"
    },
    {
     "name": "stdout",
     "output_type": "stream",
     "text": [
      "https://www.thenaturalsapphirecompany.com/3.53ct-ceylon-sri-lanka-oval-peach-sapphire-s18549-/\n",
      "Peach Sapphire - Oval 3.53 Ct. #S18549\n",
      "Distance: 7.529601583085256\n",
      "Price per length: 378.75536480686696\n",
      "Price: 3530.0\n",
      "Dims: 9.32 x 8.04 x 5.69\n",
      "Color: Peach\n",
      "Treatments: No Enhancement\n"
     ]
    },
    {
     "data": {
      "text/html": [
       "<img src=\"https://image.thenaturalsapphirecompany.com/nsc/sapphire/s18549/image/certified-natural-untreated-ceylon(srilanka)-oval-peach-sapphire-3.5300-cts-s18549-1-full.jpg\" width=\"400\"/>"
      ],
      "text/plain": [
       "<IPython.core.display.Image object>"
      ]
     },
     "metadata": {},
     "output_type": "display_data"
    },
    {
     "name": "stdout",
     "output_type": "stream",
     "text": [
      "https://www.thenaturalsapphirecompany.com/1.97ct-madagascar-oval-padparadscha-sapphire-pa4123-/\n",
      "Padparadscha Sapphire - Oval 1.97 Ct. #PA4123\n",
      "Distance: 10.715311474707581\n",
      "Price per length: 384.5005740528128\n",
      "Price: 3349.0\n",
      "Dims: 8.71 x 6.45 x 3.88\n",
      "Color: Padparadscha (Pinkish-Orange / Orangish-Pink)\n",
      "Treatments: Heated\n"
     ]
    },
    {
     "data": {
      "text/html": [
       "<img src=\"https://image.thenaturalsapphirecompany.com/nsc/sapphire/pa4123/image/certified-natural-madagascar-oval-padparadscha-sapphire-1.9700-cts-pa4123-1-full.jpg\" width=\"400\"/>"
      ],
      "text/plain": [
       "<IPython.core.display.Image object>"
      ]
     },
     "metadata": {},
     "output_type": "display_data"
    },
    {
     "name": "stdout",
     "output_type": "stream",
     "text": [
      "https://www.thenaturalsapphirecompany.com/3.54ct-ceylon-sri-lanka-radiant-peach-sapphire-u9103-/\n",
      "Peach Sapphire - Radiant 3.54 Ct. #U9103\n",
      "Distance: 5.454530227251472\n",
      "Price per length: 390.16881827209534\n",
      "Price: 3929.0\n",
      "Dims: 10.07 x 7.86 x 5.09\n",
      "Color: Peach\n",
      "Treatments: No Enhancement\n"
     ]
    },
    {
     "data": {
      "text/html": [
       "<img src=\"https://image.thenaturalsapphirecompany.com/nsc/sapphire/u9103/image/certified-natural-untreated-ceylon-radiant-peach-sapphire-3.5400-cts-u9103-1-full.jpg\" width=\"400\"/>"
      ],
      "text/plain": [
       "<IPython.core.display.Image object>"
      ]
     },
     "metadata": {},
     "output_type": "display_data"
    },
    {
     "name": "stdout",
     "output_type": "stream",
     "text": [
      "https://www.thenaturalsapphirecompany.com/2.57ct-madagascar-oval-padparadscha-sapphire-pa3827-/\n",
      "Padparadscha Sapphire - Oval 2.57 Ct. #PA3827\n",
      "Distance: 6.962585726581755\n",
      "Price per length: 391.2551440329218\n",
      "Price: 3803.0\n",
      "Dims: 9.72 x 7.53 x 4.17\n",
      "Color: Padparadscha (Pinkish-Orange / Orangish-Pink)\n",
      "Treatments: No Enhancement\n"
     ]
    },
    {
     "data": {
      "text/html": [
       "<img src=\"https://image.thenaturalsapphirecompany.com/nsc/sapphire/pa3827/image/certified-natural-untreated-ceylon-oval-padparadscha-sapphire-2.5800-cts-pa3827-1-full.jpg\" width=\"400\"/>"
      ],
      "text/plain": [
       "<IPython.core.display.Image object>"
      ]
     },
     "metadata": {},
     "output_type": "display_data"
    },
    {
     "name": "stdout",
     "output_type": "stream",
     "text": [
      "https://www.thenaturalsapphirecompany.com/3.03ct-ceylon-sri-lanka-oval-peach-sapphire-u17397-/\n",
      "Peach Sapphire - Oval 3.03 Ct. #U17397\n",
      "Distance: 4.8103430231117645\n",
      "Price per length: 403.10981535471336\n",
      "Price: 4148.0\n",
      "Dims: 10.29 x 8.11 x 4.83\n",
      "Color: Peach\n",
      "Treatments: No Enhancement\n"
     ]
    },
    {
     "data": {
      "text/html": [
       "<img src=\"https://image.thenaturalsapphirecompany.com/nsc/sapphire/u17397/image/certified-natural-untreated-ceylon(srilanka)-oval-peach-sapphire-3.0300-cts-u17397-1-full.jpg\" width=\"400\"/>"
      ],
      "text/plain": [
       "<IPython.core.display.Image object>"
      ]
     },
     "metadata": {},
     "output_type": "display_data"
    },
    {
     "name": "stdout",
     "output_type": "stream",
     "text": [
      "https://www.thenaturalsapphirecompany.com/1.14ct-ceylon-sri-lanka-pear-padparadscha-sapphire-s13817-/\n",
      "Padparadscha Sapphire - Pear 1.14 Ct. #S13817\n",
      "Distance: 11.072939989000213\n",
      "Price per length: 411.7381489841987\n",
      "Price: 3648.0\n",
      "Dims: 8.86 x 5.91 x 3.21\n",
      "Color: Padparadscha (Pinkish-Orange / Orangish-Pink)\n",
      "Treatments: No Enhancement\n"
     ]
    },
    {
     "data": {
      "text/html": [
       "<img src=\"https://image.thenaturalsapphirecompany.com/nsc/sapphire/s13817/image/certified-natural-untreated-ceylon(srilanka)-pear-padparadscha-sapphire-1.1400-cts-s13817-1-full.jpg\" width=\"400\"/>"
      ],
      "text/plain": [
       "<IPython.core.display.Image object>"
      ]
     },
     "metadata": {},
     "output_type": "display_data"
    },
    {
     "name": "stdout",
     "output_type": "stream",
     "text": [
      "https://www.thenaturalsapphirecompany.com/1.30ct-madagascar-pear-padparadscha-sapphire-s14264-/\n",
      "Padparadscha Sapphire - Pear 1.30 Ct. #S14264\n",
      "Distance: 10.920943182710918\n",
      "Price per length: 414.4295302013423\n",
      "Price: 3705.0\n",
      "Dims: 8.94 x 5.8 x 3.46\n",
      "Color: Padparadscha (Pinkish-Orange / Orangish-Pink)\n",
      "Treatments: No Enhancement\n"
     ]
    },
    {
     "data": {
      "text/html": [
       "<img src=\"https://image.thenaturalsapphirecompany.com/nsc/sapphire/s14264/image/certified-natural-untreated-madagascar-pear-padparadscha-sapphire-1.3000-cts-s14264-1-full.jpg\" width=\"400\"/>"
      ],
      "text/plain": [
       "<IPython.core.display.Image object>"
      ]
     },
     "metadata": {},
     "output_type": "display_data"
    },
    {
     "name": "stdout",
     "output_type": "stream",
     "text": [
      "https://www.thenaturalsapphirecompany.com/3.90ct-ceylon-sri-lanka-pear-peach-sapphire-s8151-/\n",
      "Peach Sapphire - Pear 3.90 Ct. #S8151\n",
      "Distance: 7.895353063669793\n",
      "Price per length: 417.8571428571428\n",
      "Price: 5850.0\n",
      "Dims: 14.0 x 7.74 x 4.5\n",
      "Color: Peach\n",
      "Treatments: Heated\n"
     ]
    },
    {
     "data": {
      "text/html": [
       "<img src=\"https://image.thenaturalsapphirecompany.com/nsc/sapphire/s8151/image/certified-natural-ceylon(srilanka)-pear-pink-sapphire-3.9000-cts-s8151-1-full.jpg\" width=\"400\"/>"
      ],
      "text/plain": [
       "<IPython.core.display.Image object>"
      ]
     },
     "metadata": {},
     "output_type": "display_data"
    },
    {
     "name": "stdout",
     "output_type": "stream",
     "text": [
      "https://www.thenaturalsapphirecompany.com/3.03ct-ceylon-sri-lanka-oval-peach-sapphire-s13258-/\n",
      "Peach Sapphire - Oval 3.03 Ct. #S13258\n",
      "Distance: 8.075729069254368\n",
      "Price per length: 419.2307692307693\n",
      "Price: 3924.0\n",
      "Dims: 9.36 x 7.02 x 5.18\n",
      "Color: Peach\n",
      "Treatments: No Enhancement\n"
     ]
    },
    {
     "data": {
      "text/html": [
       "<img src=\"https://image.thenaturalsapphirecompany.com/nsc/sapphire/s13258/image/certified-natural-untreated-ceylon(srilanka)-oval-peach-sapphire-3.0300-cts-s13258-1-full.jpg\" width=\"400\"/>"
      ],
      "text/plain": [
       "<IPython.core.display.Image object>"
      ]
     },
     "metadata": {},
     "output_type": "display_data"
    },
    {
     "name": "stdout",
     "output_type": "stream",
     "text": [
      "https://www.thenaturalsapphirecompany.com/1.75ct-ceylon-sri-lanka-oval-padparadscha-sapphire-s6420-/\n",
      "Padparadscha Sapphire - Oval 1.75 Ct. #S6420\n",
      "Distance: 10.768639654106735\n",
      "Price per length: 434.5372460496614\n",
      "Price: 3850.0\n",
      "Dims: 8.86 x 6.03 x 3.77\n",
      "Color: Padparadscha (Pinkish-Orange / Orangish-Pink)\n",
      "Treatments: No Enhancement\n"
     ]
    },
    {
     "data": {
      "text/html": [
       "<img src=\"https://image.thenaturalsapphirecompany.com/nsc/sapphire/s6420/image/certified-natural-untreated-ceylon(srilanka)-oval-padparadscha-sapphire-1.7500-cts-s6420-1-full.jpg\" width=\"400\"/>"
      ],
      "text/plain": [
       "<IPython.core.display.Image object>"
      ]
     },
     "metadata": {},
     "output_type": "display_data"
    },
    {
     "name": "stdout",
     "output_type": "stream",
     "text": [
      "https://www.thenaturalsapphirecompany.com/1.51ct-ceylon-sri-lanka-pear-padparadscha-sapphire-s18867-/\n",
      "Padparadscha Sapphire - Pear 1.51 Ct. #S18867\n",
      "Distance: 11.289269241186515\n",
      "Price per length: 444.4318181818182\n",
      "Price: 3911.0\n",
      "Dims: 8.8 x 5.61 x 4.27\n",
      "Color: Padparadscha (Pinkish-Orange / Orangish-Pink)\n",
      "Treatments: No Enhancement\n"
     ]
    },
    {
     "data": {
      "text/html": [
       "<img src=\"https://image.thenaturalsapphirecompany.com/nsc/sapphire/s18867/image/certified-natural-untreated-ceylon(srilanka)-pear-padparadscha-sapphire-1.5100-cts-s18867-1-full.jpg\" width=\"400\"/>"
      ],
      "text/plain": [
       "<IPython.core.display.Image object>"
      ]
     },
     "metadata": {},
     "output_type": "display_data"
    },
    {
     "name": "stdout",
     "output_type": "stream",
     "text": [
      "https://www.thenaturalsapphirecompany.com/2.55ct-ceylon-sri-lanka-oval-peach-sapphire-s14047-/\n",
      "Peach Sapphire - Oval 2.55 Ct. #S14047\n",
      "Distance: 9.748820441468803\n",
      "Price per length: 453.80249716231555\n",
      "Price: 3998.0\n",
      "Dims: 8.81 x 7.18 x 4.31\n",
      "Color: Peach\n",
      "Treatments: No Enhancement\n"
     ]
    },
    {
     "data": {
      "text/html": [
       "<img src=\"https://image.thenaturalsapphirecompany.com/nsc/sapphire/s14047/image/certified-natural-untreated-ceylon(srilanka)-oval-peach-sapphire-2.5500-cts-s14047-1-full.jpg\" width=\"400\"/>"
      ],
      "text/plain": [
       "<IPython.core.display.Image object>"
      ]
     },
     "metadata": {},
     "output_type": "display_data"
    },
    {
     "name": "stdout",
     "output_type": "stream",
     "text": [
      "https://www.thenaturalsapphirecompany.com/2.04ct-ceylon-sri-lanka-oval-peach-sapphire-u16518-/\n",
      "Peach Sapphire - Oval 2.04 Ct. #U16518\n",
      "Distance: 10.49776166618389\n",
      "Price per length: 462.96728971962614\n",
      "Price: 3963.0\n",
      "Dims: 8.56 x 7.22 x 4.16\n",
      "Color: Peach\n",
      "Treatments: No Enhancement\n"
     ]
    },
    {
     "data": {
      "text/html": [
       "<img src=\"https://image.thenaturalsapphirecompany.com/nsc/sapphire/u16518/image/certified-natural-untreated-ceylon(srilanka)-oval-peach-sapphire-2.0400-cts-u16518-1-full.jpg\" width=\"400\"/>"
      ],
      "text/plain": [
       "<IPython.core.display.Image object>"
      ]
     },
     "metadata": {},
     "output_type": "display_data"
    },
    {
     "name": "stdout",
     "output_type": "stream",
     "text": [
      "https://www.thenaturalsapphirecompany.com/2.05ct-ceylon-sri-lanka-oval-peach-sapphire-s16082-/\n",
      "Peach Sapphire - Oval 2.05 Ct. #S16082\n",
      "Distance: 10.790139016713365\n",
      "Price per length: 468.6987104337632\n",
      "Price: 3998.0\n",
      "Dims: 8.53 x 6.79 x 4.5\n",
      "Color: Peach\n",
      "Treatments: Heated\n"
     ]
    },
    {
     "data": {
      "text/html": [
       "<img src=\"https://image.thenaturalsapphirecompany.com/nsc/sapphire/s16082/image/certified-natural-ceylon(srilanka)-oval-peach-sapphire-2.0500-cts-s16082-1-full.jpg\" width=\"400\"/>"
      ],
      "text/plain": [
       "<IPython.core.display.Image object>"
      ]
     },
     "metadata": {},
     "output_type": "display_data"
    },
    {
     "name": "stdout",
     "output_type": "stream",
     "text": [
      "https://www.thenaturalsapphirecompany.com/2.51ct-ceylon-sri-lanka-radiant-peach-sapphire-s11698-/\n",
      "Peach Sapphire - Radiant 2.51 Ct. #S11698\n",
      "Distance: 9.324033461973418\n",
      "Price per length: 468.7566418703507\n",
      "Price: 4411.0\n",
      "Dims: 9.41 x 5.94 x 4.4\n",
      "Color: Peach\n",
      "Treatments: Heated\n"
     ]
    },
    {
     "data": {
      "text/html": [
       "<img src=\"https://image.thenaturalsapphirecompany.com/nsc/sapphire/s11698/image/certified-natural-ceylon(srilanka)-radiant-peach-sapphire-2.5100-cts-s11698-1-full.jpg\" width=\"400\"/>"
      ],
      "text/plain": [
       "<IPython.core.display.Image object>"
      ]
     },
     "metadata": {},
     "output_type": "display_data"
    },
    {
     "name": "stdout",
     "output_type": "stream",
     "text": [
      "https://www.thenaturalsapphirecompany.com/1.54ct-ceylon-sri-lanka-oval-padparadscha-sapphire-pa3215-/\n",
      "Padparadscha Sapphire - Oval 1.54 Ct. #PA3215\n",
      "Distance: 10.478196409688072\n",
      "Price per length: 470.7423580786026\n",
      "Price: 4312.0\n",
      "Dims: 9.16 x 5.76 x 3.32\n",
      "Color: Padparadscha (Pinkish-Orange / Orangish-Pink)\n",
      "Treatments: No Enhancement\n"
     ]
    },
    {
     "data": {
      "text/html": [
       "<img src=\"https://image.thenaturalsapphirecompany.com/nsc/sapphire/pa3215/image/certified-natural-untreated-ceylon-oval-padparadscha-sapphire-1.5400-cts-pa3215-1-full.jpg\" width=\"400\"/>"
      ],
      "text/plain": [
       "<IPython.core.display.Image object>"
      ]
     },
     "metadata": {},
     "output_type": "display_data"
    },
    {
     "name": "stdout",
     "output_type": "stream",
     "text": [
      "https://www.thenaturalsapphirecompany.com/1.54ct-madagascar-pear-padparadscha-sapphire-s12229-/\n",
      "Padparadscha Sapphire - Pear 1.54 Ct. #S12229\n",
      "Distance: 11.21222101102186\n",
      "Price per length: 487.3432155074116\n",
      "Price: 4274.0\n",
      "Dims: 8.77 x 5.85 x 3.74\n",
      "Color: Padparadscha (Pinkish-Orange / Orangish-Pink)\n",
      "Treatments: Heated\n"
     ]
    },
    {
     "data": {
      "text/html": [
       "<img src=\"https://image.thenaturalsapphirecompany.com/nsc/sapphire/s12229/image/certified-natural-madagascar-pear-padparadscha-sapphire-1.5400-cts-s12229-1-full.jpg\" width=\"400\"/>"
      ],
      "text/plain": [
       "<IPython.core.display.Image object>"
      ]
     },
     "metadata": {},
     "output_type": "display_data"
    },
    {
     "name": "stdout",
     "output_type": "stream",
     "text": [
      "https://www.thenaturalsapphirecompany.com/3.01ct-ceylon-sri-lanka-radiant-peach-sapphire-s14535-/\n",
      "Peach Sapphire - Radiant 3.01 Ct. #S14535\n",
      "Distance: 8.864248417096626\n",
      "Price per length: 488.4868421052632\n",
      "Price: 4455.0\n",
      "Dims: 9.12 x 7.03 x 4.68\n",
      "Color: Peach\n",
      "Treatments: No Enhancement\n"
     ]
    },
    {
     "data": {
      "text/html": [
       "<img src=\"https://image.thenaturalsapphirecompany.com/nsc/sapphire/s14535/image/certified-natural-untreated-ceylon(srilanka)-radiant-peach-sapphire-3.0100-cts-s14535-1-full.jpg\" width=\"400\"/>"
      ],
      "text/plain": [
       "<IPython.core.display.Image object>"
      ]
     },
     "metadata": {},
     "output_type": "display_data"
    },
    {
     "name": "stdout",
     "output_type": "stream",
     "text": [
      "https://www.thenaturalsapphirecompany.com/2.56ct-ceylon-sri-lanka-cushion-padparadscha-sapphire-s11152-/\n",
      "Padparadscha Sapphire - Cushion 2.56 Ct. #S11152\n",
      "Distance: 9.239269451639563\n",
      "Price per length: 489.0217391304348\n",
      "Price: 4499.0\n",
      "Dims: 9.2 x 6.38 x 4.75\n",
      "Color: Padparadscha (Pinkish-Orange / Orangish-Pink)\n",
      "Treatments: Heated\n"
     ]
    },
    {
     "data": {
      "text/html": [
       "<img src=\"https://image.thenaturalsapphirecompany.com/nsc/sapphire/s11152/image/certified-natural-ceylon(srilanka)-cushion-padparadscha-sapphire-2.5600-cts-s11152-1-full.jpg\" width=\"400\"/>"
      ],
      "text/plain": [
       "<IPython.core.display.Image object>"
      ]
     },
     "metadata": {},
     "output_type": "display_data"
    },
    {
     "name": "stdout",
     "output_type": "stream",
     "text": [
      "https://www.thenaturalsapphirecompany.com/1.74ct-madagascar-pear-padparadscha-sapphire-s10450-/\n",
      "Padparadscha Sapphire - Pear 1.74 Ct. #S10450\n",
      "Distance: 9.328638700260614\n",
      "Price per length: 493.2584269662922\n",
      "Price: 4829.0\n",
      "Dims: 9.79 x 5.33 x 4.66\n",
      "Color: Padparadscha (Pinkish-Orange / Orangish-Pink)\n",
      "Treatments: Heated\n"
     ]
    },
    {
     "data": {
      "text/html": [
       "<img src=\"https://image.thenaturalsapphirecompany.com/nsc/sapphire/s10450/image/certified-natural-ceylon(srilanka)-pear-padparadscha-sapphire-1.7400-cts-s10450-1-full.jpg\" width=\"400\"/>"
      ],
      "text/plain": [
       "<IPython.core.display.Image object>"
      ]
     },
     "metadata": {},
     "output_type": "display_data"
    },
    {
     "name": "stdout",
     "output_type": "stream",
     "text": [
      "https://www.thenaturalsapphirecompany.com/3.41ct-ceylon-sri-lanka-cushion-peach-sapphire-u16924-/\n",
      "Peach Sapphire - Cushion 3.41 Ct. #U16924\n",
      "Distance: 7.682375934566079\n",
      "Price per length: 505.4487179487179\n",
      "Price: 4731.0\n",
      "Dims: 9.36 x 7.84 x 4.69\n",
      "Color: Peach\n",
      "Treatments: Heated\n"
     ]
    },
    {
     "data": {
      "text/html": [
       "<img src=\"https://image.thenaturalsapphirecompany.com/nsc/sapphire/u16924/image/certified-natural-ceylon(srilanka)-cushion-peach-sapphire-3.4100-cts-u16924-1-full.jpg\" width=\"400\"/>"
      ],
      "text/plain": [
       "<IPython.core.display.Image object>"
      ]
     },
     "metadata": {},
     "output_type": "display_data"
    },
    {
     "name": "stdout",
     "output_type": "stream",
     "text": [
      "https://www.thenaturalsapphirecompany.com/2.08ct-ceylon-sri-lanka-oval-peach-sapphire-s5510-/\n",
      "Peach Sapphire - Oval 2.08 Ct. #S5510\n",
      "Distance: 9.011498210619585\n",
      "Price per length: 510.27624309392263\n",
      "Price: 4618.0\n",
      "Dims: 9.05 x 7.48 x 3.85\n",
      "Color: Peach\n",
      "Treatments: Heated\n"
     ]
    },
    {
     "data": {
      "text/html": [
       "<img src=\"https://image.thenaturalsapphirecompany.com/nsc/sapphire/s5510/image/certified-natural-ceylon(srilanka)-oval-orange-sapphire-2.0800-cts-s5510-1-full.jpg\" width=\"400\"/>"
      ],
      "text/plain": [
       "<IPython.core.display.Image object>"
      ]
     },
     "metadata": {},
     "output_type": "display_data"
    },
    {
     "name": "stdout",
     "output_type": "stream",
     "text": [
      "https://www.thenaturalsapphirecompany.com/3.09ct-ceylon-sri-lanka-oval-peach-sapphire-s7892-/\n",
      "Peach Sapphire - Oval 3.09 Ct. #S7892\n",
      "Distance: 4.701552934935434\n",
      "Price per length: 522.2115384615385\n",
      "Price: 5431.0\n",
      "Dims: 10.4 x 8.12 x 4.4\n",
      "Color: Peach\n",
      "Treatments: Heated\n"
     ]
    },
    {
     "data": {
      "text/html": [
       "<img src=\"https://image.thenaturalsapphirecompany.com/nsc/sapphire/s7892/image/certified-natural-ceylon(srilanka)-oval-peach-sapphire-3.0900-cts-s7892-1-full.jpg\" width=\"400\"/>"
      ],
      "text/plain": [
       "<IPython.core.display.Image object>"
      ]
     },
     "metadata": {},
     "output_type": "display_data"
    },
    {
     "name": "stdout",
     "output_type": "stream",
     "text": [
      "https://www.thenaturalsapphirecompany.com/1.86ct-madagascar-oval-padparadscha-sapphire-pa3793-/\n",
      "Padparadscha Sapphire - Oval 1.86 Ct. #PA3793\n",
      "Distance: 10.608491881507002\n",
      "Price per length: 531.4645308924485\n",
      "Price: 4645.0\n",
      "Dims: 8.74 x 6.4 x 4.15\n",
      "Color: Padparadscha (Pinkish-Orange / Orangish-Pink)\n",
      "Treatments: No Enhancement\n"
     ]
    },
    {
     "data": {
      "text/html": [
       "<img src=\"https://image.thenaturalsapphirecompany.com/nsc/sapphire/pa3793/image/certified-natural-untreated-madagascar-oval-padparadscha-sapphire-1.8600-cts-pa3793-1-full.jpg\" width=\"400\"/>"
      ],
      "text/plain": [
       "<IPython.core.display.Image object>"
      ]
     },
     "metadata": {},
     "output_type": "display_data"
    },
    {
     "name": "stdout",
     "output_type": "stream",
     "text": [
      "https://www.thenaturalsapphirecompany.com/3.60ct-ceylon-sri-lanka-radiant-peach-sapphire-u16918-/\n",
      "Peach Sapphire - Radiant 3.60 Ct. #U16918\n",
      "Distance: 4.57226420933874\n",
      "Price per length: 533.5532516493874\n",
      "Price: 5661.0\n",
      "Dims: 10.61 x 7.36 x 4.72\n",
      "Color: Peach\n",
      "Treatments: Heated\n"
     ]
    },
    {
     "data": {
      "text/html": [
       "<img src=\"https://image.thenaturalsapphirecompany.com/nsc/sapphire/u16918/image/certified-natural-ceylon(srilanka)-radiant-peach-sapphire-3.6000-cts-u16918-1-full.jpg\" width=\"400\"/>"
      ],
      "text/plain": [
       "<IPython.core.display.Image object>"
      ]
     },
     "metadata": {},
     "output_type": "display_data"
    },
    {
     "name": "stdout",
     "output_type": "stream",
     "text": [
      "https://www.thenaturalsapphirecompany.com/3.36ct-ceylon-sri-lanka-oval-peach-sapphire-u16238-/\n",
      "Peach Sapphire - Oval 3.36 Ct. #U16238\n",
      "Distance: 5.936530973556866\n",
      "Price per length: 535.3596757852077\n",
      "Price: 5284.0\n",
      "Dims: 9.87 x 8.08 x 5.18\n",
      "Color: Peach\n",
      "Treatments: No Enhancement\n"
     ]
    },
    {
     "data": {
      "text/html": [
       "<img src=\"https://image.thenaturalsapphirecompany.com/nsc/sapphire/u16238/image/certified-natural-untreated-ceylon(srilanka)-oval-peach-sapphire-3.3600-cts-u16238-1-full.jpg\" width=\"400\"/>"
      ],
      "text/plain": [
       "<IPython.core.display.Image object>"
      ]
     },
     "metadata": {},
     "output_type": "display_data"
    },
    {
     "name": "stdout",
     "output_type": "stream",
     "text": [
      "https://www.thenaturalsapphirecompany.com/3.06ct-madagascar-oval-padparadscha-sapphire-pa3845-/\n",
      "Padparadscha Sapphire - Oval 3.06 Ct. #PA3845\n",
      "Distance: 4.559100788532758\n",
      "Price per length: 537.0967741935484\n",
      "Price: 5661.0\n",
      "Dims: 10.54 x 8.38 x 3.94\n",
      "Color: Padparadscha (Pinkish-Orange / Orangish-Pink)\n",
      "Treatments: Heated\n"
     ]
    },
    {
     "data": {
      "text/html": [
       "<img src=\"https://image.thenaturalsapphirecompany.com/nsc/sapphire/pa3845/image/certified-natural-madagascar-oval-padparadscha-sapphire-3.0600-cts-pa3845-1-full.jpg\" width=\"400\"/>"
      ],
      "text/plain": [
       "<IPython.core.display.Image object>"
      ]
     },
     "metadata": {},
     "output_type": "display_data"
    },
    {
     "name": "stdout",
     "output_type": "stream",
     "text": [
      "https://www.thenaturalsapphirecompany.com/2.57ct-ceylon-sri-lanka-oval-peach-sapphire-s12621-/\n",
      "Peach Sapphire - Oval 2.57 Ct. #S12621\n",
      "Distance: 8.238634595611098\n",
      "Price per length: 543.1991294885746\n",
      "Price: 4992.0\n",
      "Dims: 9.19 x 7.95 x 4.4\n",
      "Color: Peach\n",
      "Treatments: Heated\n"
     ]
    },
    {
     "data": {
      "text/html": [
       "<img src=\"https://image.thenaturalsapphirecompany.com/nsc/sapphire/s12621/image/certified-natural-ceylon(srilanka)-oval-peach-sapphire-2.5700-cts-s12621-1-full.jpg\" width=\"400\"/>"
      ],
      "text/plain": [
       "<IPython.core.display.Image object>"
      ]
     },
     "metadata": {},
     "output_type": "display_data"
    },
    {
     "name": "stdout",
     "output_type": "stream",
     "text": [
      "https://www.thenaturalsapphirecompany.com/3.87ct-ceylon-sri-lanka-oval-peach-sapphire-s17160-/\n",
      "Peach Sapphire - Oval 3.87 Ct. #S17160\n",
      "Distance: 7.266849386081976\n",
      "Price per length: 547.3072861668426\n",
      "Price: 5183.0\n",
      "Dims: 9.47 x 7.5 x 5.97\n",
      "Color: Peach\n",
      "Treatments: No Enhancement\n"
     ]
    },
    {
     "data": {
      "text/html": [
       "<img src=\"https://image.thenaturalsapphirecompany.com/nsc/sapphire/s17160/image/certified-natural-untreated-ceylon(srilanka)-oval-peach-sapphire-3.8700-cts-s17160-1-full.jpg\" width=\"400\"/>"
      ],
      "text/plain": [
       "<IPython.core.display.Image object>"
      ]
     },
     "metadata": {},
     "output_type": "display_data"
    },
    {
     "name": "stdout",
     "output_type": "stream",
     "text": [
      "https://www.thenaturalsapphirecompany.com/2.57ct-ceylon-sri-lanka-pear-peach-sapphire-s14399-/\n",
      "Peach Sapphire - Pear 2.57 Ct. #S14399\n",
      "Distance: 7.907060136359152\n",
      "Price per length: 554.6129374337222\n",
      "Price: 5230.0\n",
      "Dims: 9.43 x 6.94 x 5.4\n",
      "Color: Peach\n",
      "Treatments: Heated\n"
     ]
    },
    {
     "data": {
      "text/html": [
       "<img src=\"https://image.thenaturalsapphirecompany.com/nsc/sapphire/s14399/image/certified-natural-ceylon(srilanka)-pear-peach-sapphire-2.5700-cts-s14399-1-full.jpg\" width=\"400\"/>"
      ],
      "text/plain": [
       "<IPython.core.display.Image object>"
      ]
     },
     "metadata": {},
     "output_type": "display_data"
    },
    {
     "name": "stdout",
     "output_type": "stream",
     "text": [
      "https://www.thenaturalsapphirecompany.com/3.39ct-ceylon-sri-lanka-oval-peach-sapphire-u15598-/\n",
      "Peach Sapphire - Oval 3.39 Ct. #U15598\n",
      "Distance: 5.2236385786154855\n",
      "Price per length: 559.3657086223984\n",
      "Price: 5644.0\n",
      "Dims: 10.09 x 8.02 x 5.44\n",
      "Color: Peach\n",
      "Treatments: Heated\n"
     ]
    },
    {
     "data": {
      "text/html": [
       "<img src=\"https://image.thenaturalsapphirecompany.com/nsc/sapphire/u15598/image/certified-natural-untreated-ceylon(srilanka)-oval-peach-sapphire-3.3900-cts-u15598-1-full.jpg\" width=\"400\"/>"
      ],
      "text/plain": [
       "<IPython.core.display.Image object>"
      ]
     },
     "metadata": {},
     "output_type": "display_data"
    },
    {
     "name": "stdout",
     "output_type": "stream",
     "text": [
      "https://www.thenaturalsapphirecompany.com/3.04ct-ceylon-sri-lanka-cushion-padparadscha-sapphire-s10296-/\n",
      "Padparadscha Sapphire - Cushion 3.04 Ct. #S10296\n",
      "Distance: 6.698761079483282\n",
      "Price per length: 570.3853955375254\n",
      "Price: 5624.0\n",
      "Dims: 9.86 x 7.2 x 4.54\n",
      "Color: Padparadscha (Pinkish-Orange / Orangish-Pink)\n",
      "Treatments: Heated\n"
     ]
    },
    {
     "data": {
      "text/html": [
       "<img src=\"https://image.thenaturalsapphirecompany.com/nsc/sapphire/s10296/image/certified-natural-untreated-ceylon(srilanka)-cushion-padparadscha-sapphire-3.0400-cts-s10296-1-full.jpg\" width=\"400\"/>"
      ],
      "text/plain": [
       "<IPython.core.display.Image object>"
      ]
     },
     "metadata": {},
     "output_type": "display_data"
    },
    {
     "name": "stdout",
     "output_type": "stream",
     "text": [
      "https://www.thenaturalsapphirecompany.com/4.16ct-ceylon-sri-lanka-radiant-peach-sapphire-s17090-/\n",
      "Peach Sapphire - Radiant 4.16 Ct. #S17090\n",
      "Distance: 5.472695862187119\n",
      "Price per length: 571.4851485148515\n",
      "Price: 5772.0\n",
      "Dims: 10.1 x 7.53 x 5.49\n",
      "Color: Peach\n",
      "Treatments: Heated\n"
     ]
    },
    {
     "data": {
      "text/html": [
       "<img src=\"https://image.thenaturalsapphirecompany.com/nsc/sapphire/s17090/image/certified-natural-ceylon(srilanka)-radiant-peach-sapphire-4.1600-cts-s17090-1-full.jpg\" width=\"400\"/>"
      ],
      "text/plain": [
       "<IPython.core.display.Image object>"
      ]
     },
     "metadata": {},
     "output_type": "display_data"
    },
    {
     "name": "stdout",
     "output_type": "stream",
     "text": [
      "https://www.thenaturalsapphirecompany.com/3.18ct-ceylon-sri-lanka-oval-padparadscha-sapphire-pa3881-/\n",
      "Padparadscha Sapphire - Oval 3.18 Ct. #PA3881\n",
      "Distance: 6.842996419698023\n",
      "Price per length: 575.4891864057672\n",
      "Price: 5588.0\n",
      "Dims: 9.71 x 7.25 x 5.37\n",
      "Color: Padparadscha (Pinkish-Orange / Orangish-Pink)\n",
      "Treatments: No Enhancement\n"
     ]
    },
    {
     "data": {
      "text/html": [
       "<img src=\"https://image.thenaturalsapphirecompany.com/nsc/sapphire/pa3881/image/certified-natural-untreated-ceylon-oval-padparadscha-sapphire-2.1800-cts-pa3881-1-full.jpg\" width=\"400\"/>"
      ],
      "text/plain": [
       "<IPython.core.display.Image object>"
      ]
     },
     "metadata": {},
     "output_type": "display_data"
    },
    {
     "name": "stdout",
     "output_type": "stream",
     "text": [
      "https://www.thenaturalsapphirecompany.com/4.56ct-ceylon-sri-lanka-cushion-peach-sapphire-s11836-/\n",
      "Peach Sapphire - Cushion 4.56 Ct. #S11836\n",
      "Distance: 9.47510422106269\n",
      "Price per length: 578.5467128027682\n",
      "Price: 5016.0\n",
      "Dims: 8.67 x 8.44 x 6.2\n",
      "Color: Peach\n",
      "Treatments: No Enhancement\n"
     ]
    },
    {
     "data": {
      "text/html": [
       "<img src=\"https://image.thenaturalsapphirecompany.com/nsc/sapphire/s11836/image/certified-natural-untreated-ceylon(srilanka)-cushion-peach-sapphire-4.5600-cts-s11836-1-full.jpg\" width=\"400\"/>"
      ],
      "text/plain": [
       "<IPython.core.display.Image object>"
      ]
     },
     "metadata": {},
     "output_type": "display_data"
    },
    {
     "name": "stdout",
     "output_type": "stream",
     "text": [
      "https://www.thenaturalsapphirecompany.com/5.02ct-ceylon-sri-lanka-emerald-cut-peach-sapphire-s11359-/\n",
      "Peach Sapphire - Emerald Cut 5.02 Ct. #S11359\n",
      "Distance: 4.285393797540665\n",
      "Price per length: 580.4807692307692\n",
      "Price: 6037.0\n",
      "Dims: 10.4 x 7.78 x 6.1\n",
      "Color: Peach\n",
      "Treatments: No Enhancement\n"
     ]
    },
    {
     "data": {
      "text/html": [
       "<img src=\"https://image.thenaturalsapphirecompany.com/nsc/sapphire/s11359/image/certified-natural-untreated-ceylon(srilanka)-emerald-peach(yellow-orange)-sapphire-5.0200-cts-s11359-1-full.jpg\" width=\"400\"/>"
      ],
      "text/plain": [
       "<IPython.core.display.Image object>"
      ]
     },
     "metadata": {},
     "output_type": "display_data"
    },
    {
     "name": "stdout",
     "output_type": "stream",
     "text": [
      "https://www.thenaturalsapphirecompany.com/2.50ct-madagascar-oval-peach-sapphire-u13272-/\n",
      "Peach Sapphire - Oval 2.50 Ct. #U13272\n",
      "Distance: 10.468925446291038\n",
      "Price per length: 581.4857142857143\n",
      "Price: 5088.0\n",
      "Dims: 8.75 x 6.3 x 5.18\n",
      "Color: Peach\n",
      "Treatments: No Enhancement\n"
     ]
    },
    {
     "data": {
      "text/html": [
       "<img src=\"https://image.thenaturalsapphirecompany.com/nsc/sapphire/u13272/image/certified-natural-untreated-madagascar-oval-peach-sapphire-2.5000-cts-u13272-1-full.jpg\" width=\"400\"/>"
      ],
      "text/plain": [
       "<IPython.core.display.Image object>"
      ]
     },
     "metadata": {},
     "output_type": "display_data"
    },
    {
     "name": "stdout",
     "output_type": "stream",
     "text": [
      "https://www.thenaturalsapphirecompany.com/4.00ct-ceylon-sri-lanka-oval-peach-sapphire-s4123-/\n",
      "Peach Sapphire - Oval 4.00 Ct. #S4123\n",
      "Distance: 5.253189507337423\n",
      "Price per length: 596.0899315738026\n",
      "Price: 6098.0\n",
      "Dims: 10.23 x 7.24 x 6.26\n",
      "Color: Peach\n",
      "Treatments: No Enhancement\n"
     ]
    },
    {
     "data": {
      "text/html": [
       "<img src=\"https://image.thenaturalsapphirecompany.com/nsc/sapphire/s4123/image/certified-natural-untreated-ceylon(srilanka)-oval-peach-sapphire-4.0000-cts-s4123-1-full.jpg\" width=\"400\"/>"
      ],
      "text/plain": [
       "<IPython.core.display.Image object>"
      ]
     },
     "metadata": {},
     "output_type": "display_data"
    },
    {
     "name": "stdout",
     "output_type": "stream",
     "text": [
      "https://www.thenaturalsapphirecompany.com/4.09ct-ceylon-sri-lanka-emerald-cut-peach-sapphire-s11358-/\n",
      "Peach Sapphire - Emerald Cut 4.09 Ct. #S11358\n",
      "Distance: 7.187322171713192\n",
      "Price per length: 601.1652542372882\n",
      "Price: 5675.0\n",
      "Dims: 9.44 x 8.07 x 5.47\n",
      "Color: Peach\n",
      "Treatments: No Enhancement\n"
     ]
    },
    {
     "data": {
      "text/html": [
       "<img src=\"https://image.thenaturalsapphirecompany.com/nsc/sapphire/s11358/image/certified-natural-untreated-ceylon(srilanka)-emerald-peach(yellow-orange)-sapphire-4.0900-cts-s11358-1-full.jpg\" width=\"400\"/>"
      ],
      "text/plain": [
       "<IPython.core.display.Image object>"
      ]
     },
     "metadata": {},
     "output_type": "display_data"
    },
    {
     "name": "stdout",
     "output_type": "stream",
     "text": [
      "https://www.thenaturalsapphirecompany.com/6.16ct-ceylon-sri-lanka-oval-peach-sapphire-u15137-/\n",
      "Peach Sapphire - Oval 6.16 Ct. #U15137\n",
      "Distance: 3.324981202954385\n",
      "Price per length: 620.4673650282031\n",
      "Price: 7700.0\n",
      "Dims: 12.41 x 9.45 x 6.66\n",
      "Color: Peach\n",
      "Treatments: No Enhancement\n"
     ]
    },
    {
     "data": {
      "text/html": [
       "<img src=\"https://image.thenaturalsapphirecompany.com/nsc/sapphire/u15137/image/certified-natural-untreated-ceylon(srilanka)-oval-peach-sapphire-6.1600-cts-u15137-1-full.jpg\" width=\"400\"/>"
      ],
      "text/plain": [
       "<IPython.core.display.Image object>"
      ]
     },
     "metadata": {},
     "output_type": "display_data"
    },
    {
     "name": "stdout",
     "output_type": "stream",
     "text": [
      "https://www.thenaturalsapphirecompany.com/3.24ct-ceylon-sri-lanka-cushion-peach-sapphire-u13229-/\n",
      "Peach Sapphire - Cushion 3.24 Ct. #U13229\n",
      "Distance: 8.524400272159914\n",
      "Price per length: 627.0925110132158\n",
      "Price: 5694.0\n",
      "Dims: 9.08 x 7.58 x 5.18\n",
      "Color: Peach\n",
      "Treatments: No Enhancement\n"
     ]
    },
    {
     "data": {
      "text/html": [
       "<img src=\"https://image.thenaturalsapphirecompany.com/nsc/sapphire/u13229/image/certified-natural-untreated-ceylon-cushion-peach-sapphire-3.2400-cts-u13229-1-full.jpg\" width=\"400\"/>"
      ],
      "text/plain": [
       "<IPython.core.display.Image object>"
      ]
     },
     "metadata": {},
     "output_type": "display_data"
    },
    {
     "name": "stdout",
     "output_type": "stream",
     "text": [
      "https://www.thenaturalsapphirecompany.com/4.58ct-ceylon-sri-lanka-oval-peach-sapphire-u15484-/\n",
      "Peach Sapphire - Oval 4.58 Ct. #U15484\n",
      "Distance: 4.24645734701292\n",
      "Price per length: 655.5125725338492\n",
      "Price: 6778.0\n",
      "Dims: 10.34 x 8.67 x 6.29\n",
      "Color: Peach\n",
      "Treatments: No Enhancement\n"
     ]
    },
    {
     "data": {
      "text/html": [
       "<img src=\"https://image.thenaturalsapphirecompany.com/nsc/sapphire/u15484/image/certified-natural-untreated-ceylon(srilanka)-oval-peach-sapphire-4.5800-cts-u15484-1-full.jpg\" width=\"400\"/>"
      ],
      "text/plain": [
       "<IPython.core.display.Image object>"
      ]
     },
     "metadata": {},
     "output_type": "display_data"
    },
    {
     "name": "stdout",
     "output_type": "stream",
     "text": [
      "https://www.thenaturalsapphirecompany.com/2.02ct-madagascar-pear-padparadscha-sapphire-s13425-/\n",
      "Padparadscha Sapphire - Pear 2.02 Ct. #S13425\n",
      "Distance: 5.672248231521606\n",
      "Price per length: 681.3126709206928\n",
      "Price: 7474.0\n",
      "Dims: 10.97 x 6.44 x 3.98\n",
      "Color: Padparadscha (Pinkish-Orange / Orangish-Pink)\n",
      "Treatments: Heated\n"
     ]
    },
    {
     "data": {
      "text/html": [
       "<img src=\"https://image.thenaturalsapphirecompany.com/nsc/sapphire/s13425/image/certified-natural-madagascar-pear-padparadscha-sapphire-2.0200-cts-s13425-1-full.jpg\" width=\"400\"/>"
      ],
      "text/plain": [
       "<IPython.core.display.Image object>"
      ]
     },
     "metadata": {},
     "output_type": "display_data"
    },
    {
     "name": "stdout",
     "output_type": "stream",
     "text": [
      "https://www.thenaturalsapphirecompany.com/5.02ct-ceylon-sri-lanka-emerald-cut-peach-sapphire-u15483-/\n",
      "Peach Sapphire - Emerald Cut 5.02 Ct. #U15483\n",
      "Distance: 1.8850464185266098\n",
      "Price per length: 704.1594454072791\n",
      "Price: 8126.0\n",
      "Dims: 11.54 x 8.52 x 4.98\n",
      "Color: Peach\n",
      "Treatments: No Enhancement\n"
     ]
    },
    {
     "data": {
      "text/html": [
       "<img src=\"https://image.thenaturalsapphirecompany.com/nsc/sapphire/u15483/image/certified-natural-untreated-ceylon(srilanka)-emeraldcut-peach-sapphire-5.0200-cts-u15483-1-full.jpg\" width=\"400\"/>"
      ],
      "text/plain": [
       "<IPython.core.display.Image object>"
      ]
     },
     "metadata": {},
     "output_type": "display_data"
    },
    {
     "name": "stdout",
     "output_type": "stream",
     "text": [
      "https://www.thenaturalsapphirecompany.com/4.99ct-ceylon-sri-lanka-round-peach-sapphire-u15317-/\n",
      "Peach Sapphire - Round 4.99 Ct. #U15317\n",
      "Distance: 7.2167513466933295\n",
      "Price per length: 731.1510031678986\n",
      "Price: 6924.0\n",
      "Dims: 9.47 x 9.3 x 7.21\n",
      "Color: Peach\n",
      "Treatments: No Enhancement\n"
     ]
    },
    {
     "data": {
      "text/html": [
       "<img src=\"https://image.thenaturalsapphirecompany.com/nsc/sapphire/u15317/image/certified-natural-untreated-ceylon(srilanka)-round-peach-sapphire-4.9900-cts-u15317-1-full.jpg\" width=\"400\"/>"
      ],
      "text/plain": [
       "<IPython.core.display.Image object>"
      ]
     },
     "metadata": {},
     "output_type": "display_data"
    },
    {
     "name": "stdout",
     "output_type": "stream",
     "text": [
      "https://www.thenaturalsapphirecompany.com/1.72ct-ceylon-sri-lanka-oval-padparadscha-sapphire-pa3677-/\n",
      "Padparadscha Sapphire - Oval 1.72 Ct. #PA3677\n",
      "Distance: 11.229625995553015\n",
      "Price per length: 733.1797235023042\n",
      "Price: 6364.0\n",
      "Dims: 8.68 x 6.07 x 3.66\n",
      "Color: Padparadscha (Pinkish-Orange / Orangish-Pink)\n",
      "Treatments: Heated\n"
     ]
    },
    {
     "data": {
      "text/html": [
       "<img src=\"https://image.thenaturalsapphirecompany.com/nsc/sapphire/pa3677/image/certified-natural-ceylon-oval-padparadscha-sapphire-1.7200-cts-pa3677-1-full.jpg\" width=\"400\"/>"
      ],
      "text/plain": [
       "<IPython.core.display.Image object>"
      ]
     },
     "metadata": {},
     "output_type": "display_data"
    },
    {
     "name": "stdout",
     "output_type": "stream",
     "text": [
      "https://www.thenaturalsapphirecompany.com/4.05ct-ceylon-sri-lanka-cushion-peach-sapphire-s10938-/\n",
      "Peach Sapphire - Cushion 4.05 Ct. #S10938\n",
      "Distance: 8.554700462318946\n",
      "Price per length: 749.2222222222222\n",
      "Price: 6743.0\n",
      "Dims: 9.0 x 8.78 x 5.49\n",
      "Color: Peach\n",
      "Treatments: No Enhancement\n"
     ]
    },
    {
     "data": {
      "text/html": [
       "<img src=\"https://image.thenaturalsapphirecompany.com/nsc/sapphire/s10938/image/certified-natural-untreated-ceylon(srilanka)-cushion-peach-sapphire-4.0500-cts-s10938-1-full.jpg\" width=\"400\"/>"
      ],
      "text/plain": [
       "<IPython.core.display.Image object>"
      ]
     },
     "metadata": {},
     "output_type": "display_data"
    },
    {
     "name": "stdout",
     "output_type": "stream",
     "text": [
      "https://www.thenaturalsapphirecompany.com/6.06ct-ceylon-sri-lanka-cushion-peach-sapphire-u15850-/\n",
      "Peach Sapphire - Cushion 6.06 Ct. #U15850\n",
      "Distance: 4.5819100820509355\n",
      "Price per length: 762.1284755512944\n",
      "Price: 7949.0\n",
      "Dims: 10.43 x 7.41 x 7.74\n",
      "Color: Peach\n",
      "Treatments: No Enhancement\n"
     ]
    },
    {
     "data": {
      "text/html": [
       "<img src=\"https://image.thenaturalsapphirecompany.com/nsc/sapphire/u15850/image/certified-natural-untreated-ceylon(srilanka)-cushion-peach-sapphire-6.0600-cts-u15850-1-full.jpg\" width=\"400\"/>"
      ],
      "text/plain": [
       "<IPython.core.display.Image object>"
      ]
     },
     "metadata": {},
     "output_type": "display_data"
    },
    {
     "name": "stdout",
     "output_type": "stream",
     "text": [
      "https://www.thenaturalsapphirecompany.com/4.53ct-ceylon-sri-lanka-round-peach-sapphire-s16952-/\n",
      "Peach Sapphire - Round 4.53 Ct. #S16952\n",
      "Distance: 7.968004769074875\n",
      "Price per length: 773.3984799131379\n",
      "Price: 7123.0\n",
      "Dims: 9.21 x 9.24 x 6.67\n",
      "Color: Peach\n",
      "Treatments: Heated\n"
     ]
    },
    {
     "data": {
      "text/html": [
       "<img src=\"https://image.thenaturalsapphirecompany.com/nsc/sapphire/s16952/image/certified-natural-ceylon(srilanka)-round-peach-sapphire-4.5300-cts-s16952-1-full.jpg\" width=\"400\"/>"
      ],
      "text/plain": [
       "<IPython.core.display.Image object>"
      ]
     },
     "metadata": {},
     "output_type": "display_data"
    },
    {
     "name": "stdout",
     "output_type": "stream",
     "text": [
      "https://www.thenaturalsapphirecompany.com/5.03ct-ceylon-sri-lanka-round-peach-sapphire-s7224-/\n",
      "Peach Sapphire - Round 5.03 Ct. #S7224\n",
      "Distance: 6.042607053251107\n",
      "Price per length: 788.6340977068794\n",
      "Price: 7910.0\n",
      "Dims: 10.03 x 9.82 x 6.75\n",
      "Color: Peach\n",
      "Treatments: No Enhancement\n"
     ]
    },
    {
     "data": {
      "text/html": [
       "<img src=\"https://image.thenaturalsapphirecompany.com/nsc/sapphire/s7224/image/certified-natural-untreated-ceylon(srilanka)-round-peach-sapphire-5.0300-cts-s7224-1-full.jpg\" width=\"400\"/>"
      ],
      "text/plain": [
       "<IPython.core.display.Image object>"
      ]
     },
     "metadata": {},
     "output_type": "display_data"
    },
    {
     "name": "stdout",
     "output_type": "stream",
     "text": [
      "https://www.thenaturalsapphirecompany.com/2.01ct-ceylon-sri-lanka-oval-padparadscha-sapphire-s15407-/\n",
      "Padparadscha Sapphire - Oval 2.01 Ct. #S15407\n",
      "Distance: 10.82695709791075\n",
      "Price per length: 794.3418013856813\n",
      "Price: 6879.0\n",
      "Dims: 8.66 x 6.4 x 4.16\n",
      "Color: Padparadscha (Pinkish-Orange / Orangish-Pink)\n",
      "Treatments: Heated\n"
     ]
    },
    {
     "data": {
      "text/html": [
       "<img src=\"https://image.thenaturalsapphirecompany.com/nsc/sapphire/s15407/image/certified-natural-ceylon(srilanka)-oval-padparadscha-sapphire-2.0100-cts-s15407-1-full.jpg\" width=\"400\"/>"
      ],
      "text/plain": [
       "<IPython.core.display.Image object>"
      ]
     },
     "metadata": {},
     "output_type": "display_data"
    },
    {
     "name": "stdout",
     "output_type": "stream",
     "text": [
      "https://www.thenaturalsapphirecompany.com/5.04ct-madagascar-cushion-peach-sapphire-s7938-/\n",
      "Peach Sapphire - Cushion 5.04 Ct. #S7938\n",
      "Distance: 3.6730641159663975\n",
      "Price per length: 801.4967259120674\n",
      "Price: 8568.0\n",
      "Dims: 10.69 x 9.07 x 5.43\n",
      "Color: Peach\n",
      "Treatments: No Enhancement\n"
     ]
    },
    {
     "data": {
      "text/html": [
       "<img src=\"https://image.thenaturalsapphirecompany.com/nsc/sapphire/s7938/image/certified-natural-untreated-ceylon(srilanka)-cushion-peach-sapphire-5.0400-cts-s7938-1-full.jpg\" width=\"400\"/>"
      ],
      "text/plain": [
       "<IPython.core.display.Image object>"
      ]
     },
     "metadata": {},
     "output_type": "display_data"
    },
    {
     "name": "stdout",
     "output_type": "stream",
     "text": [
      "https://www.thenaturalsapphirecompany.com/2.32ct-madagascar-pear-padparadscha-sapphire-s8160-/\n",
      "Padparadscha Sapphire - Pear 2.32 Ct. #S8160\n",
      "Distance: 7.159965083713747\n",
      "Price per length: 834.3656343656344\n",
      "Price: 8352.0\n",
      "Dims: 10.01 x 6.41 x 4.8\n",
      "Color: Padparadscha (Pinkish-Orange / Orangish-Pink)\n",
      "Treatments: Heated\n"
     ]
    },
    {
     "data": {
      "text/html": [
       "<img src=\"https://image.thenaturalsapphirecompany.com/nsc/sapphire/s8160/image/certified-natural-madagascar-pear-padparadscha-sapphire-2.3200-cts-s8160-1-full.jpg\" width=\"400\"/>"
      ],
      "text/plain": [
       "<IPython.core.display.Image object>"
      ]
     },
     "metadata": {},
     "output_type": "display_data"
    },
    {
     "name": "stdout",
     "output_type": "stream",
     "text": [
      "https://www.thenaturalsapphirecompany.com/4.20ct-ceylon-sri-lanka-emerald-cut-peach-sapphire-u13273-/\n",
      "Peach Sapphire - Emerald Cut 4.20 Ct. #U13273\n",
      "Distance: 7.5761401782174005\n",
      "Price per length: 834.5864661654135\n",
      "Price: 7770.0\n",
      "Dims: 9.31 x 8.57 x 5.38\n",
      "Color: Peach\n",
      "Treatments: No Enhancement\n"
     ]
    },
    {
     "data": {
      "text/html": [
       "<img src=\"https://image.thenaturalsapphirecompany.com/nsc/sapphire/u13273/image/certified-natural-untreated-ceylon-emeraldcut-peach-sapphire-4.2000-cts-u13273-1-full.jpg\" width=\"400\"/>"
      ],
      "text/plain": [
       "<IPython.core.display.Image object>"
      ]
     },
     "metadata": {},
     "output_type": "display_data"
    },
    {
     "name": "stdout",
     "output_type": "stream",
     "text": [
      "https://www.thenaturalsapphirecompany.com/2.02ct-madagascar-oval-padparadscha-sapphire-pa4031-/\n",
      "Padparadscha Sapphire - Oval 2.02 Ct. #PA4031\n",
      "Distance: 10.241772307564739\n",
      "Price per length: 834.7079037800687\n",
      "Price: 7287.0\n",
      "Dims: 8.73 x 7.05 x 3.68\n",
      "Color: Padparadscha (Pinkish-Orange / Orangish-Pink)\n",
      "Treatments: Heated\n"
     ]
    },
    {
     "data": {
      "text/html": [
       "<img src=\"https://image.thenaturalsapphirecompany.com/nsc/sapphire/pa4031/image/certified-natural-madagascar-oval-padparadscha-sapphire-2.0200-cts-pa4031-1-full.jpg\" width=\"400\"/>"
      ],
      "text/plain": [
       "<IPython.core.display.Image object>"
      ]
     },
     "metadata": {},
     "output_type": "display_data"
    },
    {
     "name": "stdout",
     "output_type": "stream",
     "text": [
      "https://www.thenaturalsapphirecompany.com/6.59ct-ceylon-sri-lanka-cushion-peach-sapphire-u8879-/\n",
      "Peach Sapphire - Cushion 6.59 Ct. #U8879\n",
      "Distance: 5.232026376080303\n",
      "Price per length: 841.6173570019723\n",
      "Price: 8534.0\n",
      "Dims: 10.14 x 9.32 x 7.17\n",
      "Color: Peach\n",
      "Treatments: Heated\n"
     ]
    },
    {
     "data": {
      "text/html": [
       "<img src=\"https://image.thenaturalsapphirecompany.com/nsc/sapphire/u8879/image/certified-natural-ceylon-cushion-peach-sapphire-6.5900-cts-u8879-1-full.jpg\" width=\"400\"/>"
      ],
      "text/plain": [
       "<IPython.core.display.Image object>"
      ]
     },
     "metadata": {},
     "output_type": "display_data"
    },
    {
     "name": "stdout",
     "output_type": "stream",
     "text": [
      "https://www.thenaturalsapphirecompany.com/4.39ct-ceylon-sri-lanka-emerald-cut-peach-sapphire-s15125-/\n",
      "Peach Sapphire - Emerald Cut 4.39 Ct. #S15125\n",
      "Distance: 8.99121237653744\n",
      "Price per length: 849.8932384341637\n",
      "Price: 11941.0\n",
      "Dims: 14.05 x 6.42 x 4.83\n",
      "Color: Peach\n",
      "Treatments: Heated\n"
     ]
    },
    {
     "data": {
      "text/html": [
       "<img src=\"https://image.thenaturalsapphirecompany.com/nsc/sapphire/s15125/image/certified-natural-ceylon(srilanka)-emeraldcut-peach-sapphire-4.3900-cts-s15125-1-full.jpg\" width=\"400\"/>"
      ],
      "text/plain": [
       "<IPython.core.display.Image object>"
      ]
     },
     "metadata": {},
     "output_type": "display_data"
    },
    {
     "name": "stdout",
     "output_type": "stream",
     "text": [
      "https://www.thenaturalsapphirecompany.com/5.44ct-ceylon-sri-lanka-oval-peach-sapphire-s16107-/\n",
      "Peach Sapphire - Oval 5.44 Ct. #S16107\n",
      "Distance: 2.7949060807118378\n",
      "Price per length: 852.2138680033416\n",
      "Price: 10201.0\n",
      "Dims: 11.97 x 9.3 x 5.11\n",
      "Color: Peach\n",
      "Treatments: No Enhancement\n"
     ]
    },
    {
     "data": {
      "text/html": [
       "<img src=\"https://image.thenaturalsapphirecompany.com/nsc/sapphire/s16107/image/certified-natural-untreated-ceylon(srilanka)-oval-peach-sapphire-5.4400-cts-s16107-1-full.jpg\" width=\"400\"/>"
      ],
      "text/plain": [
       "<IPython.core.display.Image object>"
      ]
     },
     "metadata": {},
     "output_type": "display_data"
    },
    {
     "name": "stdout",
     "output_type": "stream",
     "text": [
      "https://www.thenaturalsapphirecompany.com/5.11ct-madagascar-radiant-peach-sapphire-s17084-/\n",
      "Peach Sapphire - Radiant 5.11 Ct. #S17084\n",
      "Distance: 2.088276801575883\n",
      "Price per length: 856.2724014336917\n",
      "Price: 9556.0\n",
      "Dims: 11.16 x 8.81 x 5.78\n",
      "Color: Peach\n",
      "Treatments: No Enhancement\n"
     ]
    },
    {
     "data": {
      "text/html": [
       "<img src=\"https://image.thenaturalsapphirecompany.com/nsc/sapphire/s17084/image/certified-natural-untreated-madagascar-radiant-peach-sapphire-5.1100-cts-s17084-1-full.jpg\" width=\"400\"/>"
      ],
      "text/plain": [
       "<IPython.core.display.Image object>"
      ]
     },
     "metadata": {},
     "output_type": "display_data"
    },
    {
     "name": "stdout",
     "output_type": "stream",
     "text": [
      "https://www.thenaturalsapphirecompany.com/3.76ct-ceylon-sri-lanka-oval-peach-sapphire-s14640-/\n",
      "Peach Sapphire - Oval 3.76 Ct. #S14640\n",
      "Distance: 5.299726408032775\n",
      "Price per length: 858.6069651741293\n",
      "Price: 8629.0\n",
      "Dims: 10.05 x 8.11 x 5.5\n",
      "Color: Peach\n",
      "Treatments: No Enhancement\n"
     ]
    },
    {
     "data": {
      "text/html": [
       "<img src=\"https://image.thenaturalsapphirecompany.com/nsc/sapphire/s14640/image/certified-natural-untreated-ceylon(srilanka)-oval-yellowishorange-sapphire-3.7600-cts-s14640-1-full.jpg\" width=\"400\"/>"
      ],
      "text/plain": [
       "<IPython.core.display.Image object>"
      ]
     },
     "metadata": {},
     "output_type": "display_data"
    },
    {
     "name": "stdout",
     "output_type": "stream",
     "text": [
      "https://www.thenaturalsapphirecompany.com/8.56ct-ceylon-sri-lanka-oval-padparadscha-sapphire-s7075-/\n",
      "Padparadscha Sapphire - Oval 8.56 Ct. #S7075\n",
      "Distance: 5.595096067093039\n",
      "Price per length: 863.8247011952191\n",
      "Price: 10841.0\n",
      "Dims: 12.55 x 10.52 x 7.87\n",
      "Color: Padparadscha (Pinkish-Orange / Orangish-Pink)\n",
      "Treatments: No Enhancement\n"
     ]
    },
    {
     "data": {
      "text/html": [
       "<img src=\"https://image.thenaturalsapphirecompany.com/nsc/sapphire/s7075/image/certified-natural-untreated-ceylon(srilanka)-oval-padparadscha-sapphire-8.5600-cts-s7075-1-full.jpg\" width=\"400\"/>"
      ],
      "text/plain": [
       "<IPython.core.display.Image object>"
      ]
     },
     "metadata": {},
     "output_type": "display_data"
    },
    {
     "name": "stdout",
     "output_type": "stream",
     "text": [
      "https://www.thenaturalsapphirecompany.com/2.50ct-east-africa-oval-padparadscha-sapphire-pa3945-/\n",
      "Padparadscha Sapphire - Oval 2.50 Ct. #PA3945\n",
      "Distance: 8.448721796816368\n",
      "Price per length: 876.3157894736842\n",
      "Price: 8325.0\n",
      "Dims: 9.5 x 6.52 x 4.19\n",
      "Color: Padparadscha (Pinkish-Orange / Orangish-Pink)\n",
      "Treatments: Heated\n"
     ]
    },
    {
     "data": {
      "text/html": [
       "<img src=\"https://image.thenaturalsapphirecompany.com/nsc/sapphire/pa3945/image/certified-natural-eastafrica-oval-padparadscha-sapphire-2.5000-cts-pa3945-1-full.jpg\" width=\"400\"/>"
      ],
      "text/plain": [
       "<IPython.core.display.Image object>"
      ]
     },
     "metadata": {},
     "output_type": "display_data"
    },
    {
     "name": "stdout",
     "output_type": "stream",
     "text": [
      "https://www.thenaturalsapphirecompany.com/1.78ct-madagascar-pear-padparadscha-sapphire-s18730-/\n",
      "Padparadscha Sapphire - Pear 1.78 Ct. #S18730\n",
      "Distance: 9.143817583482296\n",
      "Price per length: 881.3704496788009\n",
      "Price: 8232.0\n",
      "Dims: 9.34 x 6.38 x 3.78\n",
      "Color: Padparadscha (Pinkish-Orange / Orangish-Pink)\n",
      "Treatments: Heated\n"
     ]
    },
    {
     "data": {
      "text/html": [
       "<img src=\"https://image.thenaturalsapphirecompany.com/nsc/sapphire/s18730/image/certified-natural-ceylon(srilanka)-pear-padparadscha-sapphire-1.7800-cts-s18730-1-full.jpg\" width=\"400\"/>"
      ],
      "text/plain": [
       "<IPython.core.display.Image object>"
      ]
     },
     "metadata": {},
     "output_type": "display_data"
    },
    {
     "name": "stdout",
     "output_type": "stream",
     "text": [
      "https://www.thenaturalsapphirecompany.com/4.80ct-ceylon-sri-lanka-oval-peach-sapphire-s6784-/\n",
      "Peach Sapphire - Oval 4.80 Ct. #S6784\n",
      "Distance: 2.4395491386729646\n",
      "Price per length: 895.8828911253431\n",
      "Price: 9792.0\n",
      "Dims: 10.93 x 8.69 x 6.33\n",
      "Color: Peach\n",
      "Treatments: No Enhancement\n"
     ]
    },
    {
     "data": {
      "text/html": [
       "<img src=\"https://image.thenaturalsapphirecompany.com/nsc/sapphire/s6784/image/certified-natural-untreated-ceylon(srilanka)-oval-peach-sapphire-4.8000-cts-s6784-1-full.jpg\" width=\"400\"/>"
      ],
      "text/plain": [
       "<IPython.core.display.Image object>"
      ]
     },
     "metadata": {},
     "output_type": "display_data"
    },
    {
     "name": "stdout",
     "output_type": "stream",
     "text": [
      "https://www.thenaturalsapphirecompany.com/5.27ct-ceylon-sri-lanka-radiant-peach-sapphire-s18881-/\n",
      "Peach Sapphire - Radiant 5.27 Ct. #S18881\n",
      "Distance: 5.290217386837709\n",
      "Price per length: 902.7027027027028\n",
      "Price: 9018.0\n",
      "Dims: 9.99 x 8.48 x 6.54\n",
      "Color: Peach\n",
      "Treatments: No Enhancement\n"
     ]
    },
    {
     "data": {
      "text/html": [
       "<img src=\"https://image.thenaturalsapphirecompany.com/nsc/sapphire/s18881/image/certified-natural-untreated-ceylon(srilanka)-radiant-peach-sapphire-5.2700-cts-s18881-1-full.jpg\" width=\"400\"/>"
      ],
      "text/plain": [
       "<IPython.core.display.Image object>"
      ]
     },
     "metadata": {},
     "output_type": "display_data"
    },
    {
     "name": "stdout",
     "output_type": "stream",
     "text": [
      "https://www.thenaturalsapphirecompany.com/3.03ct-ceylon-sri-lanka-cushion-padparadscha-sapphire-s18025-/\n",
      "Padparadscha Sapphire - Cushion 3.03 Ct. #S18025\n",
      "Distance: 8.588882348711037\n",
      "Price per length: 925.9911894273127\n",
      "Price: 8408.0\n",
      "Dims: 9.08 x 8.17 x 4.18\n",
      "Color: Padparadscha (Pinkish-Orange / Orangish-Pink)\n",
      "Treatments: No Enhancement\n"
     ]
    },
    {
     "data": {
      "text/html": [
       "<img src=\"https://image.thenaturalsapphirecompany.com/nsc/sapphire/s18025/image/certified-natural-untreated-ceylon(srilanka)-cushion-padparadscha-sapphire-3.0300-cts-s18025-1-full.jpg\" width=\"400\"/>"
      ],
      "text/plain": [
       "<IPython.core.display.Image object>"
      ]
     },
     "metadata": {},
     "output_type": "display_data"
    },
    {
     "name": "stdout",
     "output_type": "stream",
     "text": [
      "https://www.thenaturalsapphirecompany.com/3.37ct-ceylon-sri-lanka-oval-padparadscha-sapphire-pa3431-/\n",
      "Padparadscha Sapphire - Oval 3.37 Ct. #PA3431\n",
      "Distance: 8.534834503374977\n",
      "Price per length: 928.8864388092612\n",
      "Price: 8425.0\n",
      "Dims: 9.07 x 7.71 x 4.99\n",
      "Color: Padparadscha (Pinkish-Orange / Orangish-Pink)\n",
      "Treatments: No Enhancement\n"
     ]
    },
    {
     "data": {
      "text/html": [
       "<img src=\"https://image.thenaturalsapphirecompany.com/nsc/sapphire/pa3431/image/certified-natural-untreated-ceylon-oval-padparadscha-sapphire-3.3700-cts-pa3431-1-full.jpg\" width=\"400\"/>"
      ],
      "text/plain": [
       "<IPython.core.display.Image object>"
      ]
     },
     "metadata": {},
     "output_type": "display_data"
    },
    {
     "name": "stdout",
     "output_type": "stream",
     "text": [
      "https://www.thenaturalsapphirecompany.com/1.92ct-ceylon-sri-lanka-pear-padparadscha-sapphire-s9552-/\n",
      "Padparadscha Sapphire - Pear 1.92 Ct. #S9552\n",
      "Distance: 8.808864853089755\n",
      "Price per length: 944.6808510638298\n",
      "Price: 8880.0\n",
      "Dims: 9.4 x 6.46 x 4.07\n",
      "Color: Padparadscha (Pinkish-Orange / Orangish-Pink)\n",
      "Treatments: Heated\n"
     ]
    },
    {
     "data": {
      "text/html": [
       "<img src=\"https://image.thenaturalsapphirecompany.com/nsc/sapphire/s9552/image/certified-natural-ceylon(srilanka)-pear-padparadscha-sapphire-1.9200-cts-s9552-1-full.jpg\" width=\"400\"/>"
      ],
      "text/plain": [
       "<IPython.core.display.Image object>"
      ]
     },
     "metadata": {},
     "output_type": "display_data"
    },
    {
     "name": "stdout",
     "output_type": "stream",
     "text": [
      "https://www.thenaturalsapphirecompany.com/1.98ct-ceylon-sri-lanka-radiant-padparadscha-sapphire-s11710-/\n",
      "Padparadscha Sapphire - Radiant 1.98 Ct. #S11710\n",
      "Distance: 10.808353251073912\n",
      "Price per length: 945.1403887688986\n",
      "Price: 8752.0\n",
      "Dims: 9.26 x 5.27 x 3.66\n",
      "Color: Padparadscha (Pinkish-Orange / Orangish-Pink)\n",
      "Treatments: No Enhancement\n"
     ]
    },
    {
     "data": {
      "text/html": [
       "<img src=\"https://image.thenaturalsapphirecompany.com/nsc/sapphire/s11710/image/certified-natural-untreated-ceylon(srilanka)-radiant-padparadscha-sapphire-1.9800-cts-s11710-1-full.jpg\" width=\"400\"/>"
      ],
      "text/plain": [
       "<IPython.core.display.Image object>"
      ]
     },
     "metadata": {},
     "output_type": "display_data"
    },
    {
     "name": "stdout",
     "output_type": "stream",
     "text": [
      "https://www.thenaturalsapphirecompany.com/2.54ct-madagascar-pear-padparadscha-sapphire-s17872-/\n",
      "Padparadscha Sapphire - Pear 2.54 Ct. #S17872\n",
      "Distance: 4.789822543685727\n",
      "Price per length: 965.6540084388186\n",
      "Price: 11443.0\n",
      "Dims: 11.85 x 6.64 x 4.18\n",
      "Color: Padparadscha (Pinkish-Orange / Orangish-Pink)\n",
      "Treatments: No Enhancement\n"
     ]
    },
    {
     "data": {
      "text/html": [
       "<img src=\"https://image.thenaturalsapphirecompany.com/nsc/sapphire/s17872/image/certified-natural-untreated-ceylon(srilanka)-pear-padparadscha-sapphire-2.5400-cts-s17872-1-full.jpg\" width=\"400\"/>"
      ],
      "text/plain": [
       "<IPython.core.display.Image object>"
      ]
     },
     "metadata": {},
     "output_type": "display_data"
    },
    {
     "name": "stdout",
     "output_type": "stream",
     "text": [
      "https://www.thenaturalsapphirecompany.com/3.15ct-ceylon-sri-lanka-oval-peach-sapphire-u16760-/\n",
      "Peach Sapphire - Oval 3.15 Ct. #U16760\n",
      "Distance: 9.493729509523641\n",
      "Price per length: 983.9643652561248\n",
      "Price: 8836.0\n",
      "Dims: 8.98 x 6.63 x 5.24\n",
      "Color: Peach\n",
      "Treatments: No Enhancement\n"
     ]
    },
    {
     "data": {
      "text/html": [
       "<img src=\"https://image.thenaturalsapphirecompany.com/nsc/sapphire/u16760/image/certified-natural-untreated-ceylon(srilanka)-oval-peach-sapphire-3.1500-cts-u16760-1-full.jpg\" width=\"400\"/>"
      ],
      "text/plain": [
       "<IPython.core.display.Image object>"
      ]
     },
     "metadata": {},
     "output_type": "display_data"
    },
    {
     "name": "stdout",
     "output_type": "stream",
     "text": [
      "https://www.thenaturalsapphirecompany.com/2.49ct-madagascar-pear-padparadscha-sapphire-s12645-/\n",
      "Padparadscha Sapphire - Pear 2.49 Ct. #S12645\n",
      "Distance: 5.6278681576597\n",
      "Price per length: 986.3106796116504\n",
      "Price: 10159.0\n",
      "Dims: 10.3 x 7.2 x 4.39\n",
      "Color: Padparadscha (Pinkish-Orange / Orangish-Pink)\n",
      "Treatments: Heated\n"
     ]
    },
    {
     "data": {
      "text/html": [
       "<img src=\"https://image.thenaturalsapphirecompany.com/nsc/sapphire/s12645/image/certified-natural-madagascar-pear-padparadscha-sapphire-2.4900-cts-s12645-1-full.jpg\" width=\"400\"/>"
      ],
      "text/plain": [
       "<IPython.core.display.Image object>"
      ]
     },
     "metadata": {},
     "output_type": "display_data"
    },
    {
     "name": "stdout",
     "output_type": "stream",
     "text": [
      "https://www.thenaturalsapphirecompany.com/3.11ct-ceylon-sri-lanka-emerald-cut-padparadscha-sapphire-s18724-/\n",
      "Padparadscha Sapphire - Emerald Cut 3.11 Ct. #S18724\n",
      "Distance: 10.419625713047472\n",
      "Price per length: 994.2396313364056\n",
      "Price: 8630.0\n",
      "Dims: 8.68 x 6.54 x 5.3\n",
      "Color: Padparadscha (Pinkish-Orange / Orangish-Pink)\n",
      "Treatments: Heated\n"
     ]
    },
    {
     "data": {
      "text/html": [
       "<img src=\"https://image.thenaturalsapphirecompany.com/nsc/sapphire/s18724/image/certified-natural-ceylon(srilanka)-emeraldcut-padparadscha-sapphire-3.1100-cts-s18724-1-full.jpg\" width=\"400\"/>"
      ],
      "text/plain": [
       "<IPython.core.display.Image object>"
      ]
     },
     "metadata": {},
     "output_type": "display_data"
    },
    {
     "name": "stdout",
     "output_type": "stream",
     "text": [
      "https://www.thenaturalsapphirecompany.com/2.77ct-madagascar-oval-padparadscha-sapphire-s14135-/\n",
      "Padparadscha Sapphire - Oval 2.77 Ct. #S14135\n",
      "Distance: 10.227218585715278\n",
      "Price per length: 999.30151338766\n",
      "Price: 8584.0\n",
      "Dims: 8.59 x 7.34 x 4.66\n",
      "Color: Padparadscha (Pinkish-Orange / Orangish-Pink)\n",
      "Treatments: Heated\n"
     ]
    },
    {
     "data": {
      "text/html": [
       "<img src=\"https://image.thenaturalsapphirecompany.com/nsc/sapphire/s14135/image/certified-natural-madagascar-oval-padparadscha-sapphire-2.7700-cts-s14135-1-full.jpg\" width=\"400\"/>"
      ],
      "text/plain": [
       "<IPython.core.display.Image object>"
      ]
     },
     "metadata": {},
     "output_type": "display_data"
    },
    {
     "name": "stdout",
     "output_type": "stream",
     "text": [
      "https://www.thenaturalsapphirecompany.com/3.06ct-ceylon-sri-lanka-oval-padparadscha-sapphire-s8374-/\n",
      "Padparadscha Sapphire - Oval 3.06 Ct. #S8374\n",
      "Distance: 8.813432929341438\n",
      "Price per length: 1007.563959955506\n",
      "Price: 9058.0\n",
      "Dims: 8.99 x 7.55 x 5.17\n",
      "Color: Padparadscha (Pinkish-Orange / Orangish-Pink)\n",
      "Treatments: Heated\n"
     ]
    },
    {
     "data": {
      "text/html": [
       "<img src=\"https://image.thenaturalsapphirecompany.com/nsc/sapphire/s8374/image/certified-natural-ceylon(srilanka)-oval-padparadscha-sapphire-3.0600-cts-s8374-1-full.jpg\" width=\"400\"/>"
      ],
      "text/plain": [
       "<IPython.core.display.Image object>"
      ]
     },
     "metadata": {},
     "output_type": "display_data"
    },
    {
     "name": "stdout",
     "output_type": "stream",
     "text": [
      "https://www.thenaturalsapphirecompany.com/2.25ct-madagascar-round-padparadscha-sapphire-s12043-/\n",
      "Padparadscha Sapphire - Round 2.25 Ct. #S12043\n",
      "Distance: 9.980450891618073\n",
      "Price per length: 1010.5202312138728\n",
      "Price: 8741.0\n",
      "Dims: 8.65 x 8.57 x 3.83\n",
      "Color: Padparadscha (Pinkish-Orange / Orangish-Pink)\n",
      "Treatments: Heated\n"
     ]
    },
    {
     "data": {
      "text/html": [
       "<img src=\"https://image.thenaturalsapphirecompany.com/nsc/sapphire/s12043/image/certified-natural-ceylon(srilanka)-round-pink-sapphire-2.2400-cts-s12043-1-full.jpg\" width=\"400\"/>"
      ],
      "text/plain": [
       "<IPython.core.display.Image object>"
      ]
     },
     "metadata": {},
     "output_type": "display_data"
    },
    {
     "name": "stdout",
     "output_type": "stream",
     "text": [
      "https://www.thenaturalsapphirecompany.com/1.97ct-madagascar-emerald-cut-padparadscha-sapphire-s6987-/\n",
      "Padparadscha Sapphire - Emerald Cut 1.97 Ct. #S6987\n",
      "Distance: 10.930480318814903\n",
      "Price per length: 1013.5573580533024\n",
      "Price: 8747.0\n",
      "Dims: 8.63 x 6.55 x 3.59\n",
      "Color: Padparadscha (Pinkish-Orange / Orangish-Pink)\n",
      "Treatments: No Enhancement\n"
     ]
    },
    {
     "data": {
      "text/html": [
       "<img src=\"https://image.thenaturalsapphirecompany.com/nsc/sapphire/s6987/image/certified-natural-untreated-madagascar-emerald-padparadscha-sapphire-1.9700-cts-s6987-1-full.jpg\" width=\"400\"/>"
      ],
      "text/plain": [
       "<IPython.core.display.Image object>"
      ]
     },
     "metadata": {},
     "output_type": "display_data"
    }
   ],
   "execution_count": 33
  },
  {
   "cell_type": "code",
   "id": "7fa45439",
   "metadata": {
    "ExecuteTime": {
     "end_time": "2024-11-27T02:51:04.144446Z",
     "start_time": "2024-11-27T02:51:04.133823Z"
    }
   },
   "source": [],
   "outputs": [],
   "execution_count": null
  },
  {
   "metadata": {},
   "cell_type": "code",
   "outputs": [],
   "execution_count": null,
   "source": "",
   "id": "7820b657b1e30f2f"
  }
 ],
 "metadata": {
  "kernelspec": {
   "display_name": "Python 3 (ipykernel)",
   "language": "python",
   "name": "python3"
  },
  "language_info": {
   "codemirror_mode": {
    "name": "ipython",
    "version": 3
   },
   "file_extension": ".py",
   "mimetype": "text/x-python",
   "name": "python",
   "nbconvert_exporter": "python",
   "pygments_lexer": "ipython3",
   "version": "3.9.18"
  }
 },
 "nbformat": 4,
 "nbformat_minor": 5
}
