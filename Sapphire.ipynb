{
 "cells": [
  {
   "cell_type": "code",
   "id": "dc86468b",
   "metadata": {
    "ExecuteTime": {
     "end_time": "2024-11-18T19:01:43.570943Z",
     "start_time": "2024-11-18T19:01:43.286531Z"
    }
   },
   "source": [
    "import pandas as pd\n",
    "from IPython.display import Image\n",
    "from get_sapphires import refresh_sapphire_csv\n"
   ],
   "outputs": [
    {
     "name": "stderr",
     "output_type": "stream",
     "text": [
      "/Users/arya/code/sapphire/sapphire_parse/venv/lib/python3.9/site-packages/urllib3/__init__.py:35: NotOpenSSLWarning: urllib3 v2 only supports OpenSSL 1.1.1+, currently the 'ssl' module is compiled with 'LibreSSL 2.8.3'. See: https://github.com/urllib3/urllib3/issues/3020\n",
      "  warnings.warn(\n"
     ]
    }
   ],
   "execution_count": 53
  },
  {
   "metadata": {
    "ExecuteTime": {
     "end_time": "2024-11-18T19:01:43.648109Z",
     "start_time": "2024-11-18T19:01:43.645062Z"
    }
   },
   "cell_type": "code",
   "source": "# refresh_sapphire_csv() #  Uncomment to load most fresh data",
   "id": "a539499906e27197",
   "outputs": [],
   "execution_count": 54
  },
  {
   "cell_type": "code",
   "id": "c002cdf1",
   "metadata": {
    "ExecuteTime": {
     "end_time": "2024-11-18T19:05:40.943685Z",
     "start_time": "2024-11-18T19:05:40.912852Z"
    }
   },
   "source": "sapphires = pd.read_csv(\"sapphires.csv\")",
   "outputs": [],
   "execution_count": 61
  },
  {
   "cell_type": "code",
   "id": "41fe7a56",
   "metadata": {
    "ExecuteTime": {
     "end_time": "2024-11-18T19:05:41.156172Z",
     "start_time": "2024-11-18T19:05:41.148112Z"
    }
   },
   "source": [
    "sapphires.head()"
   ],
   "outputs": [
    {
     "data": {
      "text/plain": [
       "                                               name  \\\n",
       "0    Padparadscha Sapphire - Round 1.22 Ct. #PA4067   \n",
       "1    Padparadscha Sapphire - Round 1.07 Ct. #PA3962   \n",
       "2     Padparadscha Sapphire - Oval 1.02 Ct. #PA3965   \n",
       "3  Padparadscha Sapphire - Cushion 1.05 Ct. #PA4166   \n",
       "4     Padparadscha Sapphire - Pear 2.00 Ct. #PA4160   \n",
       "\n",
       "                                                 url  \\\n",
       "0  https://www.thenaturalsapphirecompany.com/1.22...   \n",
       "1  https://www.thenaturalsapphirecompany.com/1.07...   \n",
       "2  https://www.thenaturalsapphirecompany.com/1.02...   \n",
       "3  https://www.thenaturalsapphirecompany.com/1.05...   \n",
       "4  https://www.thenaturalsapphirecompany.com/2.00...   \n",
       "\n",
       "                                           image_url Item ID  Total Price  \\\n",
       "0  https://image.thenaturalsapphirecompany.com/ns...  PA4067       1708.0   \n",
       "1  https://image.thenaturalsapphirecompany.com/ns...  PA3962       2086.0   \n",
       "2  https://image.thenaturalsapphirecompany.com/ns...  PA3965       3366.0   \n",
       "3  https://image.thenaturalsapphirecompany.com/ns...  PA4166       3772.0   \n",
       "4  https://image.thenaturalsapphirecompany.com/ns...  PA4160       5550.0   \n",
       "\n",
       "   Weight    Per Carat Price                                          Color  \\\n",
       "0    1.22     $1,400 per Ct.  Padparadscha (Pinkish-Orange / Orangish-Pink)   \n",
       "1    1.07  $1,949.53 per Ct.  Padparadscha (Pinkish-Orange / Orangish-Pink)   \n",
       "2    1.02     $3,300 per Ct.  Padparadscha (Pinkish-Orange / Orangish-Pink)   \n",
       "3    1.05  $3,592.38 per Ct.  Padparadscha (Pinkish-Orange / Orangish-Pink)   \n",
       "4    2.00     $2,775 per Ct.  Padparadscha (Pinkish-Orange / Orangish-Pink)   \n",
       "\n",
       "     Shape                 Clarity              Cut Color Intensity  \\\n",
       "0    Round  Very Slightly Included  Mixed Brilliant         Intense   \n",
       "1    Round  Very Slightly Included  Mixed Brilliant           Vivid   \n",
       "2     Oval               Eye Clean  Mixed Brilliant           Vivid   \n",
       "3  Cushion       Slightly Included  Mixed Brilliant          Medium   \n",
       "4     Pear  Very Slightly Included  Mixed Brilliant         Intense   \n",
       "\n",
       "               Origin      Treatments  Length  Width  Height  Price per Length  \n",
       "0  Ceylon (Sri Lanka)  No Enhancement    6.74   6.64    3.83        253.412463  \n",
       "1          Madagascar          Heated    6.08   5.95    3.52        343.092105  \n",
       "2          Mozambique          Heated    6.99   5.00    3.40        481.545064  \n",
       "3  Ceylon (Sri Lanka)          Heated    7.55   5.64    2.69        499.602649  \n",
       "4          Madagascar          Heated    8.32   6.69    3.89        667.067308  "
      ],
      "text/html": [
       "<div>\n",
       "<style scoped>\n",
       "    .dataframe tbody tr th:only-of-type {\n",
       "        vertical-align: middle;\n",
       "    }\n",
       "\n",
       "    .dataframe tbody tr th {\n",
       "        vertical-align: top;\n",
       "    }\n",
       "\n",
       "    .dataframe thead th {\n",
       "        text-align: right;\n",
       "    }\n",
       "</style>\n",
       "<table border=\"1\" class=\"dataframe\">\n",
       "  <thead>\n",
       "    <tr style=\"text-align: right;\">\n",
       "      <th></th>\n",
       "      <th>name</th>\n",
       "      <th>url</th>\n",
       "      <th>image_url</th>\n",
       "      <th>Item ID</th>\n",
       "      <th>Total Price</th>\n",
       "      <th>Weight</th>\n",
       "      <th>Per Carat Price</th>\n",
       "      <th>Color</th>\n",
       "      <th>Shape</th>\n",
       "      <th>Clarity</th>\n",
       "      <th>Cut</th>\n",
       "      <th>Color Intensity</th>\n",
       "      <th>Origin</th>\n",
       "      <th>Treatments</th>\n",
       "      <th>Length</th>\n",
       "      <th>Width</th>\n",
       "      <th>Height</th>\n",
       "      <th>Price per Length</th>\n",
       "    </tr>\n",
       "  </thead>\n",
       "  <tbody>\n",
       "    <tr>\n",
       "      <th>0</th>\n",
       "      <td>Padparadscha Sapphire - Round 1.22 Ct. #PA4067</td>\n",
       "      <td>https://www.thenaturalsapphirecompany.com/1.22...</td>\n",
       "      <td>https://image.thenaturalsapphirecompany.com/ns...</td>\n",
       "      <td>PA4067</td>\n",
       "      <td>1708.0</td>\n",
       "      <td>1.22</td>\n",
       "      <td>$1,400 per Ct.</td>\n",
       "      <td>Padparadscha (Pinkish-Orange / Orangish-Pink)</td>\n",
       "      <td>Round</td>\n",
       "      <td>Very Slightly Included</td>\n",
       "      <td>Mixed Brilliant</td>\n",
       "      <td>Intense</td>\n",
       "      <td>Ceylon (Sri Lanka)</td>\n",
       "      <td>No Enhancement</td>\n",
       "      <td>6.74</td>\n",
       "      <td>6.64</td>\n",
       "      <td>3.83</td>\n",
       "      <td>253.412463</td>\n",
       "    </tr>\n",
       "    <tr>\n",
       "      <th>1</th>\n",
       "      <td>Padparadscha Sapphire - Round 1.07 Ct. #PA3962</td>\n",
       "      <td>https://www.thenaturalsapphirecompany.com/1.07...</td>\n",
       "      <td>https://image.thenaturalsapphirecompany.com/ns...</td>\n",
       "      <td>PA3962</td>\n",
       "      <td>2086.0</td>\n",
       "      <td>1.07</td>\n",
       "      <td>$1,949.53 per Ct.</td>\n",
       "      <td>Padparadscha (Pinkish-Orange / Orangish-Pink)</td>\n",
       "      <td>Round</td>\n",
       "      <td>Very Slightly Included</td>\n",
       "      <td>Mixed Brilliant</td>\n",
       "      <td>Vivid</td>\n",
       "      <td>Madagascar</td>\n",
       "      <td>Heated</td>\n",
       "      <td>6.08</td>\n",
       "      <td>5.95</td>\n",
       "      <td>3.52</td>\n",
       "      <td>343.092105</td>\n",
       "    </tr>\n",
       "    <tr>\n",
       "      <th>2</th>\n",
       "      <td>Padparadscha Sapphire - Oval 1.02 Ct. #PA3965</td>\n",
       "      <td>https://www.thenaturalsapphirecompany.com/1.02...</td>\n",
       "      <td>https://image.thenaturalsapphirecompany.com/ns...</td>\n",
       "      <td>PA3965</td>\n",
       "      <td>3366.0</td>\n",
       "      <td>1.02</td>\n",
       "      <td>$3,300 per Ct.</td>\n",
       "      <td>Padparadscha (Pinkish-Orange / Orangish-Pink)</td>\n",
       "      <td>Oval</td>\n",
       "      <td>Eye Clean</td>\n",
       "      <td>Mixed Brilliant</td>\n",
       "      <td>Vivid</td>\n",
       "      <td>Mozambique</td>\n",
       "      <td>Heated</td>\n",
       "      <td>6.99</td>\n",
       "      <td>5.00</td>\n",
       "      <td>3.40</td>\n",
       "      <td>481.545064</td>\n",
       "    </tr>\n",
       "    <tr>\n",
       "      <th>3</th>\n",
       "      <td>Padparadscha Sapphire - Cushion 1.05 Ct. #PA4166</td>\n",
       "      <td>https://www.thenaturalsapphirecompany.com/1.05...</td>\n",
       "      <td>https://image.thenaturalsapphirecompany.com/ns...</td>\n",
       "      <td>PA4166</td>\n",
       "      <td>3772.0</td>\n",
       "      <td>1.05</td>\n",
       "      <td>$3,592.38 per Ct.</td>\n",
       "      <td>Padparadscha (Pinkish-Orange / Orangish-Pink)</td>\n",
       "      <td>Cushion</td>\n",
       "      <td>Slightly Included</td>\n",
       "      <td>Mixed Brilliant</td>\n",
       "      <td>Medium</td>\n",
       "      <td>Ceylon (Sri Lanka)</td>\n",
       "      <td>Heated</td>\n",
       "      <td>7.55</td>\n",
       "      <td>5.64</td>\n",
       "      <td>2.69</td>\n",
       "      <td>499.602649</td>\n",
       "    </tr>\n",
       "    <tr>\n",
       "      <th>4</th>\n",
       "      <td>Padparadscha Sapphire - Pear 2.00 Ct. #PA4160</td>\n",
       "      <td>https://www.thenaturalsapphirecompany.com/2.00...</td>\n",
       "      <td>https://image.thenaturalsapphirecompany.com/ns...</td>\n",
       "      <td>PA4160</td>\n",
       "      <td>5550.0</td>\n",
       "      <td>2.00</td>\n",
       "      <td>$2,775 per Ct.</td>\n",
       "      <td>Padparadscha (Pinkish-Orange / Orangish-Pink)</td>\n",
       "      <td>Pear</td>\n",
       "      <td>Very Slightly Included</td>\n",
       "      <td>Mixed Brilliant</td>\n",
       "      <td>Intense</td>\n",
       "      <td>Madagascar</td>\n",
       "      <td>Heated</td>\n",
       "      <td>8.32</td>\n",
       "      <td>6.69</td>\n",
       "      <td>3.89</td>\n",
       "      <td>667.067308</td>\n",
       "    </tr>\n",
       "  </tbody>\n",
       "</table>\n",
       "</div>"
      ]
     },
     "execution_count": 62,
     "metadata": {},
     "output_type": "execute_result"
    }
   ],
   "execution_count": 62
  },
  {
   "cell_type": "code",
   "id": "2569c857",
   "metadata": {
    "ExecuteTime": {
     "end_time": "2024-11-18T19:05:41.457896Z",
     "start_time": "2024-11-18T19:05:41.451317Z"
    }
   },
   "source": [
    "# sapphires[\"price_per_length\"] = sapphires[\"Total Price\"]/sapphires[\"Length\"]\n",
    "sapphires[\"length_width_ratio\"] = sapphires[\"Length\"]/sapphires[\"Width\"]\n"
   ],
   "outputs": [],
   "execution_count": 63
  },
  {
   "cell_type": "code",
   "id": "482429d2",
   "metadata": {
    "ExecuteTime": {
     "end_time": "2024-11-18T19:05:41.679916Z",
     "start_time": "2024-11-18T19:05:41.671718Z"
    }
   },
   "source": "sapphires[\"Shape\"].unique()",
   "outputs": [
    {
     "data": {
      "text/plain": [
       "array(['Round', 'Oval', 'Cushion', 'Pear', 'Radiant', 'Trillion', 'Heart',\n",
       "       'Emerald Cut', 'Fancy', 'Princess', 'Marquise',\n",
       "       'Asscher - Octagon'], dtype=object)"
      ]
     },
     "execution_count": 64,
     "metadata": {},
     "output_type": "execute_result"
    }
   ],
   "execution_count": 64
  },
  {
   "metadata": {
    "ExecuteTime": {
     "end_time": "2024-11-18T19:07:30.851698Z",
     "start_time": "2024-11-18T19:07:30.805365Z"
    }
   },
   "cell_type": "code",
   "source": "sapphires[\"Shape\"].unique()",
   "id": "83be38b557a9a480",
   "outputs": [
    {
     "data": {
      "text/plain": [
       "array(['Round', 'Oval', 'Cushion', 'Pear', 'Radiant', 'Trillion', 'Heart',\n",
       "       'Emerald Cut', 'Fancy', 'Princess', 'Marquise',\n",
       "       'Asscher - Octagon'], dtype=object)"
      ]
     },
     "execution_count": 71,
     "metadata": {},
     "output_type": "execute_result"
    }
   ],
   "execution_count": 71
  },
  {
   "metadata": {
    "ExecuteTime": {
     "end_time": "2024-11-18T19:05:42.256522Z",
     "start_time": "2024-11-18T19:05:42.253065Z"
    }
   },
   "cell_type": "code",
   "source": "sapphires[\"Color\"].unique()\n",
   "id": "962f865e3bd33389",
   "outputs": [
    {
     "data": {
      "text/plain": [
       "array(['Padparadscha (Pinkish-Orange / Orangish-Pink)', 'White', 'Peach'],\n",
       "      dtype=object)"
      ]
     },
     "execution_count": 66,
     "metadata": {},
     "output_type": "execute_result"
    }
   ],
   "execution_count": 66
  },
  {
   "metadata": {
    "ExecuteTime": {
     "end_time": "2024-11-18T19:05:42.574559Z",
     "start_time": "2024-11-18T19:05:42.571034Z"
    }
   },
   "cell_type": "code",
   "source": "sapphires[\"Clarity\"].unique()\n",
   "id": "5b491f394ffd2307",
   "outputs": [
    {
     "data": {
      "text/plain": [
       "array(['Very Slightly Included', 'Eye Clean', 'Slightly Included',\n",
       "       'Included'], dtype=object)"
      ]
     },
     "execution_count": 67,
     "metadata": {},
     "output_type": "execute_result"
    }
   ],
   "execution_count": 67
  },
  {
   "metadata": {
    "ExecuteTime": {
     "end_time": "2024-11-18T19:05:42.841988Z",
     "start_time": "2024-11-18T19:05:42.831834Z"
    }
   },
   "cell_type": "code",
   "source": "sapphires[\"Color Intensity\"].unique()\n",
   "id": "631278bd3238e60b",
   "outputs": [
    {
     "data": {
      "text/plain": [
       "array(['Intense', 'Vivid', 'Medium', 'Medium Light', 'Medium Intense',\n",
       "       'Light', 'Very Light', 'Near Colorless', 'Colorless', 'Faint'],\n",
       "      dtype=object)"
      ]
     },
     "execution_count": 68,
     "metadata": {},
     "output_type": "execute_result"
    }
   ],
   "execution_count": 68
  },
  {
   "cell_type": "code",
   "id": "719516ab",
   "metadata": {
    "ExecuteTime": {
     "end_time": "2024-11-18T19:19:13.709637Z",
     "start_time": "2024-11-18T19:19:13.691136Z"
    }
   },
   "source": [
    "from functools import reduce\n",
    "\n",
    "long_cuts = [\"Marquise\", \"Emerald Cut\", \"Oval\", \"Pear\", \"Radiant\"]\n",
    "\n",
    "filters = [\n",
    "    (~sapphires[\"Shape\"].isin([\"Fancy\", \"Heart\", \"Trillion\"])),\n",
    "    ((sapphires[\"Length\"] >= 8.5) | (sapphires[\"length_width_ratio\"] <= 1.5)),\n",
    "    (~sapphires[\"Clarity\"].isin([\"Slightly Included\", \"Included\"]) ),\n",
    "    (~sapphires[\"Color Intensity\"].isin([\"Intense\", \"Vivid\"])),\n",
    "    (sapphires[\"Total Price\"] < 12000),\n",
    "    (sapphires[\"Total Price\"] > 500),\n",
    "    (sapphires[\"Weight\"] > 1)\n",
    "]\n",
    "\n",
    "filters_added = reduce(lambda x, y: x & y, filters)\n",
    "\n",
    "# And all filters together\n",
    "sapphires_filtered = sapphires[filters_added]\n"
   ],
   "outputs": [],
   "execution_count": 79
  },
  {
   "cell_type": "code",
   "id": "4e674efd",
   "metadata": {
    "ExecuteTime": {
     "end_time": "2024-11-18T19:19:14.803533Z",
     "start_time": "2024-11-18T19:19:14.206820Z"
    }
   },
   "source": [
    "print(f\"Num Results: {len(sapphires_filtered)}\")\n",
    "for index, row in sapphires_filtered.sort_values(by=\"Price per Length\", ascending=True).iterrows():\n",
    "    print(row['url'])\n",
    "    print(row['name'])\n",
    "    print(f\"Price per length: {row['Price per Length']}\")\n",
    "    print(f\"Price: {row['Total Price']}\")\n",
    "    print(f\"Dims: {row['Length']} x {row['Width']} x {row['Height']}\")\n",
    "    print(f\"Color: {row['Color']}\")\n",
    "    print(f'Treatments: {row[\"Treatments\"]}')\n",
    "    display(Image(url=row['image_url'], width=400))"
   ],
   "outputs": [
    {
     "name": "stdout",
     "output_type": "stream",
     "text": [
      "Num Results: 410\n",
      "https://www.thenaturalsapphirecompany.com/1.98ct-ceylon-sri-lanka-marquise-white-sapphire-s12382-/\n",
      "White Sapphire - Marquise 1.98 Ct. #S12382\n",
      "Price per length: 52.19683655536028\n",
      "Price: 594.0\n",
      "Dims: 11.38 x 5.47 x 4.3\n",
      "Color: White\n",
      "Treatments: Heated\n"
     ]
    },
    {
     "data": {
      "text/html": [
       "<img src=\"https://image.thenaturalsapphirecompany.com/nsc/sapphire/s12382/image/certified-natural-ceylon(srilanka)-pear-white-sapphire-1.9800-cts-s12382-1-full.jpg\" width=\"400\"/>"
      ],
      "text/plain": [
       "<IPython.core.display.Image object>"
      ]
     },
     "metadata": {},
     "output_type": "display_data"
    },
    {
     "name": "stdout",
     "output_type": "stream",
     "text": [
      "https://www.thenaturalsapphirecompany.com/1.87ct-ceylon-sri-lanka-pear-peach-sapphire-s11796-/\n",
      "Peach Sapphire - Pear 1.87 Ct. #S11796\n",
      "Price per length: 54.51895043731779\n",
      "Price: 561.0\n",
      "Dims: 10.29 x 5.98 x 4.22\n",
      "Color: Peach\n",
      "Treatments: No Enhancement\n"
     ]
    },
    {
     "data": {
      "text/html": [
       "<img src=\"https://image.thenaturalsapphirecompany.com/nsc/sapphire/s11796/image/certified-natural-untreated-ceylon(srilanka)-pear-yellow-sapphire-1.8700-cts-s11796-1-full.jpg\" width=\"400\"/>"
      ],
      "text/plain": [
       "<IPython.core.display.Image object>"
      ]
     },
     "metadata": {},
     "output_type": "display_data"
    },
    {
     "name": "stdout",
     "output_type": "stream",
     "text": [
      "https://www.thenaturalsapphirecompany.com/1.91ct-ceylon-sri-lanka-pear-white-sapphire-s12379-/\n",
      "White Sapphire - Pear 1.91 Ct. #S12379\n",
      "Price per length: 58.23170731707317\n",
      "Price: 573.0\n",
      "Dims: 9.84 x 6.67 x 4.04\n",
      "Color: White\n",
      "Treatments: Heated\n"
     ]
    },
    {
     "data": {
      "text/html": [
       "<img src=\"https://image.thenaturalsapphirecompany.com/nsc/sapphire/s12379/image/certified-natural-ceylon(srilanka)-emeraldcut-white-sapphire-1.9100-cts-s12379-1-full.jpg\" width=\"400\"/>"
      ],
      "text/plain": [
       "<IPython.core.display.Image object>"
      ]
     },
     "metadata": {},
     "output_type": "display_data"
    },
    {
     "name": "stdout",
     "output_type": "stream",
     "text": [
      "https://www.thenaturalsapphirecompany.com/1.77ct-ceylon-sri-lanka-pear-white-sapphire-s12380-/\n",
      "White Sapphire - Pear 1.77 Ct. #S12380\n",
      "Price per length: 58.73893805309735\n",
      "Price: 531.0\n",
      "Dims: 9.04 x 6.3 x 4.2\n",
      "Color: White\n",
      "Treatments: Heated\n"
     ]
    },
    {
     "data": {
      "text/html": [
       "<img src=\"https://image.thenaturalsapphirecompany.com/nsc/sapphire/s12380/image/certified-natural-ceylon(srilanka)-pear-white-sapphire-1.7700-cts-s12380-1-full.jpg\" width=\"400\"/>"
      ],
      "text/plain": [
       "<IPython.core.display.Image object>"
      ]
     },
     "metadata": {},
     "output_type": "display_data"
    },
    {
     "name": "stdout",
     "output_type": "stream",
     "text": [
      "https://www.thenaturalsapphirecompany.com/1.84ct-ceylon-sri-lanka-emerald-cut-white-sapphire-s12375-/\n",
      "White Sapphire - Emerald Cut 1.84 Ct. #S12375\n",
      "Price per length: 63.1578947368421\n",
      "Price: 552.0\n",
      "Dims: 8.74 x 5.4 x 4.0\n",
      "Color: White\n",
      "Treatments: Heated\n"
     ]
    },
    {
     "data": {
      "text/html": [
       "<img src=\"https://image.thenaturalsapphirecompany.com/nsc/sapphire/s12375/image/certified-natural-ceylon(srilanka)-emeraldcut-white-sapphire-1.8400-cts-s12375-1-full.jpg\" width=\"400\"/>"
      ],
      "text/plain": [
       "<IPython.core.display.Image object>"
      ]
     },
     "metadata": {},
     "output_type": "display_data"
    },
    {
     "name": "stdout",
     "output_type": "stream",
     "text": [
      "https://www.thenaturalsapphirecompany.com/1.95ct-ceylon-sri-lanka-pear-white-sapphire-s12381-/\n",
      "White Sapphire - Pear 1.95 Ct. #S12381\n",
      "Price per length: 64.35643564356435\n",
      "Price: 585.0\n",
      "Dims: 9.09 x 5.87 x 4.74\n",
      "Color: White\n",
      "Treatments: Heated\n"
     ]
    },
    {
     "data": {
      "text/html": [
       "<img src=\"https://image.thenaturalsapphirecompany.com/nsc/sapphire/s12381/image/certified-natural-ceylon(srilanka)-pear-white-sapphire-1.9500-cts-s12381-1-full.jpg\" width=\"400\"/>"
      ],
      "text/plain": [
       "<IPython.core.display.Image object>"
      ]
     },
     "metadata": {},
     "output_type": "display_data"
    },
    {
     "name": "stdout",
     "output_type": "stream",
     "text": [
      "https://www.thenaturalsapphirecompany.com/1.38ct-ceylon-sri-lanka-cushion-peach-sapphire-s15269-/\n",
      "Peach Sapphire - Cushion 1.38 Ct. #S15269\n",
      "Price per length: 71.41009055627426\n",
      "Price: 552.0\n",
      "Dims: 7.73 x 5.67 x 3.53\n",
      "Color: Peach\n",
      "Treatments: No Enhancement\n"
     ]
    },
    {
     "data": {
      "text/html": [
       "<img src=\"https://image.thenaturalsapphirecompany.com/nsc/sapphire/s15269/image/certified-natural-untreated-ceylon(srilanka)-cushion-peach-sapphire-1.3800-cts-s15269-1-full.jpg\" width=\"400\"/>"
      ],
      "text/plain": [
       "<IPython.core.display.Image object>"
      ]
     },
     "metadata": {},
     "output_type": "display_data"
    },
    {
     "name": "stdout",
     "output_type": "stream",
     "text": [
      "https://www.thenaturalsapphirecompany.com/1.27ct-ceylon-sri-lanka-round-white-sapphire-s12409-/\n",
      "White Sapphire - Round 1.27 Ct. #S12409\n",
      "Price per length: 72.46790299572041\n",
      "Price: 508.0\n",
      "Dims: 7.01 x 6.99 x 3.86\n",
      "Color: White\n",
      "Treatments: Heated\n"
     ]
    },
    {
     "data": {
      "text/html": [
       "<img src=\"https://image.thenaturalsapphirecompany.com/nsc/sapphire/s12409/image/certified-natural-ceylon(srilanka)-round-white-sapphire-1.2700-cts-s12409-1-full.jpg\" width=\"400\"/>"
      ],
      "text/plain": [
       "<IPython.core.display.Image object>"
      ]
     },
     "metadata": {},
     "output_type": "display_data"
    },
    {
     "name": "stdout",
     "output_type": "stream",
     "text": [
      "https://www.thenaturalsapphirecompany.com/1.18ct-ceylon-sri-lanka-radiant-peach-sapphire-u16843-/\n",
      "Peach Sapphire - Radiant 1.18 Ct. #U16843\n",
      "Price per length: 72.8395061728395\n",
      "Price: 531.0\n",
      "Dims: 7.29 x 5.83 x 3.04\n",
      "Color: Peach\n",
      "Treatments: Heated\n"
     ]
    },
    {
     "data": {
      "text/html": [
       "<img src=\"https://image.thenaturalsapphirecompany.com/nsc/sapphire/u16843/image/certified-natural-ceylon(srilanka)-radiant-peach-sapphire-1.1800-cts-u16843-1-full.jpg\" width=\"400\"/>"
      ],
      "text/plain": [
       "<IPython.core.display.Image object>"
      ]
     },
     "metadata": {},
     "output_type": "display_data"
    },
    {
     "name": "stdout",
     "output_type": "stream",
     "text": [
      "https://www.thenaturalsapphirecompany.com/1.37ct-ceylon-sri-lanka-radiant-peach-sapphire-s5840-/\n",
      "Peach Sapphire - Radiant 1.37 Ct. #S5840\n",
      "Price per length: 73.16421895861149\n",
      "Price: 548.0\n",
      "Dims: 7.49 x 5.97 x 3.73\n",
      "Color: Peach\n",
      "Treatments: No Enhancement\n"
     ]
    },
    {
     "data": {
      "text/html": [
       "<img src=\"https://image.thenaturalsapphirecompany.com/nsc/sapphire/s5840/image/certified-natural-untreated-ceylon(srilanka)-radiant-white-sapphire-1.3700-cts-s5840-1-full.jpg\" width=\"400\"/>"
      ],
      "text/plain": [
       "<IPython.core.display.Image object>"
      ]
     },
     "metadata": {},
     "output_type": "display_data"
    },
    {
     "name": "stdout",
     "output_type": "stream",
     "text": [
      "https://www.thenaturalsapphirecompany.com/1.77ct-ceylon-sri-lanka-emerald-cut-white-sapphire-s12378-/\n",
      "White Sapphire - Emerald Cut 1.77 Ct. #S12378\n",
      "Price per length: 74.26573426573427\n",
      "Price: 531.0\n",
      "Dims: 7.15 x 5.67 x 4.42\n",
      "Color: White\n",
      "Treatments: Heated\n"
     ]
    },
    {
     "data": {
      "text/html": [
       "<img src=\"https://image.thenaturalsapphirecompany.com/nsc/sapphire/s12378/image/certified-natural-ceylon(srilanka)-emeraldcut-white-sapphire-1.7700-cts-s12378-1-full.jpg\" width=\"400\"/>"
      ],
      "text/plain": [
       "<IPython.core.display.Image object>"
      ]
     },
     "metadata": {},
     "output_type": "display_data"
    },
    {
     "name": "stdout",
     "output_type": "stream",
     "text": [
      "https://www.thenaturalsapphirecompany.com/1.04ct-ceylon-sri-lanka-oval-white-sapphire-u16827-/\n",
      "White Sapphire - Oval 1.04 Ct. #U16827\n",
      "Price per length: 74.39198855507868\n",
      "Price: 520.0\n",
      "Dims: 6.99 x 5.13 x 3.59\n",
      "Color: White\n",
      "Treatments: Heated\n"
     ]
    },
    {
     "data": {
      "text/html": [
       "<img src=\"https://image.thenaturalsapphirecompany.com/nsc/sapphire/u16827/image/certified-natural-ceylon(srilanka)-oval-white-sapphire-1.0400-cts-u16827-1-full.jpg\" width=\"400\"/>"
      ],
      "text/plain": [
       "<IPython.core.display.Image object>"
      ]
     },
     "metadata": {},
     "output_type": "display_data"
    },
    {
     "name": "stdout",
     "output_type": "stream",
     "text": [
      "https://www.thenaturalsapphirecompany.com/1.17ct-ceylon-sri-lanka-emerald-cut-white-sapphire-u6311-/\n",
      "White Sapphire - Emerald Cut 1.17 Ct. #U6311\n",
      "Price per length: 74.85795454545455\n",
      "Price: 527.0\n",
      "Dims: 7.04 x 4.97 x 3.65\n",
      "Color: White\n",
      "Treatments: Heated\n"
     ]
    },
    {
     "data": {
      "text/html": [
       "<img src=\"https://image.thenaturalsapphirecompany.com/nsc/sapphire/u6311/image/certified-natural-ceylon-emeraldcut-white-sapphire-1.1700-cts-u6311-1-full.jpg\" width=\"400\"/>"
      ],
      "text/plain": [
       "<IPython.core.display.Image object>"
      ]
     },
     "metadata": {},
     "output_type": "display_data"
    },
    {
     "name": "stdout",
     "output_type": "stream",
     "text": [
      "https://www.thenaturalsapphirecompany.com/1.41ct-ceylon-sri-lanka-pear-white-sapphire-s16212-/\n",
      "White Sapphire - Pear 1.41 Ct. #S16212\n",
      "Price per length: 75.50200803212851\n",
      "Price: 564.0\n",
      "Dims: 7.47 x 6.98 x 3.83\n",
      "Color: White\n",
      "Treatments: Heated\n"
     ]
    },
    {
     "data": {
      "text/html": [
       "<img src=\"https://image.thenaturalsapphirecompany.com/nsc/sapphire/s16212/image/certified-natural-ceylon(srilanka)-pear-white-sapphire-1.4100-cts-s16212-1-full.jpg\" width=\"400\"/>"
      ],
      "text/plain": [
       "<IPython.core.display.Image object>"
      ]
     },
     "metadata": {},
     "output_type": "display_data"
    },
    {
     "name": "stdout",
     "output_type": "stream",
     "text": [
      "https://www.thenaturalsapphirecompany.com/1.14ct-ceylon-sri-lanka-pear-peach-sapphire-u16968-/\n",
      "Peach Sapphire - Pear 1.14 Ct. #U16968\n",
      "Price per length: 75.89880159786951\n",
      "Price: 570.0\n",
      "Dims: 7.51 x 5.72 x 3.79\n",
      "Color: Peach\n",
      "Treatments: Heated\n"
     ]
    },
    {
     "data": {
      "text/html": [
       "<img src=\"https://image.thenaturalsapphirecompany.com/nsc/sapphire/u16968/image/certified-natural-ceylon(srilanka)-pear-peach-sapphire-1.1400-cts-u16968-1-full.jpg\" width=\"400\"/>"
      ],
      "text/plain": [
       "<IPython.core.display.Image object>"
      ]
     },
     "metadata": {},
     "output_type": "display_data"
    },
    {
     "name": "stdout",
     "output_type": "stream",
     "text": [
      "https://www.thenaturalsapphirecompany.com/1.35ct-ceylon-sri-lanka-round-white-sapphire-s12419-/\n",
      "White Sapphire - Round 1.35 Ct. #S12419\n",
      "Price per length: 76.27118644067797\n",
      "Price: 540.0\n",
      "Dims: 7.08 x 7.05 x 4.08\n",
      "Color: White\n",
      "Treatments: Heated\n"
     ]
    },
    {
     "data": {
      "text/html": [
       "<img src=\"https://image.thenaturalsapphirecompany.com/nsc/sapphire/s12419/image/certified-natural-ceylon(srilanka)-round-white-sapphire-1.3500-cts-s12419-1-full.jpg\" width=\"400\"/>"
      ],
      "text/plain": [
       "<IPython.core.display.Image object>"
      ]
     },
     "metadata": {},
     "output_type": "display_data"
    },
    {
     "name": "stdout",
     "output_type": "stream",
     "text": [
      "https://www.thenaturalsapphirecompany.com/1.37ct-ceylon-sri-lanka-round-white-sapphire-s12414-/\n",
      "White Sapphire - Round 1.37 Ct. #S12414\n",
      "Price per length: 77.62039660056658\n",
      "Price: 548.0\n",
      "Dims: 7.06 x 7.17 x 4.06\n",
      "Color: White\n",
      "Treatments: Heated\n"
     ]
    },
    {
     "data": {
      "text/html": [
       "<img src=\"https://image.thenaturalsapphirecompany.com/nsc/sapphire/s12414/image/certified-natural-ceylon(srilanka)-round-white-sapphire-1.3700-cts-s12414-1-full.jpg\" width=\"400\"/>"
      ],
      "text/plain": [
       "<IPython.core.display.Image object>"
      ]
     },
     "metadata": {},
     "output_type": "display_data"
    },
    {
     "name": "stdout",
     "output_type": "stream",
     "text": [
      "https://www.thenaturalsapphirecompany.com/1.36ct-ceylon-sri-lanka-round-white-sapphire-s12403-/\n",
      "White Sapphire - Round 1.36 Ct. #S12403\n",
      "Price per length: 78.04878048780488\n",
      "Price: 544.0\n",
      "Dims: 6.97 x 6.99 x 3.94\n",
      "Color: White\n",
      "Treatments: Heated\n"
     ]
    },
    {
     "data": {
      "text/html": [
       "<img src=\"https://image.thenaturalsapphirecompany.com/nsc/sapphire/s12403/image/certified-natural-ceylon(srilanka)-round-white-sapphire-1.3600-cts-s12403-1-full.jpg\" width=\"400\"/>"
      ],
      "text/plain": [
       "<IPython.core.display.Image object>"
      ]
     },
     "metadata": {},
     "output_type": "display_data"
    },
    {
     "name": "stdout",
     "output_type": "stream",
     "text": [
      "https://www.thenaturalsapphirecompany.com/1.38ct-ceylon-sri-lanka-round-white-sapphire-s12406-/\n",
      "White Sapphire - Round 1.38 Ct. #S12406\n",
      "Price per length: 78.63247863247864\n",
      "Price: 552.0\n",
      "Dims: 7.02 x 7.01 x 4.17\n",
      "Color: White\n",
      "Treatments: Heated\n"
     ]
    },
    {
     "data": {
      "text/html": [
       "<img src=\"https://image.thenaturalsapphirecompany.com/nsc/sapphire/s12406/image/certified-natural-ceylon(srilanka)-round-white-sapphire-1.3800-cts-s12406-1-full.jpg\" width=\"400\"/>"
      ],
      "text/plain": [
       "<IPython.core.display.Image object>"
      ]
     },
     "metadata": {},
     "output_type": "display_data"
    },
    {
     "name": "stdout",
     "output_type": "stream",
     "text": [
      "https://www.thenaturalsapphirecompany.com/1.39ct-ceylon-sri-lanka-round-white-sapphire-s12405-/\n",
      "White Sapphire - Round 1.39 Ct. #S12405\n",
      "Price per length: 78.97727272727273\n",
      "Price: 556.0\n",
      "Dims: 7.04 x 7.04 x 4.06\n",
      "Color: White\n",
      "Treatments: Heated\n"
     ]
    },
    {
     "data": {
      "text/html": [
       "<img src=\"https://image.thenaturalsapphirecompany.com/nsc/sapphire/s12405/image/certified-natural-ceylon(srilanka)-round-white-sapphire-1.3900-cts-s12405-1-full.jpg\" width=\"400\"/>"
      ],
      "text/plain": [
       "<IPython.core.display.Image object>"
      ]
     },
     "metadata": {},
     "output_type": "display_data"
    },
    {
     "name": "stdout",
     "output_type": "stream",
     "text": [
      "https://www.thenaturalsapphirecompany.com/1.28ct-ceylon-sri-lanka-round-white-sapphire-s10876-/\n",
      "White Sapphire - Round 1.28 Ct. #S10876\n",
      "Price per length: 79.13446676970634\n",
      "Price: 512.0\n",
      "Dims: 6.47 x 6.46 x 4.39\n",
      "Color: White\n",
      "Treatments: No Enhancement\n"
     ]
    },
    {
     "data": {
      "text/html": [
       "<img src=\"https://image.thenaturalsapphirecompany.com/nsc/sapphire/s10876/image/certified-natural-untreated-ceylon(srilanka)-round-white-sapphire-1.2800-cts-s10876-1-full.jpg\" width=\"400\"/>"
      ],
      "text/plain": [
       "<IPython.core.display.Image object>"
      ]
     },
     "metadata": {},
     "output_type": "display_data"
    },
    {
     "name": "stdout",
     "output_type": "stream",
     "text": [
      "https://www.thenaturalsapphirecompany.com/1.54ct-ceylon-sri-lanka-emerald-cut-white-sapphire-u13743-/\n",
      "White Sapphire - Emerald Cut 1.54 Ct. #U13743\n",
      "Price per length: 79.17737789203085\n",
      "Price: 616.0\n",
      "Dims: 7.78 x 5.29 x 3.79\n",
      "Color: White\n",
      "Treatments: Heated\n"
     ]
    },
    {
     "data": {
      "text/html": [
       "<img src=\"https://image.thenaturalsapphirecompany.com/nsc/sapphire/u13743/image/certified-natural-ceylon-emeraldcut-white-sapphire-1.5400-cts-u13743-1-full.jpg\" width=\"400\"/>"
      ],
      "text/plain": [
       "<IPython.core.display.Image object>"
      ]
     },
     "metadata": {},
     "output_type": "display_data"
    },
    {
     "name": "stdout",
     "output_type": "stream",
     "text": [
      "https://www.thenaturalsapphirecompany.com/1.40ct-ceylon-sri-lanka-round-white-sapphire-s12417-/\n",
      "White Sapphire - Round 1.40 Ct. #S12417\n",
      "Price per length: 80.92485549132948\n",
      "Price: 560.0\n",
      "Dims: 6.92 x 6.99 x 4.39\n",
      "Color: White\n",
      "Treatments: Heated\n"
     ]
    },
    {
     "data": {
      "text/html": [
       "<img src=\"https://image.thenaturalsapphirecompany.com/nsc/sapphire/s12417/image/certified-natural-ceylon(srilanka)-round-white-sapphire-1.4000-cts-s12417-1-full.jpg\" width=\"400\"/>"
      ],
      "text/plain": [
       "<IPython.core.display.Image object>"
      ]
     },
     "metadata": {},
     "output_type": "display_data"
    },
    {
     "name": "stdout",
     "output_type": "stream",
     "text": [
      "https://www.thenaturalsapphirecompany.com/1.35ct-ceylon-sri-lanka-cushion-peach-sapphire-u12614-/\n",
      "Peach Sapphire - Cushion 1.35 Ct. #U12614\n",
      "Price per length: 81.203007518797\n",
      "Price: 540.0\n",
      "Dims: 6.65 x 6.61 x 3.62\n",
      "Color: Peach\n",
      "Treatments: No Enhancement\n"
     ]
    },
    {
     "data": {
      "text/html": [
       "<img src=\"https://image.thenaturalsapphirecompany.com/nsc/sapphire/u12614/image/certified-natural-untreated-ceylon-cushion-peach-sapphire-1.3500-cts-u12614-1-full.jpg\" width=\"400\"/>"
      ],
      "text/plain": [
       "<IPython.core.display.Image object>"
      ]
     },
     "metadata": {},
     "output_type": "display_data"
    },
    {
     "name": "stdout",
     "output_type": "stream",
     "text": [
      "https://www.thenaturalsapphirecompany.com/1.48ct-ceylon-sri-lanka-round-white-sapphire-s12390-/\n",
      "White Sapphire - Round 1.48 Ct. #S12390\n",
      "Price per length: 83.61581920903954\n",
      "Price: 592.0\n",
      "Dims: 7.08 x 7.07 x 4.17\n",
      "Color: White\n",
      "Treatments: Heated\n"
     ]
    },
    {
     "data": {
      "text/html": [
       "<img src=\"https://image.thenaturalsapphirecompany.com/nsc/sapphire/s12390/image/certified-natural-ceylon(srilanka)-round-white-sapphire-1.4800-cts-s12390-1-full.jpg\" width=\"400\"/>"
      ],
      "text/plain": [
       "<IPython.core.display.Image object>"
      ]
     },
     "metadata": {},
     "output_type": "display_data"
    },
    {
     "name": "stdout",
     "output_type": "stream",
     "text": [
      "https://www.thenaturalsapphirecompany.com/1.47ct-ceylon-sri-lanka-round-white-sapphire-s12413-/\n",
      "White Sapphire - Round 1.47 Ct. #S12413\n",
      "Price per length: 84.97109826589596\n",
      "Price: 588.0\n",
      "Dims: 6.92 x 6.92 x 4.39\n",
      "Color: White\n",
      "Treatments: Heated\n"
     ]
    },
    {
     "data": {
      "text/html": [
       "<img src=\"https://image.thenaturalsapphirecompany.com/nsc/sapphire/s12413/image/certified-natural-ceylon(srilanka)-round-white-sapphire-1.4700-cts-s12413-1-full.jpg\" width=\"400\"/>"
      ],
      "text/plain": [
       "<IPython.core.display.Image object>"
      ]
     },
     "metadata": {},
     "output_type": "display_data"
    },
    {
     "name": "stdout",
     "output_type": "stream",
     "text": [
      "https://www.thenaturalsapphirecompany.com/1.32ct-ceylon-sri-lanka-oval-peach-sapphire-u16846-/\n",
      "Peach Sapphire - Oval 1.32 Ct. #U16846\n",
      "Price per length: 85.46762589928058\n",
      "Price: 594.0\n",
      "Dims: 6.95 x 6.15 x 3.65\n",
      "Color: Peach\n",
      "Treatments: Heated\n"
     ]
    },
    {
     "data": {
      "text/html": [
       "<img src=\"https://image.thenaturalsapphirecompany.com/nsc/sapphire/u16846/image/certified-natural-ceylon(srilanka)-oval-peach-sapphire-1.3200-cts-u16846-1-full.jpg\" width=\"400\"/>"
      ],
      "text/plain": [
       "<IPython.core.display.Image object>"
      ]
     },
     "metadata": {},
     "output_type": "display_data"
    },
    {
     "name": "stdout",
     "output_type": "stream",
     "text": [
      "https://www.thenaturalsapphirecompany.com/1.27ct-ceylon-sri-lanka-oval-peach-sapphire-s16412-/\n",
      "Peach Sapphire - Oval 1.27 Ct. #S16412\n",
      "Price per length: 85.53615960099751\n",
      "Price: 686.0\n",
      "Dims: 8.02 x 6.34 x 3.22\n",
      "Color: Peach\n",
      "Treatments: No Enhancement\n"
     ]
    },
    {
     "data": {
      "text/html": [
       "<img src=\"https://image.thenaturalsapphirecompany.com/nsc/sapphire/s16412/image/certified-natural-untreated-ceylon(srilanka)-oval-peach-sapphire-1.2700-cts-s16412-1-full.jpg\" width=\"400\"/>"
      ],
      "text/plain": [
       "<IPython.core.display.Image object>"
      ]
     },
     "metadata": {},
     "output_type": "display_data"
    },
    {
     "name": "stdout",
     "output_type": "stream",
     "text": [
      "https://www.thenaturalsapphirecompany.com/1.17ct-ceylon-sri-lanka-oval-peach-sapphire-u16985-/\n",
      "Peach Sapphire - Oval 1.17 Ct. #U16985\n",
      "Price per length: 87.1833084947839\n",
      "Price: 585.0\n",
      "Dims: 6.71 x 6.18 x 3.59\n",
      "Color: Peach\n",
      "Treatments: Heated\n"
     ]
    },
    {
     "data": {
      "text/html": [
       "<img src=\"https://image.thenaturalsapphirecompany.com/nsc/sapphire/u16985/image/certified-natural-ceylon(srilanka)-oval-peach-sapphire-1.1700-cts-u16985-1-full.jpg\" width=\"400\"/>"
      ],
      "text/plain": [
       "<IPython.core.display.Image object>"
      ]
     },
     "metadata": {},
     "output_type": "display_data"
    },
    {
     "name": "stdout",
     "output_type": "stream",
     "text": [
      "https://www.thenaturalsapphirecompany.com/1.54ct-ceylon-sri-lanka-pear-peach-sapphire-u16847-/\n",
      "Peach Sapphire - Pear 1.54 Ct. #U16847\n",
      "Price per length: 87.72151898734177\n",
      "Price: 693.0\n",
      "Dims: 7.9 x 5.65 x 4.08\n",
      "Color: Peach\n",
      "Treatments: Heated\n"
     ]
    },
    {
     "data": {
      "text/html": [
       "<img src=\"https://image.thenaturalsapphirecompany.com/nsc/sapphire/u16847/image/certified-natural-ceylon(srilanka)-pear-peach-sapphire-1.5400-cts-u16847-1-full.jpg\" width=\"400\"/>"
      ],
      "text/plain": [
       "<IPython.core.display.Image object>"
      ]
     },
     "metadata": {},
     "output_type": "display_data"
    },
    {
     "name": "stdout",
     "output_type": "stream",
     "text": [
      "https://www.thenaturalsapphirecompany.com/1.86ct-ceylon-sri-lanka-emerald-cut-white-sapphire-s12428-/\n",
      "White Sapphire - Emerald Cut 1.86 Ct. #S12428\n",
      "Price per length: 88.36104513064133\n",
      "Price: 744.0\n",
      "Dims: 8.42 x 5.85 x 3.86\n",
      "Color: White\n",
      "Treatments: Heated\n"
     ]
    },
    {
     "data": {
      "text/html": [
       "<img src=\"https://image.thenaturalsapphirecompany.com/nsc/sapphire/s12428/image/certified-natural-ceylon(srilanka)-round-white-sapphire-1.8600-cts-s12428-1-full.jpg\" width=\"400\"/>"
      ],
      "text/plain": [
       "<IPython.core.display.Image object>"
      ]
     },
     "metadata": {},
     "output_type": "display_data"
    },
    {
     "name": "stdout",
     "output_type": "stream",
     "text": [
      "https://www.thenaturalsapphirecompany.com/1.12ct-ceylon-sri-lanka-cushion-peach-sapphire-s4955-/\n",
      "Peach Sapphire - Cushion 1.12 Ct. #S4955\n",
      "Price per length: 88.6326194398682\n",
      "Price: 538.0\n",
      "Dims: 6.07 x 5.56 x 4.19\n",
      "Color: Peach\n",
      "Treatments: No Enhancement\n"
     ]
    },
    {
     "data": {
      "text/html": [
       "<img src=\"https://image.thenaturalsapphirecompany.com/nsc/sapphire/s4955/image/certified-natural-untreated-ceylon(srilanka)-cushion-peach-sapphire-1.1200-cts-s4955-1-full.jpg\" width=\"400\"/>"
      ],
      "text/plain": [
       "<IPython.core.display.Image object>"
      ]
     },
     "metadata": {},
     "output_type": "display_data"
    },
    {
     "name": "stdout",
     "output_type": "stream",
     "text": [
      "https://www.thenaturalsapphirecompany.com/1.54ct-ceylon-sri-lanka-cushion-peach-sapphire-u15865-/\n",
      "Peach Sapphire - Cushion 1.54 Ct. #U15865\n",
      "Price per length: 89.79591836734693\n",
      "Price: 616.0\n",
      "Dims: 6.86 x 6.73 x 3.75\n",
      "Color: Peach\n",
      "Treatments: Heated\n"
     ]
    },
    {
     "data": {
      "text/html": [
       "<img src=\"https://image.thenaturalsapphirecompany.com/nsc/sapphire/u15865/image/certified-natural-ceylon(srilanka)-cushion-peach-sapphire-1.5400-cts-u15865-1-full.jpg\" width=\"400\"/>"
      ],
      "text/plain": [
       "<IPython.core.display.Image object>"
      ]
     },
     "metadata": {},
     "output_type": "display_data"
    },
    {
     "name": "stdout",
     "output_type": "stream",
     "text": [
      "https://www.thenaturalsapphirecompany.com/1.18ct-madagascar-cushion-peach-sapphire-u16081-/\n",
      "Peach Sapphire - Cushion 1.18 Ct. #U16081\n",
      "Price per length: 94.02390438247012\n",
      "Price: 708.0\n",
      "Dims: 7.53 x 5.84 x 2.81\n",
      "Color: Peach\n",
      "Treatments: Heated\n"
     ]
    },
    {
     "data": {
      "text/html": [
       "<img src=\"https://image.thenaturalsapphirecompany.com/nsc/sapphire/u16081/image/certified-natural-madagascar-cushion-peach-sapphire-1.1800-cts-u16081-1-full.jpg\" width=\"400\"/>"
      ],
      "text/plain": [
       "<IPython.core.display.Image object>"
      ]
     },
     "metadata": {},
     "output_type": "display_data"
    },
    {
     "name": "stdout",
     "output_type": "stream",
     "text": [
      "https://www.thenaturalsapphirecompany.com/1.50ct-ceylon-sri-lanka-radiant-white-sapphire-s16213-/\n",
      "White Sapphire - Radiant 1.50 Ct. #S16213\n",
      "Price per length: 94.48818897637796\n",
      "Price: 600.0\n",
      "Dims: 6.35 x 6.24 x 4.46\n",
      "Color: White\n",
      "Treatments: Heated\n"
     ]
    },
    {
     "data": {
      "text/html": [
       "<img src=\"https://image.thenaturalsapphirecompany.com/nsc/sapphire/s16213/image/certified-natural-untreated-ceylon(srilanka)-radiant-white-sapphire-1.5000-cts-s16213-1-full.jpg\" width=\"400\"/>"
      ],
      "text/plain": [
       "<IPython.core.display.Image object>"
      ]
     },
     "metadata": {},
     "output_type": "display_data"
    },
    {
     "name": "stdout",
     "output_type": "stream",
     "text": [
      "https://www.thenaturalsapphirecompany.com/1.80ct-ceylon-sri-lanka-round-white-sapphire-s12412-/\n",
      "White Sapphire - Round 1.80 Ct. #S12412\n",
      "Price per length: 95.112285336856\n",
      "Price: 720.0\n",
      "Dims: 7.57 x 7.62 x 4.61\n",
      "Color: White\n",
      "Treatments: Heated\n"
     ]
    },
    {
     "data": {
      "text/html": [
       "<img src=\"https://image.thenaturalsapphirecompany.com/nsc/sapphire/s12412/image/certified-natural-ceylon(srilanka)-round-white-sapphire-1.8000-cts-s12412-1-full.jpg\" width=\"400\"/>"
      ],
      "text/plain": [
       "<IPython.core.display.Image object>"
      ]
     },
     "metadata": {},
     "output_type": "display_data"
    },
    {
     "name": "stdout",
     "output_type": "stream",
     "text": [
      "https://www.thenaturalsapphirecompany.com/1.13ct-ceylon-sri-lanka-pear-padparadscha-sapphire-s8043-/\n",
      "Padparadscha Sapphire - Pear 1.13 Ct. #S8043\n",
      "Price per length: 98.159509202454\n",
      "Price: 800.0\n",
      "Dims: 8.15 x 5.77 x 3.46\n",
      "Color: Padparadscha (Pinkish-Orange / Orangish-Pink)\n",
      "Treatments: No Enhancement\n"
     ]
    },
    {
     "data": {
      "text/html": [
       "<img src=\"https://image.thenaturalsapphirecompany.com/nsc/sapphire/s8043/image/certified-natural-untreated-ceylon(srilanka)-pear-padparadscha-sapphire-1.1300-cts-s8043-1-full.jpg\" width=\"400\"/>"
      ],
      "text/plain": [
       "<IPython.core.display.Image object>"
      ]
     },
     "metadata": {},
     "output_type": "display_data"
    },
    {
     "name": "stdout",
     "output_type": "stream",
     "text": [
      "https://www.thenaturalsapphirecompany.com/2.03ct-ceylon-sri-lanka-pear-white-sapphire-s10624-/\n",
      "White Sapphire - Pear 2.03 Ct. #S10624\n",
      "Price per length: 99.11190053285968\n",
      "Price: 1116.0\n",
      "Dims: 11.26 x 6.81 x 3.61\n",
      "Color: White\n",
      "Treatments: No Enhancement\n"
     ]
    },
    {
     "data": {
      "text/html": [
       "<img src=\"https://image.thenaturalsapphirecompany.com/nsc/sapphire/s10624/image/certified-natural-untreated-ceylon(srilanka)-pear-white-sapphire-2.0300-cts-s10624-1-full.jpg\" width=\"400\"/>"
      ],
      "text/plain": [
       "<IPython.core.display.Image object>"
      ]
     },
     "metadata": {},
     "output_type": "display_data"
    },
    {
     "name": "stdout",
     "output_type": "stream",
     "text": [
      "https://www.thenaturalsapphirecompany.com/1.16ct-ceylon-sri-lanka-asscher-octagon-white-sapphire-u16881-/\n",
      "White Sapphire - Asscher - Octagon 1.16 Ct. #U16881\n",
      "Price per length: 100.4724409448819\n",
      "Price: 638.0\n",
      "Dims: 6.35 x 6.28 x 3.56\n",
      "Color: White\n",
      "Treatments: Heated\n"
     ]
    },
    {
     "data": {
      "text/html": [
       "<img src=\"https://image.thenaturalsapphirecompany.com/nsc/sapphire/u16881/image/certified-natural-ceylon(srilanka)-asscher-white-sapphire-1.1600-cts-u16881-1-full.jpg\" width=\"400\"/>"
      ],
      "text/plain": [
       "<IPython.core.display.Image object>"
      ]
     },
     "metadata": {},
     "output_type": "display_data"
    },
    {
     "name": "stdout",
     "output_type": "stream",
     "text": [
      "https://www.thenaturalsapphirecompany.com/1.14ct-tanzania-pear-white-sapphire-s15351-/\n",
      "White Sapphire - Pear 1.14 Ct. #S15351\n",
      "Price per length: 101.78117048346056\n",
      "Price: 800.0\n",
      "Dims: 7.86 x 5.61 x 3.74\n",
      "Color: White\n",
      "Treatments: Heated\n"
     ]
    },
    {
     "data": {
      "text/html": [
       "<img src=\"https://image.thenaturalsapphirecompany.com/nsc/sapphire/s15351/image/certified-natural-tanzania-pear-white-sapphire-1.1400-cts-s15351-1-full.jpg\" width=\"400\"/>"
      ],
      "text/plain": [
       "<IPython.core.display.Image object>"
      ]
     },
     "metadata": {},
     "output_type": "display_data"
    },
    {
     "name": "stdout",
     "output_type": "stream",
     "text": [
      "https://www.thenaturalsapphirecompany.com/1.57ct-ceylon-sri-lanka-oval-white-sapphire-s10642-/\n",
      "White Sapphire - Oval 1.57 Ct. #S10642\n",
      "Price per length: 102.97973778307508\n",
      "Price: 864.0\n",
      "Dims: 8.39 x 6.37 x 3.65\n",
      "Color: White\n",
      "Treatments: No Enhancement\n"
     ]
    },
    {
     "data": {
      "text/html": [
       "<img src=\"https://image.thenaturalsapphirecompany.com/nsc/sapphire/s10642/image/certified-natural-untreated-ceylon(srilanka)-oval-white-sapphire-1.5700-cts-s10642-1-full.jpg\" width=\"400\"/>"
      ],
      "text/plain": [
       "<IPython.core.display.Image object>"
      ]
     },
     "metadata": {},
     "output_type": "display_data"
    },
    {
     "name": "stdout",
     "output_type": "stream",
     "text": [
      "https://www.thenaturalsapphirecompany.com/1.03ct-ceylon-sri-lanka-radiant-white-sapphire-s9530-/\n",
      "White Sapphire - Radiant 1.03 Ct. #S9530\n",
      "Price per length: 103.0\n",
      "Price: 721.0\n",
      "Dims: 7.0 x 5.01 x 3.32\n",
      "Color: White\n",
      "Treatments: Heated\n"
     ]
    },
    {
     "data": {
      "text/html": [
       "<img src=\"https://image.thenaturalsapphirecompany.com/nsc/sapphire/s9530/image/certified-natural-ceylon(srilanka)-emerald-white-sapphire-1.0300-cts-s9530-1-full.jpg\" width=\"400\"/>"
      ],
      "text/plain": [
       "<IPython.core.display.Image object>"
      ]
     },
     "metadata": {},
     "output_type": "display_data"
    },
    {
     "name": "stdout",
     "output_type": "stream",
     "text": [
      "https://www.thenaturalsapphirecompany.com/1.43ct-ceylon-sri-lanka-oval-peach-sapphire-s14300-/\n",
      "Peach Sapphire - Oval 1.43 Ct. #S14300\n",
      "Price per length: 103.87596899224806\n",
      "Price: 804.0\n",
      "Dims: 7.74 x 5.69 x 3.78\n",
      "Color: Peach\n",
      "Treatments: No Enhancement\n"
     ]
    },
    {
     "data": {
      "text/html": [
       "<img src=\"https://image.thenaturalsapphirecompany.com/nsc/sapphire/s14300/image/certified-natural-untreated-ceylon(srilanka)-oval-peach-sapphire-1.4300-cts-s14300-1-full.jpg\" width=\"400\"/>"
      ],
      "text/plain": [
       "<IPython.core.display.Image object>"
      ]
     },
     "metadata": {},
     "output_type": "display_data"
    },
    {
     "name": "stdout",
     "output_type": "stream",
     "text": [
      "https://www.thenaturalsapphirecompany.com/1.36ct-ceylon-sri-lanka-radiant-white-sapphire-s4956-/\n",
      "White Sapphire - Radiant 1.36 Ct. #S4956\n",
      "Price per length: 103.98089171974522\n",
      "Price: 653.0\n",
      "Dims: 6.28 x 5.82 x 4.22\n",
      "Color: White\n",
      "Treatments: Heated\n"
     ]
    },
    {
     "data": {
      "text/html": [
       "<img src=\"https://image.thenaturalsapphirecompany.com/nsc/sapphire/s4956/image/certified-natural-ceylon(srilanka)-radiant-white-sapphire-1.3600-cts-s4956-1-full.jpg\" width=\"400\"/>"
      ],
      "text/plain": [
       "<IPython.core.display.Image object>"
      ]
     },
     "metadata": {},
     "output_type": "display_data"
    },
    {
     "name": "stdout",
     "output_type": "stream",
     "text": [
      "https://www.thenaturalsapphirecompany.com/1.68ct-ceylon-sri-lanka-cushion-white-sapphire-u16848-/\n",
      "White Sapphire - Cushion 1.68 Ct. #U16848\n",
      "Price per length: 104.86891385767792\n",
      "Price: 840.0\n",
      "Dims: 8.01 x 6.68 x 3.73\n",
      "Color: White\n",
      "Treatments: Heated\n"
     ]
    },
    {
     "data": {
      "text/html": [
       "<img src=\"https://image.thenaturalsapphirecompany.com/nsc/sapphire/u16848/image/certified-natural-ceylon(srilanka)-cushion-white-sapphire-1.6800-cts-u16848-1-full.jpg\" width=\"400\"/>"
      ],
      "text/plain": [
       "<IPython.core.display.Image object>"
      ]
     },
     "metadata": {},
     "output_type": "display_data"
    },
    {
     "name": "stdout",
     "output_type": "stream",
     "text": [
      "https://www.thenaturalsapphirecompany.com/1.38ct-ceylon-sri-lanka-round-white-sapphire-s8028-/\n",
      "White Sapphire - Round 1.38 Ct. #S8028\n",
      "Price per length: 106.37393767705385\n",
      "Price: 751.0\n",
      "Dims: 7.06 x 7.02 x 3.96\n",
      "Color: White\n",
      "Treatments: Heated\n"
     ]
    },
    {
     "data": {
      "text/html": [
       "<img src=\"https://image.thenaturalsapphirecompany.com/nsc/sapphire/s8028/image/certified-natural-untreated-ceylon(srilanka)-round-white-sapphire-1.3800-cts-s8028-1-full.jpg\" width=\"400\"/>"
      ],
      "text/plain": [
       "<IPython.core.display.Image object>"
      ]
     },
     "metadata": {},
     "output_type": "display_data"
    },
    {
     "name": "stdout",
     "output_type": "stream",
     "text": [
      "https://www.thenaturalsapphirecompany.com/1.49ct-ceylon-sri-lanka-cushion-peach-sapphire-s10029-/\n",
      "Peach Sapphire - Cushion 1.49 Ct. #S10029\n",
      "Price per length: 106.6225165562914\n",
      "Price: 805.0\n",
      "Dims: 7.55 x 5.28 x 3.86\n",
      "Color: Peach\n",
      "Treatments: No Enhancement\n"
     ]
    },
    {
     "data": {
      "text/html": [
       "<img src=\"https://image.thenaturalsapphirecompany.com/nsc/sapphire/s10029/image/certified-natural-untreated-ceylon(srilanka)-cushion-peach-sapphire-1.4900-cts-s10029-1-full.jpg\" width=\"400\"/>"
      ],
      "text/plain": [
       "<IPython.core.display.Image object>"
      ]
     },
     "metadata": {},
     "output_type": "display_data"
    },
    {
     "name": "stdout",
     "output_type": "stream",
     "text": [
      "https://www.thenaturalsapphirecompany.com/1.22ct-ceylon-sri-lanka-cushion-peach-sapphire-s11560-/\n",
      "Peach Sapphire - Cushion 1.22 Ct. #S11560\n",
      "Price per length: 108.44444444444444\n",
      "Price: 732.0\n",
      "Dims: 6.75 x 5.07 x 3.88\n",
      "Color: Peach\n",
      "Treatments: No Enhancement\n"
     ]
    },
    {
     "data": {
      "text/html": [
       "<img src=\"https://image.thenaturalsapphirecompany.com/nsc/sapphire/s11560/image/certified-natural-untreated-ceylon(srilanka)-cushion-peach-sapphire-1.2200-cts-s11560-1-full.jpg\" width=\"400\"/>"
      ],
      "text/plain": [
       "<IPython.core.display.Image object>"
      ]
     },
     "metadata": {},
     "output_type": "display_data"
    },
    {
     "name": "stdout",
     "output_type": "stream",
     "text": [
      "https://www.thenaturalsapphirecompany.com/1.22ct-ceylon-sri-lanka-cushion-peach-sapphire-u17218-/\n",
      "Peach Sapphire - Cushion 1.22 Ct. #U17218\n",
      "Price per length: 108.92857142857144\n",
      "Price: 732.0\n",
      "Dims: 6.72 x 5.35 x 3.41\n",
      "Color: Peach\n",
      "Treatments: Heated\n"
     ]
    },
    {
     "data": {
      "text/html": [
       "<img src=\"https://image.thenaturalsapphirecompany.com/nsc/sapphire/u17218/image/certified-natural-ceylon(srilanka)-cushion-peach-sapphire-1.2200-cts-u17218-1-full.jpg\" width=\"400\"/>"
      ],
      "text/plain": [
       "<IPython.core.display.Image object>"
      ]
     },
     "metadata": {},
     "output_type": "display_data"
    },
    {
     "name": "stdout",
     "output_type": "stream",
     "text": [
      "https://www.thenaturalsapphirecompany.com/1.15ct-ceylon-sri-lanka-round-peach-sapphire-s14672-/\n",
      "Peach Sapphire - Round 1.15 Ct. #S14672\n",
      "Price per length: 109.35023771790809\n",
      "Price: 690.0\n",
      "Dims: 6.31 x 6.32 x 4.04\n",
      "Color: Peach\n",
      "Treatments: Heated\n"
     ]
    },
    {
     "data": {
      "text/html": [
       "<img src=\"https://image.thenaturalsapphirecompany.com/nsc/sapphire/s14672/image/certified-natural-ceylon(srilanka)-round-peach-sapphire-1.1500-cts-s14672-1-full.jpg\" width=\"400\"/>"
      ],
      "text/plain": [
       "<IPython.core.display.Image object>"
      ]
     },
     "metadata": {},
     "output_type": "display_data"
    },
    {
     "name": "stdout",
     "output_type": "stream",
     "text": [
      "https://www.thenaturalsapphirecompany.com/1.10ct-ceylon-sri-lanka-oval-peach-sapphire-u10873-/\n",
      "Peach Sapphire - Oval 1.10 Ct. #U10873\n",
      "Price per length: 109.70744680851064\n",
      "Price: 825.0\n",
      "Dims: 7.52 x 5.62 x 3.07\n",
      "Color: Peach\n",
      "Treatments: No Enhancement\n"
     ]
    },
    {
     "data": {
      "text/html": [
       "<img src=\"https://image.thenaturalsapphirecompany.com/nsc/sapphire/u10873/image/certified-natural-untreated-ceylon-oval-peach-sapphire-1.1000-cts-u10873-1-full.jpg\" width=\"400\"/>"
      ],
      "text/plain": [
       "<IPython.core.display.Image object>"
      ]
     },
     "metadata": {},
     "output_type": "display_data"
    },
    {
     "name": "stdout",
     "output_type": "stream",
     "text": [
      "https://www.thenaturalsapphirecompany.com/1.34ct-ceylon-sri-lanka-cushion-white-sapphire-u14350-/\n",
      "White Sapphire - Cushion 1.34 Ct. #U14350\n",
      "Price per length: 110.94674556213018\n",
      "Price: 750.0\n",
      "Dims: 6.76 x 6.75 x 3.61\n",
      "Color: White\n",
      "Treatments: No Enhancement\n"
     ]
    },
    {
     "data": {
      "text/html": [
       "<img src=\"https://image.thenaturalsapphirecompany.com/nsc/sapphire/u14350/image/certified-natural-untreated-ceylon-cushion-white-sapphire-1.3400-cts-u14350-1-full.jpg\" width=\"400\"/>"
      ],
      "text/plain": [
       "<IPython.core.display.Image object>"
      ]
     },
     "metadata": {},
     "output_type": "display_data"
    },
    {
     "name": "stdout",
     "output_type": "stream",
     "text": [
      "https://www.thenaturalsapphirecompany.com/1.62ct-ceylon-sri-lanka-round-peach-sapphire-s13976-/\n",
      "Peach Sapphire - Round 1.62 Ct. #S13976\n",
      "Price per length: 111.11111111111111\n",
      "Price: 800.0\n",
      "Dims: 7.2 x 7.25 x 4.01\n",
      "Color: Peach\n",
      "Treatments: No Enhancement\n"
     ]
    },
    {
     "data": {
      "text/html": [
       "<img src=\"https://image.thenaturalsapphirecompany.com/nsc/sapphire/s13976/image/certified-natural-untreated-ceylon(srilanka)-round-yellow-sapphire-1.6200-cts-s13976-1-full.jpg\" width=\"400\"/>"
      ],
      "text/plain": [
       "<IPython.core.display.Image object>"
      ]
     },
     "metadata": {},
     "output_type": "display_data"
    },
    {
     "name": "stdout",
     "output_type": "stream",
     "text": [
      "https://www.thenaturalsapphirecompany.com/1.21ct-ceylon-sri-lanka-round-peach-sapphire-s14032-/\n",
      "Peach Sapphire - Round 1.21 Ct. #S14032\n",
      "Price per length: 111.48325358851676\n",
      "Price: 699.0\n",
      "Dims: 6.27 x 6.3 x 3.82\n",
      "Color: Peach\n",
      "Treatments: No Enhancement\n"
     ]
    },
    {
     "data": {
      "text/html": [
       "<img src=\"https://image.thenaturalsapphirecompany.com/nsc/sapphire/s14032/image/certified-natural-untreated-ceylon(srilanka)-round-peach-sapphire-1.2100-cts-s14032-1-full.jpg\" width=\"400\"/>"
      ],
      "text/plain": [
       "<IPython.core.display.Image object>"
      ]
     },
     "metadata": {},
     "output_type": "display_data"
    },
    {
     "name": "stdout",
     "output_type": "stream",
     "text": [
      "https://www.thenaturalsapphirecompany.com/2.52ct-ceylon-sri-lanka-emerald-cut-white-sapphire-s12426-/\n",
      "White Sapphire - Emerald Cut 2.52 Ct. #S12426\n",
      "Price per length: 113.00448430493272\n",
      "Price: 1008.0\n",
      "Dims: 8.92 x 5.39 x 4.69\n",
      "Color: White\n",
      "Treatments: Heated\n"
     ]
    },
    {
     "data": {
      "text/html": [
       "<img src=\"https://image.thenaturalsapphirecompany.com/nsc/sapphire/s12426/image/certified-natural-ceylon(srilanka)-emeraldcut-white-sapphire-2.5200-cts-s12426-1-full.jpg\" width=\"400\"/>"
      ],
      "text/plain": [
       "<IPython.core.display.Image object>"
      ]
     },
     "metadata": {},
     "output_type": "display_data"
    },
    {
     "name": "stdout",
     "output_type": "stream",
     "text": [
      "https://www.thenaturalsapphirecompany.com/2.22ct-ceylon-sri-lanka-emerald-cut-white-sapphire-u16844-/\n",
      "White Sapphire - Emerald Cut 2.22 Ct. #U16844\n",
      "Price per length: 113.6518771331058\n",
      "Price: 999.0\n",
      "Dims: 8.79 x 5.78 x 4.3\n",
      "Color: White\n",
      "Treatments: Heated\n"
     ]
    },
    {
     "data": {
      "text/html": [
       "<img src=\"https://image.thenaturalsapphirecompany.com/nsc/sapphire/u16844/image/certified-natural-ceylon(srilanka)-radiant-white-sapphire-2.2200-cts-u16844-1-full.jpg\" width=\"400\"/>"
      ],
      "text/plain": [
       "<IPython.core.display.Image object>"
      ]
     },
     "metadata": {},
     "output_type": "display_data"
    },
    {
     "name": "stdout",
     "output_type": "stream",
     "text": [
      "https://www.thenaturalsapphirecompany.com/1.46ct-ceylon-sri-lanka-round-white-sapphire-s4968-/\n",
      "White Sapphire - Round 1.46 Ct. #S4968\n",
      "Price per length: 114.3874643874644\n",
      "Price: 803.0\n",
      "Dims: 7.02 x 6.94 x 4.03\n",
      "Color: White\n",
      "Treatments: Heated\n"
     ]
    },
    {
     "data": {
      "text/html": [
       "<img src=\"https://image.thenaturalsapphirecompany.com/nsc/sapphire/s4968/image/certified-natural-ceylon(srilanka)-round-white-sapphire-1.4600-cts-s4968-1-full.jpg\" width=\"400\"/>"
      ],
      "text/plain": [
       "<IPython.core.display.Image object>"
      ]
     },
     "metadata": {},
     "output_type": "display_data"
    },
    {
     "name": "stdout",
     "output_type": "stream",
     "text": [
      "https://www.thenaturalsapphirecompany.com/1.24ct-ceylon-sri-lanka-radiant-peach-sapphire-s10634-/\n",
      "Peach Sapphire - Radiant 1.24 Ct. #S10634\n",
      "Price per length: 116.30615640599002\n",
      "Price: 699.0\n",
      "Dims: 6.01 x 5.15 x 4.34\n",
      "Color: Peach\n",
      "Treatments: No Enhancement\n"
     ]
    },
    {
     "data": {
      "text/html": [
       "<img src=\"https://image.thenaturalsapphirecompany.com/nsc/sapphire/s10634/image/certified-natural-untreated-ceylon(srilanka)-radiant-peach-sapphire-1.2400-cts-s10634-1-full.jpg\" width=\"400\"/>"
      ],
      "text/plain": [
       "<IPython.core.display.Image object>"
      ]
     },
     "metadata": {},
     "output_type": "display_data"
    },
    {
     "name": "stdout",
     "output_type": "stream",
     "text": [
      "https://www.thenaturalsapphirecompany.com/1.23ct-ceylon-sri-lanka-emerald-cut-white-sapphire-s14020-/\n",
      "White Sapphire - Emerald Cut 1.23 Ct. #S14020\n",
      "Price per length: 117.82945736434108\n",
      "Price: 760.0\n",
      "Dims: 6.45 x 5.88 x 3.37\n",
      "Color: White\n",
      "Treatments: No Enhancement\n"
     ]
    },
    {
     "data": {
      "text/html": [
       "<img src=\"https://image.thenaturalsapphirecompany.com/nsc/sapphire/s14020/image/certified-natural-untreated-ceylon(srilanka)-emeraldcut-white-sapphire-1.2300-cts-s14020-1-full.jpg\" width=\"400\"/>"
      ],
      "text/plain": [
       "<IPython.core.display.Image object>"
      ]
     },
     "metadata": {},
     "output_type": "display_data"
    },
    {
     "name": "stdout",
     "output_type": "stream",
     "text": [
      "https://www.thenaturalsapphirecompany.com/1.88ct-ceylon-sri-lanka-emerald-cut-white-sapphire-s17166-/\n",
      "White Sapphire - Emerald Cut 1.88 Ct. #S17166\n",
      "Price per length: 120.5915813424346\n",
      "Price: 1060.0\n",
      "Dims: 8.79 x 5.94 x 3.56\n",
      "Color: White\n",
      "Treatments: Heated\n"
     ]
    },
    {
     "data": {
      "text/html": [
       "<img src=\"https://image.thenaturalsapphirecompany.com/nsc/sapphire/s17166/image/certified-natural-ceylon(srilanka)-emeraldcut-white-sapphire-1.8800-cts-s17166-1-full.jpg\" width=\"400\"/>"
      ],
      "text/plain": [
       "<IPython.core.display.Image object>"
      ]
     },
     "metadata": {},
     "output_type": "display_data"
    },
    {
     "name": "stdout",
     "output_type": "stream",
     "text": [
      "https://www.thenaturalsapphirecompany.com/1.73ct-ceylon-sri-lanka-cushion-peach-sapphire-u16849-/\n",
      "Peach Sapphire - Cushion 1.73 Ct. #U16849\n",
      "Price per length: 120.81218274111676\n",
      "Price: 952.0\n",
      "Dims: 7.88 x 6.89 x 3.75\n",
      "Color: Peach\n",
      "Treatments: Heated\n"
     ]
    },
    {
     "data": {
      "text/html": [
       "<img src=\"https://image.thenaturalsapphirecompany.com/nsc/sapphire/u16849/image/certified-natural-ceylon(srilanka)-cushion-peach-sapphire-1.7300-cts-u16849-1-full.jpg\" width=\"400\"/>"
      ],
      "text/plain": [
       "<IPython.core.display.Image object>"
      ]
     },
     "metadata": {},
     "output_type": "display_data"
    },
    {
     "name": "stdout",
     "output_type": "stream",
     "text": [
      "https://www.thenaturalsapphirecompany.com/1.02ct-ceylon-sri-lanka-cushion-white-sapphire-s9508-/\n",
      "White Sapphire - Cushion 1.02 Ct. #S9508\n",
      "Price per length: 123.52941176470588\n",
      "Price: 714.0\n",
      "Dims: 5.78 x 5.77 x 3.56\n",
      "Color: White\n",
      "Treatments: Heated\n"
     ]
    },
    {
     "data": {
      "text/html": [
       "<img src=\"https://image.thenaturalsapphirecompany.com/nsc/sapphire/s9508/image/certified-natural-ceylon(srilanka)-cushion-white-sapphire-1.0200-cts-s9508-1-full.jpg\" width=\"400\"/>"
      ],
      "text/plain": [
       "<IPython.core.display.Image object>"
      ]
     },
     "metadata": {},
     "output_type": "display_data"
    },
    {
     "name": "stdout",
     "output_type": "stream",
     "text": [
      "https://www.thenaturalsapphirecompany.com/1.17ct-ceylon-sri-lanka-emerald-cut-peach-sapphire-s14049-/\n",
      "Peach Sapphire - Emerald Cut 1.17 Ct. #S14049\n",
      "Price per length: 126.61764705882354\n",
      "Price: 861.0\n",
      "Dims: 6.8 x 5.69 x 3.2\n",
      "Color: Peach\n",
      "Treatments: No Enhancement\n"
     ]
    },
    {
     "data": {
      "text/html": [
       "<img src=\"https://image.thenaturalsapphirecompany.com/nsc/sapphire/s14049/image/certified-natural-untreated-ceylon(srilanka)-emeraldcut-peach-sapphire-1.1700-cts-s14049-1-full.jpg\" width=\"400\"/>"
      ],
      "text/plain": [
       "<IPython.core.display.Image object>"
      ]
     },
     "metadata": {},
     "output_type": "display_data"
    },
    {
     "name": "stdout",
     "output_type": "stream",
     "text": [
      "https://www.thenaturalsapphirecompany.com/1.11ct-ceylon-sri-lanka-cushion-peach-sapphire-s12233-/\n",
      "Peach Sapphire - Cushion 1.11 Ct. #S12233\n",
      "Price per length: 126.85714285714286\n",
      "Price: 888.0\n",
      "Dims: 7.0 x 5.35 x 3.07\n",
      "Color: Peach\n",
      "Treatments: No Enhancement\n"
     ]
    },
    {
     "data": {
      "text/html": [
       "<img src=\"https://image.thenaturalsapphirecompany.com/nsc/sapphire/s12233/image/certified-natural-untreated-ceylon(srilanka)-cushion-peach-sapphire-1.1100-cts-s12233-1-full.jpg\" width=\"400\"/>"
      ],
      "text/plain": [
       "<IPython.core.display.Image object>"
      ]
     },
     "metadata": {},
     "output_type": "display_data"
    },
    {
     "name": "stdout",
     "output_type": "stream",
     "text": [
      "https://www.thenaturalsapphirecompany.com/1.16ct-ceylon-sri-lanka-pear-white-sapphire-s12993-/\n",
      "White Sapphire - Pear 1.16 Ct. #S12993\n",
      "Price per length: 127.56598240469208\n",
      "Price: 870.0\n",
      "Dims: 6.82 x 7.2 x 3.48\n",
      "Color: White\n",
      "Treatments: No Enhancement\n"
     ]
    },
    {
     "data": {
      "text/html": [
       "<img src=\"https://image.thenaturalsapphirecompany.com/nsc/sapphire/s12993/image/certified-natural-untreated-ceylon(srilanka)-pear-white-sapphire-1.1600-cts-s12993-1-full.jpg\" width=\"400\"/>"
      ],
      "text/plain": [
       "<IPython.core.display.Image object>"
      ]
     },
     "metadata": {},
     "output_type": "display_data"
    },
    {
     "name": "stdout",
     "output_type": "stream",
     "text": [
      "https://www.thenaturalsapphirecompany.com/1.29ct-burma-myanmar-cushion-white-sapphire-s10522-/\n",
      "White Sapphire - Cushion 1.29 Ct. #S10522\n",
      "Price per length: 129.3548387096774\n",
      "Price: 802.0\n",
      "Dims: 6.2 x 5.02 x 4.12\n",
      "Color: White\n",
      "Treatments: No Enhancement\n"
     ]
    },
    {
     "data": {
      "text/html": [
       "<img src=\"https://image.thenaturalsapphirecompany.com/nsc/sapphire/s10522/image/certified-natural-untreated-burma(myanmar)-cushion-white-sapphire-1.2900-cts-s10522-1-full.jpg\" width=\"400\"/>"
      ],
      "text/plain": [
       "<IPython.core.display.Image object>"
      ]
     },
     "metadata": {},
     "output_type": "display_data"
    },
    {
     "name": "stdout",
     "output_type": "stream",
     "text": [
      "https://www.thenaturalsapphirecompany.com/1.59ct-ceylon-sri-lanka-emerald-cut-peach-sapphire-s8697-/\n",
      "Peach Sapphire - Emerald Cut 1.59 Ct. #S8697\n",
      "Price per length: 130.68493150684932\n",
      "Price: 954.0\n",
      "Dims: 7.3 x 5.48 x 4.02\n",
      "Color: Peach\n",
      "Treatments: No Enhancement\n"
     ]
    },
    {
     "data": {
      "text/html": [
       "<img src=\"https://image.thenaturalsapphirecompany.com/nsc/sapphire/s8697/image/certified-natural-untreated-ceylon(srilanka)-emerald-peach-sapphire-1.5900-cts-s8697-1-full.jpg\" width=\"400\"/>"
      ],
      "text/plain": [
       "<IPython.core.display.Image object>"
      ]
     },
     "metadata": {},
     "output_type": "display_data"
    },
    {
     "name": "stdout",
     "output_type": "stream",
     "text": [
      "https://www.thenaturalsapphirecompany.com/1.94ct-ceylon-sri-lanka-round-white-sapphire-s17167-/\n",
      "White Sapphire - Round 1.94 Ct. #S17167\n",
      "Price per length: 133.2075471698113\n",
      "Price: 1059.0\n",
      "Dims: 7.95 x 7.95 x 4.31\n",
      "Color: White\n",
      "Treatments: Heated\n"
     ]
    },
    {
     "data": {
      "text/html": [
       "<img src=\"https://image.thenaturalsapphirecompany.com/nsc/sapphire/s17167/image/certified-natural-ceylon(srilanka)-round-white-sapphire-1.9400-cts-s17167-1-full.jpg\" width=\"400\"/>"
      ],
      "text/plain": [
       "<IPython.core.display.Image object>"
      ]
     },
     "metadata": {},
     "output_type": "display_data"
    },
    {
     "name": "stdout",
     "output_type": "stream",
     "text": [
      "https://www.thenaturalsapphirecompany.com/1.28ct-ceylon-sri-lanka-oval-peach-sapphire-s14295-/\n",
      "Peach Sapphire - Oval 1.28 Ct. #S14295\n",
      "Price per length: 134.49197860962565\n",
      "Price: 1006.0\n",
      "Dims: 7.48 x 5.71 x 3.49\n",
      "Color: Peach\n",
      "Treatments: No Enhancement\n"
     ]
    },
    {
     "data": {
      "text/html": [
       "<img src=\"https://image.thenaturalsapphirecompany.com/nsc/sapphire/s14295/image/certified-natural-untreated-ceylon(srilanka)-oval-peach-sapphire-1.2800-cts-s14295-1-full.jpg\" width=\"400\"/>"
      ],
      "text/plain": [
       "<IPython.core.display.Image object>"
      ]
     },
     "metadata": {},
     "output_type": "display_data"
    },
    {
     "name": "stdout",
     "output_type": "stream",
     "text": [
      "https://www.thenaturalsapphirecompany.com/1.55ct-ceylon-sri-lanka-round-white-sapphire-u15693-/\n",
      "White Sapphire - Round 1.55 Ct. #U15693\n",
      "Price per length: 135.17441860465115\n",
      "Price: 930.0\n",
      "Dims: 6.88 x 6.85 x 4.64\n",
      "Color: White\n",
      "Treatments: Heated\n"
     ]
    },
    {
     "data": {
      "text/html": [
       "<img src=\"https://image.thenaturalsapphirecompany.com/nsc/sapphire/u15693/image/certified-natural-ceylon(srilanka)-round-white-sapphire-1.5500-cts-u15693-1-full.jpg\" width=\"400\"/>"
      ],
      "text/plain": [
       "<IPython.core.display.Image object>"
      ]
     },
     "metadata": {},
     "output_type": "display_data"
    },
    {
     "name": "stdout",
     "output_type": "stream",
     "text": [
      "https://www.thenaturalsapphirecompany.com/1.51ct-ceylon-sri-lanka-cushion-white-sapphire-s10636-/\n",
      "White Sapphire - Cushion 1.51 Ct. #S10636\n",
      "Price per length: 135.28481012658227\n",
      "Price: 855.0\n",
      "Dims: 6.32 x 5.68 x 4.16\n",
      "Color: White\n",
      "Treatments: No Enhancement\n"
     ]
    },
    {
     "data": {
      "text/html": [
       "<img src=\"https://image.thenaturalsapphirecompany.com/nsc/sapphire/s10636/image/certified-natural-untreated-ceylon(srilanka)-cushion-white-sapphire-1.5100-cts-s10636-1-full.jpg\" width=\"400\"/>"
      ],
      "text/plain": [
       "<IPython.core.display.Image object>"
      ]
     },
     "metadata": {},
     "output_type": "display_data"
    },
    {
     "name": "stdout",
     "output_type": "stream",
     "text": [
      "https://www.thenaturalsapphirecompany.com/1.08ct-ceylon-sri-lanka-cushion-peach-sapphire-u6137-/\n",
      "Peach Sapphire - Cushion 1.08 Ct. #U6137\n",
      "Price per length: 135.7271095152603\n",
      "Price: 756.0\n",
      "Dims: 5.57 x 5.48 x 4.32\n",
      "Color: Peach\n",
      "Treatments: No Enhancement\n"
     ]
    },
    {
     "data": {
      "text/html": [
       "<img src=\"https://image.thenaturalsapphirecompany.com/nsc/sapphire/u6137/image/certified-natural-untreated-ceylon-cushion-peach-sapphire-1.0800-cts-u6137-1-full.jpg\" width=\"400\"/>"
      ],
      "text/plain": [
       "<IPython.core.display.Image object>"
      ]
     },
     "metadata": {},
     "output_type": "display_data"
    },
    {
     "name": "stdout",
     "output_type": "stream",
     "text": [
      "https://www.thenaturalsapphirecompany.com/1.19ct-ceylon-sri-lanka-oval-white-sapphire-s10643-/\n",
      "White Sapphire - Oval 1.19 Ct. #S10643\n",
      "Price per length: 135.96938775510205\n",
      "Price: 1066.0\n",
      "Dims: 7.84 x 5.89 x 3.27\n",
      "Color: White\n",
      "Treatments: No Enhancement\n"
     ]
    },
    {
     "data": {
      "text/html": [
       "<img src=\"https://image.thenaturalsapphirecompany.com/nsc/sapphire/s10643/image/certified-natural-untreated-ceylon(srilanka)-oval-white-sapphire-1.1900-cts-s10643-1-full.jpg\" width=\"400\"/>"
      ],
      "text/plain": [
       "<IPython.core.display.Image object>"
      ]
     },
     "metadata": {},
     "output_type": "display_data"
    },
    {
     "name": "stdout",
     "output_type": "stream",
     "text": [
      "https://www.thenaturalsapphirecompany.com/1.52ct-madagascar-emerald-cut-peach-sapphire-u16085-/\n",
      "Peach Sapphire - Emerald Cut 1.52 Ct. #U16085\n",
      "Price per length: 137.41307371349097\n",
      "Price: 988.0\n",
      "Dims: 7.19 x 5.7 x 3.76\n",
      "Color: Peach\n",
      "Treatments: Heated\n"
     ]
    },
    {
     "data": {
      "text/html": [
       "<img src=\"https://image.thenaturalsapphirecompany.com/nsc/sapphire/u16085/image/certified-natural-madagascar-emeraldcut-peach-sapphire-1.5200-cts-u16085-1-full.jpg\" width=\"400\"/>"
      ],
      "text/plain": [
       "<IPython.core.display.Image object>"
      ]
     },
     "metadata": {},
     "output_type": "display_data"
    },
    {
     "name": "stdout",
     "output_type": "stream",
     "text": [
      "https://www.thenaturalsapphirecompany.com/1.40ct-ceylon-sri-lanka-round-peach-sapphire-u15692-/\n",
      "Peach Sapphire - Round 1.40 Ct. #U15692\n",
      "Price per length: 137.83403656821378\n",
      "Price: 980.0\n",
      "Dims: 7.11 x 7.07 x 3.72\n",
      "Color: Peach\n",
      "Treatments: Heated\n"
     ]
    },
    {
     "data": {
      "text/html": [
       "<img src=\"https://image.thenaturalsapphirecompany.com/nsc/sapphire/u15692/image/certified-natural-ceylon(srilanka)-round-white-sapphire-1.4100-cts-u15692-1-full.jpg\" width=\"400\"/>"
      ],
      "text/plain": [
       "<IPython.core.display.Image object>"
      ]
     },
     "metadata": {},
     "output_type": "display_data"
    },
    {
     "name": "stdout",
     "output_type": "stream",
     "text": [
      "https://www.thenaturalsapphirecompany.com/1.07ct-ceylon-sri-lanka-round-peach-sapphire-s10030-/\n",
      "Peach Sapphire - Round 1.07 Ct. #S10030\n",
      "Price per length: 138.5008517887564\n",
      "Price: 813.0\n",
      "Dims: 5.87 x 5.87 x 3.8\n",
      "Color: Peach\n",
      "Treatments: No Enhancement\n"
     ]
    },
    {
     "data": {
      "text/html": [
       "<img src=\"https://image.thenaturalsapphirecompany.com/nsc/sapphire/s10030/image/certified-natural-untreated-ceylon(srilanka)-round-peach-sapphire-1.0700-cts-s10030-1-full.jpg\" width=\"400\"/>"
      ],
      "text/plain": [
       "<IPython.core.display.Image object>"
      ]
     },
     "metadata": {},
     "output_type": "display_data"
    },
    {
     "name": "stdout",
     "output_type": "stream",
     "text": [
      "https://www.thenaturalsapphirecompany.com/2.06ct-ceylon-sri-lanka-cushion-white-sapphire-s6516-/\n",
      "White Sapphire - Cushion 2.06 Ct. #S6516\n",
      "Price per length: 140.9028727770178\n",
      "Price: 1030.0\n",
      "Dims: 7.31 x 6.9 x 4.51\n",
      "Color: White\n",
      "Treatments: Heated\n"
     ]
    },
    {
     "data": {
      "text/html": [
       "<img src=\"https://image.thenaturalsapphirecompany.com/nsc/sapphire/s6516/image/certified-natural-ceylon(srilanka)-cushion-white-sapphire-2.0600-cts-s6516-1-full.jpg\" width=\"400\"/>"
      ],
      "text/plain": [
       "<IPython.core.display.Image object>"
      ]
     },
     "metadata": {},
     "output_type": "display_data"
    },
    {
     "name": "stdout",
     "output_type": "stream",
     "text": [
      "https://www.thenaturalsapphirecompany.com/1.53ct-ceylon-sri-lanka-radiant-white-sapphire-s17165-/\n",
      "White Sapphire - Radiant 1.53 Ct. #S17165\n",
      "Price per length: 143.88586956521738\n",
      "Price: 1059.0\n",
      "Dims: 7.36 x 5.97 x 3.59\n",
      "Color: White\n",
      "Treatments: No Enhancement\n"
     ]
    },
    {
     "data": {
      "text/html": [
       "<img src=\"https://image.thenaturalsapphirecompany.com/nsc/sapphire/s17165/image/certified-natural-untreated-ceylon(srilanka)-radiant-white-sapphire-1.5300-cts-s17165-1-full.jpg\" width=\"400\"/>"
      ],
      "text/plain": [
       "<IPython.core.display.Image object>"
      ]
     },
     "metadata": {},
     "output_type": "display_data"
    },
    {
     "name": "stdout",
     "output_type": "stream",
     "text": [
      "https://www.thenaturalsapphirecompany.com/1.54ct-ceylon-sri-lanka-round-white-sapphire-s17169-/\n",
      "White Sapphire - Round 1.54 Ct. #S17169\n",
      "Price per length: 145.00683994528043\n",
      "Price: 1060.0\n",
      "Dims: 7.31 x 7.32 x 4.07\n",
      "Color: White\n",
      "Treatments: Heated\n"
     ]
    },
    {
     "data": {
      "text/html": [
       "<img src=\"https://image.thenaturalsapphirecompany.com/nsc/sapphire/s17169/image/certified-natural-ceylon(srilanka)-round-white-sapphire-1.5400-cts-s17169-1-full.jpg\" width=\"400\"/>"
      ],
      "text/plain": [
       "<IPython.core.display.Image object>"
      ]
     },
     "metadata": {},
     "output_type": "display_data"
    },
    {
     "name": "stdout",
     "output_type": "stream",
     "text": [
      "https://www.thenaturalsapphirecompany.com/1.77ct-ceylon-sri-lanka-pear-white-sapphire-u14162-/\n",
      "White Sapphire - Pear 1.77 Ct. #U14162\n",
      "Price per length: 148.71220604703248\n",
      "Price: 1328.0\n",
      "Dims: 8.93 x 6.58 x 3.87\n",
      "Color: White\n",
      "Treatments: Heated\n"
     ]
    },
    {
     "data": {
      "text/html": [
       "<img src=\"https://image.thenaturalsapphirecompany.com/nsc/sapphire/u14162/image/certified-natural-ceylon-pear-white-sapphire-1.7700-cts-u14162-1-full.jpg\" width=\"400\"/>"
      ],
      "text/plain": [
       "<IPython.core.display.Image object>"
      ]
     },
     "metadata": {},
     "output_type": "display_data"
    },
    {
     "name": "stdout",
     "output_type": "stream",
     "text": [
      "https://www.thenaturalsapphirecompany.com/1.34ct-ceylon-sri-lanka-radiant-white-sapphire-u16880-/\n",
      "White Sapphire - Radiant 1.34 Ct. #U16880\n",
      "Price per length: 150.3048780487805\n",
      "Price: 986.0\n",
      "Dims: 6.56 x 6.55 x 3.99\n",
      "Color: White\n",
      "Treatments: Heated\n"
     ]
    },
    {
     "data": {
      "text/html": [
       "<img src=\"https://image.thenaturalsapphirecompany.com/nsc/sapphire/u16880/image/certified-natural-ceylon(srilanka)-asscher-white-sapphire-1.3500-cts-u16880-1-full.jpg\" width=\"400\"/>"
      ],
      "text/plain": [
       "<IPython.core.display.Image object>"
      ]
     },
     "metadata": {},
     "output_type": "display_data"
    },
    {
     "name": "stdout",
     "output_type": "stream",
     "text": [
      "https://www.thenaturalsapphirecompany.com/1.54ct-ceylon-sri-lanka-round-white-sapphire-s17164-/\n",
      "White Sapphire - Round 1.54 Ct. #S17164\n",
      "Price per length: 151.21255349500714\n",
      "Price: 1060.0\n",
      "Dims: 7.01 x 7.03 x 4.16\n",
      "Color: White\n",
      "Treatments: No Enhancement\n"
     ]
    },
    {
     "data": {
      "text/html": [
       "<img src=\"https://image.thenaturalsapphirecompany.com/nsc/sapphire/s17164/image/certified-natural-untreated-ceylon(srilanka)-round-white-sapphire-1.5400-cts-s17164-1-full.jpg\" width=\"400\"/>"
      ],
      "text/plain": [
       "<IPython.core.display.Image object>"
      ]
     },
     "metadata": {},
     "output_type": "display_data"
    },
    {
     "name": "stdout",
     "output_type": "stream",
     "text": [
      "https://www.thenaturalsapphirecompany.com/1.28ct-madagascar-emerald-cut-white-sapphire-u16108-/\n",
      "White Sapphire - Emerald Cut 1.28 Ct. #U16108\n",
      "Price per length: 151.25553914327918\n",
      "Price: 1024.0\n",
      "Dims: 6.77 x 5.46 x 3.57\n",
      "Color: White\n",
      "Treatments: No Enhancement\n"
     ]
    },
    {
     "data": {
      "text/html": [
       "<img src=\"https://image.thenaturalsapphirecompany.com/nsc/sapphire/u16108/image/certified-natural-untreated-madagascar-emeraldcut-white-sapphire-1.2800-cts-u16108-1-full.jpg\" width=\"400\"/>"
      ],
      "text/plain": [
       "<IPython.core.display.Image object>"
      ]
     },
     "metadata": {},
     "output_type": "display_data"
    },
    {
     "name": "stdout",
     "output_type": "stream",
     "text": [
      "https://www.thenaturalsapphirecompany.com/1.60ct-madagascar-emerald-cut-white-sapphire-u16099-/\n",
      "White Sapphire - Emerald Cut 1.60 Ct. #U16099\n",
      "Price per length: 152.58855585831063\n",
      "Price: 1120.0\n",
      "Dims: 7.34 x 5.63 x 3.74\n",
      "Color: White\n",
      "Treatments: No Enhancement\n"
     ]
    },
    {
     "data": {
      "text/html": [
       "<img src=\"https://image.thenaturalsapphirecompany.com/nsc/sapphire/u16099/image/certified-natural-untreated-madagascar-emeraldcut-white-sapphire-1.6000-cts-u16099-1-full.jpg\" width=\"400\"/>"
      ],
      "text/plain": [
       "<IPython.core.display.Image object>"
      ]
     },
     "metadata": {},
     "output_type": "display_data"
    },
    {
     "name": "stdout",
     "output_type": "stream",
     "text": [
      "https://www.thenaturalsapphirecompany.com/1.26ct-ceylon-sri-lanka-oval-peach-sapphire-s5798-/\n",
      "Peach Sapphire - Oval 1.26 Ct. #S5798\n",
      "Price per length: 154.5185185185185\n",
      "Price: 1043.0\n",
      "Dims: 6.75 x 6.06 x 3.93\n",
      "Color: Peach\n",
      "Treatments: No Enhancement\n"
     ]
    },
    {
     "data": {
      "text/html": [
       "<img src=\"https://image.thenaturalsapphirecompany.com/nsc/sapphire/s5798/image/certified-natural-untreated-ceylon(srilanka)-oval-peach-sapphire-1.2600-cts-s5798-1-full.jpg\" width=\"400\"/>"
      ],
      "text/plain": [
       "<IPython.core.display.Image object>"
      ]
     },
     "metadata": {},
     "output_type": "display_data"
    },
    {
     "name": "stdout",
     "output_type": "stream",
     "text": [
      "https://www.thenaturalsapphirecompany.com/1.48ct-burma-myanmar-cushion-white-sapphire-s10524-/\n",
      "White Sapphire - Cushion 1.48 Ct. #S10524\n",
      "Price per length: 156.25\n",
      "Price: 1000.0\n",
      "Dims: 6.4 x 5.44 x 4.42\n",
      "Color: White\n",
      "Treatments: No Enhancement\n"
     ]
    },
    {
     "data": {
      "text/html": [
       "<img src=\"https://image.thenaturalsapphirecompany.com/nsc/sapphire/s10524/image/certified-natural-untreated-burma(myanmar)-cushion-white-sapphire-1.4800-cts-s10524-1-full.jpg\" width=\"400\"/>"
      ],
      "text/plain": [
       "<IPython.core.display.Image object>"
      ]
     },
     "metadata": {},
     "output_type": "display_data"
    },
    {
     "name": "stdout",
     "output_type": "stream",
     "text": [
      "https://www.thenaturalsapphirecompany.com/1.13ct-ceylon-sri-lanka-oval-peach-sapphire-u13429-/\n",
      "Peach Sapphire - Oval 1.13 Ct. #U13429\n",
      "Price per length: 156.2849162011173\n",
      "Price: 1119.0\n",
      "Dims: 7.16 x 5.51 x 3.5\n",
      "Color: Peach\n",
      "Treatments: No Enhancement\n"
     ]
    },
    {
     "data": {
      "text/html": [
       "<img src=\"https://image.thenaturalsapphirecompany.com/nsc/sapphire/u13429/image/certified-natural-untreated-ceylon-oval-peach-sapphire-1.1300-cts-u13429-1-full.jpg\" width=\"400\"/>"
      ],
      "text/plain": [
       "<IPython.core.display.Image object>"
      ]
     },
     "metadata": {},
     "output_type": "display_data"
    },
    {
     "name": "stdout",
     "output_type": "stream",
     "text": [
      "https://www.thenaturalsapphirecompany.com/1.30ct-madagascar-asscher-octagon-peach-sapphire-u16101-/\n",
      "Peach Sapphire - Asscher - Octagon 1.30 Ct. #U16101\n",
      "Price per length: 156.5008025682183\n",
      "Price: 975.0\n",
      "Dims: 6.23 x 6.22 x 3.49\n",
      "Color: Peach\n",
      "Treatments: No Enhancement\n"
     ]
    },
    {
     "data": {
      "text/html": [
       "<img src=\"https://image.thenaturalsapphirecompany.com/nsc/sapphire/u16101/image/certified-natural-untreated-madagascar-asscher-peach-sapphire-1.3000-cts-u16101-1-full.jpg\" width=\"400\"/>"
      ],
      "text/plain": [
       "<IPython.core.display.Image object>"
      ]
     },
     "metadata": {},
     "output_type": "display_data"
    },
    {
     "name": "stdout",
     "output_type": "stream",
     "text": [
      "https://www.thenaturalsapphirecompany.com/2.44ct-ceylon-sri-lanka-radiant-white-sapphire-s12386-/\n",
      "White Sapphire - Radiant 2.44 Ct. #S12386\n",
      "Price per length: 157.01415701415704\n",
      "Price: 1220.0\n",
      "Dims: 7.77 x 7.27 x 4.78\n",
      "Color: White\n",
      "Treatments: Heated\n"
     ]
    },
    {
     "data": {
      "text/html": [
       "<img src=\"https://image.thenaturalsapphirecompany.com/nsc/sapphire/s12386/image/certified-natural-ceylon(srilanka)-radiant-white-sapphire-2.4400-cts-s12386-1-full.jpg\" width=\"400\"/>"
      ],
      "text/plain": [
       "<IPython.core.display.Image object>"
      ]
     },
     "metadata": {},
     "output_type": "display_data"
    },
    {
     "name": "stdout",
     "output_type": "stream",
     "text": [
      "https://www.thenaturalsapphirecompany.com/1.85ct-ceylon-sri-lanka-radiant-white-sapphire-s10028-/\n",
      "White Sapphire - Radiant 1.85 Ct. #S10028\n",
      "Price per length: 158.28877005347593\n",
      "Price: 1184.0\n",
      "Dims: 7.48 x 6.26 x 4.27\n",
      "Color: White\n",
      "Treatments: Heated\n"
     ]
    },
    {
     "data": {
      "text/html": [
       "<img src=\"https://image.thenaturalsapphirecompany.com/nsc/sapphire/s10028/image/certified-natural-ceylon(srilanka)-radiant-white-sapphire-1.8500-cts-s10028-1-full.jpg\" width=\"400\"/>"
      ],
      "text/plain": [
       "<IPython.core.display.Image object>"
      ]
     },
     "metadata": {},
     "output_type": "display_data"
    },
    {
     "name": "stdout",
     "output_type": "stream",
     "text": [
      "https://www.thenaturalsapphirecompany.com/1.45ct-ceylon-sri-lanka-pear-peach-sapphire-u9231-/\n",
      "Peach Sapphire - Pear 1.45 Ct. #U9231\n",
      "Price per length: 158.373786407767\n",
      "Price: 1305.0\n",
      "Dims: 8.24 x 6.36 x 4.4\n",
      "Color: Peach\n",
      "Treatments: No Enhancement\n"
     ]
    },
    {
     "data": {
      "text/html": [
       "<img src=\"https://image.thenaturalsapphirecompany.com/nsc/sapphire/u9231/image/certified-natural-untreated-ceylon-pear-peach-sapphire-1.4500-cts-u9231-1-full.jpg\" width=\"400\"/>"
      ],
      "text/plain": [
       "<IPython.core.display.Image object>"
      ]
     },
     "metadata": {},
     "output_type": "display_data"
    },
    {
     "name": "stdout",
     "output_type": "stream",
     "text": [
      "https://www.thenaturalsapphirecompany.com/2.14ct-burma-myanmar-cushion-white-sapphire-s10520-/\n",
      "White Sapphire - Cushion 2.14 Ct. #S10520\n",
      "Price per length: 158.65853658536588\n",
      "Price: 1301.0\n",
      "Dims: 8.2 x 6.75 x 3.83\n",
      "Color: White\n",
      "Treatments: No Enhancement\n"
     ]
    },
    {
     "data": {
      "text/html": [
       "<img src=\"https://image.thenaturalsapphirecompany.com/nsc/sapphire/s10520/image/certified-natural-untreated-burma(myanmar)-cushion-white-sapphire-2.1400-cts-s10520-1-full.jpg\" width=\"400\"/>"
      ],
      "text/plain": [
       "<IPython.core.display.Image object>"
      ]
     },
     "metadata": {},
     "output_type": "display_data"
    },
    {
     "name": "stdout",
     "output_type": "stream",
     "text": [
      "https://www.thenaturalsapphirecompany.com/1.17ct-ceylon-sri-lanka-round-white-sapphire-s4647-/\n",
      "White Sapphire - Round 1.17 Ct. #S4647\n",
      "Price per length: 159.08440629470672\n",
      "Price: 1112.0\n",
      "Dims: 6.99 x 6.85 x 3.74\n",
      "Color: White\n",
      "Treatments: Heated\n"
     ]
    },
    {
     "data": {
      "text/html": [
       "<img src=\"https://image.thenaturalsapphirecompany.com/nsc/sapphire/s4647/image/certified-natural-ceylon(srilanka)-round-white-sapphire-1.1700-cts-s4647-1-full.jpg\" width=\"400\"/>"
      ],
      "text/plain": [
       "<IPython.core.display.Image object>"
      ]
     },
     "metadata": {},
     "output_type": "display_data"
    },
    {
     "name": "stdout",
     "output_type": "stream",
     "text": [
      "https://www.thenaturalsapphirecompany.com/1.15ct-thailand-cushion-peach-sapphire-s16665-/\n",
      "Peach Sapphire - Cushion 1.15 Ct. #S16665\n",
      "Price per length: 159.50653120464443\n",
      "Price: 1099.0\n",
      "Dims: 6.89 x 5.75 x 2.84\n",
      "Color: Peach\n",
      "Treatments: No Enhancement\n"
     ]
    },
    {
     "data": {
      "text/html": [
       "<img src=\"https://image.thenaturalsapphirecompany.com/nsc/sapphire/s16665/image/certified-natural-untreated-thailand-cushion-yellow-sapphire-1.1500-cts-s16665-1-full.jpg\" width=\"400\"/>"
      ],
      "text/plain": [
       "<IPython.core.display.Image object>"
      ]
     },
     "metadata": {},
     "output_type": "display_data"
    },
    {
     "name": "stdout",
     "output_type": "stream",
     "text": [
      "https://www.thenaturalsapphirecompany.com/1.59ct-ceylon-sri-lanka-cushion-peach-sapphire-u16869-/\n",
      "Peach Sapphire - Cushion 1.59 Ct. #U16869\n",
      "Price per length: 161.7283950617284\n",
      "Price: 1310.0\n",
      "Dims: 8.1 x 5.85 x 3.76\n",
      "Color: Peach\n",
      "Treatments: Heated\n"
     ]
    },
    {
     "data": {
      "text/html": [
       "<img src=\"https://image.thenaturalsapphirecompany.com/nsc/sapphire/u16869/image/certified-natural-ceylon(srilanka)-cushion-peach-sapphire-1.6000-cts-u16869-1-full.jpg\" width=\"400\"/>"
      ],
      "text/plain": [
       "<IPython.core.display.Image object>"
      ]
     },
     "metadata": {},
     "output_type": "display_data"
    },
    {
     "name": "stdout",
     "output_type": "stream",
     "text": [
      "https://www.thenaturalsapphirecompany.com/1.41ct-ceylon-sri-lanka-oval-padparadscha-sapphire-s8263-/\n",
      "Padparadscha Sapphire - Oval 1.41 Ct. #S8263\n",
      "Price per length: 166.09947643979058\n",
      "Price: 1269.0\n",
      "Dims: 7.64 x 5.94 x 3.77\n",
      "Color: Padparadscha (Pinkish-Orange / Orangish-Pink)\n",
      "Treatments: No Enhancement\n"
     ]
    },
    {
     "data": {
      "text/html": [
       "<img src=\"https://image.thenaturalsapphirecompany.com/nsc/sapphire/s8263/image/certified-natural-untreated-ceylon(srilanka)-oval-padparadscha-sapphire-1.4100-cts-s8263-1-full.jpg\" width=\"400\"/>"
      ],
      "text/plain": [
       "<IPython.core.display.Image object>"
      ]
     },
     "metadata": {},
     "output_type": "display_data"
    },
    {
     "name": "stdout",
     "output_type": "stream",
     "text": [
      "https://www.thenaturalsapphirecompany.com/1.45ct-ceylon-sri-lanka-radiant-peach-sapphire-s5375-/\n",
      "Peach Sapphire - Radiant 1.45 Ct. #S5375\n",
      "Price per length: 168.3250414593698\n",
      "Price: 1015.0\n",
      "Dims: 6.03 x 5.84 x 4.22\n",
      "Color: Peach\n",
      "Treatments: No Enhancement\n"
     ]
    },
    {
     "data": {
      "text/html": [
       "<img src=\"https://image.thenaturalsapphirecompany.com/nsc/sapphire/s5375/image/certified-natural-untreated-ceylon(srilanka)-radiant-peach-sapphire-1.4500-cts-s5375-1-full.jpg\" width=\"400\"/>"
      ],
      "text/plain": [
       "<IPython.core.display.Image object>"
      ]
     },
     "metadata": {},
     "output_type": "display_data"
    },
    {
     "name": "stdout",
     "output_type": "stream",
     "text": [
      "https://www.thenaturalsapphirecompany.com/2.04ct-ceylon-sri-lanka-pear-white-sapphire-u14938-/\n",
      "White Sapphire - Pear 2.04 Ct. #U14938\n",
      "Price per length: 168.59504132231405\n",
      "Price: 1632.0\n",
      "Dims: 9.68 x 6.74 x 4.34\n",
      "Color: White\n",
      "Treatments: Heated\n"
     ]
    },
    {
     "data": {
      "text/html": [
       "<img src=\"https://image.thenaturalsapphirecompany.com/nsc/sapphire/u14938/image/certified-natural-ceylon-pear-white-sapphire-2.0400-cts-u14938-1-full.jpg\" width=\"400\"/>"
      ],
      "text/plain": [
       "<IPython.core.display.Image object>"
      ]
     },
     "metadata": {},
     "output_type": "display_data"
    },
    {
     "name": "stdout",
     "output_type": "stream",
     "text": [
      "https://www.thenaturalsapphirecompany.com/1.82ct-ceylon-sri-lanka-cushion-peach-sapphire-s5379-/\n",
      "Peach Sapphire - Cushion 1.82 Ct. #S5379\n",
      "Price per length: 169.41489361702128\n",
      "Price: 1274.0\n",
      "Dims: 7.52 x 6.26 x 3.9\n",
      "Color: Peach\n",
      "Treatments: No Enhancement\n"
     ]
    },
    {
     "data": {
      "text/html": [
       "<img src=\"https://image.thenaturalsapphirecompany.com/nsc/sapphire/s5379/image/certified-natural-untreated-ceylon(srilanka)-cushion-peach-sapphire-1.8200-cts-s5379-1-full.jpg\" width=\"400\"/>"
      ],
      "text/plain": [
       "<IPython.core.display.Image object>"
      ]
     },
     "metadata": {},
     "output_type": "display_data"
    },
    {
     "name": "stdout",
     "output_type": "stream",
     "text": [
      "https://www.thenaturalsapphirecompany.com/1.59ct-madagascar-emerald-cut-white-sapphire-u16105-/\n",
      "White Sapphire - Emerald Cut 1.59 Ct. #U16105\n",
      "Price per length: 170.70552147239266\n",
      "Price: 1113.0\n",
      "Dims: 6.52 x 5.67 x 4.22\n",
      "Color: White\n",
      "Treatments: No Enhancement\n"
     ]
    },
    {
     "data": {
      "text/html": [
       "<img src=\"https://image.thenaturalsapphirecompany.com/nsc/sapphire/u16105/image/certified-natural-untreated-madagascar-emeraldcut-white-sapphire-1.5900-cts-u16105-1-full.jpg\" width=\"400\"/>"
      ],
      "text/plain": [
       "<IPython.core.display.Image object>"
      ]
     },
     "metadata": {},
     "output_type": "display_data"
    },
    {
     "name": "stdout",
     "output_type": "stream",
     "text": [
      "https://www.thenaturalsapphirecompany.com/1.30ct-ceylon-sri-lanka-emerald-cut-peach-sapphire-u11429-/\n",
      "Peach Sapphire - Emerald Cut 1.30 Ct. #U11429\n",
      "Price per length: 171.85714285714286\n",
      "Price: 1203.0\n",
      "Dims: 7.0 x 4.99 x 3.93\n",
      "Color: Peach\n",
      "Treatments: No Enhancement\n"
     ]
    },
    {
     "data": {
      "text/html": [
       "<img src=\"https://image.thenaturalsapphirecompany.com/nsc/sapphire/u11429/image/certified-natural-untreated-ceylon-emeraldcut-peach-sapphire-1.3000-cts-u11429-1-full.jpg\" width=\"400\"/>"
      ],
      "text/plain": [
       "<IPython.core.display.Image object>"
      ]
     },
     "metadata": {},
     "output_type": "display_data"
    },
    {
     "name": "stdout",
     "output_type": "stream",
     "text": [
      "https://www.thenaturalsapphirecompany.com/1.78ct-ceylon-sri-lanka-radiant-white-sapphire-s11733-/\n",
      "White Sapphire - Radiant 1.78 Ct. #S11733\n",
      "Price per length: 175.21160822249095\n",
      "Price: 1449.0\n",
      "Dims: 8.27 x 6.2 x 3.67\n",
      "Color: White\n",
      "Treatments: No Enhancement\n"
     ]
    },
    {
     "data": {
      "text/html": [
       "<img src=\"https://image.thenaturalsapphirecompany.com/nsc/sapphire/s11733/image/certified-natural-untreated-ceylon(srilanka)-radiant-white-sapphire-1.7800-cts-s11733-1-full.jpg\" width=\"400\"/>"
      ],
      "text/plain": [
       "<IPython.core.display.Image object>"
      ]
     },
     "metadata": {},
     "output_type": "display_data"
    },
    {
     "name": "stdout",
     "output_type": "stream",
     "text": [
      "https://www.thenaturalsapphirecompany.com/1.15ct-ceylon-sri-lanka-round-white-sapphire-s15236-/\n",
      "White Sapphire - Round 1.15 Ct. #S15236\n",
      "Price per length: 176.0204081632653\n",
      "Price: 1035.0\n",
      "Dims: 5.88 x 5.86 x 4.24\n",
      "Color: White\n",
      "Treatments: Heated\n"
     ]
    },
    {
     "data": {
      "text/html": [
       "<img src=\"https://image.thenaturalsapphirecompany.com/nsc/sapphire/s15236/image/certified-natural-untreated-ceylon(srilanka)-emeraldcut-white-sapphire-1.9700-cts-s15236-1-full.jpg\" width=\"400\"/>"
      ],
      "text/plain": [
       "<IPython.core.display.Image object>"
      ]
     },
     "metadata": {},
     "output_type": "display_data"
    },
    {
     "name": "stdout",
     "output_type": "stream",
     "text": [
      "https://www.thenaturalsapphirecompany.com/2.06ct-ceylon-sri-lanka-marquise-white-sapphire-s8198-/\n",
      "White Sapphire - Marquise 2.06 Ct. #S8198\n",
      "Price per length: 176.21899059024807\n",
      "Price: 2060.0\n",
      "Dims: 11.69 x 5.7 x 4.33\n",
      "Color: White\n",
      "Treatments: No Enhancement\n"
     ]
    },
    {
     "data": {
      "text/html": [
       "<img src=\"https://image.thenaturalsapphirecompany.com/nsc/sapphire/s8198/image/certified-natural-untreated-ceylon(srilanka)-marquise-white-sapphire-2.0500-cts-s8198-1-full.jpg\" width=\"400\"/>"
      ],
      "text/plain": [
       "<IPython.core.display.Image object>"
      ]
     },
     "metadata": {},
     "output_type": "display_data"
    },
    {
     "name": "stdout",
     "output_type": "stream",
     "text": [
      "https://www.thenaturalsapphirecompany.com/1.14ct-ceylon-sri-lanka-radiant-peach-sapphire-u13031-/\n",
      "Peach Sapphire - Radiant 1.14 Ct. #U13031\n",
      "Price per length: 179.00826446280993\n",
      "Price: 1083.0\n",
      "Dims: 6.05 x 5.94 x 3.51\n",
      "Color: Peach\n",
      "Treatments: No Enhancement\n"
     ]
    },
    {
     "data": {
      "text/html": [
       "<img src=\"https://image.thenaturalsapphirecompany.com/nsc/sapphire/u13031/image/certified-natural-untreated-ceylon-radiant-peach-sapphire-1.1400-cts-u13031-1-full.jpg\" width=\"400\"/>"
      ],
      "text/plain": [
       "<IPython.core.display.Image object>"
      ]
     },
     "metadata": {},
     "output_type": "display_data"
    },
    {
     "name": "stdout",
     "output_type": "stream",
     "text": [
      "https://www.thenaturalsapphirecompany.com/1.40ct-madagascar-radiant-white-sapphire-s6407-/\n",
      "White Sapphire - Radiant 1.40 Ct. #S6407\n",
      "Price per length: 179.4871794871795\n",
      "Price: 1260.0\n",
      "Dims: 7.02 x 4.83 x 4.33\n",
      "Color: White\n",
      "Treatments: No Enhancement\n"
     ]
    },
    {
     "data": {
      "text/html": [
       "<img src=\"https://image.thenaturalsapphirecompany.com/nsc/sapphire/s6407/image/certified-natural-untreated-madagascar-radiant-white-sapphire-1.4000-cts-s6407-1-full.jpg\" width=\"400\"/>"
      ],
      "text/plain": [
       "<IPython.core.display.Image object>"
      ]
     },
     "metadata": {},
     "output_type": "display_data"
    },
    {
     "name": "stdout",
     "output_type": "stream",
     "text": [
      "https://www.thenaturalsapphirecompany.com/2.24ct-ceylon-sri-lanka-cushion-white-sapphire-s4042-/\n",
      "White Sapphire - Cushion 2.24 Ct. #S4042\n",
      "Price per length: 179.97527812113722\n",
      "Price: 1456.0\n",
      "Dims: 8.09 x 7.46 x 4.15\n",
      "Color: White\n",
      "Treatments: No Enhancement\n"
     ]
    },
    {
     "data": {
      "text/html": [
       "<img src=\"https://image.thenaturalsapphirecompany.com/nsc/sapphire/s4042/image/certified-natural-untreated-ceylon(srilanka)-cushion-white-sapphire-2.2400-cts-s4042-1-full.jpg\" width=\"400\"/>"
      ],
      "text/plain": [
       "<IPython.core.display.Image object>"
      ]
     },
     "metadata": {},
     "output_type": "display_data"
    },
    {
     "name": "stdout",
     "output_type": "stream",
     "text": [
      "https://www.thenaturalsapphirecompany.com/1.31ct-ceylon-sri-lanka-round-white-sapphire-u13350-/\n",
      "White Sapphire - Round 1.31 Ct. #U13350\n",
      "Price per length: 180.27522935779817\n",
      "Price: 1179.0\n",
      "Dims: 6.54 x 6.44 x 4.52\n",
      "Color: White\n",
      "Treatments: Heated\n"
     ]
    },
    {
     "data": {
      "text/html": [
       "<img src=\"https://image.thenaturalsapphirecompany.com/nsc/sapphire/u13350/image/certified-natural-ceylon-round-white-sapphire-1.3100-cts-u13350-1-full.jpg\" width=\"400\"/>"
      ],
      "text/plain": [
       "<IPython.core.display.Image object>"
      ]
     },
     "metadata": {},
     "output_type": "display_data"
    },
    {
     "name": "stdout",
     "output_type": "stream",
     "text": [
      "https://www.thenaturalsapphirecompany.com/1.40ct-ceylon-sri-lanka-round-white-sapphire-u17253-/\n",
      "White Sapphire - Round 1.40 Ct. #U17253\n",
      "Price per length: 183.19559228650135\n",
      "Price: 1330.0\n",
      "Dims: 7.26 x 7.17 x 3.95\n",
      "Color: White\n",
      "Treatments: Heated\n"
     ]
    },
    {
     "data": {
      "text/html": [
       "<img src=\"https://image.thenaturalsapphirecompany.com/nsc/sapphire/u17253/image/certified-natural-ceylon(srilanka)-round-white-sapphire-1.4000-cts-u17253-1-full.jpg\" width=\"400\"/>"
      ],
      "text/plain": [
       "<IPython.core.display.Image object>"
      ]
     },
     "metadata": {},
     "output_type": "display_data"
    },
    {
     "name": "stdout",
     "output_type": "stream",
     "text": [
      "https://www.thenaturalsapphirecompany.com/2.23ct-ceylon-sri-lanka-cushion-white-sapphire-s4041-/\n",
      "White Sapphire - Cushion 2.23 Ct. #S4041\n",
      "Price per length: 185.6594110115237\n",
      "Price: 1450.0\n",
      "Dims: 7.81 x 7.06 x 4.26\n",
      "Color: White\n",
      "Treatments: No Enhancement\n"
     ]
    },
    {
     "data": {
      "text/html": [
       "<img src=\"https://image.thenaturalsapphirecompany.com/nsc/sapphire/s4041/image/certified-natural-untreated-ceylon(srilanka)-cushion-white-sapphire-2.2300-cts-s4041-1-full.jpg\" width=\"400\"/>"
      ],
      "text/plain": [
       "<IPython.core.display.Image object>"
      ]
     },
     "metadata": {},
     "output_type": "display_data"
    },
    {
     "name": "stdout",
     "output_type": "stream",
     "text": [
      "https://www.thenaturalsapphirecompany.com/1.35ct-ceylon-sri-lanka-cushion-peach-sapphire-u14270-/\n",
      "Peach Sapphire - Cushion 1.35 Ct. #U14270\n",
      "Price per length: 187.3772791023843\n",
      "Price: 1336.0\n",
      "Dims: 7.13 x 5.61 x 3.77\n",
      "Color: Peach\n",
      "Treatments: No Enhancement\n"
     ]
    },
    {
     "data": {
      "text/html": [
       "<img src=\"https://image.thenaturalsapphirecompany.com/nsc/sapphire/u14270/image/certified-natural-untreated-ceylon-cushion-peach-sapphire-1.3500-cts-u14270-1-full.jpg\" width=\"400\"/>"
      ],
      "text/plain": [
       "<IPython.core.display.Image object>"
      ]
     },
     "metadata": {},
     "output_type": "display_data"
    },
    {
     "name": "stdout",
     "output_type": "stream",
     "text": [
      "https://www.thenaturalsapphirecompany.com/1.64ct-ceylon-sri-lanka-cushion-white-sapphire-s11689-/\n",
      "White Sapphire - Cushion 1.64 Ct. #S11689\n",
      "Price per length: 188.37837837837836\n",
      "Price: 1394.0\n",
      "Dims: 7.4 x 5.46 x 3.94\n",
      "Color: White\n",
      "Treatments: No Enhancement\n"
     ]
    },
    {
     "data": {
      "text/html": [
       "<img src=\"https://image.thenaturalsapphirecompany.com/nsc/sapphire/s11689/image/certified-natural-untreated-ceylon(srilanka)-cushion-white-sapphire-1.6400-cts-s11689-1-full.jpg\" width=\"400\"/>"
      ],
      "text/plain": [
       "<IPython.core.display.Image object>"
      ]
     },
     "metadata": {},
     "output_type": "display_data"
    },
    {
     "name": "stdout",
     "output_type": "stream",
     "text": [
      "https://www.thenaturalsapphirecompany.com/1.21ct-ceylon-sri-lanka-cushion-peach-sapphire-u16743-/\n",
      "Peach Sapphire - Cushion 1.21 Ct. #U16743\n",
      "Price per length: 189.0649762282092\n",
      "Price: 1193.0\n",
      "Dims: 6.31 x 5.45 x 3.9\n",
      "Color: Peach\n",
      "Treatments: Heated\n"
     ]
    },
    {
     "data": {
      "text/html": [
       "<img src=\"https://image.thenaturalsapphirecompany.com/nsc/sapphire/u16743/image/certified-natural-ceylon(srilanka)-cushion-peach-sapphire-1.2100-cts-u16743-1-full.jpg\" width=\"400\"/>"
      ],
      "text/plain": [
       "<IPython.core.display.Image object>"
      ]
     },
     "metadata": {},
     "output_type": "display_data"
    },
    {
     "name": "stdout",
     "output_type": "stream",
     "text": [
      "https://www.thenaturalsapphirecompany.com/1.29ct-ceylon-sri-lanka-cushion-peach-sapphire-u15665-/\n",
      "Peach Sapphire - Cushion 1.29 Ct. #U15665\n",
      "Price per length: 189.1495601173021\n",
      "Price: 1290.0\n",
      "Dims: 6.82 x 5.79 x 3.74\n",
      "Color: Peach\n",
      "Treatments: No Enhancement\n"
     ]
    },
    {
     "data": {
      "text/html": [
       "<img src=\"https://image.thenaturalsapphirecompany.com/nsc/sapphire/u15665/image/certified-natural-untreated-ceylon(srilanka)-cushion-peach-sapphire-1.2900-cts-u15665-1-full.jpg\" width=\"400\"/>"
      ],
      "text/plain": [
       "<IPython.core.display.Image object>"
      ]
     },
     "metadata": {},
     "output_type": "display_data"
    },
    {
     "name": "stdout",
     "output_type": "stream",
     "text": [
      "https://www.thenaturalsapphirecompany.com/1.49ct-ceylon-sri-lanka-radiant-white-sapphire-u13035-/\n",
      "White Sapphire - Radiant 1.49 Ct. #U13035\n",
      "Price per length: 190.7539118065434\n",
      "Price: 1341.0\n",
      "Dims: 7.03 x 5.14 x 4.29\n",
      "Color: White\n",
      "Treatments: No Enhancement\n"
     ]
    },
    {
     "data": {
      "text/html": [
       "<img src=\"https://image.thenaturalsapphirecompany.com/nsc/sapphire/u13035/image/certified-natural-untreated-ceylon-radiant-white-sapphire-1.4900-cts-u13035-1-full.jpg\" width=\"400\"/>"
      ],
      "text/plain": [
       "<IPython.core.display.Image object>"
      ]
     },
     "metadata": {},
     "output_type": "display_data"
    },
    {
     "name": "stdout",
     "output_type": "stream",
     "text": [
      "https://www.thenaturalsapphirecompany.com/1.72ct-ceylon-sri-lanka-round-peach-sapphire-s14874-/\n",
      "Peach Sapphire - Round 1.72 Ct. #S14874\n",
      "Price per length: 191.91073919107393\n",
      "Price: 1376.0\n",
      "Dims: 7.17 x 7.18 x 4.25\n",
      "Color: Peach\n",
      "Treatments: No Enhancement\n"
     ]
    },
    {
     "data": {
      "text/html": [
       "<img src=\"https://image.thenaturalsapphirecompany.com/nsc/sapphire/s14874/image/certified-natural-untreated-ceylon(srilanka)-round-peach-sapphire-1.7200-cts-s14874-1-full.jpg\" width=\"400\"/>"
      ],
      "text/plain": [
       "<IPython.core.display.Image object>"
      ]
     },
     "metadata": {},
     "output_type": "display_data"
    },
    {
     "name": "stdout",
     "output_type": "stream",
     "text": [
      "https://www.thenaturalsapphirecompany.com/1.99ct-ceylon-sri-lanka-oval-white-sapphire-s6609-/\n",
      "White Sapphire - Oval 1.99 Ct. #S6609\n",
      "Price per length: 192.96969696969697\n",
      "Price: 1592.0\n",
      "Dims: 8.25 x 6.71 x 4.73\n",
      "Color: White\n",
      "Treatments: No Enhancement\n"
     ]
    },
    {
     "data": {
      "text/html": [
       "<img src=\"https://image.thenaturalsapphirecompany.com/nsc/sapphire/s6609/image/certified-natural-untreated-ceylon(srilanka)-oval-white-sapphire-1.9900-cts-s6609-1-full.jpg\" width=\"400\"/>"
      ],
      "text/plain": [
       "<IPython.core.display.Image object>"
      ]
     },
     "metadata": {},
     "output_type": "display_data"
    },
    {
     "name": "stdout",
     "output_type": "stream",
     "text": [
      "https://www.thenaturalsapphirecompany.com/2.20ct-ceylon-sri-lanka-cushion-white-sapphire-s4044-/\n",
      "White Sapphire - Cushion 2.20 Ct. #S4044\n",
      "Price per length: 193.7669376693767\n",
      "Price: 1430.0\n",
      "Dims: 7.38 x 7.08 x 4.64\n",
      "Color: White\n",
      "Treatments: No Enhancement\n"
     ]
    },
    {
     "data": {
      "text/html": [
       "<img src=\"https://image.thenaturalsapphirecompany.com/nsc/sapphire/s4044/image/certified-natural-untreated-ceylon(srilanka)-cushion-white-sapphire-2.2000-cts-s4044-1-full.jpg\" width=\"400\"/>"
      ],
      "text/plain": [
       "<IPython.core.display.Image object>"
      ]
     },
     "metadata": {},
     "output_type": "display_data"
    },
    {
     "name": "stdout",
     "output_type": "stream",
     "text": [
      "https://www.thenaturalsapphirecompany.com/1.59ct-ceylon-sri-lanka-cushion-peach-sapphire-u15689-/\n",
      "Peach Sapphire - Cushion 1.59 Ct. #U15689\n",
      "Price per length: 193.7673130193906\n",
      "Price: 1399.0\n",
      "Dims: 7.22 x 6.4 x 4.37\n",
      "Color: Peach\n",
      "Treatments: No Enhancement\n"
     ]
    },
    {
     "data": {
      "text/html": [
       "<img src=\"https://image.thenaturalsapphirecompany.com/nsc/sapphire/u15689/image/certified-natural-untreated-ceylon(srilanka)-cushion-peach-sapphire-1.5900-cts-u15689-1-full.jpg\" width=\"400\"/>"
      ],
      "text/plain": [
       "<IPython.core.display.Image object>"
      ]
     },
     "metadata": {},
     "output_type": "display_data"
    },
    {
     "name": "stdout",
     "output_type": "stream",
     "text": [
      "https://www.thenaturalsapphirecompany.com/1.58ct-ceylon-sri-lanka-emerald-cut-peach-sapphire-s11338-/\n",
      "Peach Sapphire - Emerald Cut 1.58 Ct. #S11338\n",
      "Price per length: 195.5983493810179\n",
      "Price: 1422.0\n",
      "Dims: 7.27 x 6.2 x 3.73\n",
      "Color: Peach\n",
      "Treatments: No Enhancement\n"
     ]
    },
    {
     "data": {
      "text/html": [
       "<img src=\"https://image.thenaturalsapphirecompany.com/nsc/sapphire/s11338/image/certified-natural-untreated-ceylon(srilanka)-emerald-peach(yellow-orange)-sapphire-1.5800-cts-s11338-1-full.jpg\" width=\"400\"/>"
      ],
      "text/plain": [
       "<IPython.core.display.Image object>"
      ]
     },
     "metadata": {},
     "output_type": "display_data"
    },
    {
     "name": "stdout",
     "output_type": "stream",
     "text": [
      "https://www.thenaturalsapphirecompany.com/1.50ct-ceylon-sri-lanka-round-white-sapphire-u13352-/\n",
      "White Sapphire - Round 1.50 Ct. #U13352\n",
      "Price per length: 196.22093023255815\n",
      "Price: 1350.0\n",
      "Dims: 6.88 x 6.82 x 4.56\n",
      "Color: White\n",
      "Treatments: Heated\n"
     ]
    },
    {
     "data": {
      "text/html": [
       "<img src=\"https://image.thenaturalsapphirecompany.com/nsc/sapphire/u13352/image/certified-natural-ceylon-round-white-sapphire-1.5000-cts-u13352-1-full.jpg\" width=\"400\"/>"
      ],
      "text/plain": [
       "<IPython.core.display.Image object>"
      ]
     },
     "metadata": {},
     "output_type": "display_data"
    },
    {
     "name": "stdout",
     "output_type": "stream",
     "text": [
      "https://www.thenaturalsapphirecompany.com/1.21ct-ceylon-sri-lanka-oval-padparadscha-sapphire-s6270-/\n",
      "Padparadscha Sapphire - Oval 1.21 Ct. #S6270\n",
      "Price per length: 199.45054945054943\n",
      "Price: 1452.0\n",
      "Dims: 7.28 x 4.86 x 4.15\n",
      "Color: Padparadscha (Pinkish-Orange / Orangish-Pink)\n",
      "Treatments: No Enhancement\n"
     ]
    },
    {
     "data": {
      "text/html": [
       "<img src=\"https://image.thenaturalsapphirecompany.com/nsc/sapphire/s6270/image/certified-natural-untreated-ceylon(srilanka)-oval-padparadscha-sapphire-1.2100-cts-s6270-1-full.jpg\" width=\"400\"/>"
      ],
      "text/plain": [
       "<IPython.core.display.Image object>"
      ]
     },
     "metadata": {},
     "output_type": "display_data"
    },
    {
     "name": "stdout",
     "output_type": "stream",
     "text": [
      "https://www.thenaturalsapphirecompany.com/1.21ct-ceylon-sri-lanka-cushion-padparadscha-sapphire-s11163-/\n",
      "Padparadscha Sapphire - Cushion 1.21 Ct. #S11163\n",
      "Price per length: 200.0\n",
      "Price: 1452.0\n",
      "Dims: 7.26 x 5.22 x 3.51\n",
      "Color: Padparadscha (Pinkish-Orange / Orangish-Pink)\n",
      "Treatments: No Enhancement\n"
     ]
    },
    {
     "data": {
      "text/html": [
       "<img src=\"https://image.thenaturalsapphirecompany.com/nsc/sapphire/s11163/image/certified-natural-untreated-ceylon(srilanka)-cushion-peach-sapphire-1.2100-cts-s11163-1-full.jpg\" width=\"400\"/>"
      ],
      "text/plain": [
       "<IPython.core.display.Image object>"
      ]
     },
     "metadata": {},
     "output_type": "display_data"
    },
    {
     "name": "stdout",
     "output_type": "stream",
     "text": [
      "https://www.thenaturalsapphirecompany.com/1.61ct-ceylon-sri-lanka-oval-peach-sapphire-s17009-/\n",
      "Peach Sapphire - Oval 1.61 Ct. #S17009\n",
      "Price per length: 202.03106332138591\n",
      "Price: 1691.0\n",
      "Dims: 8.37 x 6.32 x 3.65\n",
      "Color: Peach\n",
      "Treatments: No Enhancement\n"
     ]
    },
    {
     "data": {
      "text/html": [
       "<img src=\"https://image.thenaturalsapphirecompany.com/nsc/sapphire/s17009/image/certified-natural-untreated-ceylon(srilanka)-oval-peach-sapphire-1.6100-cts-s17009-1-full.jpg\" width=\"400\"/>"
      ],
      "text/plain": [
       "<IPython.core.display.Image object>"
      ]
     },
     "metadata": {},
     "output_type": "display_data"
    },
    {
     "name": "stdout",
     "output_type": "stream",
     "text": [
      "https://www.thenaturalsapphirecompany.com/1.66ct-ceylon-sri-lanka-radiant-peach-sapphire-s15889-/\n",
      "Peach Sapphire - Radiant 1.66 Ct. #S15889\n",
      "Price per length: 202.83783783783784\n",
      "Price: 1501.0\n",
      "Dims: 7.4 x 6.32 x 3.95\n",
      "Color: Peach\n",
      "Treatments: No Enhancement\n"
     ]
    },
    {
     "data": {
      "text/html": [
       "<img src=\"https://image.thenaturalsapphirecompany.com/nsc/sapphire/s15889/image/certified-natural-untreated-ceylon(srilanka)-radiant-peach-sapphire-1.6600-cts-s15889-1-full.jpg\" width=\"400\"/>"
      ],
      "text/plain": [
       "<IPython.core.display.Image object>"
      ]
     },
     "metadata": {},
     "output_type": "display_data"
    },
    {
     "name": "stdout",
     "output_type": "stream",
     "text": [
      "https://www.thenaturalsapphirecompany.com/1.38ct-ceylon-sri-lanka-oval-padparadscha-sapphire-s8259-/\n",
      "Padparadscha Sapphire - Oval 1.38 Ct. #S8259\n",
      "Price per length: 203.94088669950744\n",
      "Price: 1656.0\n",
      "Dims: 8.12 x 6.4 x 3.44\n",
      "Color: Padparadscha (Pinkish-Orange / Orangish-Pink)\n",
      "Treatments: No Enhancement\n"
     ]
    },
    {
     "data": {
      "text/html": [
       "<img src=\"https://image.thenaturalsapphirecompany.com/nsc/sapphire/s8259/image/certified-natural-untreated-ceylon(srilanka)-oval-padparadscha-sapphire-1.3800-cts-s8259-1-full.jpg\" width=\"400\"/>"
      ],
      "text/plain": [
       "<IPython.core.display.Image object>"
      ]
     },
     "metadata": {},
     "output_type": "display_data"
    },
    {
     "name": "stdout",
     "output_type": "stream",
     "text": [
      "https://www.thenaturalsapphirecompany.com/2.29ct-ceylon-sri-lanka-radiant-white-sapphire-s10272-/\n",
      "White Sapphire - Radiant 2.29 Ct. #S10272\n",
      "Price per length: 206.9541029207232\n",
      "Price: 1488.0\n",
      "Dims: 7.19 x 7.19 x 4.73\n",
      "Color: White\n",
      "Treatments: No Enhancement\n"
     ]
    },
    {
     "data": {
      "text/html": [
       "<img src=\"https://image.thenaturalsapphirecompany.com/nsc/sapphire/s10272/image/certified-natural-untreated-ceylon(srilanka)-radiant-white-sapphire-2.2900-cts-s10272-1-full.jpg\" width=\"400\"/>"
      ],
      "text/plain": [
       "<IPython.core.display.Image object>"
      ]
     },
     "metadata": {},
     "output_type": "display_data"
    },
    {
     "name": "stdout",
     "output_type": "stream",
     "text": [
      "https://www.thenaturalsapphirecompany.com/1.54ct-ceylon-sri-lanka-emerald-cut-peach-sapphire-s4883-/\n",
      "Peach Sapphire - Emerald Cut 1.54 Ct. #S4883\n",
      "Price per length: 207.22379603399435\n",
      "Price: 1463.0\n",
      "Dims: 7.06 x 6.05 x 3.63\n",
      "Color: Peach\n",
      "Treatments: No Enhancement\n"
     ]
    },
    {
     "data": {
      "text/html": [
       "<img src=\"https://image.thenaturalsapphirecompany.com/nsc/sapphire/s4883/image/certified-natural-untreated-ceylon(srilanka)-emeraldcut-peach-sapphire-1.5400-cts-s4883-1-full.jpg\" width=\"400\"/>"
      ],
      "text/plain": [
       "<IPython.core.display.Image object>"
      ]
     },
     "metadata": {},
     "output_type": "display_data"
    },
    {
     "name": "stdout",
     "output_type": "stream",
     "text": [
      "https://www.thenaturalsapphirecompany.com/2.65ct-ceylon-sri-lanka-cushion-white-sapphire-s4043-/\n",
      "White Sapphire - Cushion 2.65 Ct. #S4043\n",
      "Price per length: 207.3405535499398\n",
      "Price: 1723.0\n",
      "Dims: 8.31 x 7.67 x 4.69\n",
      "Color: White\n",
      "Treatments: No Enhancement\n"
     ]
    },
    {
     "data": {
      "text/html": [
       "<img src=\"https://image.thenaturalsapphirecompany.com/nsc/sapphire/s4043/image/certified-natural-untreated-ceylon(srilanka)-cushion-white-sapphire-2.6500-cts-s4043-1-full.jpg\" width=\"400\"/>"
      ],
      "text/plain": [
       "<IPython.core.display.Image object>"
      ]
     },
     "metadata": {},
     "output_type": "display_data"
    },
    {
     "name": "stdout",
     "output_type": "stream",
     "text": [
      "https://www.thenaturalsapphirecompany.com/2.11ct-ceylon-sri-lanka-radiant-white-sapphire-u15695-/\n",
      "White Sapphire - Radiant 2.11 Ct. #U15695\n",
      "Price per length: 208.8688946015424\n",
      "Price: 1625.0\n",
      "Dims: 7.78 x 6.49 x 4.63\n",
      "Color: White\n",
      "Treatments: Heated\n"
     ]
    },
    {
     "data": {
      "text/html": [
       "<img src=\"https://image.thenaturalsapphirecompany.com/nsc/sapphire/u15695/image/certified-natural-ceylon(srilanka)-radiant-white-sapphire-2.1100-cts-u15695-1-full.jpg\" width=\"400\"/>"
      ],
      "text/plain": [
       "<IPython.core.display.Image object>"
      ]
     },
     "metadata": {},
     "output_type": "display_data"
    },
    {
     "name": "stdout",
     "output_type": "stream",
     "text": [
      "https://www.thenaturalsapphirecompany.com/2.10ct-ceylon-sri-lanka-oval-peach-sapphire-u14949-/\n",
      "Peach Sapphire - Oval 2.10 Ct. #U14949\n",
      "Price per length: 211.40939597315435\n",
      "Price: 1890.0\n",
      "Dims: 8.94 x 7.54 x 3.69\n",
      "Color: Peach\n",
      "Treatments: No Enhancement\n"
     ]
    },
    {
     "data": {
      "text/html": [
       "<img src=\"https://image.thenaturalsapphirecompany.com/nsc/sapphire/u14949/image/certified-natural-untreated-ceylon-oval-peach-sapphire-2.1000-cts-u14949-1-full.jpg\" width=\"400\"/>"
      ],
      "text/plain": [
       "<IPython.core.display.Image object>"
      ]
     },
     "metadata": {},
     "output_type": "display_data"
    },
    {
     "name": "stdout",
     "output_type": "stream",
     "text": [
      "https://www.thenaturalsapphirecompany.com/2.05ct-ceylon-sri-lanka-oval-white-sapphire-s16196-/\n",
      "White Sapphire - Oval 2.05 Ct. #S16196\n",
      "Price per length: 211.52912621359224\n",
      "Price: 1743.0\n",
      "Dims: 8.24 x 6.5 x 4.64\n",
      "Color: White\n",
      "Treatments: Heated\n"
     ]
    },
    {
     "data": {
      "text/html": [
       "<img src=\"https://image.thenaturalsapphirecompany.com/nsc/sapphire/s16196/image/certified-natural-ceylon(srilanka)-oval-white-sapphire-2.0500-cts-s16196-1-full.jpg\" width=\"400\"/>"
      ],
      "text/plain": [
       "<IPython.core.display.Image object>"
      ]
     },
     "metadata": {},
     "output_type": "display_data"
    },
    {
     "name": "stdout",
     "output_type": "stream",
     "text": [
      "https://www.thenaturalsapphirecompany.com/1.09ct-montana-oval-white-sapphire-u13176-/\n",
      "White Sapphire - Oval 1.09 Ct. #U13176\n",
      "Price per length: 215.84158415841583\n",
      "Price: 1526.0\n",
      "Dims: 7.07 x 5.01 x 3.91\n",
      "Color: White\n",
      "Treatments: Heated\n"
     ]
    },
    {
     "data": {
      "text/html": [
       "<img src=\"https://image.thenaturalsapphirecompany.com/nsc/sapphire/u13176/image/certified-natural-montana-oval-peach-sapphire-1.0900-cts-u13176-1-full.jpg\" width=\"400\"/>"
      ],
      "text/plain": [
       "<IPython.core.display.Image object>"
      ]
     },
     "metadata": {},
     "output_type": "display_data"
    },
    {
     "name": "stdout",
     "output_type": "stream",
     "text": [
      "https://www.thenaturalsapphirecompany.com/1.63ct-ceylon-sri-lanka-marquise-peach-sapphire-s13871-/\n",
      "Peach Sapphire - Marquise 1.63 Ct. #S13871\n",
      "Price per length: 216.913123844732\n",
      "Price: 2347.0\n",
      "Dims: 10.82 x 5.53 x 3.47\n",
      "Color: Peach\n",
      "Treatments: No Enhancement\n"
     ]
    },
    {
     "data": {
      "text/html": [
       "<img src=\"https://image.thenaturalsapphirecompany.com/nsc/sapphire/s13871/image/certified-natural-untreated-ceylon(srilanka)-marquise-peach-sapphire-1.6300-cts-s13871-1-full.jpg\" width=\"400\"/>"
      ],
      "text/plain": [
       "<IPython.core.display.Image object>"
      ]
     },
     "metadata": {},
     "output_type": "display_data"
    },
    {
     "name": "stdout",
     "output_type": "stream",
     "text": [
      "https://www.thenaturalsapphirecompany.com/1.62ct-ceylon-sri-lanka-asscher-octagon-white-sapphire-u13574-/\n",
      "White Sapphire - Asscher - Octagon 1.62 Ct. #U13574\n",
      "Price per length: 218.18181818181816\n",
      "Price: 1296.0\n",
      "Dims: 5.94 x 5.91 x 4.71\n",
      "Color: White\n",
      "Treatments: Heated\n"
     ]
    },
    {
     "data": {
      "text/html": [
       "<img src=\"https://image.thenaturalsapphirecompany.com/nsc/sapphire/u13574/image/certified-natural-ceylon-asscher-white-sapphire-1.6200-cts-u13574-1-full.jpg\" width=\"400\"/>"
      ],
      "text/plain": [
       "<IPython.core.display.Image object>"
      ]
     },
     "metadata": {},
     "output_type": "display_data"
    },
    {
     "name": "stdout",
     "output_type": "stream",
     "text": [
      "https://www.thenaturalsapphirecompany.com/1.59ct-ceylon-sri-lanka-emerald-cut-white-sapphire-u16676-/\n",
      "White Sapphire - Emerald Cut 1.59 Ct. #U16676\n",
      "Price per length: 219.31034482758625\n",
      "Price: 1590.0\n",
      "Dims: 7.25 x 6.06 x 3.68\n",
      "Color: White\n",
      "Treatments: Heated\n"
     ]
    },
    {
     "data": {
      "text/html": [
       "<img src=\"https://image.thenaturalsapphirecompany.com/nsc/sapphire/u16676/image/certified-natural-ceylon(srilanka)-emeraldcut-white-sapphire-1.5900-cts-u16676-1-full.jpg\" width=\"400\"/>"
      ],
      "text/plain": [
       "<IPython.core.display.Image object>"
      ]
     },
     "metadata": {},
     "output_type": "display_data"
    },
    {
     "name": "stdout",
     "output_type": "stream",
     "text": [
      "https://www.thenaturalsapphirecompany.com/1.42ct-ceylon-sri-lanka-princess-white-sapphire-s10277-/\n",
      "White Sapphire - Princess 1.42 Ct. #S10277\n",
      "Price per length: 219.47449768160743\n",
      "Price: 1420.0\n",
      "Dims: 6.47 x 6.47 x 3.7\n",
      "Color: White\n",
      "Treatments: Heated\n"
     ]
    },
    {
     "data": {
      "text/html": [
       "<img src=\"https://image.thenaturalsapphirecompany.com/nsc/sapphire/s10277/image/certified-natural-ceylon(srilanka)-princess-white-sapphire-1.4200-cts-s10277-1-full.jpg\" width=\"400\"/>"
      ],
      "text/plain": [
       "<IPython.core.display.Image object>"
      ]
     },
     "metadata": {},
     "output_type": "display_data"
    },
    {
     "name": "stdout",
     "output_type": "stream",
     "text": [
      "https://www.thenaturalsapphirecompany.com/1.75ct-ceylon-sri-lanka-oval-peach-sapphire-s10943-/\n",
      "Peach Sapphire - Oval 1.75 Ct. #S10943\n",
      "Price per length: 219.7488584474886\n",
      "Price: 1925.0\n",
      "Dims: 8.76 x 6.61 x 3.49\n",
      "Color: Peach\n",
      "Treatments: No Enhancement\n"
     ]
    },
    {
     "data": {
      "text/html": [
       "<img src=\"https://image.thenaturalsapphirecompany.com/nsc/sapphire/s10943/image/certified-natural-untreated-ceylon(srilanka)-oval-peach-sapphire-1.7500-cts-s10943-1-full.jpg\" width=\"400\"/>"
      ],
      "text/plain": [
       "<IPython.core.display.Image object>"
      ]
     },
     "metadata": {},
     "output_type": "display_data"
    },
    {
     "name": "stdout",
     "output_type": "stream",
     "text": [
      "https://www.thenaturalsapphirecompany.com/1.26ct-ceylon-sri-lanka-cushion-peach-sapphire-s6540-/\n",
      "Peach Sapphire - Cushion 1.26 Ct. #S6540\n",
      "Price per length: 220.0873362445415\n",
      "Price: 1512.0\n",
      "Dims: 6.87 x 5.19 x 3.54\n",
      "Color: Peach\n",
      "Treatments: Heated\n"
     ]
    },
    {
     "data": {
      "text/html": [
       "<img src=\"https://image.thenaturalsapphirecompany.com/nsc/sapphire/s6540/image/certified-natural-ceylon(srilanka)-cushion-peach-sapphire-1.2600-cts-s6540-1-full.jpg\" width=\"400\"/>"
      ],
      "text/plain": [
       "<IPython.core.display.Image object>"
      ]
     },
     "metadata": {},
     "output_type": "display_data"
    },
    {
     "name": "stdout",
     "output_type": "stream",
     "text": [
      "https://www.thenaturalsapphirecompany.com/1.57ct-ceylon-sri-lanka-asscher-octagon-peach-sapphire-s16286-/\n",
      "Peach Sapphire - Asscher - Octagon 1.57 Ct. #S16286\n",
      "Price per length: 220.93023255813955\n",
      "Price: 1520.0\n",
      "Dims: 6.88 x 6.64 x 3.81\n",
      "Color: Peach\n",
      "Treatments: Heated\n"
     ]
    },
    {
     "data": {
      "text/html": [
       "<img src=\"https://image.thenaturalsapphirecompany.com/nsc/sapphire/s16286/image/certified-natural-ceylon(srilanka)-emeraldcut-peach-sapphire-1.5700-cts-s16286-1-full.jpg\" width=\"400\"/>"
      ],
      "text/plain": [
       "<IPython.core.display.Image object>"
      ]
     },
     "metadata": {},
     "output_type": "display_data"
    },
    {
     "name": "stdout",
     "output_type": "stream",
     "text": [
      "https://www.thenaturalsapphirecompany.com/2.20ct-ceylon-sri-lanka-marquise-white-sapphire-s6557-/\n",
      "White Sapphire - Marquise 2.20 Ct. #S6557\n",
      "Price per length: 221.1910286156226\n",
      "Price: 2860.0\n",
      "Dims: 12.93 x 6.05 x 3.69\n",
      "Color: White\n",
      "Treatments: No Enhancement\n"
     ]
    },
    {
     "data": {
      "text/html": [
       "<img src=\"https://image.thenaturalsapphirecompany.com/nsc/sapphire/s6557/image/certified-natural-untreated-ceylon(srilanka)-marquise-white-sapphire-2.2000-cts-s6557-1-full.jpg\" width=\"400\"/>"
      ],
      "text/plain": [
       "<IPython.core.display.Image object>"
      ]
     },
     "metadata": {},
     "output_type": "display_data"
    },
    {
     "name": "stdout",
     "output_type": "stream",
     "text": [
      "https://www.thenaturalsapphirecompany.com/1.36ct-ceylon-sri-lanka-cushion-white-sapphire-s6623-/\n",
      "White Sapphire - Cushion 1.36 Ct. #S6623\n",
      "Price per length: 224.42244224422444\n",
      "Price: 1360.0\n",
      "Dims: 6.06 x 5.93 x 4.34\n",
      "Color: White\n",
      "Treatments: No Enhancement\n"
     ]
    },
    {
     "data": {
      "text/html": [
       "<img src=\"https://image.thenaturalsapphirecompany.com/nsc/sapphire/s6623/image/certified-natural-untreated-ceylon(srilanka)-cushion-white-sapphire-1.3600-cts-s6623-1-full.jpg\" width=\"400\"/>"
      ],
      "text/plain": [
       "<IPython.core.display.Image object>"
      ]
     },
     "metadata": {},
     "output_type": "display_data"
    },
    {
     "name": "stdout",
     "output_type": "stream",
     "text": [
      "https://www.thenaturalsapphirecompany.com/1.65ct-ceylon-sri-lanka-oval-peach-sapphire-y5170-/\n",
      "Peach Sapphire - Oval 1.65 Ct. #Y5170\n",
      "Price per length: 228.30687830687833\n",
      "Price: 1726.0\n",
      "Dims: 7.56 x 6.75 x 4.47\n",
      "Color: Peach\n",
      "Treatments: Heated\n"
     ]
    },
    {
     "data": {
      "text/html": [
       "<img src=\"https://image.thenaturalsapphirecompany.com/nsc/sapphire/y5170/image/certified-natural-ceylon(srilanka)-oval-yellow-sapphire-1.6600-cts-y5170-1-full.jpg\" width=\"400\"/>"
      ],
      "text/plain": [
       "<IPython.core.display.Image object>"
      ]
     },
     "metadata": {},
     "output_type": "display_data"
    },
    {
     "name": "stdout",
     "output_type": "stream",
     "text": [
      "https://www.thenaturalsapphirecompany.com/1.51ct-ceylon-sri-lanka-emerald-cut-peach-sapphire-u16979-/\n",
      "Peach Sapphire - Emerald Cut 1.51 Ct. #U16979\n",
      "Price per length: 228.7878787878788\n",
      "Price: 1661.0\n",
      "Dims: 7.26 x 5.73 x 3.9\n",
      "Color: Peach\n",
      "Treatments: No Enhancement\n"
     ]
    },
    {
     "data": {
      "text/html": [
       "<img src=\"https://image.thenaturalsapphirecompany.com/nsc/sapphire/u16979/image/certified-natural-untreated-ceylon(srilanka)-emeraldcut-peach-sapphire-1.5100-cts-u16979-1-full.jpg\" width=\"400\"/>"
      ],
      "text/plain": [
       "<IPython.core.display.Image object>"
      ]
     },
     "metadata": {},
     "output_type": "display_data"
    },
    {
     "name": "stdout",
     "output_type": "stream",
     "text": [
      "https://www.thenaturalsapphirecompany.com/1.01ct-ceylon-sri-lanka-oval-peach-sapphire-u14263-/\n",
      "Peach Sapphire - Oval 1.01 Ct. #U14263\n",
      "Price per length: 228.89518413597736\n",
      "Price: 1616.0\n",
      "Dims: 7.06 x 5.11 x 3.48\n",
      "Color: Peach\n",
      "Treatments: Heated\n"
     ]
    },
    {
     "data": {
      "text/html": [
       "<img src=\"https://image.thenaturalsapphirecompany.com/nsc/sapphire/u14263/image/certified-natural-ceylon-oval-peach-sapphire-1.0100-cts-u14263-1-full.jpg\" width=\"400\"/>"
      ],
      "text/plain": [
       "<IPython.core.display.Image object>"
      ]
     },
     "metadata": {},
     "output_type": "display_data"
    },
    {
     "name": "stdout",
     "output_type": "stream",
     "text": [
      "https://www.thenaturalsapphirecompany.com/3.16ct-ceylon-sri-lanka-radiant-white-sapphire-u9939-/\n",
      "White Sapphire - Radiant 3.16 Ct. #U9939\n",
      "Price per length: 230.17689906347556\n",
      "Price: 2212.0\n",
      "Dims: 9.61 x 6.38 x 5.42\n",
      "Color: White\n",
      "Treatments: No Enhancement\n"
     ]
    },
    {
     "data": {
      "text/html": [
       "<img src=\"https://image.thenaturalsapphirecompany.com/nsc/sapphire/u9939/image/certified-natural-untreated-ceylon-radiant-white-sapphire-3.1600-cts-u9939-1-full.jpg\" width=\"400\"/>"
      ],
      "text/plain": [
       "<IPython.core.display.Image object>"
      ]
     },
     "metadata": {},
     "output_type": "display_data"
    },
    {
     "name": "stdout",
     "output_type": "stream",
     "text": [
      "https://www.thenaturalsapphirecompany.com/1.68ct-ceylon-sri-lanka-oval-white-sapphire-s6213-/\n",
      "White Sapphire - Oval 1.68 Ct. #S6213\n",
      "Price per length: 231.9327731092437\n",
      "Price: 1932.0\n",
      "Dims: 8.33 x 6.76 x 4.12\n",
      "Color: White\n",
      "Treatments: Heated\n"
     ]
    },
    {
     "data": {
      "text/html": [
       "<img src=\"https://image.thenaturalsapphirecompany.com/nsc/sapphire/s6213/image/certified-natural-ceylon(srilanka)-oval-white-sapphire-1.6800-cts-s6213-1-full.jpg\" width=\"400\"/>"
      ],
      "text/plain": [
       "<IPython.core.display.Image object>"
      ]
     },
     "metadata": {},
     "output_type": "display_data"
    },
    {
     "name": "stdout",
     "output_type": "stream",
     "text": [
      "https://www.thenaturalsapphirecompany.com/2.05ct-ceylon-sri-lanka-oval-peach-sapphire-s14541-/\n",
      "Peach Sapphire - Oval 2.05 Ct. #S14541\n",
      "Price per length: 233.57575757575756\n",
      "Price: 1927.0\n",
      "Dims: 8.25 x 7.1 x 4.5\n",
      "Color: Peach\n",
      "Treatments: Heated\n"
     ]
    },
    {
     "data": {
      "text/html": [
       "<img src=\"https://image.thenaturalsapphirecompany.com/nsc/sapphire/s14541/image/certified-natural-untreated-ceylon(srilanka)-oval-peach-sapphire-2.0200-cts-s14541-1-full.jpg\" width=\"400\"/>"
      ],
      "text/plain": [
       "<IPython.core.display.Image object>"
      ]
     },
     "metadata": {},
     "output_type": "display_data"
    },
    {
     "name": "stdout",
     "output_type": "stream",
     "text": [
      "https://www.thenaturalsapphirecompany.com/1.75ct-ceylon-sri-lanka-oval-padparadscha-sapphire-s13856-/\n",
      "Padparadscha Sapphire - Oval 1.75 Ct. #S13856\n",
      "Price per length: 234.8993288590604\n",
      "Price: 2100.0\n",
      "Dims: 8.94 x 6.04 x 3.67\n",
      "Color: Padparadscha (Pinkish-Orange / Orangish-Pink)\n",
      "Treatments: No Enhancement\n"
     ]
    },
    {
     "data": {
      "text/html": [
       "<img src=\"https://image.thenaturalsapphirecompany.com/nsc/sapphire/s13856/image/certified-natural-untreated-ceylon(srilanka)-oval-padparadscha-sapphire-1.7500-cts-s13856-1-full.jpg\" width=\"400\"/>"
      ],
      "text/plain": [
       "<IPython.core.display.Image object>"
      ]
     },
     "metadata": {},
     "output_type": "display_data"
    },
    {
     "name": "stdout",
     "output_type": "stream",
     "text": [
      "https://www.thenaturalsapphirecompany.com/1.92ct-madagascar-emerald-cut-peach-sapphire-u13488-/\n",
      "Peach Sapphire - Emerald Cut 1.92 Ct. #U13488\n",
      "Price per length: 235.2941176470588\n",
      "Price: 1920.0\n",
      "Dims: 8.16 x 5.73 x 3.9\n",
      "Color: Peach\n",
      "Treatments: Heated\n"
     ]
    },
    {
     "data": {
      "text/html": [
       "<img src=\"https://image.thenaturalsapphirecompany.com/nsc/sapphire/u13488/image/certified-natural-madagascar-emeraldcut-peach-sapphire-1.9200-cts-u13488-1-full.jpg\" width=\"400\"/>"
      ],
      "text/plain": [
       "<IPython.core.display.Image object>"
      ]
     },
     "metadata": {},
     "output_type": "display_data"
    },
    {
     "name": "stdout",
     "output_type": "stream",
     "text": [
      "https://www.thenaturalsapphirecompany.com/2.08ct-ceylon-sri-lanka-pear-peach-sapphire-s10065-/\n",
      "Peach Sapphire - Pear 2.08 Ct. #S10065\n",
      "Price per length: 235.91682419659736\n",
      "Price: 2496.0\n",
      "Dims: 10.58 x 6.88 x 4.13\n",
      "Color: Peach\n",
      "Treatments: Heated\n"
     ]
    },
    {
     "data": {
      "text/html": [
       "<img src=\"https://image.thenaturalsapphirecompany.com/nsc/sapphire/s10065/image/certified-natural-ceylon(srilanka)-pear-peach-sapphire-2.0800-cts-s10065-1-full.jpg\" width=\"400\"/>"
      ],
      "text/plain": [
       "<IPython.core.display.Image object>"
      ]
     },
     "metadata": {},
     "output_type": "display_data"
    },
    {
     "name": "stdout",
     "output_type": "stream",
     "text": [
      "https://www.thenaturalsapphirecompany.com/7.79ct-ceylon-sri-lanka-cushion-white-sapphire-u8649-/\n",
      "White Sapphire - Cushion 7.79 Ct. #U8649\n",
      "Price per length: 236.0606060606061\n",
      "Price: 3116.0\n",
      "Dims: 13.2 x 10.33 x 5.91\n",
      "Color: White\n",
      "Treatments: Heated\n"
     ]
    },
    {
     "data": {
      "text/html": [
       "<img src=\"https://image.thenaturalsapphirecompany.com/nsc/sapphire/u8649/image/certified-natural-ceylon-oval-white-sapphire-7.7900-cts-u8649-1-full.jpg\" width=\"400\"/>"
      ],
      "text/plain": [
       "<IPython.core.display.Image object>"
      ]
     },
     "metadata": {},
     "output_type": "display_data"
    },
    {
     "name": "stdout",
     "output_type": "stream",
     "text": [
      "https://www.thenaturalsapphirecompany.com/2.04ct-ceylon-sri-lanka-cushion-peach-sapphire-u14950-/\n",
      "Peach Sapphire - Cushion 2.04 Ct. #U14950\n",
      "Price per length: 241.57894736842107\n",
      "Price: 1836.0\n",
      "Dims: 7.6 x 6.43 x 4.5\n",
      "Color: Peach\n",
      "Treatments: No Enhancement\n"
     ]
    },
    {
     "data": {
      "text/html": [
       "<img src=\"https://image.thenaturalsapphirecompany.com/nsc/sapphire/u14950/image/certified-natural-untreated-ceylon-cushion-peach-sapphire-2.0400-cts-u14950-1-full.jpg\" width=\"400\"/>"
      ],
      "text/plain": [
       "<IPython.core.display.Image object>"
      ]
     },
     "metadata": {},
     "output_type": "display_data"
    },
    {
     "name": "stdout",
     "output_type": "stream",
     "text": [
      "https://www.thenaturalsapphirecompany.com/2.12ct-ceylon-sri-lanka-pear-white-sapphire-s6556-/\n",
      "White Sapphire - Pear 2.12 Ct. #S6556\n",
      "Price per length: 245.79710144927537\n",
      "Price: 2544.0\n",
      "Dims: 10.35 x 6.59 x 4.22\n",
      "Color: White\n",
      "Treatments: No Enhancement\n"
     ]
    },
    {
     "data": {
      "text/html": [
       "<img src=\"https://image.thenaturalsapphirecompany.com/nsc/sapphire/s6556/image/certified-natural-untreated-ceylon(srilanka)-pear-white-sapphire-2.1200-cts-s6556-1-full.jpg\" width=\"400\"/>"
      ],
      "text/plain": [
       "<IPython.core.display.Image object>"
      ]
     },
     "metadata": {},
     "output_type": "display_data"
    },
    {
     "name": "stdout",
     "output_type": "stream",
     "text": [
      "https://www.thenaturalsapphirecompany.com/2.13ct-ceylon-sri-lanka-asscher-octagon-white-sapphire-u13215-/\n",
      "White Sapphire - Asscher - Octagon 2.13 Ct. #U13215\n",
      "Price per length: 246.9565217391304\n",
      "Price: 1704.0\n",
      "Dims: 6.9 x 6.9 x 4.84\n",
      "Color: White\n",
      "Treatments: Heated\n"
     ]
    },
    {
     "data": {
      "text/html": [
       "<img src=\"https://image.thenaturalsapphirecompany.com/nsc/sapphire/u13215/image/certified-natural-ceylon-asscher-white-sapphire-2.1300-cts-u13215-1-full.jpg\" width=\"400\"/>"
      ],
      "text/plain": [
       "<IPython.core.display.Image object>"
      ]
     },
     "metadata": {},
     "output_type": "display_data"
    },
    {
     "name": "stdout",
     "output_type": "stream",
     "text": [
      "https://www.thenaturalsapphirecompany.com/1.58ct-ceylon-sri-lanka-cushion-peach-sapphire-u13018-/\n",
      "Peach Sapphire - Cushion 1.58 Ct. #U13018\n",
      "Price per length: 248.64091559370527\n",
      "Price: 1738.0\n",
      "Dims: 6.99 x 6.55 x 4.01\n",
      "Color: Peach\n",
      "Treatments: No Enhancement\n"
     ]
    },
    {
     "data": {
      "text/html": [
       "<img src=\"https://image.thenaturalsapphirecompany.com/nsc/sapphire/u13018/image/certified-natural-untreated-ceylon-cushion-peach-sapphire-1.5800-cts-u13018-1-full.jpg\" width=\"400\"/>"
      ],
      "text/plain": [
       "<IPython.core.display.Image object>"
      ]
     },
     "metadata": {},
     "output_type": "display_data"
    },
    {
     "name": "stdout",
     "output_type": "stream",
     "text": [
      "https://www.thenaturalsapphirecompany.com/1.11ct-ceylon-sri-lanka-oval-padparadscha-sapphire-s16786-/\n",
      "Padparadscha Sapphire - Oval 1.11 Ct. #S16786\n",
      "Price per length: 248.94459102902377\n",
      "Price: 1887.0\n",
      "Dims: 7.58 x 5.74 x 3.22\n",
      "Color: Padparadscha (Pinkish-Orange / Orangish-Pink)\n",
      "Treatments: Heated\n"
     ]
    },
    {
     "data": {
      "text/html": [
       "<img src=\"https://image.thenaturalsapphirecompany.com/nsc/sapphire/s16786/image/certified-natural-ceylon(srilanka)-oval-peach-sapphire-1.1100-cts-s16786-1-full.jpg\" width=\"400\"/>"
      ],
      "text/plain": [
       "<IPython.core.display.Image object>"
      ]
     },
     "metadata": {},
     "output_type": "display_data"
    },
    {
     "name": "stdout",
     "output_type": "stream",
     "text": [
      "https://www.thenaturalsapphirecompany.com/1.76ct-ceylon-sri-lanka-cushion-peach-sapphire-u13583-/\n",
      "Peach Sapphire - Cushion 1.76 Ct. #U13583\n",
      "Price per length: 250.80545229244112\n",
      "Price: 2024.0\n",
      "Dims: 8.07 x 6.14 x 4.2\n",
      "Color: Peach\n",
      "Treatments: No Enhancement\n"
     ]
    },
    {
     "data": {
      "text/html": [
       "<img src=\"https://image.thenaturalsapphirecompany.com/nsc/sapphire/u13583/image/certified-natural-untreated-ceylon-cushion-peach-sapphire-1.7600-cts-u13583-1-full.jpg\" width=\"400\"/>"
      ],
      "text/plain": [
       "<IPython.core.display.Image object>"
      ]
     },
     "metadata": {},
     "output_type": "display_data"
    },
    {
     "name": "stdout",
     "output_type": "stream",
     "text": [
      "https://www.thenaturalsapphirecompany.com/1.48ct-madagascar-pear-peach-sapphire-u16346-/\n",
      "Peach Sapphire - Pear 1.48 Ct. #U16346\n",
      "Price per length: 252.10176991150445\n",
      "Price: 2279.0\n",
      "Dims: 9.04 x 6.6 x 3.4\n",
      "Color: Peach\n",
      "Treatments: No Enhancement\n"
     ]
    },
    {
     "data": {
      "text/html": [
       "<img src=\"https://image.thenaturalsapphirecompany.com/nsc/sapphire/u16346/image/certified-natural-untreated-madagascar-pear-peach-sapphire-1.4800-cts-u16346-1-full.jpg\" width=\"400\"/>"
      ],
      "text/plain": [
       "<IPython.core.display.Image object>"
      ]
     },
     "metadata": {},
     "output_type": "display_data"
    },
    {
     "name": "stdout",
     "output_type": "stream",
     "text": [
      "https://www.thenaturalsapphirecompany.com/2.09ct-ceylon-sri-lanka-emerald-cut-peach-sapphire-s11344-/\n",
      "Peach Sapphire - Emerald Cut 2.09 Ct. #S11344\n",
      "Price per length: 253.84615384615384\n",
      "Price: 1881.0\n",
      "Dims: 7.41 x 5.76 x 4.54\n",
      "Color: Peach\n",
      "Treatments: No Enhancement\n"
     ]
    },
    {
     "data": {
      "text/html": [
       "<img src=\"https://image.thenaturalsapphirecompany.com/nsc/sapphire/s11344/image/certified-natural-untreated-ceylon(srilanka)-emerald-peach(yellow-orange)-sapphire-2.0900-cts-s11344-1-full.jpg\" width=\"400\"/>"
      ],
      "text/plain": [
       "<IPython.core.display.Image object>"
      ]
     },
     "metadata": {},
     "output_type": "display_data"
    },
    {
     "name": "stdout",
     "output_type": "stream",
     "text": [
      "https://www.thenaturalsapphirecompany.com/2.25ct-ceylon-sri-lanka-round-peach-sapphire-u12865-/\n",
      "Peach Sapphire - Round 2.25 Ct. #U12865\n",
      "Price per length: 256.53206650831356\n",
      "Price: 2160.0\n",
      "Dims: 8.42 x 8.34 x 4.34\n",
      "Color: Peach\n",
      "Treatments: Heated\n"
     ]
    },
    {
     "data": {
      "text/html": [
       "<img src=\"https://image.thenaturalsapphirecompany.com/nsc/sapphire/u12865/image/certified-natural-ceylon-round-peach-sapphire-2.2500-cts-u12865-1-full.jpg\" width=\"400\"/>"
      ],
      "text/plain": [
       "<IPython.core.display.Image object>"
      ]
     },
     "metadata": {},
     "output_type": "display_data"
    },
    {
     "name": "stdout",
     "output_type": "stream",
     "text": [
      "https://www.thenaturalsapphirecompany.com/2.01ct-ceylon-sri-lanka-oval-peach-sapphire-u13425-/\n",
      "Peach Sapphire - Oval 2.01 Ct. #U13425\n",
      "Price per length: 257.4385510996119\n",
      "Price: 1990.0\n",
      "Dims: 7.73 x 6.56 x 4.64\n",
      "Color: Peach\n",
      "Treatments: No Enhancement\n"
     ]
    },
    {
     "data": {
      "text/html": [
       "<img src=\"https://image.thenaturalsapphirecompany.com/nsc/sapphire/u13425/image/certified-natural-untreated-ceylon-oval-peach-sapphire-2.0100-cts-u13425-1-full.jpg\" width=\"400\"/>"
      ],
      "text/plain": [
       "<IPython.core.display.Image object>"
      ]
     },
     "metadata": {},
     "output_type": "display_data"
    },
    {
     "name": "stdout",
     "output_type": "stream",
     "text": [
      "https://www.thenaturalsapphirecompany.com/2.08ct-ceylon-sri-lanka-cushion-peach-sapphire-s13711-/\n",
      "Peach Sapphire - Cushion 2.08 Ct. #S13711\n",
      "Price per length: 257.8512396694215\n",
      "Price: 1872.0\n",
      "Dims: 7.26 x 6.95 x 4.33\n",
      "Color: Peach\n",
      "Treatments: Heated\n"
     ]
    },
    {
     "data": {
      "text/html": [
       "<img src=\"https://image.thenaturalsapphirecompany.com/nsc/sapphire/s13711/image/certified-natural-untreated-ceylon(srilanka)-cushion-orange-sapphire-2.0800-cts-s13711-1-full.jpg\" width=\"400\"/>"
      ],
      "text/plain": [
       "<IPython.core.display.Image object>"
      ]
     },
     "metadata": {},
     "output_type": "display_data"
    },
    {
     "name": "stdout",
     "output_type": "stream",
     "text": [
      "https://www.thenaturalsapphirecompany.com/2.07ct-ceylon-sri-lanka-oval-peach-sapphire-u16982-/\n",
      "Peach Sapphire - Oval 2.07 Ct. #U16982\n",
      "Price per length: 259.6351197263398\n",
      "Price: 2277.0\n",
      "Dims: 8.77 x 7.22 x 4.18\n",
      "Color: Peach\n",
      "Treatments: No Enhancement\n"
     ]
    },
    {
     "data": {
      "text/html": [
       "<img src=\"https://image.thenaturalsapphirecompany.com/nsc/sapphire/u16982/image/certified-natural-untreated-ceylon(srilanka)-oval-peach-sapphire-2.0700-cts-u16982-1-full.jpg\" width=\"400\"/>"
      ],
      "text/plain": [
       "<IPython.core.display.Image object>"
      ]
     },
     "metadata": {},
     "output_type": "display_data"
    },
    {
     "name": "stdout",
     "output_type": "stream",
     "text": [
      "https://www.thenaturalsapphirecompany.com/1.63ct-ceylon-sri-lanka-emerald-cut-white-sapphire-s15945-/\n",
      "White Sapphire - Emerald Cut 1.63 Ct. #S15945\n",
      "Price per length: 260.35502958579883\n",
      "Price: 1760.0\n",
      "Dims: 6.76 x 5.62 x 4.18\n",
      "Color: White\n",
      "Treatments: Heated\n"
     ]
    },
    {
     "data": {
      "text/html": [
       "<img src=\"https://image.thenaturalsapphirecompany.com/nsc/sapphire/s15945/image/certified-natural-untreated-ceylon(srilanka)-emeraldcut-white-sapphire-1.6300-cts-s15945-1-full.jpg\" width=\"400\"/>"
      ],
      "text/plain": [
       "<IPython.core.display.Image object>"
      ]
     },
     "metadata": {},
     "output_type": "display_data"
    },
    {
     "name": "stdout",
     "output_type": "stream",
     "text": [
      "https://www.thenaturalsapphirecompany.com/1.06ct-ceylon-sri-lanka-oval-padparadscha-sapphire-s7992-/\n",
      "Padparadscha Sapphire - Oval 1.06 Ct. #S7992\n",
      "Price per length: 261.2481857764877\n",
      "Price: 1800.0\n",
      "Dims: 6.89 x 5.41 x 3.08\n",
      "Color: Padparadscha (Pinkish-Orange / Orangish-Pink)\n",
      "Treatments: No Enhancement\n"
     ]
    },
    {
     "data": {
      "text/html": [
       "<img src=\"https://image.thenaturalsapphirecompany.com/nsc/sapphire/s7992/image/certified-natural-untreated-ceylon(srilanka)-oval-padparadscha-sapphire-1.0600-cts-s7992-1-full.jpg\" width=\"400\"/>"
      ],
      "text/plain": [
       "<IPython.core.display.Image object>"
      ]
     },
     "metadata": {},
     "output_type": "display_data"
    },
    {
     "name": "stdout",
     "output_type": "stream",
     "text": [
      "https://www.thenaturalsapphirecompany.com/2.91ct-ceylon-sri-lanka-round-white-sapphire-u15688-/\n",
      "White Sapphire - Round 2.91 Ct. #U15688\n",
      "Price per length: 261.27946127946126\n",
      "Price: 2328.0\n",
      "Dims: 8.91 x 8.81 x 5.46\n",
      "Color: White\n",
      "Treatments: Heated\n"
     ]
    },
    {
     "data": {
      "text/html": [
       "<img src=\"https://image.thenaturalsapphirecompany.com/nsc/sapphire/u15688/image/certified-natural-ceylon(srilanka)-round-peach-sapphire-2.9100-cts-u15688-1-full.jpg\" width=\"400\"/>"
      ],
      "text/plain": [
       "<IPython.core.display.Image object>"
      ]
     },
     "metadata": {},
     "output_type": "display_data"
    },
    {
     "name": "stdout",
     "output_type": "stream",
     "text": [
      "https://www.thenaturalsapphirecompany.com/2.23ct-ceylon-sri-lanka-emerald-cut-white-sapphire-s11334-/\n",
      "White Sapphire - Emerald Cut 2.23 Ct. #S11334\n",
      "Price per length: 262.97169811320754\n",
      "Price: 2230.0\n",
      "Dims: 8.48 x 7.55 x 4.31\n",
      "Color: White\n",
      "Treatments: No Enhancement\n"
     ]
    },
    {
     "data": {
      "text/html": [
       "<img src=\"https://image.thenaturalsapphirecompany.com/nsc/sapphire/s11334/image/certified-natural-untreated-ceylon(srilanka)-emerald-white-sapphire-2.2300-cts-s11334-1-full.jpg\" width=\"400\"/>"
      ],
      "text/plain": [
       "<IPython.core.display.Image object>"
      ]
     },
     "metadata": {},
     "output_type": "display_data"
    },
    {
     "name": "stdout",
     "output_type": "stream",
     "text": [
      "https://www.thenaturalsapphirecompany.com/1.82ct-ceylon-sri-lanka-emerald-cut-white-sapphire-s14848-/\n",
      "White Sapphire - Emerald Cut 1.82 Ct. #S14848\n",
      "Price per length: 264.9595687331536\n",
      "Price: 1966.0\n",
      "Dims: 7.42 x 6.07 x 4.42\n",
      "Color: White\n",
      "Treatments: Heated\n"
     ]
    },
    {
     "data": {
      "text/html": [
       "<img src=\"https://image.thenaturalsapphirecompany.com/nsc/sapphire/s14848/image/certified-natural-ceylon(srilanka)-emeraldcut-white-sapphire-2.0700-cts-s14848-1-full.jpg\" width=\"400\"/>"
      ],
      "text/plain": [
       "<IPython.core.display.Image object>"
      ]
     },
     "metadata": {},
     "output_type": "display_data"
    },
    {
     "name": "stdout",
     "output_type": "stream",
     "text": [
      "https://www.thenaturalsapphirecompany.com/1.88ct-ceylon-sri-lanka-asscher-octagon-white-sapphire-u16680-/\n",
      "White Sapphire - Asscher - Octagon 1.88 Ct. #U16680\n",
      "Price per length: 265.9123055162659\n",
      "Price: 1880.0\n",
      "Dims: 7.07 x 6.98 x 3.96\n",
      "Color: White\n",
      "Treatments: No Enhancement\n"
     ]
    },
    {
     "data": {
      "text/html": [
       "<img src=\"https://image.thenaturalsapphirecompany.com/nsc/sapphire/u16680/image/certified-natural-untreated-ceylon(srilanka)-asscher-white-sapphire-1.8800-cts-u16680-1-full.jpg\" width=\"400\"/>"
      ],
      "text/plain": [
       "<IPython.core.display.Image object>"
      ]
     },
     "metadata": {},
     "output_type": "display_data"
    },
    {
     "name": "stdout",
     "output_type": "stream",
     "text": [
      "https://www.thenaturalsapphirecompany.com/3.49ct-ceylon-sri-lanka-cushion-peach-sapphire-s8018-/\n",
      "Peach Sapphire - Cushion 3.49 Ct. #S8018\n",
      "Price per length: 269.81595092024537\n",
      "Price: 2199.0\n",
      "Dims: 8.15 x 7.41 x 5.79\n",
      "Color: Peach\n",
      "Treatments: No Enhancement\n"
     ]
    },
    {
     "data": {
      "text/html": [
       "<img src=\"https://image.thenaturalsapphirecompany.com/nsc/sapphire/s8018/image/certified-natural-untreated-ceylon(srilanka)-cushion-peach-sapphire-3.4900-cts-s8018-1-full.jpg\" width=\"400\"/>"
      ],
      "text/plain": [
       "<IPython.core.display.Image object>"
      ]
     },
     "metadata": {},
     "output_type": "display_data"
    },
    {
     "name": "stdout",
     "output_type": "stream",
     "text": [
      "https://www.thenaturalsapphirecompany.com/2.58ct-ceylon-sri-lanka-emerald-cut-white-sapphire-s14212-/\n",
      "White Sapphire - Emerald Cut 2.58 Ct. #S14212\n",
      "Price per length: 270.72402938090244\n",
      "Price: 2580.0\n",
      "Dims: 9.53 x 6.55 x 4.24\n",
      "Color: White\n",
      "Treatments: No Enhancement\n"
     ]
    },
    {
     "data": {
      "text/html": [
       "<img src=\"https://image.thenaturalsapphirecompany.com/nsc/sapphire/s14212/image/certified-natural-untreated-ceylon(srilanka)-emeraldcut-white-sapphire-2.5800-cts-s14212-1-full.jpg\" width=\"400\"/>"
      ],
      "text/plain": [
       "<IPython.core.display.Image object>"
      ]
     },
     "metadata": {},
     "output_type": "display_data"
    },
    {
     "name": "stdout",
     "output_type": "stream",
     "text": [
      "https://www.thenaturalsapphirecompany.com/2.12ct-ceylon-sri-lanka-radiant-white-sapphire-u13340-/\n",
      "White Sapphire - Radiant 2.12 Ct. #U13340\n",
      "Price per length: 274.53237410071944\n",
      "Price: 1908.0\n",
      "Dims: 6.95 x 6.39 x 5.31\n",
      "Color: White\n",
      "Treatments: No Enhancement\n"
     ]
    },
    {
     "data": {
      "text/html": [
       "<img src=\"https://image.thenaturalsapphirecompany.com/nsc/sapphire/u13340/image/certified-natural-untreated-ceylon-radiant-white-sapphire-2.1200-cts-u13340-1-full.jpg\" width=\"400\"/>"
      ],
      "text/plain": [
       "<IPython.core.display.Image object>"
      ]
     },
     "metadata": {},
     "output_type": "display_data"
    },
    {
     "name": "stdout",
     "output_type": "stream",
     "text": [
      "https://www.thenaturalsapphirecompany.com/2.11ct-ceylon-sri-lanka-asscher-octagon-white-sapphire-u13771-/\n",
      "White Sapphire - Asscher - Octagon 2.11 Ct. #U13771\n",
      "Price per length: 274.6575342465753\n",
      "Price: 2005.0\n",
      "Dims: 7.3 x 6.75 x 4.54\n",
      "Color: White\n",
      "Treatments: Heated\n"
     ]
    },
    {
     "data": {
      "text/html": [
       "<img src=\"https://image.thenaturalsapphirecompany.com/nsc/sapphire/u13771/image/certified-natural-ceylon-asscher-white-sapphire-2.1100-cts-u13771-1-full.jpg\" width=\"400\"/>"
      ],
      "text/plain": [
       "<IPython.core.display.Image object>"
      ]
     },
     "metadata": {},
     "output_type": "display_data"
    },
    {
     "name": "stdout",
     "output_type": "stream",
     "text": [
      "https://www.thenaturalsapphirecompany.com/2.02ct-ceylon-sri-lanka-cushion-white-sapphire-u9339-/\n",
      "White Sapphire - Cushion 2.02 Ct. #U9339\n",
      "Price per length: 277.09190672153636\n",
      "Price: 2020.0\n",
      "Dims: 7.29 x 6.3 x 4.97\n",
      "Color: White\n",
      "Treatments: Heated\n"
     ]
    },
    {
     "data": {
      "text/html": [
       "<img src=\"https://image.thenaturalsapphirecompany.com/nsc/sapphire/u9339/image/certified-natural-ceylon-asscher-white-sapphire-2.0200-cts-u9339-1-full.jpg\" width=\"400\"/>"
      ],
      "text/plain": [
       "<IPython.core.display.Image object>"
      ]
     },
     "metadata": {},
     "output_type": "display_data"
    },
    {
     "name": "stdout",
     "output_type": "stream",
     "text": [
      "https://www.thenaturalsapphirecompany.com/2.00ct-ceylon-sri-lanka-oval-peach-sapphire-s12614-/\n",
      "Peach Sapphire - Oval 2.00 Ct. #S12614\n",
      "Price per length: 279.26960257787323\n",
      "Price: 2600.0\n",
      "Dims: 9.31 x 7.09 x 3.92\n",
      "Color: Peach\n",
      "Treatments: Heated\n"
     ]
    },
    {
     "data": {
      "text/html": [
       "<img src=\"https://image.thenaturalsapphirecompany.com/nsc/sapphire/s12614/image/certified-natural-ceylon(srilanka)-oval-peach-sapphire-2.0000-cts-s12614-1-full.jpg\" width=\"400\"/>"
      ],
      "text/plain": [
       "<IPython.core.display.Image object>"
      ]
     },
     "metadata": {},
     "output_type": "display_data"
    },
    {
     "name": "stdout",
     "output_type": "stream",
     "text": [
      "https://www.thenaturalsapphirecompany.com/2.00ct-ceylon-sri-lanka-asscher-octagon-peach-sapphire-s11341-/\n",
      "Peach Sapphire - Asscher - Octagon 2.00 Ct. #S11341\n",
      "Price per length: 280.970625798212\n",
      "Price: 2200.0\n",
      "Dims: 7.83 x 6.89 x 3.96\n",
      "Color: Peach\n",
      "Treatments: No Enhancement\n"
     ]
    },
    {
     "data": {
      "text/html": [
       "<img src=\"https://image.thenaturalsapphirecompany.com/nsc/sapphire/s11341/image/certified-natural-untreated-ceylon(srilanka)-emerald-peach(yellow-orange)-sapphire-2.0000-cts-s11341-1-full.jpg\" width=\"400\"/>"
      ],
      "text/plain": [
       "<IPython.core.display.Image object>"
      ]
     },
     "metadata": {},
     "output_type": "display_data"
    },
    {
     "name": "stdout",
     "output_type": "stream",
     "text": [
      "https://www.thenaturalsapphirecompany.com/2.07ct-ceylon-sri-lanka-asscher-octagon-white-sapphire-u17080-/\n",
      "White Sapphire - Asscher - Octagon 2.07 Ct. #U17080\n",
      "Price per length: 282.61494252873564\n",
      "Price: 1967.0\n",
      "Dims: 6.96 x 6.67 x 4.56\n",
      "Color: White\n",
      "Treatments: Heated\n"
     ]
    },
    {
     "data": {
      "text/html": [
       "<img src=\"https://image.thenaturalsapphirecompany.com/nsc/sapphire/u17080/image/certified-natural-ceylon(srilanka)-asscher-white-sapphire-2.0700-cts-u17080-1-full.jpg\" width=\"400\"/>"
      ],
      "text/plain": [
       "<IPython.core.display.Image object>"
      ]
     },
     "metadata": {},
     "output_type": "display_data"
    },
    {
     "name": "stdout",
     "output_type": "stream",
     "text": [
      "https://www.thenaturalsapphirecompany.com/2.12ct-ceylon-sri-lanka-radiant-white-sapphire-s11090-/\n",
      "White Sapphire - Radiant 2.12 Ct. #S11090\n",
      "Price per length: 284.1823056300268\n",
      "Price: 2120.0\n",
      "Dims: 7.46 x 6.49 x 4.88\n",
      "Color: White\n",
      "Treatments: Heated\n"
     ]
    },
    {
     "data": {
      "text/html": [
       "<img src=\"https://image.thenaturalsapphirecompany.com/nsc/sapphire/s11090/image/certified-natural-ceylon(srilanka)-radiant-white-sapphire-2.1200-cts-s11090-1-full.jpg\" width=\"400\"/>"
      ],
      "text/plain": [
       "<IPython.core.display.Image object>"
      ]
     },
     "metadata": {},
     "output_type": "display_data"
    },
    {
     "name": "stdout",
     "output_type": "stream",
     "text": [
      "https://www.thenaturalsapphirecompany.com/1.40ct-ceylon-sri-lanka-oval-peach-sapphire-u16863-/\n",
      "Peach Sapphire - Oval 1.40 Ct. #U16863\n",
      "Price per length: 285.3503184713376\n",
      "Price: 2240.0\n",
      "Dims: 7.85 x 5.28 x 3.49\n",
      "Color: Peach\n",
      "Treatments: No Enhancement\n"
     ]
    },
    {
     "data": {
      "text/html": [
       "<img src=\"https://image.thenaturalsapphirecompany.com/nsc/sapphire/u16863/image/certified-natural-untreated-ceylon(srilanka)-oval-peach-sapphire-1.4000-cts-u16863-1-full.jpg\" width=\"400\"/>"
      ],
      "text/plain": [
       "<IPython.core.display.Image object>"
      ]
     },
     "metadata": {},
     "output_type": "display_data"
    },
    {
     "name": "stdout",
     "output_type": "stream",
     "text": [
      "https://www.thenaturalsapphirecompany.com/1.72ct-ceylon-sri-lanka-pear-padparadscha-sapphire-s13854-/\n",
      "Padparadscha Sapphire - Pear 1.72 Ct. #S13854\n",
      "Price per length: 286.35838150289015\n",
      "Price: 2477.0\n",
      "Dims: 8.65 x 6.55 x 3.92\n",
      "Color: Padparadscha (Pinkish-Orange / Orangish-Pink)\n",
      "Treatments: No Enhancement\n"
     ]
    },
    {
     "data": {
      "text/html": [
       "<img src=\"https://image.thenaturalsapphirecompany.com/nsc/sapphire/s13854/image/certified-natural-untreated-ceylon(srilanka)-pear-padparadscha-sapphire-1.7200-cts-s13854-1-full.jpg\" width=\"400\"/>"
      ],
      "text/plain": [
       "<IPython.core.display.Image object>"
      ]
     },
     "metadata": {},
     "output_type": "display_data"
    },
    {
     "name": "stdout",
     "output_type": "stream",
     "text": [
      "https://www.thenaturalsapphirecompany.com/1.25ct-madagascar-cushion-padparadscha-sapphire-pa3647-/\n",
      "Padparadscha Sapphire - Cushion 1.25 Ct. #PA3647\n",
      "Price per length: 286.774628879892\n",
      "Price: 2125.0\n",
      "Dims: 7.41 x 5.34 x 3.41\n",
      "Color: Padparadscha (Pinkish-Orange / Orangish-Pink)\n",
      "Treatments: Heated\n"
     ]
    },
    {
     "data": {
      "text/html": [
       "<img src=\"https://image.thenaturalsapphirecompany.com/nsc/sapphire/pa3647/image/certified-natural-madagascar-cushion-padparadscha-sapphire-1.2500-cts-pa3647-1-full.jpg\" width=\"400\"/>"
      ],
      "text/plain": [
       "<IPython.core.display.Image object>"
      ]
     },
     "metadata": {},
     "output_type": "display_data"
    },
    {
     "name": "stdout",
     "output_type": "stream",
     "text": [
      "https://www.thenaturalsapphirecompany.com/1.65ct-ceylon-sri-lanka-princess-white-sapphire-s13886-/\n",
      "White Sapphire - Princess 1.65 Ct. #S13886\n",
      "Price per length: 288.6297376093294\n",
      "Price: 1980.0\n",
      "Dims: 6.86 x 6.78 x 3.75\n",
      "Color: White\n",
      "Treatments: No Enhancement\n"
     ]
    },
    {
     "data": {
      "text/html": [
       "<img src=\"https://image.thenaturalsapphirecompany.com/nsc/sapphire/s13886/image/certified-natural-untreated-ceylon(srilanka)-princess-white-sapphire-1.6500-cts-s13886-1-full.jpg\" width=\"400\"/>"
      ],
      "text/plain": [
       "<IPython.core.display.Image object>"
      ]
     },
     "metadata": {},
     "output_type": "display_data"
    },
    {
     "name": "stdout",
     "output_type": "stream",
     "text": [
      "https://www.thenaturalsapphirecompany.com/2.54ct-ceylon-sri-lanka-radiant-white-sapphire-u15686-/\n",
      "White Sapphire - Radiant 2.54 Ct. #U15686\n",
      "Price per length: 290.47013977128336\n",
      "Price: 2286.0\n",
      "Dims: 7.87 x 6.82 x 5.12\n",
      "Color: White\n",
      "Treatments: Heated\n"
     ]
    },
    {
     "data": {
      "text/html": [
       "<img src=\"https://image.thenaturalsapphirecompany.com/nsc/sapphire/u15686/image/certified-natural-ceylon(srilanka)-radiant-white-sapphire-2.5400-cts-u15686-1-full.jpg\" width=\"400\"/>"
      ],
      "text/plain": [
       "<IPython.core.display.Image object>"
      ]
     },
     "metadata": {},
     "output_type": "display_data"
    },
    {
     "name": "stdout",
     "output_type": "stream",
     "text": [
      "https://www.thenaturalsapphirecompany.com/1.46ct-ceylon-sri-lanka-pear-peach-sapphire-s16098-/\n",
      "Peach Sapphire - Pear 1.46 Ct. #S16098\n",
      "Price per length: 292.3761118170267\n",
      "Price: 2301.0\n",
      "Dims: 7.87 x 5.26 x 4.82\n",
      "Color: Peach\n",
      "Treatments: No Enhancement\n"
     ]
    },
    {
     "data": {
      "text/html": [
       "<img src=\"https://image.thenaturalsapphirecompany.com/nsc/sapphire/s16098/image/certified-natural-untreated-ceylon(srilanka)-pear-peach-sapphire-1.4600-cts-s16098-1-full.jpg\" width=\"400\"/>"
      ],
      "text/plain": [
       "<IPython.core.display.Image object>"
      ]
     },
     "metadata": {},
     "output_type": "display_data"
    },
    {
     "name": "stdout",
     "output_type": "stream",
     "text": [
      "https://www.thenaturalsapphirecompany.com/2.26ct-ceylon-sri-lanka-cushion-white-sapphire-u15696-/\n",
      "White Sapphire - Cushion 2.26 Ct. #U15696\n",
      "Price per length: 294.65449804432853\n",
      "Price: 2260.0\n",
      "Dims: 7.67 x 7.01 x 4.92\n",
      "Color: White\n",
      "Treatments: No Enhancement\n"
     ]
    },
    {
     "data": {
      "text/html": [
       "<img src=\"https://image.thenaturalsapphirecompany.com/nsc/sapphire/u15696/image/certified-natural-ceylon(srilanka)-cushion-white-sapphire-2.2600-cts-u15696-1-full.jpg\" width=\"400\"/>"
      ],
      "text/plain": [
       "<IPython.core.display.Image object>"
      ]
     },
     "metadata": {},
     "output_type": "display_data"
    },
    {
     "name": "stdout",
     "output_type": "stream",
     "text": [
      "https://www.thenaturalsapphirecompany.com/2.62ct-ceylon-sri-lanka-cushion-peach-sapphire-u17219-/\n",
      "Peach Sapphire - Cushion 2.62 Ct. #U17219\n",
      "Price per length: 300.24125452352234\n",
      "Price: 2489.0\n",
      "Dims: 8.29 x 6.99 x 4.7\n",
      "Color: Peach\n",
      "Treatments: No Enhancement\n"
     ]
    },
    {
     "data": {
      "text/html": [
       "<img src=\"https://image.thenaturalsapphirecompany.com/nsc/sapphire/u17219/image/certified-natural-untreated-ceylon(srilanka)-cushion-peach-sapphire-2.6200-cts-u17219-1-full.jpg\" width=\"400\"/>"
      ],
      "text/plain": [
       "<IPython.core.display.Image object>"
      ]
     },
     "metadata": {},
     "output_type": "display_data"
    },
    {
     "name": "stdout",
     "output_type": "stream",
     "text": [
      "https://www.thenaturalsapphirecompany.com/2.35ct-ceylon-sri-lanka-cushion-peach-sapphire-u16965-/\n",
      "Peach Sapphire - Cushion 2.35 Ct. #U16965\n",
      "Price per length: 300.51150895140665\n",
      "Price: 2350.0\n",
      "Dims: 7.82 x 6.45 x 5.29\n",
      "Color: Peach\n",
      "Treatments: Heated\n"
     ]
    },
    {
     "data": {
      "text/html": [
       "<img src=\"https://image.thenaturalsapphirecompany.com/nsc/sapphire/u16965/image/certified-natural-ceylon(srilanka)-cushion-peach-sapphire-2.3500-cts-u16965-1-full.jpg\" width=\"400\"/>"
      ],
      "text/plain": [
       "<IPython.core.display.Image object>"
      ]
     },
     "metadata": {},
     "output_type": "display_data"
    },
    {
     "name": "stdout",
     "output_type": "stream",
     "text": [
      "https://www.thenaturalsapphirecompany.com/2.51ct-ceylon-sri-lanka-emerald-cut-white-sapphire-s6610-/\n",
      "White Sapphire - Emerald Cut 2.51 Ct. #S6610\n",
      "Price per length: 300.5988023952096\n",
      "Price: 2510.0\n",
      "Dims: 8.35 x 6.32 x 4.82\n",
      "Color: White\n",
      "Treatments: No Enhancement\n"
     ]
    },
    {
     "data": {
      "text/html": [
       "<img src=\"https://image.thenaturalsapphirecompany.com/nsc/sapphire/s6610/image/certified-natural-untreated-ceylon(srilanka)-emerald-white-sapphire-2.5100-cts-s6610-1-full.jpg\" width=\"400\"/>"
      ],
      "text/plain": [
       "<IPython.core.display.Image object>"
      ]
     },
     "metadata": {},
     "output_type": "display_data"
    },
    {
     "name": "stdout",
     "output_type": "stream",
     "text": [
      "https://www.thenaturalsapphirecompany.com/2.06ct-ceylon-sri-lanka-asscher-octagon-white-sapphire-u16677-/\n",
      "White Sapphire - Asscher - Octagon 2.06 Ct. #U16677\n",
      "Price per length: 302.49632892804703\n",
      "Price: 2060.0\n",
      "Dims: 6.81 x 6.66 x 4.92\n",
      "Color: White\n",
      "Treatments: Heated\n"
     ]
    },
    {
     "data": {
      "text/html": [
       "<img src=\"https://image.thenaturalsapphirecompany.com/nsc/sapphire/u16677/image/certified-natural-ceylon(srilanka)-asscher-white-sapphire-2.0600-cts-u16677-1-full.jpg\" width=\"400\"/>"
      ],
      "text/plain": [
       "<IPython.core.display.Image object>"
      ]
     },
     "metadata": {},
     "output_type": "display_data"
    },
    {
     "name": "stdout",
     "output_type": "stream",
     "text": [
      "https://www.thenaturalsapphirecompany.com/2.01ct-ceylon-sri-lanka-cushion-peach-sapphire-s13706-/\n",
      "Peach Sapphire - Cushion 2.01 Ct. #S13706\n",
      "Price per length: 306.0913705583756\n",
      "Price: 2412.0\n",
      "Dims: 7.88 x 6.6 x 3.52\n",
      "Color: Peach\n",
      "Treatments: No Enhancement\n"
     ]
    },
    {
     "data": {
      "text/html": [
       "<img src=\"https://image.thenaturalsapphirecompany.com/nsc/sapphire/s13706/image/certified-natural-ceylon(srilanka)-cushion-orange-sapphire-2.0100-cts-s13706-1-full.jpg\" width=\"400\"/>"
      ],
      "text/plain": [
       "<IPython.core.display.Image object>"
      ]
     },
     "metadata": {},
     "output_type": "display_data"
    },
    {
     "name": "stdout",
     "output_type": "stream",
     "text": [
      "https://www.thenaturalsapphirecompany.com/1.41ct-madagascar-cushion-padparadscha-sapphire-s13692-/\n",
      "Padparadscha Sapphire - Cushion 1.41 Ct. #S13692\n",
      "Price per length: 313.3333333333333\n",
      "Price: 2256.0\n",
      "Dims: 7.2 x 6.05 x 3.92\n",
      "Color: Padparadscha (Pinkish-Orange / Orangish-Pink)\n",
      "Treatments: No Enhancement\n"
     ]
    },
    {
     "data": {
      "text/html": [
       "<img src=\"https://image.thenaturalsapphirecompany.com/nsc/sapphire/s13692/image/certified-natural-untreated-madagascar-oval-padparadscha-sapphire-1.4100-cts-s13692-1-full.jpg\" width=\"400\"/>"
      ],
      "text/plain": [
       "<IPython.core.display.Image object>"
      ]
     },
     "metadata": {},
     "output_type": "display_data"
    },
    {
     "name": "stdout",
     "output_type": "stream",
     "text": [
      "https://www.thenaturalsapphirecompany.com/1.25ct-ceylon-sri-lanka-cushion-white-sapphire-s16334-/\n",
      "White Sapphire - Cushion 1.25 Ct. #S16334\n",
      "Price per length: 315.7894736842105\n",
      "Price: 1920.0\n",
      "Dims: 6.08 x 6.06 x 4.19\n",
      "Color: White\n",
      "Treatments: Heated\n"
     ]
    },
    {
     "data": {
      "text/html": [
       "<img src=\"https://image.thenaturalsapphirecompany.com/nsc/sapphire/s16334/image/certified-natural-ceylon(srilanka)-cushion-pink-sapphire-1.2500-cts-s16334-1-full.jpg\" width=\"400\"/>"
      ],
      "text/plain": [
       "<IPython.core.display.Image object>"
      ]
     },
     "metadata": {},
     "output_type": "display_data"
    },
    {
     "name": "stdout",
     "output_type": "stream",
     "text": [
      "https://www.thenaturalsapphirecompany.com/1.03ct-ceylon-sri-lanka-cushion-padparadscha-sapphire-s7842-/\n",
      "Padparadscha Sapphire - Cushion 1.03 Ct. #S7842\n",
      "Price per length: 317.41140215716484\n",
      "Price: 2060.0\n",
      "Dims: 6.49 x 4.93 x 3.23\n",
      "Color: Padparadscha (Pinkish-Orange / Orangish-Pink)\n",
      "Treatments: Heated\n"
     ]
    },
    {
     "data": {
      "text/html": [
       "<img src=\"https://image.thenaturalsapphirecompany.com/nsc/sapphire/s7842/image/certified-natural-ceylon(srilanka)-cushion-padparadscha-sapphire-1.0300-cts-s7842-1-full.jpg\" width=\"400\"/>"
      ],
      "text/plain": [
       "<IPython.core.display.Image object>"
      ]
     },
     "metadata": {},
     "output_type": "display_data"
    },
    {
     "name": "stdout",
     "output_type": "stream",
     "text": [
      "https://www.thenaturalsapphirecompany.com/1.62ct-ceylon-sri-lanka-oval-padparadscha-sapphire-s13814-/\n",
      "Padparadscha Sapphire - Oval 1.62 Ct. #S13814\n",
      "Price per length: 318.4275184275184\n",
      "Price: 2592.0\n",
      "Dims: 8.14 x 6.22 x 3.99\n",
      "Color: Padparadscha (Pinkish-Orange / Orangish-Pink)\n",
      "Treatments: No Enhancement\n"
     ]
    },
    {
     "data": {
      "text/html": [
       "<img src=\"https://image.thenaturalsapphirecompany.com/nsc/sapphire/s13814/image/certified-natural-untreated-ceylon(srilanka)-oval-padparadscha-sapphire-1.6200-cts-s13814-1-full.jpg\" width=\"400\"/>"
      ],
      "text/plain": [
       "<IPython.core.display.Image object>"
      ]
     },
     "metadata": {},
     "output_type": "display_data"
    },
    {
     "name": "stdout",
     "output_type": "stream",
     "text": [
      "https://www.thenaturalsapphirecompany.com/1.84ct-ceylon-sri-lanka-oval-padparadscha-sapphire-s10933-/\n",
      "Padparadscha Sapphire - Oval 1.84 Ct. #S10933\n",
      "Price per length: 318.81188118811883\n",
      "Price: 2576.0\n",
      "Dims: 8.08 x 6.42 x 4.7\n",
      "Color: Padparadscha (Pinkish-Orange / Orangish-Pink)\n",
      "Treatments: No Enhancement\n"
     ]
    },
    {
     "data": {
      "text/html": [
       "<img src=\"https://image.thenaturalsapphirecompany.com/nsc/sapphire/s10933/image/certified-natural-untreated-ceylon(srilanka)-oval-peach-sapphire-1.8400-cts-s10933-1-full.jpg\" width=\"400\"/>"
      ],
      "text/plain": [
       "<IPython.core.display.Image object>"
      ]
     },
     "metadata": {},
     "output_type": "display_data"
    },
    {
     "name": "stdout",
     "output_type": "stream",
     "text": [
      "https://www.thenaturalsapphirecompany.com/2.37ct-ceylon-sri-lanka-cushion-peach-sapphire-u15687-/\n",
      "Peach Sapphire - Cushion 2.37 Ct. #U15687\n",
      "Price per length: 321.1382113821138\n",
      "Price: 2370.0\n",
      "Dims: 7.38 x 7.36 x 5.3\n",
      "Color: Peach\n",
      "Treatments: Heated\n"
     ]
    },
    {
     "data": {
      "text/html": [
       "<img src=\"https://image.thenaturalsapphirecompany.com/nsc/sapphire/u15687/image/certified-natural-ceylon(srilanka)-cushion-peach-sapphire-2.3700-cts-u15687-1-full.jpg\" width=\"400\"/>"
      ],
      "text/plain": [
       "<IPython.core.display.Image object>"
      ]
     },
     "metadata": {},
     "output_type": "display_data"
    },
    {
     "name": "stdout",
     "output_type": "stream",
     "text": [
      "https://www.thenaturalsapphirecompany.com/1.18ct-ceylon-sri-lanka-oval-padparadscha-sapphire-s8710-/\n",
      "Padparadscha Sapphire - Oval 1.18 Ct. #S8710\n",
      "Price per length: 322.8454172366621\n",
      "Price: 2360.0\n",
      "Dims: 7.31 x 6.0 x 3.05\n",
      "Color: Padparadscha (Pinkish-Orange / Orangish-Pink)\n",
      "Treatments: Heated\n"
     ]
    },
    {
     "data": {
      "text/html": [
       "<img src=\"https://image.thenaturalsapphirecompany.com/nsc/sapphire/s8710/image/certified-natural-ceylon(srilanka)-oval-padparadscha-sapphire-1.1800-cts-s8710-1-full.jpg\" width=\"400\"/>"
      ],
      "text/plain": [
       "<IPython.core.display.Image object>"
      ]
     },
     "metadata": {},
     "output_type": "display_data"
    },
    {
     "name": "stdout",
     "output_type": "stream",
     "text": [
      "https://www.thenaturalsapphirecompany.com/1.60ct-ceylon-sri-lanka-emerald-cut-peach-sapphire-s5810-/\n",
      "Peach Sapphire - Emerald Cut 1.60 Ct. #S5810\n",
      "Price per length: 327.35849056603774\n",
      "Price: 2429.0\n",
      "Dims: 7.42 x 5.54 x 3.85\n",
      "Color: Peach\n",
      "Treatments: No Enhancement\n"
     ]
    },
    {
     "data": {
      "text/html": [
       "<img src=\"https://image.thenaturalsapphirecompany.com/nsc/sapphire/s5810/image/certified-natural-untreated-ceylon(srilanka)-radiant-peach-sapphire-1.6000-cts-s5810-1-full.jpg\" width=\"400\"/>"
      ],
      "text/plain": [
       "<IPython.core.display.Image object>"
      ]
     },
     "metadata": {},
     "output_type": "display_data"
    },
    {
     "name": "stdout",
     "output_type": "stream",
     "text": [
      "https://www.thenaturalsapphirecompany.com/2.58ct-ceylon-sri-lanka-pear-peach-sapphire-s9560-/\n",
      "Peach Sapphire - Pear 2.58 Ct. #S9560\n",
      "Price per length: 328.80203908241293\n",
      "Price: 3870.0\n",
      "Dims: 11.77 x 6.98 x 4.35\n",
      "Color: Peach\n",
      "Treatments: Heated\n"
     ]
    },
    {
     "data": {
      "text/html": [
       "<img src=\"https://image.thenaturalsapphirecompany.com/nsc/sapphire/s9560/image/certified-natural-ceylon(srilanka)-pear-peach-sapphire-2.5800-cts-s9560-1-full.jpg\" width=\"400\"/>"
      ],
      "text/plain": [
       "<IPython.core.display.Image object>"
      ]
     },
     "metadata": {},
     "output_type": "display_data"
    },
    {
     "name": "stdout",
     "output_type": "stream",
     "text": [
      "https://www.thenaturalsapphirecompany.com/1.03ct-ceylon-sri-lanka-oval-padparadscha-sapphire-s15191-/\n",
      "Padparadscha Sapphire - Oval 1.03 Ct. #S15191\n",
      "Price per length: 330.1186943620178\n",
      "Price: 2225.0\n",
      "Dims: 6.74 x 4.82 x 3.77\n",
      "Color: Padparadscha (Pinkish-Orange / Orangish-Pink)\n",
      "Treatments: No Enhancement\n"
     ]
    },
    {
     "data": {
      "text/html": [
       "<img src=\"https://image.thenaturalsapphirecompany.com/nsc/sapphire/s15191/image/certified-natural-untreated-ceylon(srilanka)-oval-padparadscha-sapphire-1.0300-cts-s15191-1-full.jpg\" width=\"400\"/>"
      ],
      "text/plain": [
       "<IPython.core.display.Image object>"
      ]
     },
     "metadata": {},
     "output_type": "display_data"
    },
    {
     "name": "stdout",
     "output_type": "stream",
     "text": [
      "https://www.thenaturalsapphirecompany.com/2.20ct-ceylon-sri-lanka-cushion-peach-sapphire-u15666-/\n",
      "Peach Sapphire - Cushion 2.20 Ct. #U15666\n",
      "Price per length: 331.0185185185185\n",
      "Price: 2860.0\n",
      "Dims: 8.64 x 7.09 x 4.44\n",
      "Color: Peach\n",
      "Treatments: No Enhancement\n"
     ]
    },
    {
     "data": {
      "text/html": [
       "<img src=\"https://image.thenaturalsapphirecompany.com/nsc/sapphire/u15666/image/certified-natural-untreated-ceylon(srilanka)-cushion-peach-sapphire-2.2000-cts-u15666-1-full.jpg\" width=\"400\"/>"
      ],
      "text/plain": [
       "<IPython.core.display.Image object>"
      ]
     },
     "metadata": {},
     "output_type": "display_data"
    },
    {
     "name": "stdout",
     "output_type": "stream",
     "text": [
      "https://www.thenaturalsapphirecompany.com/3.08ct-ceylon-sri-lanka-asscher-octagon-white-sapphire-u14576-/\n",
      "White Sapphire - Asscher - Octagon 3.08 Ct. #U14576\n",
      "Price per length: 331.628532974428\n",
      "Price: 2464.0\n",
      "Dims: 7.43 x 7.2 x 5.96\n",
      "Color: White\n",
      "Treatments: Heated\n"
     ]
    },
    {
     "data": {
      "text/html": [
       "<img src=\"https://image.thenaturalsapphirecompany.com/nsc/sapphire/u14576/image/certified-natural-ceylon-asscher-white-sapphire-3.0800-cts-u14576-1-full.jpg\" width=\"400\"/>"
      ],
      "text/plain": [
       "<IPython.core.display.Image object>"
      ]
     },
     "metadata": {},
     "output_type": "display_data"
    },
    {
     "name": "stdout",
     "output_type": "stream",
     "text": [
      "https://www.thenaturalsapphirecompany.com/3.57ct-ceylon-sri-lanka-emerald-cut-white-sapphire-s8150-/\n",
      "White Sapphire - Emerald Cut 3.57 Ct. #S8150\n",
      "Price per length: 332.7120223671948\n",
      "Price: 3570.0\n",
      "Dims: 10.73 x 6.35 x 5.02\n",
      "Color: White\n",
      "Treatments: Heated\n"
     ]
    },
    {
     "data": {
      "text/html": [
       "<img src=\"https://image.thenaturalsapphirecompany.com/nsc/sapphire/s8150/image/certified-natural-untreated-ceylon(srilanka)-emerald-blue-sapphire-3.5700-cts-s8150-1-full.jpg\" width=\"400\"/>"
      ],
      "text/plain": [
       "<IPython.core.display.Image object>"
      ]
     },
     "metadata": {},
     "output_type": "display_data"
    },
    {
     "name": "stdout",
     "output_type": "stream",
     "text": [
      "https://www.thenaturalsapphirecompany.com/2.43ct-madagascar-cushion-peach-sapphire-u13489-/\n",
      "Peach Sapphire - Cushion 2.43 Ct. #U13489\n",
      "Price per length: 334.54317897371715\n",
      "Price: 2673.0\n",
      "Dims: 7.99 x 6.76 x 4.92\n",
      "Color: Peach\n",
      "Treatments: Heated\n"
     ]
    },
    {
     "data": {
      "text/html": [
       "<img src=\"https://image.thenaturalsapphirecompany.com/nsc/sapphire/u13489/image/certified-natural-madagascar-cushion-peach-sapphire-2.4300-cts-u13489-1-full.jpg\" width=\"400\"/>"
      ],
      "text/plain": [
       "<IPython.core.display.Image object>"
      ]
     },
     "metadata": {},
     "output_type": "display_data"
    },
    {
     "name": "stdout",
     "output_type": "stream",
     "text": [
      "https://www.thenaturalsapphirecompany.com/1.55ct-ceylon-sri-lanka-cushion-peach-sapphire-u14632-/\n",
      "Peach Sapphire - Cushion 1.55 Ct. #U14632\n",
      "Price per length: 336.46888567293774\n",
      "Price: 2325.0\n",
      "Dims: 6.91 x 5.78 x 4.13\n",
      "Color: Peach\n",
      "Treatments: No Enhancement\n"
     ]
    },
    {
     "data": {
      "text/html": [
       "<img src=\"https://image.thenaturalsapphirecompany.com/nsc/sapphire/u14632/image/certified-natural-untreated-ceylon-cushion-peach-sapphire-1.5500-cts-u14632-1-full.jpg\" width=\"400\"/>"
      ],
      "text/plain": [
       "<IPython.core.display.Image object>"
      ]
     },
     "metadata": {},
     "output_type": "display_data"
    },
    {
     "name": "stdout",
     "output_type": "stream",
     "text": [
      "https://www.thenaturalsapphirecompany.com/4.04ct-ceylon-sri-lanka-emerald-cut-white-sapphire-s4062-/\n",
      "White Sapphire - Emerald Cut 4.04 Ct. #S4062\n",
      "Price per length: 336.6666666666667\n",
      "Price: 3232.0\n",
      "Dims: 9.6 x 8.01 x 5.57\n",
      "Color: White\n",
      "Treatments: Heated\n"
     ]
    },
    {
     "data": {
      "text/html": [
       "<img src=\"https://image.thenaturalsapphirecompany.com/nsc/sapphire/s4062/image/certified-natural-ceylon(srilanka)-emeraldcut-white-sapphire-4.0400-cts-s4062-1-full.jpg\" width=\"400\"/>"
      ],
      "text/plain": [
       "<IPython.core.display.Image object>"
      ]
     },
     "metadata": {},
     "output_type": "display_data"
    },
    {
     "name": "stdout",
     "output_type": "stream",
     "text": [
      "https://www.thenaturalsapphirecompany.com/2.07ct-ceylon-sri-lanka-asscher-octagon-white-sapphire-u9518-/\n",
      "White Sapphire - Asscher - Octagon 2.07 Ct. #U9518\n",
      "Price per length: 337.5\n",
      "Price: 2484.0\n",
      "Dims: 7.36 x 7.1 x 4.13\n",
      "Color: White\n",
      "Treatments: Heated\n"
     ]
    },
    {
     "data": {
      "text/html": [
       "<img src=\"https://image.thenaturalsapphirecompany.com/nsc/sapphire/u9518/image/certified-natural-ceylon-asscher-white-sapphire-2.0700-cts-u9518-1-full.jpg\" width=\"400\"/>"
      ],
      "text/plain": [
       "<IPython.core.display.Image object>"
      ]
     },
     "metadata": {},
     "output_type": "display_data"
    },
    {
     "name": "stdout",
     "output_type": "stream",
     "text": [
      "https://www.thenaturalsapphirecompany.com/2.68ct-ceylon-sri-lanka-cushion-white-sapphire-u14939-/\n",
      "White Sapphire - Cushion 2.68 Ct. #U14939\n",
      "Price per length: 337.9571248423708\n",
      "Price: 2680.0\n",
      "Dims: 7.93 x 7.46 x 4.81\n",
      "Color: White\n",
      "Treatments: Heated\n"
     ]
    },
    {
     "data": {
      "text/html": [
       "<img src=\"https://image.thenaturalsapphirecompany.com/nsc/sapphire/u14939/image/certified-natural-ceylon-cushion-white-sapphire-2.6800-cts-u14939-1-full.jpg\" width=\"400\"/>"
      ],
      "text/plain": [
       "<IPython.core.display.Image object>"
      ]
     },
     "metadata": {},
     "output_type": "display_data"
    },
    {
     "name": "stdout",
     "output_type": "stream",
     "text": [
      "https://www.thenaturalsapphirecompany.com/2.45ct-ceylon-sri-lanka-oval-peach-sapphire-s11297-/\n",
      "Peach Sapphire - Oval 2.45 Ct. #S11297\n",
      "Price per length: 338.5678391959799\n",
      "Price: 2695.0\n",
      "Dims: 7.96 x 6.85 x 5.68\n",
      "Color: Peach\n",
      "Treatments: No Enhancement\n"
     ]
    },
    {
     "data": {
      "text/html": [
       "<img src=\"https://image.thenaturalsapphirecompany.com/nsc/sapphire/s11297/image/certified-natural-untreated-ceylon(srilanka)-oval-peach-sapphire-2.4500-cts-s11297-1-full.jpg\" width=\"400\"/>"
      ],
      "text/plain": [
       "<IPython.core.display.Image object>"
      ]
     },
     "metadata": {},
     "output_type": "display_data"
    },
    {
     "name": "stdout",
     "output_type": "stream",
     "text": [
      "https://www.thenaturalsapphirecompany.com/3.06ct-ceylon-sri-lanka-cushion-white-sapphire-u16255-/\n",
      "White Sapphire - Cushion 3.06 Ct. #U16255\n",
      "Price per length: 341.6873449131513\n",
      "Price: 2754.0\n",
      "Dims: 8.06 x 7.13 x 5.45\n",
      "Color: White\n",
      "Treatments: No Enhancement\n"
     ]
    },
    {
     "data": {
      "text/html": [
       "<img src=\"https://image.thenaturalsapphirecompany.com/nsc/sapphire/u16255/image/certified-natural-untreated-ceylon(srilanka)-cushion-white-sapphire-3.0600-cts-u16255-1-full.jpg\" width=\"400\"/>"
      ],
      "text/plain": [
       "<IPython.core.display.Image object>"
      ]
     },
     "metadata": {},
     "output_type": "display_data"
    },
    {
     "name": "stdout",
     "output_type": "stream",
     "text": [
      "https://www.thenaturalsapphirecompany.com/2.52ct-ceylon-sri-lanka-emerald-cut-white-sapphire-u12245-/\n",
      "White Sapphire - Emerald Cut 2.52 Ct. #U12245\n",
      "Price per length: 342.8571428571429\n",
      "Price: 2520.0\n",
      "Dims: 7.35 x 6.88 x 4.92\n",
      "Color: White\n",
      "Treatments: Heated\n"
     ]
    },
    {
     "data": {
      "text/html": [
       "<img src=\"https://image.thenaturalsapphirecompany.com/nsc/sapphire/u12245/image/certified-natural-ceylon-emeraldcut-white-sapphire-2.5200-cts-u12245-1-full.jpg\" width=\"400\"/>"
      ],
      "text/plain": [
       "<IPython.core.display.Image object>"
      ]
     },
     "metadata": {},
     "output_type": "display_data"
    },
    {
     "name": "stdout",
     "output_type": "stream",
     "text": [
      "https://www.thenaturalsapphirecompany.com/1.94ct-ceylon-sri-lanka-pear-padparadscha-sapphire-s8256-/\n",
      "Padparadscha Sapphire - Pear 1.94 Ct. #S8256\n",
      "Price per length: 344.1241685144124\n",
      "Price: 3104.0\n",
      "Dims: 9.02 x 7.03 x 3.82\n",
      "Color: Padparadscha (Pinkish-Orange / Orangish-Pink)\n",
      "Treatments: No Enhancement\n"
     ]
    },
    {
     "data": {
      "text/html": [
       "<img src=\"https://image.thenaturalsapphirecompany.com/nsc/sapphire/s8256/image/certified-natural-untreated-ceylon(srilanka)-pear-padparadscha-sapphire-1.9400-cts-s8256-1-full.jpg\" width=\"400\"/>"
      ],
      "text/plain": [
       "<IPython.core.display.Image object>"
      ]
     },
     "metadata": {},
     "output_type": "display_data"
    },
    {
     "name": "stdout",
     "output_type": "stream",
     "text": [
      "https://www.thenaturalsapphirecompany.com/2.17ct-ceylon-sri-lanka-cushion-peach-sapphire-u15667-/\n",
      "Peach Sapphire - Cushion 2.17 Ct. #U15667\n",
      "Price per length: 345.2272727272727\n",
      "Price: 3038.0\n",
      "Dims: 8.8 x 6.75 x 3.98\n",
      "Color: Peach\n",
      "Treatments: No Enhancement\n"
     ]
    },
    {
     "data": {
      "text/html": [
       "<img src=\"https://image.thenaturalsapphirecompany.com/nsc/sapphire/u15667/image/certified-natural-untreated-ceylon(srilanka)-cushion-peach-sapphire-2.1700-cts-u15667-1-full.jpg\" width=\"400\"/>"
      ],
      "text/plain": [
       "<IPython.core.display.Image object>"
      ]
     },
     "metadata": {},
     "output_type": "display_data"
    },
    {
     "name": "stdout",
     "output_type": "stream",
     "text": [
      "https://www.thenaturalsapphirecompany.com/1.77ct-ceylon-sri-lanka-cushion-peach-sapphire-s3550-/\n",
      "Peach Sapphire - Cushion 1.77 Ct. #S3550\n",
      "Price per length: 345.928338762215\n",
      "Price: 2124.0\n",
      "Dims: 6.14 x 6.1 x 5.27\n",
      "Color: Peach\n",
      "Treatments: No Enhancement\n"
     ]
    },
    {
     "data": {
      "text/html": [
       "<img src=\"https://image.thenaturalsapphirecompany.com/nsc/sapphire/s3550/image/certified-natural-untreated-ceylon(srilanka)-cushion-padparadscha-sapphire-1.7700-cts-s3550-1-full.jpg\" width=\"400\"/>"
      ],
      "text/plain": [
       "<IPython.core.display.Image object>"
      ]
     },
     "metadata": {},
     "output_type": "display_data"
    },
    {
     "name": "stdout",
     "output_type": "stream",
     "text": [
      "https://www.thenaturalsapphirecompany.com/1.67ct-east-africa-round-padparadscha-sapphire-s15334-/\n",
      "Padparadscha Sapphire - Round 1.67 Ct. #S15334\n",
      "Price per length: 347.9166666666667\n",
      "Price: 2505.0\n",
      "Dims: 7.2 x 7.34 x 4.26\n",
      "Color: Padparadscha (Pinkish-Orange / Orangish-Pink)\n",
      "Treatments: No Enhancement\n"
     ]
    },
    {
     "data": {
      "text/html": [
       "<img src=\"https://image.thenaturalsapphirecompany.com/nsc/sapphire/s15334/image/certified-natural-untreated-eastafrica-round-padparadscha-sapphire-1.6700-cts-s15334-1-full.jpg\" width=\"400\"/>"
      ],
      "text/plain": [
       "<IPython.core.display.Image object>"
      ]
     },
     "metadata": {},
     "output_type": "display_data"
    },
    {
     "name": "stdout",
     "output_type": "stream",
     "text": [
      "https://www.thenaturalsapphirecompany.com/1.70ct-ceylon-sri-lanka-cushion-peach-sapphire-s14029-/\n",
      "Peach Sapphire - Cushion 1.70 Ct. #S14029\n",
      "Price per length: 349.3765586034913\n",
      "Price: 2802.0\n",
      "Dims: 8.02 x 6.38 x 3.36\n",
      "Color: Peach\n",
      "Treatments: No Enhancement\n"
     ]
    },
    {
     "data": {
      "text/html": [
       "<img src=\"https://image.thenaturalsapphirecompany.com/nsc/sapphire/s14029/image/certified-natural-untreated-ceylon(srilanka)-cushion-peach-sapphire-1.7000-cts-s14029-1-full.jpg\" width=\"400\"/>"
      ],
      "text/plain": [
       "<IPython.core.display.Image object>"
      ]
     },
     "metadata": {},
     "output_type": "display_data"
    },
    {
     "name": "stdout",
     "output_type": "stream",
     "text": [
      "https://www.thenaturalsapphirecompany.com/2.40ct-ceylon-sri-lanka-round-peach-sapphire-y5121-/\n",
      "Peach Sapphire - Round 2.40 Ct. #Y5121\n",
      "Price per length: 349.5145631067961\n",
      "Price: 2880.0\n",
      "Dims: 8.24 x 8.12 x 4.69\n",
      "Color: Peach\n",
      "Treatments: No Enhancement\n"
     ]
    },
    {
     "data": {
      "text/html": [
       "<img src=\"https://image.thenaturalsapphirecompany.com/nsc/sapphire/y5121/image/certified-natural-untreated-ceylon(srilanka)-round-yellow-sapphire-2.4000-cts-y5121-1-full.jpg\" width=\"400\"/>"
      ],
      "text/plain": [
       "<IPython.core.display.Image object>"
      ]
     },
     "metadata": {},
     "output_type": "display_data"
    },
    {
     "name": "stdout",
     "output_type": "stream",
     "text": [
      "https://www.thenaturalsapphirecompany.com/2.14ct-ceylon-sri-lanka-radiant-peach-sapphire-s16925-/\n",
      "Peach Sapphire - Radiant 2.14 Ct. #S16925\n",
      "Price per length: 358.3732057416268\n",
      "Price: 2996.0\n",
      "Dims: 8.36 x 6.62 x 4.1\n",
      "Color: Peach\n",
      "Treatments: No Enhancement\n"
     ]
    },
    {
     "data": {
      "text/html": [
       "<img src=\"https://image.thenaturalsapphirecompany.com/nsc/sapphire/s16925/image/certified-natural-untreated-ceylon(srilanka)-radiant-peach-sapphire-2.1400-cts-s16925-1-full.jpg\" width=\"400\"/>"
      ],
      "text/plain": [
       "<IPython.core.display.Image object>"
      ]
     },
     "metadata": {},
     "output_type": "display_data"
    },
    {
     "name": "stdout",
     "output_type": "stream",
     "text": [
      "https://www.thenaturalsapphirecompany.com/1.17ct-ceylon-sri-lanka-oval-padparadscha-sapphire-pa3940-/\n",
      "Padparadscha Sapphire - Oval 1.17 Ct. #PA3940\n",
      "Price per length: 361.6863905325444\n",
      "Price: 2445.0\n",
      "Dims: 6.76 x 5.64 x 3.41\n",
      "Color: Padparadscha (Pinkish-Orange / Orangish-Pink)\n",
      "Treatments: Heated\n"
     ]
    },
    {
     "data": {
      "text/html": [
       "<img src=\"https://image.thenaturalsapphirecompany.com/nsc/sapphire/pa3940/image/certified-natural-untreated-ceylon(srilanka)-oval-padparadscha-sapphire-1.1700-cts-pa3940-1-full.jpg\" width=\"400\"/>"
      ],
      "text/plain": [
       "<IPython.core.display.Image object>"
      ]
     },
     "metadata": {},
     "output_type": "display_data"
    },
    {
     "name": "stdout",
     "output_type": "stream",
     "text": [
      "https://www.thenaturalsapphirecompany.com/1.97ct-madagascar-oval-padparadscha-sapphire-pa3840-/\n",
      "Padparadscha Sapphire - Oval 1.97 Ct. #PA3840\n",
      "Price per length: 367.2149122807018\n",
      "Price: 3349.0\n",
      "Dims: 9.12 x 7.14 x 3.38\n",
      "Color: Padparadscha (Pinkish-Orange / Orangish-Pink)\n",
      "Treatments: No Enhancement\n"
     ]
    },
    {
     "data": {
      "text/html": [
       "<img src=\"https://image.thenaturalsapphirecompany.com/nsc/sapphire/pa3840/image/certified-natural-untreated-madagascar-oval-padparadscha-sapphire-1.9700-cts-pa3840-1-full.jpg\" width=\"400\"/>"
      ],
      "text/plain": [
       "<IPython.core.display.Image object>"
      ]
     },
     "metadata": {},
     "output_type": "display_data"
    },
    {
     "name": "stdout",
     "output_type": "stream",
     "text": [
      "https://www.thenaturalsapphirecompany.com/2.89ct-ceylon-sri-lanka-cushion-peach-sapphire-s11352-/\n",
      "Peach Sapphire - Cushion 2.89 Ct. #S11352\n",
      "Price per length: 368.3241252302026\n",
      "Price: 4000.0\n",
      "Dims: 10.86 x 6.66 x 3.41\n",
      "Color: Peach\n",
      "Treatments: No Enhancement\n"
     ]
    },
    {
     "data": {
      "text/html": [
       "<img src=\"https://image.thenaturalsapphirecompany.com/nsc/sapphire/s11352/image/certified-natural-untreated-ceylon(srilanka)-cushion-padparadscha-sapphire-2.8900-cts-s11352-1-full.jpg\" width=\"400\"/>"
      ],
      "text/plain": [
       "<IPython.core.display.Image object>"
      ]
     },
     "metadata": {},
     "output_type": "display_data"
    },
    {
     "name": "stdout",
     "output_type": "stream",
     "text": [
      "https://www.thenaturalsapphirecompany.com/2.02ct-ceylon-sri-lanka-cushion-padparadscha-sapphire-s11151-/\n",
      "Padparadscha Sapphire - Cushion 2.02 Ct. #S11151\n",
      "Price per length: 369.37142857142857\n",
      "Price: 3232.0\n",
      "Dims: 8.75 x 6.49 x 3.72\n",
      "Color: Padparadscha (Pinkish-Orange / Orangish-Pink)\n",
      "Treatments: Heated\n"
     ]
    },
    {
     "data": {
      "text/html": [
       "<img src=\"https://image.thenaturalsapphirecompany.com/nsc/sapphire/s11151/image/certified-natural-ceylon(srilanka)-cushion-padparadscha-sapphire-2.0200-cts-s11151-1-full.jpg\" width=\"400\"/>"
      ],
      "text/plain": [
       "<IPython.core.display.Image object>"
      ]
     },
     "metadata": {},
     "output_type": "display_data"
    },
    {
     "name": "stdout",
     "output_type": "stream",
     "text": [
      "https://www.thenaturalsapphirecompany.com/2.56ct-ceylon-sri-lanka-oval-peach-sapphire-s9850-/\n",
      "Peach Sapphire - Oval 2.56 Ct. #S9850\n",
      "Price per length: 371.83513248282634\n",
      "Price: 3789.0\n",
      "Dims: 10.19 x 7.55 x 4.34\n",
      "Color: Peach\n",
      "Treatments: Heated\n"
     ]
    },
    {
     "data": {
      "text/html": [
       "<img src=\"https://image.thenaturalsapphirecompany.com/nsc/sapphire/s9850/image/certified-natural-ceylon(srilanka)-oval-peach-sapphire-2.5600-cts-s9850-1-full.jpg\" width=\"400\"/>"
      ],
      "text/plain": [
       "<IPython.core.display.Image object>"
      ]
     },
     "metadata": {},
     "output_type": "display_data"
    },
    {
     "name": "stdout",
     "output_type": "stream",
     "text": [
      "https://www.thenaturalsapphirecompany.com/2.62ct-ceylon-sri-lanka-asscher-octagon-peach-sapphire-u16560-/\n",
      "Peach Sapphire - Asscher - Octagon 2.62 Ct. #U16560\n",
      "Price per length: 376.7320261437909\n",
      "Price: 2882.0\n",
      "Dims: 7.65 x 6.79 x 5.45\n",
      "Color: Peach\n",
      "Treatments: Heated\n"
     ]
    },
    {
     "data": {
      "text/html": [
       "<img src=\"https://image.thenaturalsapphirecompany.com/nsc/sapphire/u16560/image/certified-natural-ceylon(srilanka)-asscher-peach-sapphire-2.6200-cts-u16560-1-full.jpg\" width=\"400\"/>"
      ],
      "text/plain": [
       "<IPython.core.display.Image object>"
      ]
     },
     "metadata": {},
     "output_type": "display_data"
    },
    {
     "name": "stdout",
     "output_type": "stream",
     "text": [
      "https://www.thenaturalsapphirecompany.com/1.12ct-ceylon-sri-lanka-oval-padparadscha-sapphire-pa3986-/\n",
      "Padparadscha Sapphire - Oval 1.12 Ct. #PA3986\n",
      "Price per length: 377.5280898876404\n",
      "Price: 2688.0\n",
      "Dims: 7.12 x 4.99 x 3.94\n",
      "Color: Padparadscha (Pinkish-Orange / Orangish-Pink)\n",
      "Treatments: Heated\n"
     ]
    },
    {
     "data": {
      "text/html": [
       "<img src=\"https://image.thenaturalsapphirecompany.com/nsc/sapphire/pa3986/image/certified-natural-ceylon(srilanka)-oval-padparadscha-sapphire-1.1200-cts-pa3986-1-full.jpg\" width=\"400\"/>"
      ],
      "text/plain": [
       "<IPython.core.display.Image object>"
      ]
     },
     "metadata": {},
     "output_type": "display_data"
    },
    {
     "name": "stdout",
     "output_type": "stream",
     "text": [
      "https://www.thenaturalsapphirecompany.com/1.59ct-ceylon-sri-lanka-pear-padparadscha-sapphire-s8195-/\n",
      "Padparadscha Sapphire - Pear 1.59 Ct. #S8195\n",
      "Price per length: 378.6108048511576\n",
      "Price: 3434.0\n",
      "Dims: 9.07 x 5.92 x 4.1\n",
      "Color: Padparadscha (Pinkish-Orange / Orangish-Pink)\n",
      "Treatments: Heated\n"
     ]
    },
    {
     "data": {
      "text/html": [
       "<img src=\"https://image.thenaturalsapphirecompany.com/nsc/sapphire/s8195/image/certified-natural-ceylon(srilanka)-pear-pink-sapphire-1.5900-cts-s8195-1-full.jpg\" width=\"400\"/>"
      ],
      "text/plain": [
       "<IPython.core.display.Image object>"
      ]
     },
     "metadata": {},
     "output_type": "display_data"
    },
    {
     "name": "stdout",
     "output_type": "stream",
     "text": [
      "https://www.thenaturalsapphirecompany.com/3.51ct-ceylon-sri-lanka-radiant-white-sapphire-u13702-/\n",
      "White Sapphire - Radiant 3.51 Ct. #U13702\n",
      "Price per length: 378.81269191402254\n",
      "Price: 3701.0\n",
      "Dims: 9.77 x 7.65 x 4.87\n",
      "Color: White\n",
      "Treatments: Heated\n"
     ]
    },
    {
     "data": {
      "text/html": [
       "<img src=\"https://image.thenaturalsapphirecompany.com/nsc/sapphire/u13702/image/certified-natural-ceylon-radiant-white-sapphire-3.5100-cts-u13702-1-full.jpg\" width=\"400\"/>"
      ],
      "text/plain": [
       "<IPython.core.display.Image object>"
      ]
     },
     "metadata": {},
     "output_type": "display_data"
    },
    {
     "name": "stdout",
     "output_type": "stream",
     "text": [
      "https://www.thenaturalsapphirecompany.com/2.95ct-ceylon-sri-lanka-emerald-cut-white-sapphire-s7485-/\n",
      "White Sapphire - Emerald Cut 2.95 Ct. #S7485\n",
      "Price per length: 379.1921664626683\n",
      "Price: 3098.0\n",
      "Dims: 8.17 x 7.08 x 5.14\n",
      "Color: White\n",
      "Treatments: Heated\n"
     ]
    },
    {
     "data": {
      "text/html": [
       "<img src=\"https://image.thenaturalsapphirecompany.com/nsc/sapphire/s7485/image/certified-natural-ceylon(srilanka)-emerald-white-sapphire-2.9500-cts-s7485-1-full.jpg\" width=\"400\"/>"
      ],
      "text/plain": [
       "<IPython.core.display.Image object>"
      ]
     },
     "metadata": {},
     "output_type": "display_data"
    },
    {
     "name": "stdout",
     "output_type": "stream",
     "text": [
      "https://www.thenaturalsapphirecompany.com/1.47ct-ceylon-sri-lanka-oval-peach-sapphire-s7993-/\n",
      "Peach Sapphire - Oval 1.47 Ct. #S7993\n",
      "Price per length: 379.62025316455697\n",
      "Price: 2999.0\n",
      "Dims: 7.9 x 6.35 x 3.4\n",
      "Color: Peach\n",
      "Treatments: No Enhancement\n"
     ]
    },
    {
     "data": {
      "text/html": [
       "<img src=\"https://image.thenaturalsapphirecompany.com/nsc/sapphire/s7993/image/certified-natural-untreated-ceylon(srilanka)-oval-padparadscha-sapphire-1.4700-cts-s7993-1-full.jpg\" width=\"400\"/>"
      ],
      "text/plain": [
       "<IPython.core.display.Image object>"
      ]
     },
     "metadata": {},
     "output_type": "display_data"
    },
    {
     "name": "stdout",
     "output_type": "stream",
     "text": [
      "https://www.thenaturalsapphirecompany.com/2.51ct-ceylon-sri-lanka-round-peach-sapphire-s13762-/\n",
      "Peach Sapphire - Round 2.51 Ct. #S13762\n",
      "Price per length: 385.69739952718675\n",
      "Price: 3263.0\n",
      "Dims: 8.46 x 8.43 x 4.26\n",
      "Color: Peach\n",
      "Treatments: No Enhancement\n"
     ]
    },
    {
     "data": {
      "text/html": [
       "<img src=\"https://image.thenaturalsapphirecompany.com/nsc/sapphire/s13762/image/certified-natural-untreated-ceylon(srilanka)-round-peach-sapphire-2.5100-cts-s13762-1-full.jpg\" width=\"400\"/>"
      ],
      "text/plain": [
       "<IPython.core.display.Image object>"
      ]
     },
     "metadata": {},
     "output_type": "display_data"
    },
    {
     "name": "stdout",
     "output_type": "stream",
     "text": [
      "https://www.thenaturalsapphirecompany.com/3.54ct-ceylon-sri-lanka-radiant-peach-sapphire-u9103-/\n",
      "Peach Sapphire - Radiant 3.54 Ct. #U9103\n",
      "Price per length: 390.16881827209534\n",
      "Price: 3929.0\n",
      "Dims: 10.07 x 7.86 x 5.09\n",
      "Color: Peach\n",
      "Treatments: No Enhancement\n"
     ]
    },
    {
     "data": {
      "text/html": [
       "<img src=\"https://image.thenaturalsapphirecompany.com/nsc/sapphire/u9103/image/certified-natural-untreated-ceylon-radiant-peach-sapphire-3.5400-cts-u9103-1-full.jpg\" width=\"400\"/>"
      ],
      "text/plain": [
       "<IPython.core.display.Image object>"
      ]
     },
     "metadata": {},
     "output_type": "display_data"
    },
    {
     "name": "stdout",
     "output_type": "stream",
     "text": [
      "https://www.thenaturalsapphirecompany.com/1.44ct-ceylon-sri-lanka-oval-padparadscha-sapphire-s13819-/\n",
      "Padparadscha Sapphire - Oval 1.44 Ct. #S13819\n",
      "Price per length: 390.62885326757095\n",
      "Price: 3168.0\n",
      "Dims: 8.11 x 5.97 x 3.67\n",
      "Color: Padparadscha (Pinkish-Orange / Orangish-Pink)\n",
      "Treatments: Heated\n"
     ]
    },
    {
     "data": {
      "text/html": [
       "<img src=\"https://image.thenaturalsapphirecompany.com/nsc/sapphire/s13819/image/certified-natural-ceylon(srilanka)-oval-padparadscha-sapphire-1.4400-cts-s13819-1-full.jpg\" width=\"400\"/>"
      ],
      "text/plain": [
       "<IPython.core.display.Image object>"
      ]
     },
     "metadata": {},
     "output_type": "display_data"
    },
    {
     "name": "stdout",
     "output_type": "stream",
     "text": [
      "https://www.thenaturalsapphirecompany.com/2.62ct-ceylon-sri-lanka-asscher-octagon-white-sapphire-u11236-/\n",
      "White Sapphire - Asscher - Octagon 2.62 Ct. #U11236\n",
      "Price per length: 391.04477611940297\n",
      "Price: 2882.0\n",
      "Dims: 7.37 x 7.31 x 5.02\n",
      "Color: White\n",
      "Treatments: Heated\n"
     ]
    },
    {
     "data": {
      "text/html": [
       "<img src=\"https://image.thenaturalsapphirecompany.com/nsc/sapphire/u11236/image/certified-natural-ceylon-asscher-white-sapphire-2.6200-cts-u11236-1-full.jpg\" width=\"400\"/>"
      ],
      "text/plain": [
       "<IPython.core.display.Image object>"
      ]
     },
     "metadata": {},
     "output_type": "display_data"
    },
    {
     "name": "stdout",
     "output_type": "stream",
     "text": [
      "https://www.thenaturalsapphirecompany.com/2.57ct-madagascar-oval-padparadscha-sapphire-pa3827-/\n",
      "Padparadscha Sapphire - Oval 2.57 Ct. #PA3827\n",
      "Price per length: 391.2551440329218\n",
      "Price: 3803.0\n",
      "Dims: 9.72 x 7.53 x 4.17\n",
      "Color: Padparadscha (Pinkish-Orange / Orangish-Pink)\n",
      "Treatments: No Enhancement\n"
     ]
    },
    {
     "data": {
      "text/html": [
       "<img src=\"https://image.thenaturalsapphirecompany.com/nsc/sapphire/pa3827/image/certified-natural-untreated-ceylon-oval-padparadscha-sapphire-2.5800-cts-pa3827-1-full.jpg\" width=\"400\"/>"
      ],
      "text/plain": [
       "<IPython.core.display.Image object>"
      ]
     },
     "metadata": {},
     "output_type": "display_data"
    },
    {
     "name": "stdout",
     "output_type": "stream",
     "text": [
      "https://www.thenaturalsapphirecompany.com/2.02ct-ceylon-sri-lanka-cushion-white-sapphire-s6608-/\n",
      "White Sapphire - Cushion 2.02 Ct. #S6608\n",
      "Price per length: 392.77777777777777\n",
      "Price: 2828.0\n",
      "Dims: 7.2 x 6.59 x 4.15\n",
      "Color: White\n",
      "Treatments: No Enhancement\n"
     ]
    },
    {
     "data": {
      "text/html": [
       "<img src=\"https://image.thenaturalsapphirecompany.com/nsc/sapphire/s6608/image/certified-natural-untreated-ceylon(srilanka)-cushion-white-sapphire-2.0200-cts-s6608-1-full.jpg\" width=\"400\"/>"
      ],
      "text/plain": [
       "<IPython.core.display.Image object>"
      ]
     },
     "metadata": {},
     "output_type": "display_data"
    },
    {
     "name": "stdout",
     "output_type": "stream",
     "text": [
      "https://www.thenaturalsapphirecompany.com/1.02ct-ceylon-sri-lanka-cushion-padparadscha-sapphire-pa3557-/\n",
      "Padparadscha Sapphire - Cushion 1.02 Ct. #PA3557\n",
      "Price per length: 392.93739967897267\n",
      "Price: 2448.0\n",
      "Dims: 6.23 x 5.46 x 3.57\n",
      "Color: Padparadscha (Pinkish-Orange / Orangish-Pink)\n",
      "Treatments: No Enhancement\n"
     ]
    },
    {
     "data": {
      "text/html": [
       "<img src=\"https://image.thenaturalsapphirecompany.com/nsc/sapphire/pa3557/image/certified-natural-untreated-ceylon-cushion-padparadscha-sapphire-1.0500-cts-pa3557-1-full.jpg\" width=\"400\"/>"
      ],
      "text/plain": [
       "<IPython.core.display.Image object>"
      ]
     },
     "metadata": {},
     "output_type": "display_data"
    },
    {
     "name": "stdout",
     "output_type": "stream",
     "text": [
      "https://www.thenaturalsapphirecompany.com/1.99ct-madagascar-cushion-padparadscha-sapphire-s11466-/\n",
      "Padparadscha Sapphire - Cushion 1.99 Ct. #S11466\n",
      "Price per length: 394.6175637393768\n",
      "Price: 2786.0\n",
      "Dims: 7.06 x 5.81 x 4.82\n",
      "Color: Padparadscha (Pinkish-Orange / Orangish-Pink)\n",
      "Treatments: No Enhancement\n"
     ]
    },
    {
     "data": {
      "text/html": [
       "<img src=\"https://image.thenaturalsapphirecompany.com/nsc/sapphire/s11466/image/certified-natural-untreated-madagascar-cushion-padparadscha-sapphire-1.9900-cts-s11466-1-full.jpg\" width=\"400\"/>"
      ],
      "text/plain": [
       "<IPython.core.display.Image object>"
      ]
     },
     "metadata": {},
     "output_type": "display_data"
    },
    {
     "name": "stdout",
     "output_type": "stream",
     "text": [
      "https://www.thenaturalsapphirecompany.com/2.52ct-ceylon-sri-lanka-radiant-white-sapphire-s14863-/\n",
      "White Sapphire - Radiant 2.52 Ct. #S14863\n",
      "Price per length: 394.9004975124379\n",
      "Price: 3175.0\n",
      "Dims: 8.04 x 7.16 x 4.75\n",
      "Color: White\n",
      "Treatments: Heated\n"
     ]
    },
    {
     "data": {
      "text/html": [
       "<img src=\"https://image.thenaturalsapphirecompany.com/nsc/sapphire/s14863/image/certified-natural-ceylon(srilanka)-radiant-white-sapphire-2.5200-cts-s14863-1-full.jpg\" width=\"400\"/>"
      ],
      "text/plain": [
       "<IPython.core.display.Image object>"
      ]
     },
     "metadata": {},
     "output_type": "display_data"
    },
    {
     "name": "stdout",
     "output_type": "stream",
     "text": [
      "https://www.thenaturalsapphirecompany.com/1.60ct-ceylon-sri-lanka-cushion-peach-sapphire-s10063-/\n",
      "Peach Sapphire - Cushion 1.60 Ct. #S10063\n",
      "Price per length: 396.0396039603961\n",
      "Price: 2800.0\n",
      "Dims: 7.07 x 7.04 x 3.55\n",
      "Color: Peach\n",
      "Treatments: Heated\n"
     ]
    },
    {
     "data": {
      "text/html": [
       "<img src=\"https://image.thenaturalsapphirecompany.com/nsc/sapphire/s10063/image/certified-natural-ceylon(srilanka)-cushion-peach-sapphire-1.6000-cts-s10063-1-full.jpg\" width=\"400\"/>"
      ],
      "text/plain": [
       "<IPython.core.display.Image object>"
      ]
     },
     "metadata": {},
     "output_type": "display_data"
    },
    {
     "name": "stdout",
     "output_type": "stream",
     "text": [
      "https://www.thenaturalsapphirecompany.com/1.10ct-ceylon-sri-lanka-oval-peach-sapphire-s15220-/\n",
      "Peach Sapphire - Oval 1.10 Ct. #S15220\n",
      "Price per length: 401.35135135135135\n",
      "Price: 2970.0\n",
      "Dims: 7.4 x 5.48 x 3.23\n",
      "Color: Peach\n",
      "Treatments: Heated\n"
     ]
    },
    {
     "data": {
      "text/html": [
       "<img src=\"https://image.thenaturalsapphirecompany.com/nsc/sapphire/s15220/image/certified-natural-ceylon(srilanka)-oval-padparadscha-sapphire-1.1000-cts-s15220-1-full.jpg\" width=\"400\"/>"
      ],
      "text/plain": [
       "<IPython.core.display.Image object>"
      ]
     },
     "metadata": {},
     "output_type": "display_data"
    },
    {
     "name": "stdout",
     "output_type": "stream",
     "text": [
      "https://www.thenaturalsapphirecompany.com/2.87ct-ceylon-sri-lanka-asscher-octagon-white-sapphire-u10905-/\n",
      "White Sapphire - Asscher - Octagon 2.87 Ct. #U10905\n",
      "Price per length: 402.3364485981308\n",
      "Price: 3444.0\n",
      "Dims: 8.56 x 8.3 x 4.89\n",
      "Color: White\n",
      "Treatments: No Enhancement\n"
     ]
    },
    {
     "data": {
      "text/html": [
       "<img src=\"https://image.thenaturalsapphirecompany.com/nsc/sapphire/u10905/image/certified-natural-untreated-ceylon-asscher-peach-sapphire-2.8700-cts-u10905-1-full.jpg\" width=\"400\"/>"
      ],
      "text/plain": [
       "<IPython.core.display.Image object>"
      ]
     },
     "metadata": {},
     "output_type": "display_data"
    },
    {
     "name": "stdout",
     "output_type": "stream",
     "text": [
      "https://www.thenaturalsapphirecompany.com/3.03ct-ceylon-sri-lanka-oval-peach-sapphire-u17397-/\n",
      "Peach Sapphire - Oval 3.03 Ct. #U17397\n",
      "Price per length: 403.10981535471336\n",
      "Price: 4148.0\n",
      "Dims: 10.29 x 8.11 x 4.83\n",
      "Color: Peach\n",
      "Treatments: No Enhancement\n"
     ]
    },
    {
     "data": {
      "text/html": [
       "<img src=\"https://image.thenaturalsapphirecompany.com/nsc/sapphire/u17397/image/certified-natural-untreated-ceylon(srilanka)-oval-peach-sapphire-3.0300-cts-u17397-1-full.jpg\" width=\"400\"/>"
      ],
      "text/plain": [
       "<IPython.core.display.Image object>"
      ]
     },
     "metadata": {},
     "output_type": "display_data"
    },
    {
     "name": "stdout",
     "output_type": "stream",
     "text": [
      "https://www.thenaturalsapphirecompany.com/2.18ct-madagascar-princess-peach-sapphire-u13490-/\n",
      "Peach Sapphire - Princess 2.18 Ct. #U13490\n",
      "Price per length: 403.70370370370375\n",
      "Price: 3052.0\n",
      "Dims: 7.56 x 7.19 x 3.82\n",
      "Color: Peach\n",
      "Treatments: Heated\n"
     ]
    },
    {
     "data": {
      "text/html": [
       "<img src=\"https://image.thenaturalsapphirecompany.com/nsc/sapphire/u13490/image/certified-natural-madagascar-princess-peach-sapphire-2.1800-cts-u13490-1-full.jpg\" width=\"400\"/>"
      ],
      "text/plain": [
       "<IPython.core.display.Image object>"
      ]
     },
     "metadata": {},
     "output_type": "display_data"
    },
    {
     "name": "stdout",
     "output_type": "stream",
     "text": [
      "https://www.thenaturalsapphirecompany.com/1.03ct-ceylon-sri-lanka-oval-padparadscha-sapphire-s17520-/\n",
      "Padparadscha Sapphire - Oval 1.03 Ct. #S17520\n",
      "Price per length: 411.3924050632911\n",
      "Price: 2600.0\n",
      "Dims: 6.32 x 5.14 x 3.69\n",
      "Color: Padparadscha (Pinkish-Orange / Orangish-Pink)\n",
      "Treatments: No Enhancement\n"
     ]
    },
    {
     "data": {
      "text/html": [
       "<img src=\"https://image.thenaturalsapphirecompany.com/nsc/sapphire/s17520/image/certified-natural-untreated-ceylon(srilanka)-oval-padparadscha-sapphire-1.0300-cts-s17520-1-full.jpg\" width=\"400\"/>"
      ],
      "text/plain": [
       "<IPython.core.display.Image object>"
      ]
     },
     "metadata": {},
     "output_type": "display_data"
    },
    {
     "name": "stdout",
     "output_type": "stream",
     "text": [
      "https://www.thenaturalsapphirecompany.com/1.14ct-ceylon-sri-lanka-pear-padparadscha-sapphire-s13817-/\n",
      "Padparadscha Sapphire - Pear 1.14 Ct. #S13817\n",
      "Price per length: 411.7381489841987\n",
      "Price: 3648.0\n",
      "Dims: 8.86 x 5.91 x 3.21\n",
      "Color: Padparadscha (Pinkish-Orange / Orangish-Pink)\n",
      "Treatments: No Enhancement\n"
     ]
    },
    {
     "data": {
      "text/html": [
       "<img src=\"https://image.thenaturalsapphirecompany.com/nsc/sapphire/s13817/image/certified-natural-untreated-ceylon(srilanka)-pear-padparadscha-sapphire-1.1400-cts-s13817-1-full.jpg\" width=\"400\"/>"
      ],
      "text/plain": [
       "<IPython.core.display.Image object>"
      ]
     },
     "metadata": {},
     "output_type": "display_data"
    },
    {
     "name": "stdout",
     "output_type": "stream",
     "text": [
      "https://www.thenaturalsapphirecompany.com/3.90ct-ceylon-sri-lanka-pear-peach-sapphire-s8151-/\n",
      "Peach Sapphire - Pear 3.90 Ct. #S8151\n",
      "Price per length: 417.8571428571428\n",
      "Price: 5850.0\n",
      "Dims: 14.0 x 7.74 x 4.5\n",
      "Color: Peach\n",
      "Treatments: Heated\n"
     ]
    },
    {
     "data": {
      "text/html": [
       "<img src=\"https://image.thenaturalsapphirecompany.com/nsc/sapphire/s8151/image/certified-natural-ceylon(srilanka)-pear-pink-sapphire-3.9000-cts-s8151-1-full.jpg\" width=\"400\"/>"
      ],
      "text/plain": [
       "<IPython.core.display.Image object>"
      ]
     },
     "metadata": {},
     "output_type": "display_data"
    },
    {
     "name": "stdout",
     "output_type": "stream",
     "text": [
      "https://www.thenaturalsapphirecompany.com/5.20ct-ceylon-sri-lanka-oval-white-sapphire-u14623-/\n",
      "White Sapphire - Oval 5.20 Ct. #U14623\n",
      "Price per length: 422.67135325131807\n",
      "Price: 4810.0\n",
      "Dims: 11.38 x 8.98 x 5.88\n",
      "Color: White\n",
      "Treatments: Heated\n"
     ]
    },
    {
     "data": {
      "text/html": [
       "<img src=\"https://image.thenaturalsapphirecompany.com/nsc/sapphire/u14623/image/certified-natural-ceylon-oval-white-sapphire-5.2000-cts-u14623-1-full.jpg\" width=\"400\"/>"
      ],
      "text/plain": [
       "<IPython.core.display.Image object>"
      ]
     },
     "metadata": {},
     "output_type": "display_data"
    },
    {
     "name": "stdout",
     "output_type": "stream",
     "text": [
      "https://www.thenaturalsapphirecompany.com/3.75ct-ceylon-sri-lanka-asscher-octagon-white-sapphire-s11336-/\n",
      "White Sapphire - Asscher - Octagon 3.75 Ct. #S11336\n",
      "Price per length: 423.059866962306\n",
      "Price: 3816.0\n",
      "Dims: 9.02 x 8.26 x 5.18\n",
      "Color: White\n",
      "Treatments: Heated\n"
     ]
    },
    {
     "data": {
      "text/html": [
       "<img src=\"https://image.thenaturalsapphirecompany.com/nsc/sapphire/s11336/image/certified-natural-ceylon(srilanka)-emerald-white-sapphire-3.7500-cts-s11336-1-full.jpg\" width=\"400\"/>"
      ],
      "text/plain": [
       "<IPython.core.display.Image object>"
      ]
     },
     "metadata": {},
     "output_type": "display_data"
    },
    {
     "name": "stdout",
     "output_type": "stream",
     "text": [
      "https://www.thenaturalsapphirecompany.com/2.58ct-ceylon-sri-lanka-princess-white-sapphire-s13404-/\n",
      "White Sapphire - Princess 2.58 Ct. #S13404\n",
      "Price per length: 424.5569620253164\n",
      "Price: 3354.0\n",
      "Dims: 7.9 x 7.88 x 4.34\n",
      "Color: White\n",
      "Treatments: Heated\n"
     ]
    },
    {
     "data": {
      "text/html": [
       "<img src=\"https://image.thenaturalsapphirecompany.com/nsc/sapphire/s13404/image/certified-natural-ceylon(srilanka)-princess-white-sapphire-2.5800-cts-s13404-1-full.jpg\" width=\"400\"/>"
      ],
      "text/plain": [
       "<IPython.core.display.Image object>"
      ]
     },
     "metadata": {},
     "output_type": "display_data"
    },
    {
     "name": "stdout",
     "output_type": "stream",
     "text": [
      "https://www.thenaturalsapphirecompany.com/2.80ct-ceylon-sri-lanka-cushion-peach-sapphire-s17097-/\n",
      "Peach Sapphire - Cushion 2.80 Ct. #S17097\n",
      "Price per length: 429.2452830188679\n",
      "Price: 3640.0\n",
      "Dims: 8.48 x 7.78 x 4.72\n",
      "Color: Peach\n",
      "Treatments: No Enhancement\n"
     ]
    },
    {
     "data": {
      "text/html": [
       "<img src=\"https://image.thenaturalsapphirecompany.com/nsc/sapphire/s17097/image/certified-natural-ceylon(srilanka)-cushion-pink-sapphire-2.8000-cts-s17097-1-full.jpg\" width=\"400\"/>"
      ],
      "text/plain": [
       "<IPython.core.display.Image object>"
      ]
     },
     "metadata": {},
     "output_type": "display_data"
    },
    {
     "name": "stdout",
     "output_type": "stream",
     "text": [
      "https://www.thenaturalsapphirecompany.com/1.03ct-ceylon-sri-lanka-oval-padparadscha-sapphire-s11143-/\n",
      "Padparadscha Sapphire - Oval 1.03 Ct. #S11143\n",
      "Price per length: 431.413612565445\n",
      "Price: 3296.0\n",
      "Dims: 7.64 x 5.48 x 2.73\n",
      "Color: Padparadscha (Pinkish-Orange / Orangish-Pink)\n",
      "Treatments: No Enhancement\n"
     ]
    },
    {
     "data": {
      "text/html": [
       "<img src=\"https://image.thenaturalsapphirecompany.com/nsc/sapphire/s11143/image/certified-natural-untreated-ceylon(srilanka)-oval-padparadscha-sapphire-1.0300-cts-s11143-1-full.jpg\" width=\"400\"/>"
      ],
      "text/plain": [
       "<IPython.core.display.Image object>"
      ]
     },
     "metadata": {},
     "output_type": "display_data"
    },
    {
     "name": "stdout",
     "output_type": "stream",
     "text": [
      "https://www.thenaturalsapphirecompany.com/1.75ct-ceylon-sri-lanka-oval-padparadscha-sapphire-s6420-/\n",
      "Padparadscha Sapphire - Oval 1.75 Ct. #S6420\n",
      "Price per length: 434.5372460496614\n",
      "Price: 3850.0\n",
      "Dims: 8.86 x 6.03 x 3.77\n",
      "Color: Padparadscha (Pinkish-Orange / Orangish-Pink)\n",
      "Treatments: No Enhancement\n"
     ]
    },
    {
     "data": {
      "text/html": [
       "<img src=\"https://image.thenaturalsapphirecompany.com/nsc/sapphire/s6420/image/certified-natural-untreated-ceylon(srilanka)-oval-padparadscha-sapphire-1.7500-cts-s6420-1-full.jpg\" width=\"400\"/>"
      ],
      "text/plain": [
       "<IPython.core.display.Image object>"
      ]
     },
     "metadata": {},
     "output_type": "display_data"
    },
    {
     "name": "stdout",
     "output_type": "stream",
     "text": [
      "https://www.thenaturalsapphirecompany.com/6.20ct-ceylon-sri-lanka-radiant-white-sapphire-u9940-/\n",
      "White Sapphire - Radiant 6.20 Ct. #U9940\n",
      "Price per length: 437.7862595419847\n",
      "Price: 4588.0\n",
      "Dims: 10.48 x 8.64 x 7.05\n",
      "Color: White\n",
      "Treatments: Heated\n"
     ]
    },
    {
     "data": {
      "text/html": [
       "<img src=\"https://image.thenaturalsapphirecompany.com/nsc/sapphire/u9940/image/certified-natural-ceylon-emeraldcut-white-sapphire-6.2000-cts-u9940-1-full.jpg\" width=\"400\"/>"
      ],
      "text/plain": [
       "<IPython.core.display.Image object>"
      ]
     },
     "metadata": {},
     "output_type": "display_data"
    },
    {
     "name": "stdout",
     "output_type": "stream",
     "text": [
      "https://www.thenaturalsapphirecompany.com/1.53ct-ceylon-sri-lanka-oval-padparadscha-sapphire-s4252-/\n",
      "Padparadscha Sapphire - Oval 1.53 Ct. #S4252\n",
      "Price per length: 438.18615751789974\n",
      "Price: 3672.0\n",
      "Dims: 8.38 x 6.1 x 3.48\n",
      "Color: Padparadscha (Pinkish-Orange / Orangish-Pink)\n",
      "Treatments: Heated\n"
     ]
    },
    {
     "data": {
      "text/html": [
       "<img src=\"https://image.thenaturalsapphirecompany.com/nsc/sapphire/s4252/image/certified-natural-ceylon(srilanka)-oval-padparadscha-sapphire-1.5300-cts-s4252-1-full.jpg\" width=\"400\"/>"
      ],
      "text/plain": [
       "<IPython.core.display.Image object>"
      ]
     },
     "metadata": {},
     "output_type": "display_data"
    },
    {
     "name": "stdout",
     "output_type": "stream",
     "text": [
      "https://www.thenaturalsapphirecompany.com/2.75ct-ceylon-sri-lanka-cushion-white-sapphire-u10906-/\n",
      "White Sapphire - Cushion 2.75 Ct. #U10906\n",
      "Price per length: 438.2470119521912\n",
      "Price: 3300.0\n",
      "Dims: 7.53 x 7.45 x 5.99\n",
      "Color: White\n",
      "Treatments: No Enhancement\n"
     ]
    },
    {
     "data": {
      "text/html": [
       "<img src=\"https://image.thenaturalsapphirecompany.com/nsc/sapphire/u10906/image/certified-natural-untreated-ceylon-cushion-white-sapphire-2.8700-cts-u10906-1-full.jpg\" width=\"400\"/>"
      ],
      "text/plain": [
       "<IPython.core.display.Image object>"
      ]
     },
     "metadata": {},
     "output_type": "display_data"
    },
    {
     "name": "stdout",
     "output_type": "stream",
     "text": [
      "https://www.thenaturalsapphirecompany.com/1.30ct-madagascar-cushion-padparadscha-sapphire-s11752-/\n",
      "Padparadscha Sapphire - Cushion 1.30 Ct. #S11752\n",
      "Price per length: 443.85432473444615\n",
      "Price: 2925.0\n",
      "Dims: 6.59 x 6.54 x 3.2\n",
      "Color: Padparadscha (Pinkish-Orange / Orangish-Pink)\n",
      "Treatments: Heated\n"
     ]
    },
    {
     "data": {
      "text/html": [
       "<img src=\"https://image.thenaturalsapphirecompany.com/nsc/sapphire/s11752/image/certified-natural-madagascar-cushion-padparadscha-sapphire-1.3000-cts-s11752-1-full.jpg\" width=\"400\"/>"
      ],
      "text/plain": [
       "<IPython.core.display.Image object>"
      ]
     },
     "metadata": {},
     "output_type": "display_data"
    },
    {
     "name": "stdout",
     "output_type": "stream",
     "text": [
      "https://www.thenaturalsapphirecompany.com/1.08ct-ceylon-sri-lanka-cushion-padparadscha-sapphire-pa3559-/\n",
      "Padparadscha Sapphire - Cushion 1.08 Ct. #PA3559\n",
      "Price per length: 447.6683937823834\n",
      "Price: 2592.0\n",
      "Dims: 5.79 x 5.69 x 3.5\n",
      "Color: Padparadscha (Pinkish-Orange / Orangish-Pink)\n",
      "Treatments: No Enhancement\n"
     ]
    },
    {
     "data": {
      "text/html": [
       "<img src=\"https://image.thenaturalsapphirecompany.com/nsc/sapphire/pa3559/image/certified-natural-untreated-ceylon-cushion-padparadscha-sapphire-1.0800-cts-pa3559-1-full.jpg\" width=\"400\"/>"
      ],
      "text/plain": [
       "<IPython.core.display.Image object>"
      ]
     },
     "metadata": {},
     "output_type": "display_data"
    },
    {
     "name": "stdout",
     "output_type": "stream",
     "text": [
      "https://www.thenaturalsapphirecompany.com/3.18ct-ceylon-sri-lanka-emerald-cut-peach-sapphire-u10793-/\n",
      "Peach Sapphire - Emerald Cut 3.18 Ct. #U10793\n",
      "Price per length: 448.71165644171776\n",
      "Price: 3657.0\n",
      "Dims: 8.15 x 6.8 x 5.52\n",
      "Color: Peach\n",
      "Treatments: No Enhancement\n"
     ]
    },
    {
     "data": {
      "text/html": [
       "<img src=\"https://image.thenaturalsapphirecompany.com/nsc/sapphire/u10793/image/certified-natural-untreated-ceylon-emeraldcut-orangishyellow-sapphire-3.1800-cts-u10793-1-full.jpg\" width=\"400\"/>"
      ],
      "text/plain": [
       "<IPython.core.display.Image object>"
      ]
     },
     "metadata": {},
     "output_type": "display_data"
    },
    {
     "name": "stdout",
     "output_type": "stream",
     "text": [
      "https://www.thenaturalsapphirecompany.com/3.62ct-ceylon-sri-lanka-radiant-white-sapphire-u11652-/\n",
      "White Sapphire - Radiant 3.62 Ct. #U11652\n",
      "Price per length: 450.4524886877828\n",
      "Price: 3982.0\n",
      "Dims: 8.84 x 7.95 x 5.17\n",
      "Color: White\n",
      "Treatments: Heated\n"
     ]
    },
    {
     "data": {
      "text/html": [
       "<img src=\"https://image.thenaturalsapphirecompany.com/nsc/sapphire/u11652/image/certified-natural-ceylon-radiant-white-sapphire-3.6200-cts-u11652-1-full.jpg\" width=\"400\"/>"
      ],
      "text/plain": [
       "<IPython.core.display.Image object>"
      ]
     },
     "metadata": {},
     "output_type": "display_data"
    },
    {
     "name": "stdout",
     "output_type": "stream",
     "text": [
      "https://www.thenaturalsapphirecompany.com/1.05ct-madagascar-cushion-padparadscha-sapphire-pa4122-/\n",
      "Padparadscha Sapphire - Cushion 1.05 Ct. #PA4122\n",
      "Price per length: 451.4331210191083\n",
      "Price: 2835.0\n",
      "Dims: 6.28 x 4.2 x 3.82\n",
      "Color: Padparadscha (Pinkish-Orange / Orangish-Pink)\n",
      "Treatments: No Enhancement\n"
     ]
    },
    {
     "data": {
      "text/html": [
       "<img src=\"https://image.thenaturalsapphirecompany.com/nsc/sapphire/pa4122/image/certified-natural-untreated-madagascar-cushion-padparadscha-sapphire-1.0500-cts-pa4122-1-full.jpg\" width=\"400\"/>"
      ],
      "text/plain": [
       "<IPython.core.display.Image object>"
      ]
     },
     "metadata": {},
     "output_type": "display_data"
    },
    {
     "name": "stdout",
     "output_type": "stream",
     "text": [
      "https://www.thenaturalsapphirecompany.com/3.03ct-ceylon-sri-lanka-round-white-sapphire-s10305-/\n",
      "White Sapphire - Round 3.03 Ct. #S10305\n",
      "Price per length: 453.27963176064446\n",
      "Price: 3939.0\n",
      "Dims: 8.69 x 8.62 x 5.25\n",
      "Color: White\n",
      "Treatments: Heated\n"
     ]
    },
    {
     "data": {
      "text/html": [
       "<img src=\"https://image.thenaturalsapphirecompany.com/nsc/sapphire/s10305/image/certified-natural-ceylon(srilanka)-round-white-sapphire-3.0300-cts-s10305-1-full.jpg\" width=\"400\"/>"
      ],
      "text/plain": [
       "<IPython.core.display.Image object>"
      ]
     },
     "metadata": {},
     "output_type": "display_data"
    },
    {
     "name": "stdout",
     "output_type": "stream",
     "text": [
      "https://www.thenaturalsapphirecompany.com/2.19ct-ceylon-sri-lanka-round-peach-sapphire-u15318-/\n",
      "Peach Sapphire - Round 2.19 Ct. #U15318\n",
      "Price per length: 453.2988357050453\n",
      "Price: 3504.0\n",
      "Dims: 7.73 x 7.68 x 4.77\n",
      "Color: Peach\n",
      "Treatments: Heated\n"
     ]
    },
    {
     "data": {
      "text/html": [
       "<img src=\"https://image.thenaturalsapphirecompany.com/nsc/sapphire/u15318/image/certified-natural-ceylon(srilanka)-round-peach-sapphire-2.1900-cts-u15318-1-full.jpg\" width=\"400\"/>"
      ],
      "text/plain": [
       "<IPython.core.display.Image object>"
      ]
     },
     "metadata": {},
     "output_type": "display_data"
    },
    {
     "name": "stdout",
     "output_type": "stream",
     "text": [
      "https://www.thenaturalsapphirecompany.com/2.55ct-ceylon-sri-lanka-oval-peach-sapphire-s14047-/\n",
      "Peach Sapphire - Oval 2.55 Ct. #S14047\n",
      "Price per length: 453.80249716231555\n",
      "Price: 3998.0\n",
      "Dims: 8.81 x 7.18 x 4.31\n",
      "Color: Peach\n",
      "Treatments: No Enhancement\n"
     ]
    },
    {
     "data": {
      "text/html": [
       "<img src=\"https://image.thenaturalsapphirecompany.com/nsc/sapphire/s14047/image/certified-natural-untreated-ceylon(srilanka)-oval-peach-sapphire-2.5500-cts-s14047-1-full.jpg\" width=\"400\"/>"
      ],
      "text/plain": [
       "<IPython.core.display.Image object>"
      ]
     },
     "metadata": {},
     "output_type": "display_data"
    },
    {
     "name": "stdout",
     "output_type": "stream",
     "text": [
      "https://www.thenaturalsapphirecompany.com/3.06ct-ceylon-sri-lanka-round-white-sapphire-s7777-/\n",
      "White Sapphire - Round 3.06 Ct. #S7777\n",
      "Price per length: 454.62857142857143\n",
      "Price: 3978.0\n",
      "Dims: 8.75 x 8.64 x 5.49\n",
      "Color: White\n",
      "Treatments: No Enhancement\n"
     ]
    },
    {
     "data": {
      "text/html": [
       "<img src=\"https://image.thenaturalsapphirecompany.com/nsc/sapphire/s7777/image/certified-natural-untreated-ceylon(srilanka)-round-white-sapphire-3.0600-cts-s7777-1-full.jpg\" width=\"400\"/>"
      ],
      "text/plain": [
       "<IPython.core.display.Image object>"
      ]
     },
     "metadata": {},
     "output_type": "display_data"
    },
    {
     "name": "stdout",
     "output_type": "stream",
     "text": [
      "https://www.thenaturalsapphirecompany.com/3.99ct-ceylon-sri-lanka-radiant-white-sapphire-u9709-/\n",
      "White Sapphire - Radiant 3.99 Ct. #U9709\n",
      "Price per length: 456.6929133858267\n",
      "Price: 4060.0\n",
      "Dims: 8.89 x 8.24 x 5.66\n",
      "Color: White\n",
      "Treatments: Heated\n"
     ]
    },
    {
     "data": {
      "text/html": [
       "<img src=\"https://image.thenaturalsapphirecompany.com/nsc/sapphire/u9709/image/certified-natural-ceylon-radiant-white-sapphire-3.9900-cts-u9709-1-full.jpg\" width=\"400\"/>"
      ],
      "text/plain": [
       "<IPython.core.display.Image object>"
      ]
     },
     "metadata": {},
     "output_type": "display_data"
    },
    {
     "name": "stdout",
     "output_type": "stream",
     "text": [
      "https://www.thenaturalsapphirecompany.com/1.83ct-ceylon-sri-lanka-oval-peach-sapphire-s11786-/\n",
      "Peach Sapphire - Oval 1.83 Ct. #S11786\n",
      "Price per length: 458.6206896551725\n",
      "Price: 3724.0\n",
      "Dims: 8.12 x 6.73 x 4.08\n",
      "Color: Peach\n",
      "Treatments: No Enhancement\n"
     ]
    },
    {
     "data": {
      "text/html": [
       "<img src=\"https://image.thenaturalsapphirecompany.com/nsc/sapphire/s11786/image/certified-natural-untreated-ceylon(srilanka)-oval-padparadscha-sapphire-1.8300-cts-s11786-1-full.jpg\" width=\"400\"/>"
      ],
      "text/plain": [
       "<IPython.core.display.Image object>"
      ]
     },
     "metadata": {},
     "output_type": "display_data"
    },
    {
     "name": "stdout",
     "output_type": "stream",
     "text": [
      "https://www.thenaturalsapphirecompany.com/3.74ct-ceylon-sri-lanka-cushion-white-sapphire-u16665-/\n",
      "White Sapphire - Cushion 3.74 Ct. #U16665\n",
      "Price per length: 459.1814159292036\n",
      "Price: 4151.0\n",
      "Dims: 9.04 x 8.14 x 5.84\n",
      "Color: White\n",
      "Treatments: No Enhancement\n"
     ]
    },
    {
     "data": {
      "text/html": [
       "<img src=\"https://image.thenaturalsapphirecompany.com/nsc/sapphire/u16665/image/certified-natural-untreated-ceylon(srilanka)-cushion-white-sapphire-3.7400-cts-u16665-1-full.jpg\" width=\"400\"/>"
      ],
      "text/plain": [
       "<IPython.core.display.Image object>"
      ]
     },
     "metadata": {},
     "output_type": "display_data"
    },
    {
     "name": "stdout",
     "output_type": "stream",
     "text": [
      "https://www.thenaturalsapphirecompany.com/1.78ct-ceylon-sri-lanka-cushion-padparadscha-sapphire-s14514-/\n",
      "Padparadscha Sapphire - Cushion 1.78 Ct. #S14514\n",
      "Price per length: 460.5433376455368\n",
      "Price: 3560.0\n",
      "Dims: 7.73 x 6.4 x 3.7\n",
      "Color: Padparadscha (Pinkish-Orange / Orangish-Pink)\n",
      "Treatments: Heated\n"
     ]
    },
    {
     "data": {
      "text/html": [
       "<img src=\"https://image.thenaturalsapphirecompany.com/nsc/sapphire/s14514/image/certified-natural-untreated-ceylon(srilanka)-cushion-padparadscha-sapphire-1.7800-cts-s14514-1-full.jpg\" width=\"400\"/>"
      ],
      "text/plain": [
       "<IPython.core.display.Image object>"
      ]
     },
     "metadata": {},
     "output_type": "display_data"
    },
    {
     "name": "stdout",
     "output_type": "stream",
     "text": [
      "https://www.thenaturalsapphirecompany.com/1.09ct-ceylon-sri-lanka-oval-padparadscha-sapphire-pa3985-/\n",
      "Padparadscha Sapphire - Oval 1.09 Ct. #PA3985\n",
      "Price per length: 461.864406779661\n",
      "Price: 3270.0\n",
      "Dims: 7.08 x 5.6 x 3.2\n",
      "Color: Padparadscha (Pinkish-Orange / Orangish-Pink)\n",
      "Treatments: No Enhancement\n"
     ]
    },
    {
     "data": {
      "text/html": [
       "<img src=\"https://image.thenaturalsapphirecompany.com/nsc/sapphire/pa3985/image/certified-natural-ceylon(srilanka)-oval-padparadscha-sapphire-1.0900-cts-pa3985-1-full.jpg\" width=\"400\"/>"
      ],
      "text/plain": [
       "<IPython.core.display.Image object>"
      ]
     },
     "metadata": {},
     "output_type": "display_data"
    },
    {
     "name": "stdout",
     "output_type": "stream",
     "text": [
      "https://www.thenaturalsapphirecompany.com/1.06ct-ceylon-sri-lanka-oval-padparadscha-sapphire-s17524-/\n",
      "Padparadscha Sapphire - Oval 1.06 Ct. #S17524\n",
      "Price per length: 462.9733520336606\n",
      "Price: 3301.0\n",
      "Dims: 7.13 x 5.81 x 3.06\n",
      "Color: Padparadscha (Pinkish-Orange / Orangish-Pink)\n",
      "Treatments: No Enhancement\n"
     ]
    },
    {
     "data": {
      "text/html": [
       "<img src=\"https://image.thenaturalsapphirecompany.com/nsc/sapphire/s17524/image/certified-natural-untreated-ceylon(srilanka)-oval-padparadscha-sapphire-1.0600-cts-s17524-1-full.jpg\" width=\"400\"/>"
      ],
      "text/plain": [
       "<IPython.core.display.Image object>"
      ]
     },
     "metadata": {},
     "output_type": "display_data"
    },
    {
     "name": "stdout",
     "output_type": "stream",
     "text": [
      "https://www.thenaturalsapphirecompany.com/2.57ct-ceylon-sri-lanka-radiant-peach-sapphire-s9813-/\n",
      "Peach Sapphire - Radiant 2.57 Ct. #S9813\n",
      "Price per length: 465.0180940892642\n",
      "Price: 3855.0\n",
      "Dims: 8.29 x 5.88 x 5.0\n",
      "Color: Peach\n",
      "Treatments: Heated\n"
     ]
    },
    {
     "data": {
      "text/html": [
       "<img src=\"https://image.thenaturalsapphirecompany.com/nsc/sapphire/s9813/image/certified-natural-ceylon(srilanka)-radiant-peach-sapphire-2.5700-cts-s9813-1-full.jpg\" width=\"400\"/>"
      ],
      "text/plain": [
       "<IPython.core.display.Image object>"
      ]
     },
     "metadata": {},
     "output_type": "display_data"
    },
    {
     "name": "stdout",
     "output_type": "stream",
     "text": [
      "https://www.thenaturalsapphirecompany.com/2.54ct-ceylon-sri-lanka-cushion-peach-sapphire-s14159-/\n",
      "Peach Sapphire - Cushion 2.54 Ct. #S14159\n",
      "Price per length: 466.3727959697733\n",
      "Price: 3703.0\n",
      "Dims: 7.94 x 7.19 x 5.19\n",
      "Color: Peach\n",
      "Treatments: No Enhancement\n"
     ]
    },
    {
     "data": {
      "text/html": [
       "<img src=\"https://image.thenaturalsapphirecompany.com/nsc/sapphire/s14159/image/certified-natural-untreated-ceylon(srilanka)-cushion-peach-sapphire-2.5400-cts-s14159-1-full.jpg\" width=\"400\"/>"
      ],
      "text/plain": [
       "<IPython.core.display.Image object>"
      ]
     },
     "metadata": {},
     "output_type": "display_data"
    },
    {
     "name": "stdout",
     "output_type": "stream",
     "text": [
      "https://www.thenaturalsapphirecompany.com/2.05ct-ceylon-sri-lanka-oval-peach-sapphire-s16082-/\n",
      "Peach Sapphire - Oval 2.05 Ct. #S16082\n",
      "Price per length: 468.6987104337632\n",
      "Price: 3998.0\n",
      "Dims: 8.53 x 6.79 x 4.5\n",
      "Color: Peach\n",
      "Treatments: Heated\n"
     ]
    },
    {
     "data": {
      "text/html": [
       "<img src=\"https://image.thenaturalsapphirecompany.com/nsc/sapphire/s16082/image/certified-natural-ceylon(srilanka)-oval-peach-sapphire-2.0500-cts-s16082-1-full.jpg\" width=\"400\"/>"
      ],
      "text/plain": [
       "<IPython.core.display.Image object>"
      ]
     },
     "metadata": {},
     "output_type": "display_data"
    },
    {
     "name": "stdout",
     "output_type": "stream",
     "text": [
      "https://www.thenaturalsapphirecompany.com/2.51ct-ceylon-sri-lanka-radiant-peach-sapphire-s11698-/\n",
      "Peach Sapphire - Radiant 2.51 Ct. #S11698\n",
      "Price per length: 468.7566418703507\n",
      "Price: 4411.0\n",
      "Dims: 9.41 x 5.94 x 4.4\n",
      "Color: Peach\n",
      "Treatments: Heated\n"
     ]
    },
    {
     "data": {
      "text/html": [
       "<img src=\"https://image.thenaturalsapphirecompany.com/nsc/sapphire/s11698/image/certified-natural-ceylon(srilanka)-radiant-peach-sapphire-2.5100-cts-s11698-1-full.jpg\" width=\"400\"/>"
      ],
      "text/plain": [
       "<IPython.core.display.Image object>"
      ]
     },
     "metadata": {},
     "output_type": "display_data"
    },
    {
     "name": "stdout",
     "output_type": "stream",
     "text": [
      "https://www.thenaturalsapphirecompany.com/1.39ct-ceylon-sri-lanka-oval-padparadscha-sapphire-pa4062-/\n",
      "Padparadscha Sapphire - Oval 1.39 Ct. #PA4062\n",
      "Price per length: 469.2214111922141\n",
      "Price: 3857.0\n",
      "Dims: 8.22 x 6.03 x 3.54\n",
      "Color: Padparadscha (Pinkish-Orange / Orangish-Pink)\n",
      "Treatments: No Enhancement\n"
     ]
    },
    {
     "data": {
      "text/html": [
       "<img src=\"https://image.thenaturalsapphirecompany.com/nsc/sapphire/pa4062/image/certified-natural-untreated-ceylon(srilanka)-oval-padparadscha-sapphire-1.3900-cts-pa4062-1-full.jpg\" width=\"400\"/>"
      ],
      "text/plain": [
       "<IPython.core.display.Image object>"
      ]
     },
     "metadata": {},
     "output_type": "display_data"
    },
    {
     "name": "stdout",
     "output_type": "stream",
     "text": [
      "https://www.thenaturalsapphirecompany.com/1.54ct-ceylon-sri-lanka-oval-padparadscha-sapphire-pa3215-/\n",
      "Padparadscha Sapphire - Oval 1.54 Ct. #PA3215\n",
      "Price per length: 470.7423580786026\n",
      "Price: 4312.0\n",
      "Dims: 9.16 x 5.76 x 3.32\n",
      "Color: Padparadscha (Pinkish-Orange / Orangish-Pink)\n",
      "Treatments: No Enhancement\n"
     ]
    },
    {
     "data": {
      "text/html": [
       "<img src=\"https://image.thenaturalsapphirecompany.com/nsc/sapphire/pa3215/image/certified-natural-untreated-ceylon-oval-padparadscha-sapphire-1.5400-cts-pa3215-1-full.jpg\" width=\"400\"/>"
      ],
      "text/plain": [
       "<IPython.core.display.Image object>"
      ]
     },
     "metadata": {},
     "output_type": "display_data"
    },
    {
     "name": "stdout",
     "output_type": "stream",
     "text": [
      "https://www.thenaturalsapphirecompany.com/2.21ct-ceylon-sri-lanka-round-peach-sapphire-u13232-/\n",
      "Peach Sapphire - Round 2.21 Ct. #U13232\n",
      "Price per length: 471.3927227101631\n",
      "Price: 3757.0\n",
      "Dims: 7.97 x 7.89 x 4.5\n",
      "Color: Peach\n",
      "Treatments: No Enhancement\n"
     ]
    },
    {
     "data": {
      "text/html": [
       "<img src=\"https://image.thenaturalsapphirecompany.com/nsc/sapphire/u13232/image/certified-natural-untreated-ceylon-round-peach-sapphire-2.2100-cts-u13232-1-full.jpg\" width=\"400\"/>"
      ],
      "text/plain": [
       "<IPython.core.display.Image object>"
      ]
     },
     "metadata": {},
     "output_type": "display_data"
    },
    {
     "name": "stdout",
     "output_type": "stream",
     "text": [
      "https://www.thenaturalsapphirecompany.com/2.34ct-ceylon-sri-lanka-oval-peach-sapphire-s14330-/\n",
      "Peach Sapphire - Oval 2.34 Ct. #S14330\n",
      "Price per length: 471.8861209964413\n",
      "Price: 3978.0\n",
      "Dims: 8.43 x 6.59 x 5.09\n",
      "Color: Peach\n",
      "Treatments: Heated\n"
     ]
    },
    {
     "data": {
      "text/html": [
       "<img src=\"https://image.thenaturalsapphirecompany.com/nsc/sapphire/s14330/image/certified-natural-ceylon(srilanka)-oval-peach-sapphire-2.3400-cts-s14330-1-full.jpg\" width=\"400\"/>"
      ],
      "text/plain": [
       "<IPython.core.display.Image object>"
      ]
     },
     "metadata": {},
     "output_type": "display_data"
    },
    {
     "name": "stdout",
     "output_type": "stream",
     "text": [
      "https://www.thenaturalsapphirecompany.com/1.48ct-madagascar-oval-padparadscha-sapphire-s13427-/\n",
      "Padparadscha Sapphire - Oval 1.48 Ct. #S13427\n",
      "Price per length: 472.0443349753695\n",
      "Price: 3833.0\n",
      "Dims: 8.12 x 6.5 x 3.34\n",
      "Color: Padparadscha (Pinkish-Orange / Orangish-Pink)\n",
      "Treatments: Heated\n"
     ]
    },
    {
     "data": {
      "text/html": [
       "<img src=\"https://image.thenaturalsapphirecompany.com/nsc/sapphire/s13427/image/certified-natural-madagascar-oval-padparadscha-sapphire-1.4800-cts-s13427-1-full.jpg\" width=\"400\"/>"
      ],
      "text/plain": [
       "<IPython.core.display.Image object>"
      ]
     },
     "metadata": {},
     "output_type": "display_data"
    },
    {
     "name": "stdout",
     "output_type": "stream",
     "text": [
      "https://www.thenaturalsapphirecompany.com/2.00ct-ceylon-sri-lanka-oval-padparadscha-sapphire-u17221-/\n",
      "Padparadscha Sapphire - Oval 2.00 Ct. #U17221\n",
      "Price per length: 476.8041237113402\n",
      "Price: 3700.0\n",
      "Dims: 7.76 x 6.35 x 4.93\n",
      "Color: Padparadscha (Pinkish-Orange / Orangish-Pink)\n",
      "Treatments: No Enhancement\n"
     ]
    },
    {
     "data": {
      "text/html": [
       "<img src=\"https://image.thenaturalsapphirecompany.com/nsc/sapphire/u17221/image/certified-natural-untreated-ceylon(srilanka)-oval-peach-sapphire-2.0000-cts-u17221-1-full.jpg\" width=\"400\"/>"
      ],
      "text/plain": [
       "<IPython.core.display.Image object>"
      ]
     },
     "metadata": {},
     "output_type": "display_data"
    },
    {
     "name": "stdout",
     "output_type": "stream",
     "text": [
      "https://www.thenaturalsapphirecompany.com/2.60ct-ceylon-sri-lanka-radiant-white-sapphire-u15010-/\n",
      "White Sapphire - Radiant 2.60 Ct. #U15010\n",
      "Price per length: 481.038961038961\n",
      "Price: 3704.0\n",
      "Dims: 7.7 x 6.98 x 5.04\n",
      "Color: White\n",
      "Treatments: No Enhancement\n"
     ]
    },
    {
     "data": {
      "text/html": [
       "<img src=\"https://image.thenaturalsapphirecompany.com/nsc/sapphire/u15010/image/certified-natural-untreated-ceylon-radiant-white-sapphire-2.6000-cts-u15010-1-full.jpg\" width=\"400\"/>"
      ],
      "text/plain": [
       "<IPython.core.display.Image object>"
      ]
     },
     "metadata": {},
     "output_type": "display_data"
    },
    {
     "name": "stdout",
     "output_type": "stream",
     "text": [
      "https://www.thenaturalsapphirecompany.com/2.59ct-ceylon-sri-lanka-radiant-white-sapphire-s14673-/\n",
      "White Sapphire - Radiant 2.59 Ct. #S14673\n",
      "Price per length: 481.5405046480744\n",
      "Price: 3626.0\n",
      "Dims: 7.53 x 7.43 x 4.91\n",
      "Color: White\n",
      "Treatments: Heated\n"
     ]
    },
    {
     "data": {
      "text/html": [
       "<img src=\"https://image.thenaturalsapphirecompany.com/nsc/sapphire/s14673/image/certified-natural-ceylon(srilanka)-radiant-white-sapphire-2.5900-cts-s14673-1-full.jpg\" width=\"400\"/>"
      ],
      "text/plain": [
       "<IPython.core.display.Image object>"
      ]
     },
     "metadata": {},
     "output_type": "display_data"
    },
    {
     "name": "stdout",
     "output_type": "stream",
     "text": [
      "https://www.thenaturalsapphirecompany.com/1.24ct-ceylon-sri-lanka-emerald-cut-padparadscha-sapphire-s13430-/\n",
      "Padparadscha Sapphire - Emerald Cut 1.24 Ct. #S13430\n",
      "Price per length: 483.56545961002786\n",
      "Price: 3472.0\n",
      "Dims: 7.18 x 5.19 x 3.0\n",
      "Color: Padparadscha (Pinkish-Orange / Orangish-Pink)\n",
      "Treatments: Heated\n"
     ]
    },
    {
     "data": {
      "text/html": [
       "<img src=\"https://image.thenaturalsapphirecompany.com/nsc/sapphire/s13430/image/certified-natural-ceylon(srilanka)-emeraldcut-padparadscha-sapphire-1.2400-cts-s13430-1-full.jpg\" width=\"400\"/>"
      ],
      "text/plain": [
       "<IPython.core.display.Image object>"
      ]
     },
     "metadata": {},
     "output_type": "display_data"
    },
    {
     "name": "stdout",
     "output_type": "stream",
     "text": [
      "https://www.thenaturalsapphirecompany.com/4.14ct-ceylon-sri-lanka-round-white-sapphire-u17020-/\n",
      "White Sapphire - Round 4.14 Ct. #U17020\n",
      "Price per length: 485.2164730728616\n",
      "Price: 4595.0\n",
      "Dims: 9.47 x 9.31 x 5.96\n",
      "Color: White\n",
      "Treatments: Heated\n"
     ]
    },
    {
     "data": {
      "text/html": [
       "<img src=\"https://image.thenaturalsapphirecompany.com/nsc/sapphire/u17020/image/certified-natural-ceylon(srilanka)-round-white-sapphire-4.1400-cts-u17020-1-full.jpg\" width=\"400\"/>"
      ],
      "text/plain": [
       "<IPython.core.display.Image object>"
      ]
     },
     "metadata": {},
     "output_type": "display_data"
    },
    {
     "name": "stdout",
     "output_type": "stream",
     "text": [
      "https://www.thenaturalsapphirecompany.com/2.25ct-ceylon-sri-lanka-round-peach-sapphire-s4178-/\n",
      "Peach Sapphire - Round 2.25 Ct. #S4178\n",
      "Price per length: 486.49350649350646\n",
      "Price: 3746.0\n",
      "Dims: 7.7 x 7.65 x 4.58\n",
      "Color: Peach\n",
      "Treatments: No Enhancement\n"
     ]
    },
    {
     "data": {
      "text/html": [
       "<img src=\"https://image.thenaturalsapphirecompany.com/nsc/sapphire/s4178/image/certified-natural-untreated-ceylon(srilanka)-round-peach-sapphire-2.2500-cts-s4178-1-full.jpg\" width=\"400\"/>"
      ],
      "text/plain": [
       "<IPython.core.display.Image object>"
      ]
     },
     "metadata": {},
     "output_type": "display_data"
    },
    {
     "name": "stdout",
     "output_type": "stream",
     "text": [
      "https://www.thenaturalsapphirecompany.com/3.01ct-ceylon-sri-lanka-radiant-peach-sapphire-s14535-/\n",
      "Peach Sapphire - Radiant 3.01 Ct. #S14535\n",
      "Price per length: 488.4868421052632\n",
      "Price: 4455.0\n",
      "Dims: 9.12 x 7.03 x 4.68\n",
      "Color: Peach\n",
      "Treatments: No Enhancement\n"
     ]
    },
    {
     "data": {
      "text/html": [
       "<img src=\"https://image.thenaturalsapphirecompany.com/nsc/sapphire/s14535/image/certified-natural-untreated-ceylon(srilanka)-radiant-peach-sapphire-3.0100-cts-s14535-1-full.jpg\" width=\"400\"/>"
      ],
      "text/plain": [
       "<IPython.core.display.Image object>"
      ]
     },
     "metadata": {},
     "output_type": "display_data"
    },
    {
     "name": "stdout",
     "output_type": "stream",
     "text": [
      "https://www.thenaturalsapphirecompany.com/2.56ct-ceylon-sri-lanka-cushion-padparadscha-sapphire-s11152-/\n",
      "Padparadscha Sapphire - Cushion 2.56 Ct. #S11152\n",
      "Price per length: 489.0217391304348\n",
      "Price: 4499.0\n",
      "Dims: 9.2 x 6.38 x 4.75\n",
      "Color: Padparadscha (Pinkish-Orange / Orangish-Pink)\n",
      "Treatments: Heated\n"
     ]
    },
    {
     "data": {
      "text/html": [
       "<img src=\"https://image.thenaturalsapphirecompany.com/nsc/sapphire/s11152/image/certified-natural-ceylon(srilanka)-cushion-padparadscha-sapphire-2.5600-cts-s11152-1-full.jpg\" width=\"400\"/>"
      ],
      "text/plain": [
       "<IPython.core.display.Image object>"
      ]
     },
     "metadata": {},
     "output_type": "display_data"
    },
    {
     "name": "stdout",
     "output_type": "stream",
     "text": [
      "https://www.thenaturalsapphirecompany.com/5.98ct-ceylon-sri-lanka-radiant-white-sapphire-u5696-/\n",
      "White Sapphire - Radiant 5.98 Ct. #U5696\n",
      "Price per length: 489.0948745910578\n",
      "Price: 4485.0\n",
      "Dims: 9.17 x 9.18 x 7.18\n",
      "Color: White\n",
      "Treatments: Heated\n"
     ]
    },
    {
     "data": {
      "text/html": [
       "<img src=\"https://image.thenaturalsapphirecompany.com/nsc/sapphire/u5696/image/certified-natural-ceylon-radiant-white-sapphire-5.9800-cts-u5696-1-full.jpg\" width=\"400\"/>"
      ],
      "text/plain": [
       "<IPython.core.display.Image object>"
      ]
     },
     "metadata": {},
     "output_type": "display_data"
    },
    {
     "name": "stdout",
     "output_type": "stream",
     "text": [
      "https://www.thenaturalsapphirecompany.com/1.74ct-madagascar-pear-padparadscha-sapphire-s10450-/\n",
      "Padparadscha Sapphire - Pear 1.74 Ct. #S10450\n",
      "Price per length: 493.2584269662922\n",
      "Price: 4829.0\n",
      "Dims: 9.79 x 5.33 x 4.66\n",
      "Color: Padparadscha (Pinkish-Orange / Orangish-Pink)\n",
      "Treatments: Heated\n"
     ]
    },
    {
     "data": {
      "text/html": [
       "<img src=\"https://image.thenaturalsapphirecompany.com/nsc/sapphire/s10450/image/certified-natural-ceylon(srilanka)-pear-padparadscha-sapphire-1.7400-cts-s10450-1-full.jpg\" width=\"400\"/>"
      ],
      "text/plain": [
       "<IPython.core.display.Image object>"
      ]
     },
     "metadata": {},
     "output_type": "display_data"
    },
    {
     "name": "stdout",
     "output_type": "stream",
     "text": [
      "https://www.thenaturalsapphirecompany.com/4.02ct-ceylon-sri-lanka-emerald-cut-white-sapphire-s13406-/\n",
      "White Sapphire - Emerald Cut 4.02 Ct. #S13406\n",
      "Price per length: 494.7639484978541\n",
      "Price: 5764.0\n",
      "Dims: 11.65 x 7.52 x 4.22\n",
      "Color: White\n",
      "Treatments: No Enhancement\n"
     ]
    },
    {
     "data": {
      "text/html": [
       "<img src=\"https://image.thenaturalsapphirecompany.com/nsc/sapphire/s13406/image/certified-natural-untreated-ceylon(srilanka)-emeraldcut-white-sapphire-4.0200-cts-s13406-1-full.jpg\" width=\"400\"/>"
      ],
      "text/plain": [
       "<IPython.core.display.Image object>"
      ]
     },
     "metadata": {},
     "output_type": "display_data"
    },
    {
     "name": "stdout",
     "output_type": "stream",
     "text": [
      "https://www.thenaturalsapphirecompany.com/11.12ct-ceylon-sri-lanka-oval-white-sapphire-u9705-/\n",
      "White Sapphire - Oval 11.12 Ct. #U9705\n",
      "Price per length: 502.092050209205\n",
      "Price: 7200.0\n",
      "Dims: 14.34 x 11.61 x 7.05\n",
      "Color: White\n",
      "Treatments: Heated\n"
     ]
    },
    {
     "data": {
      "text/html": [
       "<img src=\"https://image.thenaturalsapphirecompany.com/nsc/sapphire/u9705/image/certified-natural-ceylon-oval-white-sapphire-11.1200-cts-u9705-1-full.jpg\" width=\"400\"/>"
      ],
      "text/plain": [
       "<IPython.core.display.Image object>"
      ]
     },
     "metadata": {},
     "output_type": "display_data"
    },
    {
     "name": "stdout",
     "output_type": "stream",
     "text": [
      "https://www.thenaturalsapphirecompany.com/1.54ct-madagascar-oval-padparadscha-sapphire-s8701-/\n",
      "Padparadscha Sapphire - Oval 1.54 Ct. #S8701\n",
      "Price per length: 504.9367088607595\n",
      "Price: 3989.0\n",
      "Dims: 7.9 x 6.2 x 3.74\n",
      "Color: Padparadscha (Pinkish-Orange / Orangish-Pink)\n",
      "Treatments: No Enhancement\n"
     ]
    },
    {
     "data": {
      "text/html": [
       "<img src=\"https://image.thenaturalsapphirecompany.com/nsc/sapphire/s8701/image/certified-natural-untreated-madagascar-oval-padparadscha-sapphire-1.5400-cts-s8701-1-full.jpg\" width=\"400\"/>"
      ],
      "text/plain": [
       "<IPython.core.display.Image object>"
      ]
     },
     "metadata": {},
     "output_type": "display_data"
    },
    {
     "name": "stdout",
     "output_type": "stream",
     "text": [
      "https://www.thenaturalsapphirecompany.com/3.41ct-ceylon-sri-lanka-cushion-peach-sapphire-u16924-/\n",
      "Peach Sapphire - Cushion 3.41 Ct. #U16924\n",
      "Price per length: 505.4487179487179\n",
      "Price: 4731.0\n",
      "Dims: 9.36 x 7.84 x 4.69\n",
      "Color: Peach\n",
      "Treatments: Heated\n"
     ]
    },
    {
     "data": {
      "text/html": [
       "<img src=\"https://image.thenaturalsapphirecompany.com/nsc/sapphire/u16924/image/certified-natural-ceylon(srilanka)-cushion-peach-sapphire-3.4100-cts-u16924-1-full.jpg\" width=\"400\"/>"
      ],
      "text/plain": [
       "<IPython.core.display.Image object>"
      ]
     },
     "metadata": {},
     "output_type": "display_data"
    },
    {
     "name": "stdout",
     "output_type": "stream",
     "text": [
      "https://www.thenaturalsapphirecompany.com/5.06ct-ceylon-sri-lanka-cushion-white-sapphire-s4067-/\n",
      "White Sapphire - Cushion 5.06 Ct. #S4067\n",
      "Price per length: 506.50650650650647\n",
      "Price: 5060.0\n",
      "Dims: 9.99 x 9.0 x 6.16\n",
      "Color: White\n",
      "Treatments: Heated\n"
     ]
    },
    {
     "data": {
      "text/html": [
       "<img src=\"https://image.thenaturalsapphirecompany.com/nsc/sapphire/s4067/image/certified-natural-ceylon(srilanka)-cushion-white-sapphire-5.0600-cts-s4067-1-full.jpg\" width=\"400\"/>"
      ],
      "text/plain": [
       "<IPython.core.display.Image object>"
      ]
     },
     "metadata": {},
     "output_type": "display_data"
    },
    {
     "name": "stdout",
     "output_type": "stream",
     "text": [
      "https://www.thenaturalsapphirecompany.com/2.08ct-ceylon-sri-lanka-oval-peach-sapphire-s5510-/\n",
      "Peach Sapphire - Oval 2.08 Ct. #S5510\n",
      "Price per length: 510.27624309392263\n",
      "Price: 4618.0\n",
      "Dims: 9.05 x 7.48 x 3.85\n",
      "Color: Peach\n",
      "Treatments: Heated\n"
     ]
    },
    {
     "data": {
      "text/html": [
       "<img src=\"https://image.thenaturalsapphirecompany.com/nsc/sapphire/s5510/image/certified-natural-ceylon(srilanka)-oval-orange-sapphire-2.0800-cts-s5510-1-full.jpg\" width=\"400\"/>"
      ],
      "text/plain": [
       "<IPython.core.display.Image object>"
      ]
     },
     "metadata": {},
     "output_type": "display_data"
    },
    {
     "name": "stdout",
     "output_type": "stream",
     "text": [
      "https://www.thenaturalsapphirecompany.com/4.29ct-ceylon-sri-lanka-cushion-white-sapphire-s14646-/\n",
      "White Sapphire - Cushion 4.29 Ct. #S14646\n",
      "Price per length: 511.29831516352823\n",
      "Price: 5159.0\n",
      "Dims: 10.09 x 8.91 x 5.52\n",
      "Color: White\n",
      "Treatments: Heated\n"
     ]
    },
    {
     "data": {
      "text/html": [
       "<img src=\"https://image.thenaturalsapphirecompany.com/nsc/sapphire/s14646/image/certified-natural-ceylon(srilanka)-cushion-white-sapphire-4.2900-cts-s14646-1-full.jpg\" width=\"400\"/>"
      ],
      "text/plain": [
       "<IPython.core.display.Image object>"
      ]
     },
     "metadata": {},
     "output_type": "display_data"
    },
    {
     "name": "stdout",
     "output_type": "stream",
     "text": [
      "https://www.thenaturalsapphirecompany.com/1.60ct-madagascar-cushion-padparadscha-sapphire-s12067-/\n",
      "Padparadscha Sapphire - Cushion 1.60 Ct. #S12067\n",
      "Price per length: 518.9340813464236\n",
      "Price: 3700.0\n",
      "Dims: 7.13 x 6.59 x 3.39\n",
      "Color: Padparadscha (Pinkish-Orange / Orangish-Pink)\n",
      "Treatments: Heated\n"
     ]
    },
    {
     "data": {
      "text/html": [
       "<img src=\"https://image.thenaturalsapphirecompany.com/nsc/sapphire/s12067/image/certified-natural-madagascar-cushion-padparadscha-sapphire-1.6000-cts-s12067-1-full.jpg\" width=\"400\"/>"
      ],
      "text/plain": [
       "<IPython.core.display.Image object>"
      ]
     },
     "metadata": {},
     "output_type": "display_data"
    },
    {
     "name": "stdout",
     "output_type": "stream",
     "text": [
      "https://www.thenaturalsapphirecompany.com/3.09ct-ceylon-sri-lanka-oval-peach-sapphire-s7892-/\n",
      "Peach Sapphire - Oval 3.09 Ct. #S7892\n",
      "Price per length: 522.2115384615385\n",
      "Price: 5431.0\n",
      "Dims: 10.4 x 8.12 x 4.4\n",
      "Color: Peach\n",
      "Treatments: Heated\n"
     ]
    },
    {
     "data": {
      "text/html": [
       "<img src=\"https://image.thenaturalsapphirecompany.com/nsc/sapphire/s7892/image/certified-natural-ceylon(srilanka)-oval-peach-sapphire-3.0900-cts-s7892-1-full.jpg\" width=\"400\"/>"
      ],
      "text/plain": [
       "<IPython.core.display.Image object>"
      ]
     },
     "metadata": {},
     "output_type": "display_data"
    },
    {
     "name": "stdout",
     "output_type": "stream",
     "text": [
      "https://www.thenaturalsapphirecompany.com/4.00ct-ceylon-sri-lanka-emerald-cut-white-sapphire-s4175-/\n",
      "White Sapphire - Emerald Cut 4.00 Ct. #S4175\n",
      "Price per length: 524.5746691871456\n",
      "Price: 5550.0\n",
      "Dims: 10.58 x 7.72 x 4.97\n",
      "Color: White\n",
      "Treatments: Heated\n"
     ]
    },
    {
     "data": {
      "text/html": [
       "<img src=\"https://image.thenaturalsapphirecompany.com/nsc/sapphire/s4175/image/certified-natural-ceylon(srilanka)-emeraldcut-white-sapphire-4.0000-cts-s4175-1-full.jpg\" width=\"400\"/>"
      ],
      "text/plain": [
       "<IPython.core.display.Image object>"
      ]
     },
     "metadata": {},
     "output_type": "display_data"
    },
    {
     "name": "stdout",
     "output_type": "stream",
     "text": [
      "https://www.thenaturalsapphirecompany.com/1.86ct-madagascar-oval-padparadscha-sapphire-pa3793-/\n",
      "Padparadscha Sapphire - Oval 1.86 Ct. #PA3793\n",
      "Price per length: 531.4645308924485\n",
      "Price: 4645.0\n",
      "Dims: 8.74 x 6.4 x 4.15\n",
      "Color: Padparadscha (Pinkish-Orange / Orangish-Pink)\n",
      "Treatments: No Enhancement\n"
     ]
    },
    {
     "data": {
      "text/html": [
       "<img src=\"https://image.thenaturalsapphirecompany.com/nsc/sapphire/pa3793/image/certified-natural-untreated-madagascar-oval-padparadscha-sapphire-1.8600-cts-pa3793-1-full.jpg\" width=\"400\"/>"
      ],
      "text/plain": [
       "<IPython.core.display.Image object>"
      ]
     },
     "metadata": {},
     "output_type": "display_data"
    },
    {
     "name": "stdout",
     "output_type": "stream",
     "text": [
      "https://www.thenaturalsapphirecompany.com/1.64ct-east-africa-cushion-padparadscha-sapphire-s11748-/\n",
      "Padparadscha Sapphire - Cushion 1.64 Ct. #S11748\n",
      "Price per length: 532.1533923303834\n",
      "Price: 3608.0\n",
      "Dims: 6.78 x 6.73 x 3.55\n",
      "Color: Padparadscha (Pinkish-Orange / Orangish-Pink)\n",
      "Treatments: Heated\n"
     ]
    },
    {
     "data": {
      "text/html": [
       "<img src=\"https://image.thenaturalsapphirecompany.com/nsc/sapphire/s11748/image/certified-natural-eastafrica-cushion-yellowishbrown-sapphire-1.6400-cts-s11748-1-full.jpg\" width=\"400\"/>"
      ],
      "text/plain": [
       "<IPython.core.display.Image object>"
      ]
     },
     "metadata": {},
     "output_type": "display_data"
    },
    {
     "name": "stdout",
     "output_type": "stream",
     "text": [
      "https://www.thenaturalsapphirecompany.com/1.50ct-ceylon-sri-lanka-oval-padparadscha-sapphire-s17529-/\n",
      "Padparadscha Sapphire - Oval 1.50 Ct. #S17529\n",
      "Price per length: 532.156862745098\n",
      "Price: 4071.0\n",
      "Dims: 7.65 x 5.97 x 3.75\n",
      "Color: Padparadscha (Pinkish-Orange / Orangish-Pink)\n",
      "Treatments: No Enhancement\n"
     ]
    },
    {
     "data": {
      "text/html": [
       "<img src=\"https://image.thenaturalsapphirecompany.com/nsc/sapphire/s17529/image/certified-natural-untreated-ceylon(srilanka)-oval-padparadscha-sapphire-1.5000-cts-s17529-1-full.jpg\" width=\"400\"/>"
      ],
      "text/plain": [
       "<IPython.core.display.Image object>"
      ]
     },
     "metadata": {},
     "output_type": "display_data"
    },
    {
     "name": "stdout",
     "output_type": "stream",
     "text": [
      "https://www.thenaturalsapphirecompany.com/3.60ct-ceylon-sri-lanka-radiant-peach-sapphire-u16918-/\n",
      "Peach Sapphire - Radiant 3.60 Ct. #U16918\n",
      "Price per length: 533.5532516493874\n",
      "Price: 5661.0\n",
      "Dims: 10.61 x 7.36 x 4.72\n",
      "Color: Peach\n",
      "Treatments: Heated\n"
     ]
    },
    {
     "data": {
      "text/html": [
       "<img src=\"https://image.thenaturalsapphirecompany.com/nsc/sapphire/u16918/image/certified-natural-ceylon(srilanka)-radiant-peach-sapphire-3.6000-cts-u16918-1-full.jpg\" width=\"400\"/>"
      ],
      "text/plain": [
       "<IPython.core.display.Image object>"
      ]
     },
     "metadata": {},
     "output_type": "display_data"
    },
    {
     "name": "stdout",
     "output_type": "stream",
     "text": [
      "https://www.thenaturalsapphirecompany.com/3.36ct-ceylon-sri-lanka-oval-peach-sapphire-u16238-/\n",
      "Peach Sapphire - Oval 3.36 Ct. #U16238\n",
      "Price per length: 535.3596757852077\n",
      "Price: 5284.0\n",
      "Dims: 9.87 x 8.08 x 5.18\n",
      "Color: Peach\n",
      "Treatments: No Enhancement\n"
     ]
    },
    {
     "data": {
      "text/html": [
       "<img src=\"https://image.thenaturalsapphirecompany.com/nsc/sapphire/u16238/image/certified-natural-untreated-ceylon(srilanka)-oval-peach-sapphire-3.3600-cts-u16238-1-full.jpg\" width=\"400\"/>"
      ],
      "text/plain": [
       "<IPython.core.display.Image object>"
      ]
     },
     "metadata": {},
     "output_type": "display_data"
    },
    {
     "name": "stdout",
     "output_type": "stream",
     "text": [
      "https://www.thenaturalsapphirecompany.com/1.43ct-madagascar-oval-padparadscha-sapphire-s10449-/\n",
      "Padparadscha Sapphire - Oval 1.43 Ct. #S10449\n",
      "Price per length: 538.5496183206106\n",
      "Price: 4233.0\n",
      "Dims: 7.86 x 5.96 x 3.28\n",
      "Color: Padparadscha (Pinkish-Orange / Orangish-Pink)\n",
      "Treatments: Heated\n"
     ]
    },
    {
     "data": {
      "text/html": [
       "<img src=\"https://image.thenaturalsapphirecompany.com/nsc/sapphire/s10449/image/certified-natural-ceylon(srilanka)-oval-padparadscha-sapphire-1.4300-cts-s10449-1-full.jpg\" width=\"400\"/>"
      ],
      "text/plain": [
       "<IPython.core.display.Image object>"
      ]
     },
     "metadata": {},
     "output_type": "display_data"
    },
    {
     "name": "stdout",
     "output_type": "stream",
     "text": [
      "https://www.thenaturalsapphirecompany.com/2.12ct-ceylon-sri-lanka-cushion-peach-sapphire-s11753-/\n",
      "Peach Sapphire - Cushion 2.12 Ct. #S11753\n",
      "Price per length: 538.7362637362637\n",
      "Price: 3922.0\n",
      "Dims: 7.28 x 6.72 x 5.15\n",
      "Color: Peach\n",
      "Treatments: No Enhancement\n"
     ]
    },
    {
     "data": {
      "text/html": [
       "<img src=\"https://image.thenaturalsapphirecompany.com/nsc/sapphire/s11753/image/certified-natural-untreated-ceylon(srilanka)-cushion-yellow-sapphire-2.1200-cts-s11753-1-full.jpg\" width=\"400\"/>"
      ],
      "text/plain": [
       "<IPython.core.display.Image object>"
      ]
     },
     "metadata": {},
     "output_type": "display_data"
    },
    {
     "name": "stdout",
     "output_type": "stream",
     "text": [
      "https://www.thenaturalsapphirecompany.com/2.57ct-ceylon-sri-lanka-oval-peach-sapphire-s12621-/\n",
      "Peach Sapphire - Oval 2.57 Ct. #S12621\n",
      "Price per length: 543.1991294885746\n",
      "Price: 4992.0\n",
      "Dims: 9.19 x 7.95 x 4.4\n",
      "Color: Peach\n",
      "Treatments: Heated\n"
     ]
    },
    {
     "data": {
      "text/html": [
       "<img src=\"https://image.thenaturalsapphirecompany.com/nsc/sapphire/s12621/image/certified-natural-ceylon(srilanka)-oval-peach-sapphire-2.5700-cts-s12621-1-full.jpg\" width=\"400\"/>"
      ],
      "text/plain": [
       "<IPython.core.display.Image object>"
      ]
     },
     "metadata": {},
     "output_type": "display_data"
    },
    {
     "name": "stdout",
     "output_type": "stream",
     "text": [
      "https://www.thenaturalsapphirecompany.com/1.05ct-ceylon-sri-lanka-cushion-padparadscha-sapphire-pa4052-/\n",
      "Padparadscha Sapphire - Cushion 1.05 Ct. #PA4052\n",
      "Price per length: 544.041450777202\n",
      "Price: 3150.0\n",
      "Dims: 5.79 x 5.32 x 3.33\n",
      "Color: Padparadscha (Pinkish-Orange / Orangish-Pink)\n",
      "Treatments: No Enhancement\n"
     ]
    },
    {
     "data": {
      "text/html": [
       "<img src=\"https://image.thenaturalsapphirecompany.com/nsc/sapphire/pa4052/image/certified-natural-untreated-ceylon(srilanka)-cushion-padparadscha-sapphire-1.0500-cts-pa4052-1-full.jpg\" width=\"400\"/>"
      ],
      "text/plain": [
       "<IPython.core.display.Image object>"
      ]
     },
     "metadata": {},
     "output_type": "display_data"
    },
    {
     "name": "stdout",
     "output_type": "stream",
     "text": [
      "https://www.thenaturalsapphirecompany.com/1.62ct-ceylon-sri-lanka-oval-padparadscha-sapphire-s7845-/\n",
      "Padparadscha Sapphire - Oval 1.62 Ct. #S7845\n",
      "Price per length: 544.3099273607749\n",
      "Price: 4496.0\n",
      "Dims: 8.26 x 6.13 x 3.78\n",
      "Color: Padparadscha (Pinkish-Orange / Orangish-Pink)\n",
      "Treatments: Heated\n"
     ]
    },
    {
     "data": {
      "text/html": [
       "<img src=\"https://image.thenaturalsapphirecompany.com/nsc/sapphire/s7845/image/certified-natural-ceylon(srilanka)-oval-padparadscha-sapphire-1.6200-cts-s7845-1-full.jpg\" width=\"400\"/>"
      ],
      "text/plain": [
       "<IPython.core.display.Image object>"
      ]
     },
     "metadata": {},
     "output_type": "display_data"
    },
    {
     "name": "stdout",
     "output_type": "stream",
     "text": [
      "https://www.thenaturalsapphirecompany.com/1.32ct-ceylon-sri-lanka-oval-padparadscha-sapphire-s13812-/\n",
      "Padparadscha Sapphire - Oval 1.32 Ct. #S13812\n",
      "Price per length: 546.7661691542289\n",
      "Price: 4396.0\n",
      "Dims: 8.04 x 6.35 x 3.24\n",
      "Color: Padparadscha (Pinkish-Orange / Orangish-Pink)\n",
      "Treatments: No Enhancement\n"
     ]
    },
    {
     "data": {
      "text/html": [
       "<img src=\"https://image.thenaturalsapphirecompany.com/nsc/sapphire/s13812/image/certified-natural-untreated-ceylon(srilanka)-oval-padparadscha-sapphire-1.3200-cts-s13812-1-full.jpg\" width=\"400\"/>"
      ],
      "text/plain": [
       "<IPython.core.display.Image object>"
      ]
     },
     "metadata": {},
     "output_type": "display_data"
    },
    {
     "name": "stdout",
     "output_type": "stream",
     "text": [
      "https://www.thenaturalsapphirecompany.com/1.39ct-ceylon-sri-lanka-oval-padparadscha-sapphire-s8159-/\n",
      "Padparadscha Sapphire - Oval 1.39 Ct. #S8159\n",
      "Price per length: 547.1094710947109\n",
      "Price: 4448.0\n",
      "Dims: 8.13 x 6.0 x 3.51\n",
      "Color: Padparadscha (Pinkish-Orange / Orangish-Pink)\n",
      "Treatments: No Enhancement\n"
     ]
    },
    {
     "data": {
      "text/html": [
       "<img src=\"https://image.thenaturalsapphirecompany.com/nsc/sapphire/s8159/image/certified-natural-untreated-ceylon(srilanka)-oval-padparadscha-sapphire-1.3900-cts-s8159-1-full.jpg\" width=\"400\"/>"
      ],
      "text/plain": [
       "<IPython.core.display.Image object>"
      ]
     },
     "metadata": {},
     "output_type": "display_data"
    },
    {
     "name": "stdout",
     "output_type": "stream",
     "text": [
      "https://www.thenaturalsapphirecompany.com/3.87ct-ceylon-sri-lanka-oval-peach-sapphire-s17160-/\n",
      "Peach Sapphire - Oval 3.87 Ct. #S17160\n",
      "Price per length: 547.3072861668426\n",
      "Price: 5183.0\n",
      "Dims: 9.47 x 7.5 x 5.97\n",
      "Color: Peach\n",
      "Treatments: No Enhancement\n"
     ]
    },
    {
     "data": {
      "text/html": [
       "<img src=\"https://image.thenaturalsapphirecompany.com/nsc/sapphire/s17160/image/certified-natural-untreated-ceylon(srilanka)-oval-peach-sapphire-3.8700-cts-s17160-1-full.jpg\" width=\"400\"/>"
      ],
      "text/plain": [
       "<IPython.core.display.Image object>"
      ]
     },
     "metadata": {},
     "output_type": "display_data"
    },
    {
     "name": "stdout",
     "output_type": "stream",
     "text": [
      "https://www.thenaturalsapphirecompany.com/3.71ct-ceylon-sri-lanka-asscher-octagon-white-sapphire-s11692-/\n",
      "White Sapphire - Asscher - Octagon 3.71 Ct. #S11692\n",
      "Price per length: 549.384236453202\n",
      "Price: 4461.0\n",
      "Dims: 8.12 x 7.91 x 6.06\n",
      "Color: White\n",
      "Treatments: Heated\n"
     ]
    },
    {
     "data": {
      "text/html": [
       "<img src=\"https://image.thenaturalsapphirecompany.com/nsc/sapphire/s11692/image/certified-natural-ceylon(srilanka)-asscher-octagon-white-sapphire-3.7100-cts-s11692-1-full.jpg\" width=\"400\"/>"
      ],
      "text/plain": [
       "<IPython.core.display.Image object>"
      ]
     },
     "metadata": {},
     "output_type": "display_data"
    },
    {
     "name": "stdout",
     "output_type": "stream",
     "text": [
      "https://www.thenaturalsapphirecompany.com/1.58ct-ceylon-sri-lanka-cushion-padparadscha-sapphire-s4393-/\n",
      "Padparadscha Sapphire - Cushion 1.58 Ct. #S4393\n",
      "Price per length: 551.4824797843665\n",
      "Price: 4092.0\n",
      "Dims: 7.42 x 6.64 x 3.32\n",
      "Color: Padparadscha (Pinkish-Orange / Orangish-Pink)\n",
      "Treatments: No Enhancement\n"
     ]
    },
    {
     "data": {
      "text/html": [
       "<img src=\"https://image.thenaturalsapphirecompany.com/nsc/sapphire/s4393/image/certified-natural-untreated-ceylon(srilanka)-cushion-padparadscha-sapphire-1.5800-cts-s4393-1-full.jpg\" width=\"400\"/>"
      ],
      "text/plain": [
       "<IPython.core.display.Image object>"
      ]
     },
     "metadata": {},
     "output_type": "display_data"
    },
    {
     "name": "stdout",
     "output_type": "stream",
     "text": [
      "https://www.thenaturalsapphirecompany.com/2.57ct-ceylon-sri-lanka-pear-peach-sapphire-s14399-/\n",
      "Peach Sapphire - Pear 2.57 Ct. #S14399\n",
      "Price per length: 554.6129374337222\n",
      "Price: 5230.0\n",
      "Dims: 9.43 x 6.94 x 5.4\n",
      "Color: Peach\n",
      "Treatments: Heated\n"
     ]
    },
    {
     "data": {
      "text/html": [
       "<img src=\"https://image.thenaturalsapphirecompany.com/nsc/sapphire/s14399/image/certified-natural-ceylon(srilanka)-pear-peach-sapphire-2.5700-cts-s14399-1-full.jpg\" width=\"400\"/>"
      ],
      "text/plain": [
       "<IPython.core.display.Image object>"
      ]
     },
     "metadata": {},
     "output_type": "display_data"
    },
    {
     "name": "stdout",
     "output_type": "stream",
     "text": [
      "https://www.thenaturalsapphirecompany.com/5.54ct-ceylon-sri-lanka-oval-white-sapphire-u12241-/\n",
      "White Sapphire - Oval 5.54 Ct. #U12241\n",
      "Price per length: 554.7044129891757\n",
      "Price: 6662.0\n",
      "Dims: 12.01 x 9.12 x 5.99\n",
      "Color: White\n",
      "Treatments: Heated\n"
     ]
    },
    {
     "data": {
      "text/html": [
       "<img src=\"https://image.thenaturalsapphirecompany.com/nsc/sapphire/u12241/image/certified-natural-ceylon-oval-white-sapphire-5.5400-cts-u12241-1-full.jpg\" width=\"400\"/>"
      ],
      "text/plain": [
       "<IPython.core.display.Image object>"
      ]
     },
     "metadata": {},
     "output_type": "display_data"
    },
    {
     "name": "stdout",
     "output_type": "stream",
     "text": [
      "https://www.thenaturalsapphirecompany.com/2.74ct-ceylon-sri-lanka-oval-peach-sapphire-s16114-/\n",
      "Peach Sapphire - Oval 2.74 Ct. #S16114\n",
      "Price per length: 556.9879518072289\n",
      "Price: 4623.0\n",
      "Dims: 8.3 x 6.25 x 5.97\n",
      "Color: Peach\n",
      "Treatments: No Enhancement\n"
     ]
    },
    {
     "data": {
      "text/html": [
       "<img src=\"https://image.thenaturalsapphirecompany.com/nsc/sapphire/s16114/image/certified-natural-untreated-ceylon(srilanka)-oval-peach-sapphire-2.4400-cts-s16114-1-full.jpg\" width=\"400\"/>"
      ],
      "text/plain": [
       "<IPython.core.display.Image object>"
      ]
     },
     "metadata": {},
     "output_type": "display_data"
    },
    {
     "name": "stdout",
     "output_type": "stream",
     "text": [
      "https://www.thenaturalsapphirecompany.com/2.05ct-ceylon-sri-lanka-round-peach-sapphire-s15507-/\n",
      "Peach Sapphire - Round 2.05 Ct. #S15507\n",
      "Price per length: 563.0229419703104\n",
      "Price: 4172.0\n",
      "Dims: 7.41 x 7.34 x 4.75\n",
      "Color: Peach\n",
      "Treatments: No Enhancement\n"
     ]
    },
    {
     "data": {
      "text/html": [
       "<img src=\"https://image.thenaturalsapphirecompany.com/nsc/sapphire/s15507/image/certified-natural-untreated-ceylon(srilanka)-round-peach-sapphire-2.0500-cts-s15507-1-full.jpg\" width=\"400\"/>"
      ],
      "text/plain": [
       "<IPython.core.display.Image object>"
      ]
     },
     "metadata": {},
     "output_type": "display_data"
    },
    {
     "name": "stdout",
     "output_type": "stream",
     "text": [
      "https://www.thenaturalsapphirecompany.com/3.04ct-ceylon-sri-lanka-cushion-padparadscha-sapphire-s10296-/\n",
      "Padparadscha Sapphire - Cushion 3.04 Ct. #S10296\n",
      "Price per length: 570.3853955375254\n",
      "Price: 5624.0\n",
      "Dims: 9.86 x 7.2 x 4.54\n",
      "Color: Padparadscha (Pinkish-Orange / Orangish-Pink)\n",
      "Treatments: Heated\n"
     ]
    },
    {
     "data": {
      "text/html": [
       "<img src=\"https://image.thenaturalsapphirecompany.com/nsc/sapphire/s10296/image/certified-natural-untreated-ceylon(srilanka)-cushion-padparadscha-sapphire-3.0400-cts-s10296-1-full.jpg\" width=\"400\"/>"
      ],
      "text/plain": [
       "<IPython.core.display.Image object>"
      ]
     },
     "metadata": {},
     "output_type": "display_data"
    },
    {
     "name": "stdout",
     "output_type": "stream",
     "text": [
      "https://www.thenaturalsapphirecompany.com/4.16ct-ceylon-sri-lanka-radiant-peach-sapphire-s17090-/\n",
      "Peach Sapphire - Radiant 4.16 Ct. #S17090\n",
      "Price per length: 571.4851485148515\n",
      "Price: 5772.0\n",
      "Dims: 10.1 x 7.53 x 5.49\n",
      "Color: Peach\n",
      "Treatments: Heated\n"
     ]
    },
    {
     "data": {
      "text/html": [
       "<img src=\"https://image.thenaturalsapphirecompany.com/nsc/sapphire/s17090/image/certified-natural-ceylon(srilanka)-radiant-peach-sapphire-4.1600-cts-s17090-1-full.jpg\" width=\"400\"/>"
      ],
      "text/plain": [
       "<IPython.core.display.Image object>"
      ]
     },
     "metadata": {},
     "output_type": "display_data"
    },
    {
     "name": "stdout",
     "output_type": "stream",
     "text": [
      "https://www.thenaturalsapphirecompany.com/2.01ct-madagascar-oval-padparadscha-sapphire-pa3794-/\n",
      "Padparadscha Sapphire - Oval 2.01 Ct. #PA3794\n",
      "Price per length: 574.7288503253795\n",
      "Price: 5299.0\n",
      "Dims: 9.22 x 7.01 x 3.57\n",
      "Color: Padparadscha (Pinkish-Orange / Orangish-Pink)\n",
      "Treatments: No Enhancement\n"
     ]
    },
    {
     "data": {
      "text/html": [
       "<img src=\"https://image.thenaturalsapphirecompany.com/nsc/sapphire/pa3794/image/certified-natural-untreated-madagascar-oval-padparadscha-sapphire-2.0100-cts-pa3794-1-full.jpg\" width=\"400\"/>"
      ],
      "text/plain": [
       "<IPython.core.display.Image object>"
      ]
     },
     "metadata": {},
     "output_type": "display_data"
    },
    {
     "name": "stdout",
     "output_type": "stream",
     "text": [
      "https://www.thenaturalsapphirecompany.com/1.21ct-madagascar-oval-padparadscha-sapphire-s7924-/\n",
      "Padparadscha Sapphire - Oval 1.21 Ct. #S7924\n",
      "Price per length: 574.7297297297297\n",
      "Price: 4253.0\n",
      "Dims: 7.4 x 5.65 x 3.46\n",
      "Color: Padparadscha (Pinkish-Orange / Orangish-Pink)\n",
      "Treatments: No Enhancement\n"
     ]
    },
    {
     "data": {
      "text/html": [
       "<img src=\"https://image.thenaturalsapphirecompany.com/nsc/sapphire/s7924/image/certified-natural-untreated-ceylon(srilanka)-oval-padparadscha-sapphire-1.2100-cts-s7924-1-full.jpg\" width=\"400\"/>"
      ],
      "text/plain": [
       "<IPython.core.display.Image object>"
      ]
     },
     "metadata": {},
     "output_type": "display_data"
    },
    {
     "name": "stdout",
     "output_type": "stream",
     "text": [
      "https://www.thenaturalsapphirecompany.com/3.18ct-ceylon-sri-lanka-oval-padparadscha-sapphire-pa3881-/\n",
      "Padparadscha Sapphire - Oval 3.18 Ct. #PA3881\n",
      "Price per length: 575.4891864057672\n",
      "Price: 5588.0\n",
      "Dims: 9.71 x 7.25 x 5.37\n",
      "Color: Padparadscha (Pinkish-Orange / Orangish-Pink)\n",
      "Treatments: No Enhancement\n"
     ]
    },
    {
     "data": {
      "text/html": [
       "<img src=\"https://image.thenaturalsapphirecompany.com/nsc/sapphire/pa3881/image/certified-natural-untreated-ceylon-oval-padparadscha-sapphire-2.1800-cts-pa3881-1-full.jpg\" width=\"400\"/>"
      ],
      "text/plain": [
       "<IPython.core.display.Image object>"
      ]
     },
     "metadata": {},
     "output_type": "display_data"
    },
    {
     "name": "stdout",
     "output_type": "stream",
     "text": [
      "https://www.thenaturalsapphirecompany.com/4.56ct-ceylon-sri-lanka-cushion-peach-sapphire-s11836-/\n",
      "Peach Sapphire - Cushion 4.56 Ct. #S11836\n",
      "Price per length: 578.5467128027682\n",
      "Price: 5016.0\n",
      "Dims: 8.67 x 8.44 x 6.2\n",
      "Color: Peach\n",
      "Treatments: No Enhancement\n"
     ]
    },
    {
     "data": {
      "text/html": [
       "<img src=\"https://image.thenaturalsapphirecompany.com/nsc/sapphire/s11836/image/certified-natural-untreated-ceylon(srilanka)-cushion-peach-sapphire-4.5600-cts-s11836-1-full.jpg\" width=\"400\"/>"
      ],
      "text/plain": [
       "<IPython.core.display.Image object>"
      ]
     },
     "metadata": {},
     "output_type": "display_data"
    },
    {
     "name": "stdout",
     "output_type": "stream",
     "text": [
      "https://www.thenaturalsapphirecompany.com/5.02ct-ceylon-sri-lanka-emerald-cut-peach-sapphire-s11359-/\n",
      "Peach Sapphire - Emerald Cut 5.02 Ct. #S11359\n",
      "Price per length: 580.4807692307692\n",
      "Price: 6037.0\n",
      "Dims: 10.4 x 7.78 x 6.1\n",
      "Color: Peach\n",
      "Treatments: No Enhancement\n"
     ]
    },
    {
     "data": {
      "text/html": [
       "<img src=\"https://image.thenaturalsapphirecompany.com/nsc/sapphire/s11359/image/certified-natural-untreated-ceylon(srilanka)-emerald-peach(yellow-orange)-sapphire-5.0200-cts-s11359-1-full.jpg\" width=\"400\"/>"
      ],
      "text/plain": [
       "<IPython.core.display.Image object>"
      ]
     },
     "metadata": {},
     "output_type": "display_data"
    },
    {
     "name": "stdout",
     "output_type": "stream",
     "text": [
      "https://www.thenaturalsapphirecompany.com/2.50ct-madagascar-oval-peach-sapphire-u13272-/\n",
      "Peach Sapphire - Oval 2.50 Ct. #U13272\n",
      "Price per length: 581.4857142857143\n",
      "Price: 5088.0\n",
      "Dims: 8.75 x 6.3 x 5.18\n",
      "Color: Peach\n",
      "Treatments: No Enhancement\n"
     ]
    },
    {
     "data": {
      "text/html": [
       "<img src=\"https://image.thenaturalsapphirecompany.com/nsc/sapphire/u13272/image/certified-natural-untreated-madagascar-oval-peach-sapphire-2.5000-cts-u13272-1-full.jpg\" width=\"400\"/>"
      ],
      "text/plain": [
       "<IPython.core.display.Image object>"
      ]
     },
     "metadata": {},
     "output_type": "display_data"
    },
    {
     "name": "stdout",
     "output_type": "stream",
     "text": [
      "https://www.thenaturalsapphirecompany.com/1.09ct-ceylon-sri-lanka-cushion-padparadscha-sapphire-s17518-/\n",
      "Padparadscha Sapphire - Cushion 1.09 Ct. #S17518\n",
      "Price per length: 583.596214511041\n",
      "Price: 3700.0\n",
      "Dims: 6.34 x 5.68 x 3.17\n",
      "Color: Padparadscha (Pinkish-Orange / Orangish-Pink)\n",
      "Treatments: No Enhancement\n"
     ]
    },
    {
     "data": {
      "text/html": [
       "<img src=\"https://image.thenaturalsapphirecompany.com/nsc/sapphire/s17518/image/certified-natural-untreated-ceylon(srilanka)-cushion-padparadscha-sapphire-1.0900-cts-s17518-1-full.jpg\" width=\"400\"/>"
      ],
      "text/plain": [
       "<IPython.core.display.Image object>"
      ]
     },
     "metadata": {},
     "output_type": "display_data"
    },
    {
     "name": "stdout",
     "output_type": "stream",
     "text": [
      "https://www.thenaturalsapphirecompany.com/4.07ct-ceylon-sri-lanka-round-white-sapphire-s7235-/\n",
      "White Sapphire - Round 4.07 Ct. #S7235\n",
      "Price per length: 598.1991525423729\n",
      "Price: 5647.0\n",
      "Dims: 9.44 x 9.3 x 6.03\n",
      "Color: White\n",
      "Treatments: No Enhancement\n"
     ]
    },
    {
     "data": {
      "text/html": [
       "<img src=\"https://image.thenaturalsapphirecompany.com/nsc/sapphire/s7235/image/certified-natural-untreated-ceylon(srilanka)-round-white-sapphire-4.0700-cts-s7235-1-full.jpg\" width=\"400\"/>"
      ],
      "text/plain": [
       "<IPython.core.display.Image object>"
      ]
     },
     "metadata": {},
     "output_type": "display_data"
    },
    {
     "name": "stdout",
     "output_type": "stream",
     "text": [
      "https://www.thenaturalsapphirecompany.com/1.60ct-ceylon-sri-lanka-oval-padparadscha-sapphire-s7855-/\n",
      "Padparadscha Sapphire - Oval 1.60 Ct. #S7855\n",
      "Price per length: 598.3827493261456\n",
      "Price: 4440.0\n",
      "Dims: 7.42 x 6.12 x 3.88\n",
      "Color: Padparadscha (Pinkish-Orange / Orangish-Pink)\n",
      "Treatments: Heated\n"
     ]
    },
    {
     "data": {
      "text/html": [
       "<img src=\"https://image.thenaturalsapphirecompany.com/nsc/sapphire/s7855/image/certified-natural-ceylon(srilanka)-oval-padparadscha-sapphire-1.6000-cts-s7855-1-full.jpg\" width=\"400\"/>"
      ],
      "text/plain": [
       "<IPython.core.display.Image object>"
      ]
     },
     "metadata": {},
     "output_type": "display_data"
    },
    {
     "name": "stdout",
     "output_type": "stream",
     "text": [
      "https://www.thenaturalsapphirecompany.com/1.02ct-ceylon-sri-lanka-oval-padparadscha-sapphire-s14156-/\n",
      "Padparadscha Sapphire - Oval 1.02 Ct. #S14156\n",
      "Price per length: 598.6404833836858\n",
      "Price: 3963.0\n",
      "Dims: 6.62 x 5.4 x 3.47\n",
      "Color: Padparadscha (Pinkish-Orange / Orangish-Pink)\n",
      "Treatments: No Enhancement\n"
     ]
    },
    {
     "data": {
      "text/html": [
       "<img src=\"https://image.thenaturalsapphirecompany.com/nsc/sapphire/s14156/image/certified-natural-untreated-ceylon(srilanka)-oval-padparadscha-sapphire-1.0200-cts-s14156-1-full.jpg\" width=\"400\"/>"
      ],
      "text/plain": [
       "<IPython.core.display.Image object>"
      ]
     },
     "metadata": {},
     "output_type": "display_data"
    },
    {
     "name": "stdout",
     "output_type": "stream",
     "text": [
      "https://www.thenaturalsapphirecompany.com/4.09ct-ceylon-sri-lanka-emerald-cut-peach-sapphire-s11358-/\n",
      "Peach Sapphire - Emerald Cut 4.09 Ct. #S11358\n",
      "Price per length: 601.1652542372882\n",
      "Price: 5675.0\n",
      "Dims: 9.44 x 8.07 x 5.47\n",
      "Color: Peach\n",
      "Treatments: No Enhancement\n"
     ]
    },
    {
     "data": {
      "text/html": [
       "<img src=\"https://image.thenaturalsapphirecompany.com/nsc/sapphire/s11358/image/certified-natural-untreated-ceylon(srilanka)-emerald-peach(yellow-orange)-sapphire-4.0900-cts-s11358-1-full.jpg\" width=\"400\"/>"
      ],
      "text/plain": [
       "<IPython.core.display.Image object>"
      ]
     },
     "metadata": {},
     "output_type": "display_data"
    },
    {
     "name": "stdout",
     "output_type": "stream",
     "text": [
      "https://www.thenaturalsapphirecompany.com/4.55ct-ceylon-sri-lanka-radiant-white-sapphire-u13286-/\n",
      "White Sapphire - Radiant 4.55 Ct. #U13286\n",
      "Price per length: 611.9686800894855\n",
      "Price: 5471.0\n",
      "Dims: 8.94 x 8.78 x 6.3\n",
      "Color: White\n",
      "Treatments: Heated\n"
     ]
    },
    {
     "data": {
      "text/html": [
       "<img src=\"https://image.thenaturalsapphirecompany.com/nsc/sapphire/u13286/image/certified-natural-ceylon-radiant-white-sapphire-4.5500-cts-u13286-1-full.jpg\" width=\"400\"/>"
      ],
      "text/plain": [
       "<IPython.core.display.Image object>"
      ]
     },
     "metadata": {},
     "output_type": "display_data"
    },
    {
     "name": "stdout",
     "output_type": "stream",
     "text": [
      "https://www.thenaturalsapphirecompany.com/5.07ct-ceylon-sri-lanka-pear-white-sapphire-s11684-/\n",
      "White Sapphire - Pear 5.07 Ct. #S11684\n",
      "Price per length: 616.6279969064192\n",
      "Price: 7973.0\n",
      "Dims: 12.93 x 8.73 x 5.78\n",
      "Color: White\n",
      "Treatments: Heated\n"
     ]
    },
    {
     "data": {
      "text/html": [
       "<img src=\"https://image.thenaturalsapphirecompany.com/nsc/sapphire/s11684/image/certified-natural-ceylon(srilanka)-pear-white-sapphire-5.0700-cts-s11684-1-full.jpg\" width=\"400\"/>"
      ],
      "text/plain": [
       "<IPython.core.display.Image object>"
      ]
     },
     "metadata": {},
     "output_type": "display_data"
    },
    {
     "name": "stdout",
     "output_type": "stream",
     "text": [
      "https://www.thenaturalsapphirecompany.com/6.83ct-ceylon-sri-lanka-pear-white-sapphire-u14624-/\n",
      "White Sapphire - Pear 6.83 Ct. #U14624\n",
      "Price per length: 617.6675977653631\n",
      "Price: 8845.0\n",
      "Dims: 14.32 x 10.22 x 6.45\n",
      "Color: White\n",
      "Treatments: Heated\n"
     ]
    },
    {
     "data": {
      "text/html": [
       "<img src=\"https://image.thenaturalsapphirecompany.com/nsc/sapphire/u14624/image/certified-natural-ceylon-pear-white-sapphire-5.2000-cts-u14624-1-full.jpg\" width=\"400\"/>"
      ],
      "text/plain": [
       "<IPython.core.display.Image object>"
      ]
     },
     "metadata": {},
     "output_type": "display_data"
    },
    {
     "name": "stdout",
     "output_type": "stream",
     "text": [
      "https://www.thenaturalsapphirecompany.com/4.32ct-ceylon-sri-lanka-emerald-cut-white-sapphire-s8070-/\n",
      "White Sapphire - Emerald Cut 4.32 Ct. #S8070\n",
      "Price per length: 618.3752417794971\n",
      "Price: 6394.0\n",
      "Dims: 10.34 x 8.23 x 4.91\n",
      "Color: White\n",
      "Treatments: Heated\n"
     ]
    },
    {
     "data": {
      "text/html": [
       "<img src=\"https://image.thenaturalsapphirecompany.com/nsc/sapphire/s8070/image/certified-natural-ceylon(srilanka)-emerald-white-sapphire-4.3200-cts-s8070-1-full.jpg\" width=\"400\"/>"
      ],
      "text/plain": [
       "<IPython.core.display.Image object>"
      ]
     },
     "metadata": {},
     "output_type": "display_data"
    },
    {
     "name": "stdout",
     "output_type": "stream",
     "text": [
      "https://www.thenaturalsapphirecompany.com/6.16ct-ceylon-sri-lanka-oval-peach-sapphire-u15137-/\n",
      "Peach Sapphire - Oval 6.16 Ct. #U15137\n",
      "Price per length: 620.4673650282031\n",
      "Price: 7700.0\n",
      "Dims: 12.41 x 9.45 x 6.66\n",
      "Color: Peach\n",
      "Treatments: No Enhancement\n"
     ]
    },
    {
     "data": {
      "text/html": [
       "<img src=\"https://image.thenaturalsapphirecompany.com/nsc/sapphire/u15137/image/certified-natural-untreated-ceylon(srilanka)-oval-peach-sapphire-6.1600-cts-u15137-1-full.jpg\" width=\"400\"/>"
      ],
      "text/plain": [
       "<IPython.core.display.Image object>"
      ]
     },
     "metadata": {},
     "output_type": "display_data"
    },
    {
     "name": "stdout",
     "output_type": "stream",
     "text": [
      "https://www.thenaturalsapphirecompany.com/3.24ct-ceylon-sri-lanka-cushion-peach-sapphire-u13229-/\n",
      "Peach Sapphire - Cushion 3.24 Ct. #U13229\n",
      "Price per length: 627.0925110132158\n",
      "Price: 5694.0\n",
      "Dims: 9.08 x 7.58 x 5.18\n",
      "Color: Peach\n",
      "Treatments: No Enhancement\n"
     ]
    },
    {
     "data": {
      "text/html": [
       "<img src=\"https://image.thenaturalsapphirecompany.com/nsc/sapphire/u13229/image/certified-natural-untreated-ceylon-cushion-peach-sapphire-3.2400-cts-u13229-1-full.jpg\" width=\"400\"/>"
      ],
      "text/plain": [
       "<IPython.core.display.Image object>"
      ]
     },
     "metadata": {},
     "output_type": "display_data"
    },
    {
     "name": "stdout",
     "output_type": "stream",
     "text": [
      "https://www.thenaturalsapphirecompany.com/7.23ct-ceylon-sri-lanka-radiant-white-sapphire-u9092-/\n",
      "White Sapphire - Radiant 7.23 Ct. #U9092\n",
      "Price per length: 635.8954041204438\n",
      "Price: 8025.0\n",
      "Dims: 12.62 x 8.89 x 6.73\n",
      "Color: White\n",
      "Treatments: Heated\n"
     ]
    },
    {
     "data": {
      "text/html": [
       "<img src=\"https://image.thenaturalsapphirecompany.com/nsc/sapphire/u9092/image/certified-natural-ceylon-radiant-white-sapphire-7.2300-cts-u9092-1-full.jpg\" width=\"400\"/>"
      ],
      "text/plain": [
       "<IPython.core.display.Image object>"
      ]
     },
     "metadata": {},
     "output_type": "display_data"
    },
    {
     "name": "stdout",
     "output_type": "stream",
     "text": [
      "https://www.thenaturalsapphirecompany.com/3.01ct-ceylon-sri-lanka-cushion-white-sapphire-s17069-/\n",
      "White Sapphire - Cushion 3.01 Ct. #S17069\n",
      "Price per length: 642.3298731257208\n",
      "Price: 5569.0\n",
      "Dims: 8.67 x 6.52 x 5.48\n",
      "Color: White\n",
      "Treatments: No Enhancement\n"
     ]
    },
    {
     "data": {
      "text/html": [
       "<img src=\"https://image.thenaturalsapphirecompany.com/nsc/sapphire/s17069/image/certified-natural-untreated-ceylon(srilanka)-cushion-pink-sapphire-3.0100-cts-s17069-1-full.jpg\" width=\"400\"/>"
      ],
      "text/plain": [
       "<IPython.core.display.Image object>"
      ]
     },
     "metadata": {},
     "output_type": "display_data"
    },
    {
     "name": "stdout",
     "output_type": "stream",
     "text": [
      "https://www.thenaturalsapphirecompany.com/1.13ct-madagascar-cushion-padparadscha-sapphire-s7835-/\n",
      "Padparadscha Sapphire - Cushion 1.13 Ct. #S7835\n",
      "Price per length: 649.223602484472\n",
      "Price: 4181.0\n",
      "Dims: 6.44 x 5.98 x 3.18\n",
      "Color: Padparadscha (Pinkish-Orange / Orangish-Pink)\n",
      "Treatments: No Enhancement\n"
     ]
    },
    {
     "data": {
      "text/html": [
       "<img src=\"https://image.thenaturalsapphirecompany.com/nsc/sapphire/s7835/image/certified-natural-untreated-madagascar-cushion-padparadscha-sapphire-1.1300-cts-s7835-1-full.jpg\" width=\"400\"/>"
      ],
      "text/plain": [
       "<IPython.core.display.Image object>"
      ]
     },
     "metadata": {},
     "output_type": "display_data"
    },
    {
     "name": "stdout",
     "output_type": "stream",
     "text": [
      "https://www.thenaturalsapphirecompany.com/4.58ct-ceylon-sri-lanka-oval-peach-sapphire-u15484-/\n",
      "Peach Sapphire - Oval 4.58 Ct. #U15484\n",
      "Price per length: 655.5125725338492\n",
      "Price: 6778.0\n",
      "Dims: 10.34 x 8.67 x 6.29\n",
      "Color: Peach\n",
      "Treatments: No Enhancement\n"
     ]
    },
    {
     "data": {
      "text/html": [
       "<img src=\"https://image.thenaturalsapphirecompany.com/nsc/sapphire/u15484/image/certified-natural-untreated-ceylon(srilanka)-oval-peach-sapphire-4.5800-cts-u15484-1-full.jpg\" width=\"400\"/>"
      ],
      "text/plain": [
       "<IPython.core.display.Image object>"
      ]
     },
     "metadata": {},
     "output_type": "display_data"
    },
    {
     "name": "stdout",
     "output_type": "stream",
     "text": [
      "https://www.thenaturalsapphirecompany.com/1.14ct-madagascar-cushion-padparadscha-sapphire-pa4121-/\n",
      "Padparadscha Sapphire - Cushion 1.14 Ct. #PA4121\n",
      "Price per length: 655.9875583203733\n",
      "Price: 4218.0\n",
      "Dims: 6.43 x 5.35 x 3.5\n",
      "Color: Padparadscha (Pinkish-Orange / Orangish-Pink)\n",
      "Treatments: No Enhancement\n"
     ]
    },
    {
     "data": {
      "text/html": [
       "<img src=\"https://image.thenaturalsapphirecompany.com/nsc/sapphire/pa4121/image/certified-natural-untreated-madagascar-cushion-padparadscha-sapphire-1.1400-cts-pa4121-1-full.jpg\" width=\"400\"/>"
      ],
      "text/plain": [
       "<IPython.core.display.Image object>"
      ]
     },
     "metadata": {},
     "output_type": "display_data"
    },
    {
     "name": "stdout",
     "output_type": "stream",
     "text": [
      "https://www.thenaturalsapphirecompany.com/1.11ct-ceylon-sri-lanka-cushion-padparadscha-sapphire-s10033-/\n",
      "Padparadscha Sapphire - Cushion 1.11 Ct. #S10033\n",
      "Price per length: 660.4958677685951\n",
      "Price: 3996.0\n",
      "Dims: 6.05 x 6.0 x 3.46\n",
      "Color: Padparadscha (Pinkish-Orange / Orangish-Pink)\n",
      "Treatments: No Enhancement\n"
     ]
    },
    {
     "data": {
      "text/html": [
       "<img src=\"https://image.thenaturalsapphirecompany.com/nsc/sapphire/s10033/image/certified-natural-untreated-ceylon(srilanka)-cushion-padparadscha-sapphire-1.1100-cts-s10033-1-full.jpg\" width=\"400\"/>"
      ],
      "text/plain": [
       "<IPython.core.display.Image object>"
      ]
     },
     "metadata": {},
     "output_type": "display_data"
    },
    {
     "name": "stdout",
     "output_type": "stream",
     "text": [
      "https://www.thenaturalsapphirecompany.com/1.44ct-east-africa-oval-padparadscha-sapphire-s4387-/\n",
      "Padparadscha Sapphire - Oval 1.44 Ct. #S4387\n",
      "Price per length: 673.1382978723404\n",
      "Price: 5062.0\n",
      "Dims: 7.52 x 5.34 x 3.96\n",
      "Color: Padparadscha (Pinkish-Orange / Orangish-Pink)\n",
      "Treatments: Heated\n"
     ]
    },
    {
     "data": {
      "text/html": [
       "<img src=\"https://image.thenaturalsapphirecompany.com/nsc/sapphire/s4387/image/certified-natural-eastafrica-oval-padparadscha-sapphire-1.4400-cts-s4387-1-full.jpg\" width=\"400\"/>"
      ],
      "text/plain": [
       "<IPython.core.display.Image object>"
      ]
     },
     "metadata": {},
     "output_type": "display_data"
    },
    {
     "name": "stdout",
     "output_type": "stream",
     "text": [
      "https://www.thenaturalsapphirecompany.com/9.30ct-ceylon-sri-lanka-cushion-white-sapphire-u8468-/\n",
      "White Sapphire - Cushion 9.30 Ct. #U8468\n",
      "Price per length: 678.4328358208955\n",
      "Price: 9091.0\n",
      "Dims: 13.4 x 10.28 x 6.8\n",
      "Color: White\n",
      "Treatments: No Enhancement\n"
     ]
    },
    {
     "data": {
      "text/html": [
       "<img src=\"https://image.thenaturalsapphirecompany.com/nsc/sapphire/u8468/image/certified-natural-untreated-ceylon-cushion-white-sapphire-9.3000-cts-u8468-1-full.jpg\" width=\"400\"/>"
      ],
      "text/plain": [
       "<IPython.core.display.Image object>"
      ]
     },
     "metadata": {},
     "output_type": "display_data"
    },
    {
     "name": "stdout",
     "output_type": "stream",
     "text": [
      "https://www.thenaturalsapphirecompany.com/2.01ct-ceylon-sri-lanka-oval-padparadscha-sapphire-s14331-/\n",
      "Padparadscha Sapphire - Oval 2.01 Ct. #S14331\n",
      "Price per length: 681.6687737041719\n",
      "Price: 5392.0\n",
      "Dims: 7.91 x 7.15 x 4.3\n",
      "Color: Padparadscha (Pinkish-Orange / Orangish-Pink)\n",
      "Treatments: Heated\n"
     ]
    },
    {
     "data": {
      "text/html": [
       "<img src=\"https://image.thenaturalsapphirecompany.com/nsc/sapphire/s14331/image/certified-natural-ceylon(srilanka)-oval-padparadscha-sapphire-2.0100-cts-s14331-1-full.jpg\" width=\"400\"/>"
      ],
      "text/plain": [
       "<IPython.core.display.Image object>"
      ]
     },
     "metadata": {},
     "output_type": "display_data"
    },
    {
     "name": "stdout",
     "output_type": "stream",
     "text": [
      "https://www.thenaturalsapphirecompany.com/2.07ct-madagascar-cushion-padparadscha-sapphire-pa3592-/\n",
      "Padparadscha Sapphire - Cushion 2.07 Ct. #PA3592\n",
      "Price per length: 703.5433070866142\n",
      "Price: 5361.0\n",
      "Dims: 7.62 x 7.56 x 3.86\n",
      "Color: Padparadscha (Pinkish-Orange / Orangish-Pink)\n",
      "Treatments: No Enhancement\n"
     ]
    },
    {
     "data": {
      "text/html": [
       "<img src=\"https://image.thenaturalsapphirecompany.com/nsc/sapphire/pa3592/image/certified-natural-untreated-madagascar-cushion-padparadscha-sapphire-2.0700-cts-pa3592-1-full.jpg\" width=\"400\"/>"
      ],
      "text/plain": [
       "<IPython.core.display.Image object>"
      ]
     },
     "metadata": {},
     "output_type": "display_data"
    },
    {
     "name": "stdout",
     "output_type": "stream",
     "text": [
      "https://www.thenaturalsapphirecompany.com/5.02ct-ceylon-sri-lanka-emerald-cut-peach-sapphire-u15483-/\n",
      "Peach Sapphire - Emerald Cut 5.02 Ct. #U15483\n",
      "Price per length: 704.1594454072791\n",
      "Price: 8126.0\n",
      "Dims: 11.54 x 8.52 x 4.98\n",
      "Color: Peach\n",
      "Treatments: No Enhancement\n"
     ]
    },
    {
     "data": {
      "text/html": [
       "<img src=\"https://image.thenaturalsapphirecompany.com/nsc/sapphire/u15483/image/certified-natural-untreated-ceylon(srilanka)-emeraldcut-peach-sapphire-5.0200-cts-u15483-1-full.jpg\" width=\"400\"/>"
      ],
      "text/plain": [
       "<IPython.core.display.Image object>"
      ]
     },
     "metadata": {},
     "output_type": "display_data"
    },
    {
     "name": "stdout",
     "output_type": "stream",
     "text": [
      "https://www.thenaturalsapphirecompany.com/1.63ct-ceylon-sri-lanka-cushion-padparadscha-sapphire-s13810-/\n",
      "Padparadscha Sapphire - Cushion 1.63 Ct. #S13810\n",
      "Price per length: 715.1515151515151\n",
      "Price: 5428.0\n",
      "Dims: 7.59 x 5.59 x 4.08\n",
      "Color: Padparadscha (Pinkish-Orange / Orangish-Pink)\n",
      "Treatments: Heated\n"
     ]
    },
    {
     "data": {
      "text/html": [
       "<img src=\"https://image.thenaturalsapphirecompany.com/nsc/sapphire/s13810/image/certified-natural-ceylon(srilanka)-cushion-padparadscha-sapphire-1.6300-cts-s13810-1-full.jpg\" width=\"400\"/>"
      ],
      "text/plain": [
       "<IPython.core.display.Image object>"
      ]
     },
     "metadata": {},
     "output_type": "display_data"
    },
    {
     "name": "stdout",
     "output_type": "stream",
     "text": [
      "https://www.thenaturalsapphirecompany.com/1.61ct-madagascar-cushion-padparadscha-sapphire-s4645-/\n",
      "Padparadscha Sapphire - Cushion 1.61 Ct. #S4645\n",
      "Price per length: 716.124469589816\n",
      "Price: 5063.0\n",
      "Dims: 7.07 x 6.89 x 3.63\n",
      "Color: Padparadscha (Pinkish-Orange / Orangish-Pink)\n",
      "Treatments: No Enhancement\n"
     ]
    },
    {
     "data": {
      "text/html": [
       "<img src=\"https://image.thenaturalsapphirecompany.com/nsc/sapphire/s4645/image/certified-natural-untreated-madagascar-cushion-padparadscha-sapphire-1.6100-cts-s4645-1-full.jpg\" width=\"400\"/>"
      ],
      "text/plain": [
       "<IPython.core.display.Image object>"
      ]
     },
     "metadata": {},
     "output_type": "display_data"
    },
    {
     "name": "stdout",
     "output_type": "stream",
     "text": [
      "https://www.thenaturalsapphirecompany.com/5.39ct-ceylon-sri-lanka-round-white-sapphire-u12091-/\n",
      "White Sapphire - Round 5.39 Ct. #U12091\n",
      "Price per length: 717.7543186180422\n",
      "Price: 7479.0\n",
      "Dims: 10.42 x 10.37 x 6.43\n",
      "Color: White\n",
      "Treatments: No Enhancement\n"
     ]
    },
    {
     "data": {
      "text/html": [
       "<img src=\"https://image.thenaturalsapphirecompany.com/nsc/sapphire/u12091/image/certified-natural-untreated-ceylon-round-white-sapphire-5.3900-cts-u12091-1-full.jpg\" width=\"400\"/>"
      ],
      "text/plain": [
       "<IPython.core.display.Image object>"
      ]
     },
     "metadata": {},
     "output_type": "display_data"
    },
    {
     "name": "stdout",
     "output_type": "stream",
     "text": [
      "https://www.thenaturalsapphirecompany.com/4.80ct-ceylon-sri-lanka-radiant-white-sapphire-u9116-/\n",
      "White Sapphire - Radiant 4.80 Ct. #U9116\n",
      "Price per length: 727.0175438596491\n",
      "Price: 6216.0\n",
      "Dims: 8.55 x 8.3 x 7.13\n",
      "Color: White\n",
      "Treatments: Heated\n"
     ]
    },
    {
     "data": {
      "text/html": [
       "<img src=\"https://image.thenaturalsapphirecompany.com/nsc/sapphire/u9116/image/certified-natural-ceylon-radiant-white-sapphire-4.8000-cts-u9116-1-full.jpg\" width=\"400\"/>"
      ],
      "text/plain": [
       "<IPython.core.display.Image object>"
      ]
     },
     "metadata": {},
     "output_type": "display_data"
    },
    {
     "name": "stdout",
     "output_type": "stream",
     "text": [
      "https://www.thenaturalsapphirecompany.com/4.99ct-ceylon-sri-lanka-round-peach-sapphire-u15317-/\n",
      "Peach Sapphire - Round 4.99 Ct. #U15317\n",
      "Price per length: 731.1510031678986\n",
      "Price: 6924.0\n",
      "Dims: 9.47 x 9.3 x 7.21\n",
      "Color: Peach\n",
      "Treatments: No Enhancement\n"
     ]
    },
    {
     "data": {
      "text/html": [
       "<img src=\"https://image.thenaturalsapphirecompany.com/nsc/sapphire/u15317/image/certified-natural-untreated-ceylon(srilanka)-round-peach-sapphire-4.9900-cts-u15317-1-full.jpg\" width=\"400\"/>"
      ],
      "text/plain": [
       "<IPython.core.display.Image object>"
      ]
     },
     "metadata": {},
     "output_type": "display_data"
    },
    {
     "name": "stdout",
     "output_type": "stream",
     "text": [
      "https://www.thenaturalsapphirecompany.com/1.72ct-ceylon-sri-lanka-oval-padparadscha-sapphire-pa3677-/\n",
      "Padparadscha Sapphire - Oval 1.72 Ct. #PA3677\n",
      "Price per length: 733.1797235023042\n",
      "Price: 6364.0\n",
      "Dims: 8.68 x 6.07 x 3.66\n",
      "Color: Padparadscha (Pinkish-Orange / Orangish-Pink)\n",
      "Treatments: Heated\n"
     ]
    },
    {
     "data": {
      "text/html": [
       "<img src=\"https://image.thenaturalsapphirecompany.com/nsc/sapphire/pa3677/image/certified-natural-ceylon-oval-padparadscha-sapphire-1.7200-cts-pa3677-1-full.jpg\" width=\"400\"/>"
      ],
      "text/plain": [
       "<IPython.core.display.Image object>"
      ]
     },
     "metadata": {},
     "output_type": "display_data"
    },
    {
     "name": "stdout",
     "output_type": "stream",
     "text": [
      "https://www.thenaturalsapphirecompany.com/2.48ct-ceylon-sri-lanka-cushion-peach-sapphire-u16694-/\n",
      "Peach Sapphire - Cushion 2.48 Ct. #U16694\n",
      "Price per length: 743.0093209054594\n",
      "Price: 5580.0\n",
      "Dims: 7.51 x 6.95 x 5.4\n",
      "Color: Peach\n",
      "Treatments: No Enhancement\n"
     ]
    },
    {
     "data": {
      "text/html": [
       "<img src=\"https://image.thenaturalsapphirecompany.com/nsc/sapphire/u16694/image/certified-natural-untreated-ceylon(srilanka)-cushion-peach-sapphire-2.4800-cts-u16694-1-full.jpg\" width=\"400\"/>"
      ],
      "text/plain": [
       "<IPython.core.display.Image object>"
      ]
     },
     "metadata": {},
     "output_type": "display_data"
    },
    {
     "name": "stdout",
     "output_type": "stream",
     "text": [
      "https://www.thenaturalsapphirecompany.com/2.06ct-madagascar-cushion-padparadscha-sapphire-pa4032-/\n",
      "Padparadscha Sapphire - Cushion 2.06 Ct. #PA4032\n",
      "Price per length: 743.2624113475176\n",
      "Price: 6288.0\n",
      "Dims: 8.46 x 6.31 x 4.05\n",
      "Color: Padparadscha (Pinkish-Orange / Orangish-Pink)\n",
      "Treatments: No Enhancement\n"
     ]
    },
    {
     "data": {
      "text/html": [
       "<img src=\"https://image.thenaturalsapphirecompany.com/nsc/sapphire/pa4032/image/certified-natural-untreated-madagascar-cushion-padparadscha-sapphire-2.0600-cts-pa4032-1-full.jpg\" width=\"400\"/>"
      ],
      "text/plain": [
       "<IPython.core.display.Image object>"
      ]
     },
     "metadata": {},
     "output_type": "display_data"
    },
    {
     "name": "stdout",
     "output_type": "stream",
     "text": [
      "https://www.thenaturalsapphirecompany.com/4.05ct-ceylon-sri-lanka-cushion-peach-sapphire-s10938-/\n",
      "Peach Sapphire - Cushion 4.05 Ct. #S10938\n",
      "Price per length: 749.2222222222222\n",
      "Price: 6743.0\n",
      "Dims: 9.0 x 8.78 x 5.49\n",
      "Color: Peach\n",
      "Treatments: No Enhancement\n"
     ]
    },
    {
     "data": {
      "text/html": [
       "<img src=\"https://image.thenaturalsapphirecompany.com/nsc/sapphire/s10938/image/certified-natural-untreated-ceylon(srilanka)-cushion-peach-sapphire-4.0500-cts-s10938-1-full.jpg\" width=\"400\"/>"
      ],
      "text/plain": [
       "<IPython.core.display.Image object>"
      ]
     },
     "metadata": {},
     "output_type": "display_data"
    },
    {
     "name": "stdout",
     "output_type": "stream",
     "text": [
      "https://www.thenaturalsapphirecompany.com/2.03ct-ceylon-sri-lanka-radiant-padparadscha-sapphire-s17465-/\n",
      "Padparadscha Sapphire - Radiant 2.03 Ct. #S17465\n",
      "Price per length: 752.8301886792452\n",
      "Price: 6384.0\n",
      "Dims: 8.48 x 5.66 x 4.12\n",
      "Color: Padparadscha (Pinkish-Orange / Orangish-Pink)\n",
      "Treatments: No Enhancement\n"
     ]
    },
    {
     "data": {
      "text/html": [
       "<img src=\"https://image.thenaturalsapphirecompany.com/nsc/sapphire/s17465/image/certified-natural-untreated-ceylon(srilanka)-radiant-padparadscha-sapphire-2.0300-cts-s17465-1-full.jpg\" width=\"400\"/>"
      ],
      "text/plain": [
       "<IPython.core.display.Image object>"
      ]
     },
     "metadata": {},
     "output_type": "display_data"
    },
    {
     "name": "stdout",
     "output_type": "stream",
     "text": [
      "https://www.thenaturalsapphirecompany.com/4.53ct-ceylon-sri-lanka-round-peach-sapphire-s16952-/\n",
      "Peach Sapphire - Round 4.53 Ct. #S16952\n",
      "Price per length: 773.3984799131379\n",
      "Price: 7123.0\n",
      "Dims: 9.21 x 9.24 x 6.67\n",
      "Color: Peach\n",
      "Treatments: Heated\n"
     ]
    },
    {
     "data": {
      "text/html": [
       "<img src=\"https://image.thenaturalsapphirecompany.com/nsc/sapphire/s16952/image/certified-natural-ceylon(srilanka)-round-peach-sapphire-4.5300-cts-s16952-1-full.jpg\" width=\"400\"/>"
      ],
      "text/plain": [
       "<IPython.core.display.Image object>"
      ]
     },
     "metadata": {},
     "output_type": "display_data"
    },
    {
     "name": "stdout",
     "output_type": "stream",
     "text": [
      "https://www.thenaturalsapphirecompany.com/8.03ct-ceylon-sri-lanka-pear-white-sapphire-s17085-/\n",
      "White Sapphire - Pear 8.03 Ct. #S17085\n",
      "Price per length: 780.2958977807667\n",
      "Price: 11603.0\n",
      "Dims: 14.87 x 9.74 x 6.91\n",
      "Color: White\n",
      "Treatments: Heated\n"
     ]
    },
    {
     "data": {
      "text/html": [
       "<img src=\"https://image.thenaturalsapphirecompany.com/nsc/sapphire/s17085/image/certified-natural-ceylon(srilanka)-pear-white-sapphire-8.0300-cts-s17085-1-full.jpg\" width=\"400\"/>"
      ],
      "text/plain": [
       "<IPython.core.display.Image object>"
      ]
     },
     "metadata": {},
     "output_type": "display_data"
    },
    {
     "name": "stdout",
     "output_type": "stream",
     "text": [
      "https://www.thenaturalsapphirecompany.com/5.15ct-madagascar-cushion-peach-sapphire-u16192-/\n",
      "Peach Sapphire - Cushion 5.15 Ct. #U16192\n",
      "Price per length: 781.6062176165804\n",
      "Price: 9051.0\n",
      "Dims: 11.58 x 9.48 x 5.26\n",
      "Color: Peach\n",
      "Treatments: No Enhancement\n"
     ]
    },
    {
     "data": {
      "text/html": [
       "<img src=\"https://image.thenaturalsapphirecompany.com/nsc/sapphire/u16192/image/certified-natural-untreated-madagascar-cushion-peach-sapphire-5.1500-cts-u16192-1-full.jpg\" width=\"400\"/>"
      ],
      "text/plain": [
       "<IPython.core.display.Image object>"
      ]
     },
     "metadata": {},
     "output_type": "display_data"
    },
    {
     "name": "stdout",
     "output_type": "stream",
     "text": [
      "https://www.thenaturalsapphirecompany.com/4.01ct-ceylon-sri-lanka-asscher-octagon-white-sapphire-s14855-/\n",
      "White Sapphire - Asscher - Octagon 4.01 Ct. #S14855\n",
      "Price per length: 783.6854460093897\n",
      "Price: 6677.0\n",
      "Dims: 8.52 x 7.89 x 6.04\n",
      "Color: White\n",
      "Treatments: No Enhancement\n"
     ]
    },
    {
     "data": {
      "text/html": [
       "<img src=\"https://image.thenaturalsapphirecompany.com/nsc/sapphire/s14855/image/certified-natural-untreated-ceylon(srilanka)-emeraldcut-white-sapphire-4.0100-cts-s14855-1-full.jpg\" width=\"400\"/>"
      ],
      "text/plain": [
       "<IPython.core.display.Image object>"
      ]
     },
     "metadata": {},
     "output_type": "display_data"
    },
    {
     "name": "stdout",
     "output_type": "stream",
     "text": [
      "https://www.thenaturalsapphirecompany.com/6.06ct-ceylon-sri-lanka-asscher-octagon-white-sapphire-u13213-/\n",
      "White Sapphire - Asscher - Octagon 6.06 Ct. #U13213\n",
      "Price per length: 784.9585062240664\n",
      "Price: 7567.0\n",
      "Dims: 9.64 x 9.61 x 6.65\n",
      "Color: White\n",
      "Treatments: Heated\n"
     ]
    },
    {
     "data": {
      "text/html": [
       "<img src=\"https://image.thenaturalsapphirecompany.com/nsc/sapphire/u13213/image/certified-natural-ceylon-asscher-white-sapphire-6.0600-cts-u13213-1-full.jpg\" width=\"400\"/>"
      ],
      "text/plain": [
       "<IPython.core.display.Image object>"
      ]
     },
     "metadata": {},
     "output_type": "display_data"
    },
    {
     "name": "stdout",
     "output_type": "stream",
     "text": [
      "https://www.thenaturalsapphirecompany.com/1.74ct-ceylon-sri-lanka-oval-padparadscha-sapphire-pa3310-/\n",
      "Padparadscha Sapphire - Oval 1.74 Ct. #PA3310\n",
      "Price per length: 787.5784190715182\n",
      "Price: 6277.0\n",
      "Dims: 7.97 x 6.25 x 4.24\n",
      "Color: Padparadscha (Pinkish-Orange / Orangish-Pink)\n",
      "Treatments: Heated\n"
     ]
    },
    {
     "data": {
      "text/html": [
       "<img src=\"https://image.thenaturalsapphirecompany.com/nsc/sapphire/pa3310/image/certified-natural-ceylon-oval-padparadscha-sapphire-1.7400-cts-pa3310-1-full.jpg\" width=\"400\"/>"
      ],
      "text/plain": [
       "<IPython.core.display.Image object>"
      ]
     },
     "metadata": {},
     "output_type": "display_data"
    },
    {
     "name": "stdout",
     "output_type": "stream",
     "text": [
      "https://www.thenaturalsapphirecompany.com/5.03ct-ceylon-sri-lanka-round-peach-sapphire-s7224-/\n",
      "Peach Sapphire - Round 5.03 Ct. #S7224\n",
      "Price per length: 788.6340977068794\n",
      "Price: 7910.0\n",
      "Dims: 10.03 x 9.82 x 6.75\n",
      "Color: Peach\n",
      "Treatments: No Enhancement\n"
     ]
    },
    {
     "data": {
      "text/html": [
       "<img src=\"https://image.thenaturalsapphirecompany.com/nsc/sapphire/s7224/image/certified-natural-untreated-ceylon(srilanka)-round-peach-sapphire-5.0300-cts-s7224-1-full.jpg\" width=\"400\"/>"
      ],
      "text/plain": [
       "<IPython.core.display.Image object>"
      ]
     },
     "metadata": {},
     "output_type": "display_data"
    },
    {
     "name": "stdout",
     "output_type": "stream",
     "text": [
      "https://www.thenaturalsapphirecompany.com/3.53ct-ceylon-sri-lanka-radiant-peach-sapphire-s11350-/\n",
      "Peach Sapphire - Radiant 3.53 Ct. #S11350\n",
      "Price per length: 790.5569007263923\n",
      "Price: 6530.0\n",
      "Dims: 8.26 x 7.99 x 5.46\n",
      "Color: Peach\n",
      "Treatments: No Enhancement\n"
     ]
    },
    {
     "data": {
      "text/html": [
       "<img src=\"https://image.thenaturalsapphirecompany.com/nsc/sapphire/s11350/image/certified-natural-untreated-ceylon(srilanka)-asscher-peach(yellow-orange)-sapphire-3.5300-cts-s11350-1-full.jpg\" width=\"400\"/>"
      ],
      "text/plain": [
       "<IPython.core.display.Image object>"
      ]
     },
     "metadata": {},
     "output_type": "display_data"
    },
    {
     "name": "stdout",
     "output_type": "stream",
     "text": [
      "https://www.thenaturalsapphirecompany.com/7.55ct-ceylon-sri-lanka-emerald-cut-white-sapphire-s4426-/\n",
      "White Sapphire - Emerald Cut 7.55 Ct. #S4426\n",
      "Price per length: 798.5777777777778\n",
      "Price: 8984.0\n",
      "Dims: 11.25 x 9.1 x 7.4\n",
      "Color: White\n",
      "Treatments: No Enhancement\n"
     ]
    },
    {
     "data": {
      "text/html": [
       "<img src=\"https://image.thenaturalsapphirecompany.com/nsc/sapphire/s4426/image/certified-natural-untreated-ceylon(srilanka)-emeraldcut-white-sapphire-7.5500-cts-s4426-1-full.jpg\" width=\"400\"/>"
      ],
      "text/plain": [
       "<IPython.core.display.Image object>"
      ]
     },
     "metadata": {},
     "output_type": "display_data"
    },
    {
     "name": "stdout",
     "output_type": "stream",
     "text": [
      "https://www.thenaturalsapphirecompany.com/5.04ct-madagascar-cushion-peach-sapphire-s7938-/\n",
      "Peach Sapphire - Cushion 5.04 Ct. #S7938\n",
      "Price per length: 801.4967259120674\n",
      "Price: 8568.0\n",
      "Dims: 10.69 x 9.07 x 5.43\n",
      "Color: Peach\n",
      "Treatments: No Enhancement\n"
     ]
    },
    {
     "data": {
      "text/html": [
       "<img src=\"https://image.thenaturalsapphirecompany.com/nsc/sapphire/s7938/image/certified-natural-untreated-ceylon(srilanka)-cushion-peach-sapphire-5.0400-cts-s7938-1-full.jpg\" width=\"400\"/>"
      ],
      "text/plain": [
       "<IPython.core.display.Image object>"
      ]
     },
     "metadata": {},
     "output_type": "display_data"
    },
    {
     "name": "stdout",
     "output_type": "stream",
     "text": [
      "https://www.thenaturalsapphirecompany.com/5.56ct-ceylon-sri-lanka-radiant-white-sapphire-s8048-/\n",
      "White Sapphire - Radiant 5.56 Ct. #S8048\n",
      "Price per length: 805.9745347698334\n",
      "Price: 8229.0\n",
      "Dims: 10.21 x 9.88 x 5.64\n",
      "Color: White\n",
      "Treatments: Heated\n"
     ]
    },
    {
     "data": {
      "text/html": [
       "<img src=\"https://image.thenaturalsapphirecompany.com/nsc/sapphire/s8048/image/certified-natural-ceylon(srilanka)-radiant-white-sapphire-5.5600-cts-s8048-1-full.jpg\" width=\"400\"/>"
      ],
      "text/plain": [
       "<IPython.core.display.Image object>"
      ]
     },
     "metadata": {},
     "output_type": "display_data"
    },
    {
     "name": "stdout",
     "output_type": "stream",
     "text": [
      "https://www.thenaturalsapphirecompany.com/1.20ct-madagascar-cushion-padparadscha-sapphire-pa3931-/\n",
      "Padparadscha Sapphire - Cushion 1.20 Ct. #PA3931\n",
      "Price per length: 818.5840707964602\n",
      "Price: 5550.0\n",
      "Dims: 6.78 x 5.95 x 3.51\n",
      "Color: Padparadscha (Pinkish-Orange / Orangish-Pink)\n",
      "Treatments: No Enhancement\n"
     ]
    },
    {
     "data": {
      "text/html": [
       "<img src=\"https://image.thenaturalsapphirecompany.com/nsc/sapphire/pa3931/image/certified-natural-untreated-ceylon(srilanka)-cushion-padparadscha-sapphire-1.2000-cts-pa3931-1-full.jpg\" width=\"400\"/>"
      ],
      "text/plain": [
       "<IPython.core.display.Image object>"
      ]
     },
     "metadata": {},
     "output_type": "display_data"
    },
    {
     "name": "stdout",
     "output_type": "stream",
     "text": [
      "https://www.thenaturalsapphirecompany.com/2.70ct-madagascar-round-peach-sapphire-u17604-/\n",
      "Peach Sapphire - Round 2.70 Ct. #U17604\n",
      "Price per length: 821.3154689403166\n",
      "Price: 6743.0\n",
      "Dims: 8.21 x 8.08 x 4.94\n",
      "Color: Peach\n",
      "Treatments: No Enhancement\n"
     ]
    },
    {
     "data": {
      "text/html": [
       "<img src=\"https://image.thenaturalsapphirecompany.com/nsc/sapphire/u17604/image/certified-natural-untreated-madagascar-round-peach-sapphire-2.7000-cts-u17604-1-full.jpg\" width=\"400\"/>"
      ],
      "text/plain": [
       "<IPython.core.display.Image object>"
      ]
     },
     "metadata": {},
     "output_type": "display_data"
    },
    {
     "name": "stdout",
     "output_type": "stream",
     "text": [
      "https://www.thenaturalsapphirecompany.com/2.12ct-ceylon-sri-lanka-oval-padparadscha-sapphire-pa4157-/\n",
      "Padparadscha Sapphire - Oval 2.12 Ct. #PA4157\n",
      "Price per length: 825.9927797833934\n",
      "Price: 6864.0\n",
      "Dims: 8.31 x 6.75 x 4.45\n",
      "Color: Padparadscha (Pinkish-Orange / Orangish-Pink)\n",
      "Treatments: No Enhancement\n"
     ]
    },
    {
     "data": {
      "text/html": [
       "<img src=\"https://image.thenaturalsapphirecompany.com/nsc/sapphire/pa4157/image/certified-natural-untreated-madagascar-oval-padparadscha-sapphire-2.1200-cts-pa4157-1-full.jpg\" width=\"400\"/>"
      ],
      "text/plain": [
       "<IPython.core.display.Image object>"
      ]
     },
     "metadata": {},
     "output_type": "display_data"
    },
    {
     "name": "stdout",
     "output_type": "stream",
     "text": [
      "https://www.thenaturalsapphirecompany.com/2.32ct-madagascar-pear-padparadscha-sapphire-s8160-/\n",
      "Padparadscha Sapphire - Pear 2.32 Ct. #S8160\n",
      "Price per length: 834.3656343656344\n",
      "Price: 8352.0\n",
      "Dims: 10.01 x 6.41 x 4.8\n",
      "Color: Padparadscha (Pinkish-Orange / Orangish-Pink)\n",
      "Treatments: Heated\n"
     ]
    },
    {
     "data": {
      "text/html": [
       "<img src=\"https://image.thenaturalsapphirecompany.com/nsc/sapphire/s8160/image/certified-natural-madagascar-pear-padparadscha-sapphire-2.3200-cts-s8160-1-full.jpg\" width=\"400\"/>"
      ],
      "text/plain": [
       "<IPython.core.display.Image object>"
      ]
     },
     "metadata": {},
     "output_type": "display_data"
    },
    {
     "name": "stdout",
     "output_type": "stream",
     "text": [
      "https://www.thenaturalsapphirecompany.com/4.20ct-ceylon-sri-lanka-emerald-cut-peach-sapphire-u13273-/\n",
      "Peach Sapphire - Emerald Cut 4.20 Ct. #U13273\n",
      "Price per length: 834.5864661654135\n",
      "Price: 7770.0\n",
      "Dims: 9.31 x 8.57 x 5.38\n",
      "Color: Peach\n",
      "Treatments: No Enhancement\n"
     ]
    },
    {
     "data": {
      "text/html": [
       "<img src=\"https://image.thenaturalsapphirecompany.com/nsc/sapphire/u13273/image/certified-natural-untreated-ceylon-emeraldcut-peach-sapphire-4.2000-cts-u13273-1-full.jpg\" width=\"400\"/>"
      ],
      "text/plain": [
       "<IPython.core.display.Image object>"
      ]
     },
     "metadata": {},
     "output_type": "display_data"
    },
    {
     "name": "stdout",
     "output_type": "stream",
     "text": [
      "https://www.thenaturalsapphirecompany.com/6.59ct-ceylon-sri-lanka-cushion-peach-sapphire-u8879-/\n",
      "Peach Sapphire - Cushion 6.59 Ct. #U8879\n",
      "Price per length: 841.6173570019723\n",
      "Price: 8534.0\n",
      "Dims: 10.14 x 9.32 x 7.17\n",
      "Color: Peach\n",
      "Treatments: Heated\n"
     ]
    },
    {
     "data": {
      "text/html": [
       "<img src=\"https://image.thenaturalsapphirecompany.com/nsc/sapphire/u8879/image/certified-natural-ceylon-cushion-peach-sapphire-6.5900-cts-u8879-1-full.jpg\" width=\"400\"/>"
      ],
      "text/plain": [
       "<IPython.core.display.Image object>"
      ]
     },
     "metadata": {},
     "output_type": "display_data"
    },
    {
     "name": "stdout",
     "output_type": "stream",
     "text": [
      "https://www.thenaturalsapphirecompany.com/4.39ct-ceylon-sri-lanka-emerald-cut-peach-sapphire-s15125-/\n",
      "Peach Sapphire - Emerald Cut 4.39 Ct. #S15125\n",
      "Price per length: 849.8932384341637\n",
      "Price: 11941.0\n",
      "Dims: 14.05 x 6.42 x 4.83\n",
      "Color: Peach\n",
      "Treatments: Heated\n"
     ]
    },
    {
     "data": {
      "text/html": [
       "<img src=\"https://image.thenaturalsapphirecompany.com/nsc/sapphire/s15125/image/certified-natural-ceylon(srilanka)-emeraldcut-peach-sapphire-4.3900-cts-s15125-1-full.jpg\" width=\"400\"/>"
      ],
      "text/plain": [
       "<IPython.core.display.Image object>"
      ]
     },
     "metadata": {},
     "output_type": "display_data"
    },
    {
     "name": "stdout",
     "output_type": "stream",
     "text": [
      "https://www.thenaturalsapphirecompany.com/5.44ct-ceylon-sri-lanka-oval-peach-sapphire-s16107-/\n",
      "Peach Sapphire - Oval 5.44 Ct. #S16107\n",
      "Price per length: 852.2138680033416\n",
      "Price: 10201.0\n",
      "Dims: 11.97 x 9.3 x 5.11\n",
      "Color: Peach\n",
      "Treatments: No Enhancement\n"
     ]
    },
    {
     "data": {
      "text/html": [
       "<img src=\"https://image.thenaturalsapphirecompany.com/nsc/sapphire/s16107/image/certified-natural-untreated-ceylon(srilanka)-oval-peach-sapphire-5.4400-cts-s16107-1-full.jpg\" width=\"400\"/>"
      ],
      "text/plain": [
       "<IPython.core.display.Image object>"
      ]
     },
     "metadata": {},
     "output_type": "display_data"
    },
    {
     "name": "stdout",
     "output_type": "stream",
     "text": [
      "https://www.thenaturalsapphirecompany.com/5.11ct-madagascar-radiant-peach-sapphire-s17084-/\n",
      "Peach Sapphire - Radiant 5.11 Ct. #S17084\n",
      "Price per length: 856.2724014336917\n",
      "Price: 9556.0\n",
      "Dims: 11.16 x 8.81 x 5.78\n",
      "Color: Peach\n",
      "Treatments: No Enhancement\n"
     ]
    },
    {
     "data": {
      "text/html": [
       "<img src=\"https://image.thenaturalsapphirecompany.com/nsc/sapphire/s17084/image/certified-natural-untreated-madagascar-radiant-peach-sapphire-5.1100-cts-s17084-1-full.jpg\" width=\"400\"/>"
      ],
      "text/plain": [
       "<IPython.core.display.Image object>"
      ]
     },
     "metadata": {},
     "output_type": "display_data"
    },
    {
     "name": "stdout",
     "output_type": "stream",
     "text": [
      "https://www.thenaturalsapphirecompany.com/3.76ct-ceylon-sri-lanka-oval-peach-sapphire-s14640-/\n",
      "Peach Sapphire - Oval 3.76 Ct. #S14640\n",
      "Price per length: 858.6069651741293\n",
      "Price: 8629.0\n",
      "Dims: 10.05 x 8.11 x 5.5\n",
      "Color: Peach\n",
      "Treatments: No Enhancement\n"
     ]
    },
    {
     "data": {
      "text/html": [
       "<img src=\"https://image.thenaturalsapphirecompany.com/nsc/sapphire/s14640/image/certified-natural-untreated-ceylon(srilanka)-oval-yellowishorange-sapphire-3.7600-cts-s14640-1-full.jpg\" width=\"400\"/>"
      ],
      "text/plain": [
       "<IPython.core.display.Image object>"
      ]
     },
     "metadata": {},
     "output_type": "display_data"
    },
    {
     "name": "stdout",
     "output_type": "stream",
     "text": [
      "https://www.thenaturalsapphirecompany.com/8.56ct-ceylon-sri-lanka-oval-padparadscha-sapphire-s7075-/\n",
      "Padparadscha Sapphire - Oval 8.56 Ct. #S7075\n",
      "Price per length: 863.8247011952191\n",
      "Price: 10841.0\n",
      "Dims: 12.55 x 10.52 x 7.87\n",
      "Color: Padparadscha (Pinkish-Orange / Orangish-Pink)\n",
      "Treatments: No Enhancement\n"
     ]
    },
    {
     "data": {
      "text/html": [
       "<img src=\"https://image.thenaturalsapphirecompany.com/nsc/sapphire/s7075/image/certified-natural-untreated-ceylon(srilanka)-oval-padparadscha-sapphire-8.5600-cts-s7075-1-full.jpg\" width=\"400\"/>"
      ],
      "text/plain": [
       "<IPython.core.display.Image object>"
      ]
     },
     "metadata": {},
     "output_type": "display_data"
    },
    {
     "name": "stdout",
     "output_type": "stream",
     "text": [
      "https://www.thenaturalsapphirecompany.com/1.29ct-madagascar-cushion-padparadscha-sapphire-s12066-/\n",
      "Padparadscha Sapphire - Cushion 1.29 Ct. #S12066\n",
      "Price per length: 868.6868686868686\n",
      "Price: 5160.0\n",
      "Dims: 5.94 x 5.86 x 3.82\n",
      "Color: Padparadscha (Pinkish-Orange / Orangish-Pink)\n",
      "Treatments: No Enhancement\n"
     ]
    },
    {
     "data": {
      "text/html": [
       "<img src=\"https://image.thenaturalsapphirecompany.com/nsc/sapphire/s12066/image/certified-natural-untreated-madagascar-cushion-padparadscha-sapphire-1.2900-cts-s12066-1-full.jpg\" width=\"400\"/>"
      ],
      "text/plain": [
       "<IPython.core.display.Image object>"
      ]
     },
     "metadata": {},
     "output_type": "display_data"
    },
    {
     "name": "stdout",
     "output_type": "stream",
     "text": [
      "https://www.thenaturalsapphirecompany.com/1.57ct-mozambique-cushion-padparadscha-sapphire-pa4120-/\n",
      "Padparadscha Sapphire - Cushion 1.57 Ct. #PA4120\n",
      "Price per length: 893.6923076923077\n",
      "Price: 5809.0\n",
      "Dims: 6.5 x 6.31 x 4.31\n",
      "Color: Padparadscha (Pinkish-Orange / Orangish-Pink)\n",
      "Treatments: Heated\n"
     ]
    },
    {
     "data": {
      "text/html": [
       "<img src=\"https://image.thenaturalsapphirecompany.com/nsc/sapphire/pa4120/image/certified-natural-mozambique-cushion-padparadscha-sapphire-1.5700-cts-pa4120-1-full.jpg\" width=\"400\"/>"
      ],
      "text/plain": [
       "<IPython.core.display.Image object>"
      ]
     },
     "metadata": {},
     "output_type": "display_data"
    },
    {
     "name": "stdout",
     "output_type": "stream",
     "text": [
      "https://www.thenaturalsapphirecompany.com/4.80ct-ceylon-sri-lanka-oval-peach-sapphire-s6784-/\n",
      "Peach Sapphire - Oval 4.80 Ct. #S6784\n",
      "Price per length: 895.8828911253431\n",
      "Price: 9792.0\n",
      "Dims: 10.93 x 8.69 x 6.33\n",
      "Color: Peach\n",
      "Treatments: No Enhancement\n"
     ]
    },
    {
     "data": {
      "text/html": [
       "<img src=\"https://image.thenaturalsapphirecompany.com/nsc/sapphire/s6784/image/certified-natural-untreated-ceylon(srilanka)-oval-peach-sapphire-4.8000-cts-s6784-1-full.jpg\" width=\"400\"/>"
      ],
      "text/plain": [
       "<IPython.core.display.Image object>"
      ]
     },
     "metadata": {},
     "output_type": "display_data"
    },
    {
     "name": "stdout",
     "output_type": "stream",
     "text": [
      "https://www.thenaturalsapphirecompany.com/2.06ct-madagascar-oval-padparadscha-sapphire-s17172-/\n",
      "Padparadscha Sapphire - Oval 2.06 Ct. #S17172\n",
      "Price per length: 911.0225763612216\n",
      "Price: 6860.0\n",
      "Dims: 7.53 x 6.46 x 5.06\n",
      "Color: Padparadscha (Pinkish-Orange / Orangish-Pink)\n",
      "Treatments: Heated\n"
     ]
    },
    {
     "data": {
      "text/html": [
       "<img src=\"https://image.thenaturalsapphirecompany.com/nsc/sapphire/s17172/image/certified-natural-ceylon(srilanka)-oval-padparadscha-sapphire-2.0600-cts-s17172-1-full.jpg\" width=\"400\"/>"
      ],
      "text/plain": [
       "<IPython.core.display.Image object>"
      ]
     },
     "metadata": {},
     "output_type": "display_data"
    },
    {
     "name": "stdout",
     "output_type": "stream",
     "text": [
      "https://www.thenaturalsapphirecompany.com/6.06ct-ceylon-sri-lanka-asscher-octagon-white-sapphire-u13287-/\n",
      "White Sapphire - Asscher - Octagon 6.06 Ct. #U13287\n",
      "Price per length: 926.4056224899598\n",
      "Price: 9227.0\n",
      "Dims: 9.96 x 9.25 x 7.44\n",
      "Color: White\n",
      "Treatments: No Enhancement\n"
     ]
    },
    {
     "data": {
      "text/html": [
       "<img src=\"https://image.thenaturalsapphirecompany.com/nsc/sapphire/u13287/image/certified-natural-untreated-ceylon-asscher-white-sapphire-6.0600-cts-u13287-1-full.jpg\" width=\"400\"/>"
      ],
      "text/plain": [
       "<IPython.core.display.Image object>"
      ]
     },
     "metadata": {},
     "output_type": "display_data"
    },
    {
     "name": "stdout",
     "output_type": "stream",
     "text": [
      "https://www.thenaturalsapphirecompany.com/3.37ct-ceylon-sri-lanka-oval-padparadscha-sapphire-pa3431-/\n",
      "Padparadscha Sapphire - Oval 3.37 Ct. #PA3431\n",
      "Price per length: 928.8864388092612\n",
      "Price: 8425.0\n",
      "Dims: 9.07 x 7.71 x 4.99\n",
      "Color: Padparadscha (Pinkish-Orange / Orangish-Pink)\n",
      "Treatments: No Enhancement\n"
     ]
    },
    {
     "data": {
      "text/html": [
       "<img src=\"https://image.thenaturalsapphirecompany.com/nsc/sapphire/pa3431/image/certified-natural-untreated-ceylon-oval-padparadscha-sapphire-3.3700-cts-pa3431-1-full.jpg\" width=\"400\"/>"
      ],
      "text/plain": [
       "<IPython.core.display.Image object>"
      ]
     },
     "metadata": {},
     "output_type": "display_data"
    },
    {
     "name": "stdout",
     "output_type": "stream",
     "text": [
      "https://www.thenaturalsapphirecompany.com/8.03ct-ceylon-sri-lanka-radiant-white-sapphire-s13672-/\n",
      "White Sapphire - Radiant 8.03 Ct. #S13672\n",
      "Price per length: 943.90665514261\n",
      "Price: 10921.0\n",
      "Dims: 11.57 x 10.14 x 7.59\n",
      "Color: White\n",
      "Treatments: No Enhancement\n"
     ]
    },
    {
     "data": {
      "text/html": [
       "<img src=\"https://image.thenaturalsapphirecompany.com/nsc/sapphire/s13672/image/certified-natural-untreated-ceylon(srilanka)-radiant-white-sapphire-8.0300-cts-s13672-1-full.jpg\" width=\"400\"/>"
      ],
      "text/plain": [
       "<IPython.core.display.Image object>"
      ]
     },
     "metadata": {},
     "output_type": "display_data"
    },
    {
     "name": "stdout",
     "output_type": "stream",
     "text": [
      "https://www.thenaturalsapphirecompany.com/2.47ct-tanzania-radiant-padparadscha-sapphire-s4946-/\n",
      "Padparadscha Sapphire - Radiant 2.47 Ct. #S4946\n",
      "Price per length: 971.0743801652892\n",
      "Price: 8225.0\n",
      "Dims: 8.47 x 8.15 x 4.02\n",
      "Color: Padparadscha (Pinkish-Orange / Orangish-Pink)\n",
      "Treatments: No Enhancement\n"
     ]
    },
    {
     "data": {
      "text/html": [
       "<img src=\"https://image.thenaturalsapphirecompany.com/nsc/sapphire/s4946/image/certified-natural-untreated-tanzania-radiant-padparadscha-sapphire-2.4700-cts-s4946-1-full.jpg\" width=\"400\"/>"
      ],
      "text/plain": [
       "<IPython.core.display.Image object>"
      ]
     },
     "metadata": {},
     "output_type": "display_data"
    },
    {
     "name": "stdout",
     "output_type": "stream",
     "text": [
      "https://www.thenaturalsapphirecompany.com/7.65ct-ceylon-sri-lanka-radiant-white-sapphire-s7019-/\n",
      "White Sapphire - Radiant 7.65 Ct. #S7019\n",
      "Price per length: 976.7381974248926\n",
      "Price: 11379.0\n",
      "Dims: 11.65 x 9.28 x 7.37\n",
      "Color: White\n",
      "Treatments: Heated\n"
     ]
    },
    {
     "data": {
      "text/html": [
       "<img src=\"https://image.thenaturalsapphirecompany.com/nsc/sapphire/s7019/image/certified-natural-ceylon(srilanka)-emerald-white-sapphire-7.6500-cts-s7019-1-full.jpg\" width=\"400\"/>"
      ],
      "text/plain": [
       "<IPython.core.display.Image object>"
      ]
     },
     "metadata": {},
     "output_type": "display_data"
    },
    {
     "name": "stdout",
     "output_type": "stream",
     "text": [
      "https://www.thenaturalsapphirecompany.com/3.06ct-ceylon-sri-lanka-oval-padparadscha-sapphire-s8374-/\n",
      "Padparadscha Sapphire - Oval 3.06 Ct. #S8374\n",
      "Price per length: 1007.563959955506\n",
      "Price: 9058.0\n",
      "Dims: 8.99 x 7.55 x 5.17\n",
      "Color: Padparadscha (Pinkish-Orange / Orangish-Pink)\n",
      "Treatments: Heated\n"
     ]
    },
    {
     "data": {
      "text/html": [
       "<img src=\"https://image.thenaturalsapphirecompany.com/nsc/sapphire/s8374/image/certified-natural-ceylon(srilanka)-oval-padparadscha-sapphire-3.0600-cts-s8374-1-full.jpg\" width=\"400\"/>"
      ],
      "text/plain": [
       "<IPython.core.display.Image object>"
      ]
     },
     "metadata": {},
     "output_type": "display_data"
    },
    {
     "name": "stdout",
     "output_type": "stream",
     "text": [
      "https://www.thenaturalsapphirecompany.com/2.25ct-madagascar-round-padparadscha-sapphire-s12043-/\n",
      "Padparadscha Sapphire - Round 2.25 Ct. #S12043\n",
      "Price per length: 1010.5202312138728\n",
      "Price: 8741.0\n",
      "Dims: 8.65 x 8.57 x 3.83\n",
      "Color: Padparadscha (Pinkish-Orange / Orangish-Pink)\n",
      "Treatments: Heated\n"
     ]
    },
    {
     "data": {
      "text/html": [
       "<img src=\"https://image.thenaturalsapphirecompany.com/nsc/sapphire/s12043/image/certified-natural-ceylon(srilanka)-round-pink-sapphire-2.2400-cts-s12043-1-full.jpg\" width=\"400\"/>"
      ],
      "text/plain": [
       "<IPython.core.display.Image object>"
      ]
     },
     "metadata": {},
     "output_type": "display_data"
    },
    {
     "name": "stdout",
     "output_type": "stream",
     "text": [
      "https://www.thenaturalsapphirecompany.com/8.65ct-ceylon-sri-lanka-asscher-octagon-white-sapphire-u12876-/\n",
      "White Sapphire - Asscher - Octagon 8.65 Ct. #U12876\n",
      "Price per length: 1017.4354243542437\n",
      "Price: 11029.0\n",
      "Dims: 10.84 x 10.75 x 7.82\n",
      "Color: White\n",
      "Treatments: Heated\n"
     ]
    },
    {
     "data": {
      "text/html": [
       "<img src=\"https://image.thenaturalsapphirecompany.com/nsc/sapphire/u12876/image/certified-natural-ceylon-asscher-white-sapphire-8.6500-cts-u12876-1-full.jpg\" width=\"400\"/>"
      ],
      "text/plain": [
       "<IPython.core.display.Image object>"
      ]
     },
     "metadata": {},
     "output_type": "display_data"
    },
    {
     "name": "stdout",
     "output_type": "stream",
     "text": [
      "https://www.thenaturalsapphirecompany.com/2.50ct-madagascar-cushion-padparadscha-sapphire-s14311-/\n",
      "Padparadscha Sapphire - Cushion 2.50 Ct. #S14311\n",
      "Price per length: 1027.8113663845224\n",
      "Price: 8500.0\n",
      "Dims: 8.27 x 7.23 x 3.82\n",
      "Color: Padparadscha (Pinkish-Orange / Orangish-Pink)\n",
      "Treatments: No Enhancement\n"
     ]
    },
    {
     "data": {
      "text/html": [
       "<img src=\"https://image.thenaturalsapphirecompany.com/nsc/sapphire/s14311/image/certified-natural-untreated-madagascar-cushion-padparadscha-sapphire-2.5000-cts-s14311-1-full.jpg\" width=\"400\"/>"
      ],
      "text/plain": [
       "<IPython.core.display.Image object>"
      ]
     },
     "metadata": {},
     "output_type": "display_data"
    },
    {
     "name": "stdout",
     "output_type": "stream",
     "text": [
      "https://www.thenaturalsapphirecompany.com/7.02ct-ceylon-sri-lanka-round-white-sapphire-s13400-/\n",
      "White Sapphire - Round 7.02 Ct. #S13400\n",
      "Price per length: 1047.3447344734475\n",
      "Price: 11636.0\n",
      "Dims: 11.11 x 11.09 x 6.95\n",
      "Color: White\n",
      "Treatments: No Enhancement\n"
     ]
    },
    {
     "data": {
      "text/html": [
       "<img src=\"https://image.thenaturalsapphirecompany.com/nsc/sapphire/s13400/image/certified-natural-untreated-ceylon(srilanka)-round-white-sapphire-7.0200-cts-s13400-1-full.jpg\" width=\"400\"/>"
      ],
      "text/plain": [
       "<IPython.core.display.Image object>"
      ]
     },
     "metadata": {},
     "output_type": "display_data"
    },
    {
     "name": "stdout",
     "output_type": "stream",
     "text": [
      "https://www.thenaturalsapphirecompany.com/2.76ct-madagascar-oval-padparadscha-sapphire-s14260-/\n",
      "Padparadscha Sapphire - Oval 2.76 Ct. #S14260\n",
      "Price per length: 1064.0388768898488\n",
      "Price: 9853.0\n",
      "Dims: 9.26 x 7.56 x 4.77\n",
      "Color: Padparadscha (Pinkish-Orange / Orangish-Pink)\n",
      "Treatments: No Enhancement\n"
     ]
    },
    {
     "data": {
      "text/html": [
       "<img src=\"https://image.thenaturalsapphirecompany.com/nsc/sapphire/s14260/image/certified-natural-untreated-madagascar-oval-padparadscha-sapphire-2.7600-cts-s14260-1-full.jpg\" width=\"400\"/>"
      ],
      "text/plain": [
       "<IPython.core.display.Image object>"
      ]
     },
     "metadata": {},
     "output_type": "display_data"
    },
    {
     "name": "stdout",
     "output_type": "stream",
     "text": [
      "https://www.thenaturalsapphirecompany.com/3.92ct-ceylon-sri-lanka-radiant-padparadscha-sapphire-s9397-/\n",
      "Padparadscha Sapphire - Radiant 3.92 Ct. #S9397\n",
      "Price per length: 1073.7160120845922\n",
      "Price: 10662.0\n",
      "Dims: 9.93 x 7.26 x 5.12\n",
      "Color: Padparadscha (Pinkish-Orange / Orangish-Pink)\n",
      "Treatments: No Enhancement\n"
     ]
    },
    {
     "data": {
      "text/html": [
       "<img src=\"https://image.thenaturalsapphirecompany.com/nsc/sapphire/s9397/image/certified-natural-untreated-ceylon(srilanka)-radiant-padparadscha-sapphire-3.9200-cts-s9397-1-full.jpg\" width=\"400\"/>"
      ],
      "text/plain": [
       "<IPython.core.display.Image object>"
      ]
     },
     "metadata": {},
     "output_type": "display_data"
    },
    {
     "name": "stdout",
     "output_type": "stream",
     "text": [
      "https://www.thenaturalsapphirecompany.com/2.57ct-ceylon-sri-lanka-oval-padparadscha-sapphire-s17462-/\n",
      "Padparadscha Sapphire - Oval 2.57 Ct. #S17462\n",
      "Price per length: 1075.492341356674\n",
      "Price: 9830.0\n",
      "Dims: 9.14 x 8.59 x 4.25\n",
      "Color: Padparadscha (Pinkish-Orange / Orangish-Pink)\n",
      "Treatments: No Enhancement\n"
     ]
    },
    {
     "data": {
      "text/html": [
       "<img src=\"https://image.thenaturalsapphirecompany.com/nsc/sapphire/s17462/image/certified-natural-untreated-ceylon(srilanka)-oval-padparadscha-sapphire-2.5700-cts-s17462-1-full.jpg\" width=\"400\"/>"
      ],
      "text/plain": [
       "<IPython.core.display.Image object>"
      ]
     },
     "metadata": {},
     "output_type": "display_data"
    },
    {
     "name": "stdout",
     "output_type": "stream",
     "text": [
      "https://www.thenaturalsapphirecompany.com/2.31ct-madagascar-oval-padparadscha-sapphire-s11982-/\n",
      "Padparadscha Sapphire - Oval 2.31 Ct. #S11982\n",
      "Price per length: 1113.5650224215246\n",
      "Price: 9933.0\n",
      "Dims: 8.92 x 6.74 x 4.38\n",
      "Color: Padparadscha (Pinkish-Orange / Orangish-Pink)\n",
      "Treatments: No Enhancement\n"
     ]
    },
    {
     "data": {
      "text/html": [
       "<img src=\"https://image.thenaturalsapphirecompany.com/nsc/sapphire/s11982/image/certified-natural-untreated-madagascar-oval-padparadscha-sapphire-2.3100-cts-s11982-1-full.jpg\" width=\"400\"/>"
      ],
      "text/plain": [
       "<IPython.core.display.Image object>"
      ]
     },
     "metadata": {},
     "output_type": "display_data"
    },
    {
     "name": "stdout",
     "output_type": "stream",
     "text": [
      "https://www.thenaturalsapphirecompany.com/3.45ct-madagascar-cushion-padparadscha-sapphire-s7852-/\n",
      "Padparadscha Sapphire - Cushion 3.45 Ct. #S7852\n",
      "Price per length: 1139.7058823529412\n",
      "Price: 10850.0\n",
      "Dims: 9.52 x 6.76 x 5.61\n",
      "Color: Padparadscha (Pinkish-Orange / Orangish-Pink)\n",
      "Treatments: No Enhancement\n"
     ]
    },
    {
     "data": {
      "text/html": [
       "<img src=\"https://image.thenaturalsapphirecompany.com/nsc/sapphire/s7852/image/certified-natural-untreated-madagascar-cushion-padparadscha-sapphire-3.4500-cts-s7852-1-full.jpg\" width=\"400\"/>"
      ],
      "text/plain": [
       "<IPython.core.display.Image object>"
      ]
     },
     "metadata": {},
     "output_type": "display_data"
    },
    {
     "name": "stdout",
     "output_type": "stream",
     "text": [
      "https://www.thenaturalsapphirecompany.com/2.61ct-madagascar-oval-padparadscha-sapphire-s17463-/\n",
      "Padparadscha Sapphire - Oval 2.61 Ct. #S17463\n",
      "Price per length: 1164.0083945435467\n",
      "Price: 11093.0\n",
      "Dims: 9.53 x 7.88 x 4.07\n",
      "Color: Padparadscha (Pinkish-Orange / Orangish-Pink)\n",
      "Treatments: No Enhancement\n"
     ]
    },
    {
     "data": {
      "text/html": [
       "<img src=\"https://image.thenaturalsapphirecompany.com/nsc/sapphire/s17463/image/certified-natural-untreated-madagascar-oval-padparadscha-sapphire-2.6100-cts-s17463-1-full.jpg\" width=\"400\"/>"
      ],
      "text/plain": [
       "<IPython.core.display.Image object>"
      ]
     },
     "metadata": {},
     "output_type": "display_data"
    },
    {
     "name": "stdout",
     "output_type": "stream",
     "text": [
      "https://www.thenaturalsapphirecompany.com/2.77ct-madagascar-oval-padparadscha-sapphire-pa3835-/\n",
      "Padparadscha Sapphire - Oval 2.77 Ct. #PA3835\n",
      "Price per length: 1193.4530095036955\n",
      "Price: 11302.0\n",
      "Dims: 9.47 x 6.9 x 5.01\n",
      "Color: Padparadscha (Pinkish-Orange / Orangish-Pink)\n",
      "Treatments: No Enhancement\n"
     ]
    },
    {
     "data": {
      "text/html": [
       "<img src=\"https://image.thenaturalsapphirecompany.com/nsc/sapphire/pa3835/image/certified-natural-untreated-madagascar-oval-padparadscha-sapphire-2.7700-cts-pa3835-1-full.jpg\" width=\"400\"/>"
      ],
      "text/plain": [
       "<IPython.core.display.Image object>"
      ]
     },
     "metadata": {},
     "output_type": "display_data"
    },
    {
     "name": "stdout",
     "output_type": "stream",
     "text": [
      "https://www.thenaturalsapphirecompany.com/2.06ct-ceylon-sri-lanka-cushion-padparadscha-sapphire-pa4125-/\n",
      "Padparadscha Sapphire - Cushion 2.06 Ct. #PA4125\n",
      "Price per length: 1222.7653631284916\n",
      "Price: 8755.0\n",
      "Dims: 7.16 x 6.75 x 4.85\n",
      "Color: Padparadscha (Pinkish-Orange / Orangish-Pink)\n",
      "Treatments: Heated\n"
     ]
    },
    {
     "data": {
      "text/html": [
       "<img src=\"https://image.thenaturalsapphirecompany.com/nsc/sapphire/pa4125/image/certified-natural-ceylon(srilanka)-cushion-padparadscha-sapphire-2.0600-cts-pa4125-1-full.jpg\" width=\"400\"/>"
      ],
      "text/plain": [
       "<IPython.core.display.Image object>"
      ]
     },
     "metadata": {},
     "output_type": "display_data"
    },
    {
     "name": "stdout",
     "output_type": "stream",
     "text": [
      "https://www.thenaturalsapphirecompany.com/4.95ct-ceylon-sri-lanka-radiant-peach-sapphire-u14742-/\n",
      "Peach Sapphire - Radiant 4.95 Ct. #U14742\n",
      "Price per length: 1242.7215189873418\n",
      "Price: 11781.0\n",
      "Dims: 9.48 x 9.2 x 6.14\n",
      "Color: Peach\n",
      "Treatments: No Enhancement\n"
     ]
    },
    {
     "data": {
      "text/html": [
       "<img src=\"https://image.thenaturalsapphirecompany.com/nsc/sapphire/u14742/image/certified-natural-ceylon-radiant-peach-sapphire-4.9500-cts-u14742-1-full.jpg\" width=\"400\"/>"
      ],
      "text/plain": [
       "<IPython.core.display.Image object>"
      ]
     },
     "metadata": {},
     "output_type": "display_data"
    },
    {
     "name": "stdout",
     "output_type": "stream",
     "text": [
      "https://www.thenaturalsapphirecompany.com/2.82ct-ceylon-sri-lanka-oval-padparadscha-sapphire-pa4113-/\n",
      "Padparadscha Sapphire - Oval 2.82 Ct. #PA4113\n",
      "Price per length: 1257.486338797814\n",
      "Price: 11506.0\n",
      "Dims: 9.15 x 7.23 x 4.82\n",
      "Color: Padparadscha (Pinkish-Orange / Orangish-Pink)\n",
      "Treatments: No Enhancement\n"
     ]
    },
    {
     "data": {
      "text/html": [
       "<img src=\"https://image.thenaturalsapphirecompany.com/nsc/sapphire/pa4113/image/certified-natural-untreated-ceylon(srilanka)-oval-padparadscha-sapphire-2.8200-cts-pa4113-1-full.jpg\" width=\"400\"/>"
      ],
      "text/plain": [
       "<IPython.core.display.Image object>"
      ]
     },
     "metadata": {},
     "output_type": "display_data"
    },
    {
     "name": "stdout",
     "output_type": "stream",
     "text": [
      "https://www.thenaturalsapphirecompany.com/2.05ct-madagascar-cushion-padparadscha-sapphire-pa4057-/\n",
      "Padparadscha Sapphire - Cushion 2.05 Ct. #PA4057\n",
      "Price per length: 1264.148148148148\n",
      "Price: 8533.0\n",
      "Dims: 6.75 x 6.6 x 5.17\n",
      "Color: Padparadscha (Pinkish-Orange / Orangish-Pink)\n",
      "Treatments: No Enhancement\n"
     ]
    },
    {
     "data": {
      "text/html": [
       "<img src=\"https://image.thenaturalsapphirecompany.com/nsc/sapphire/pa4057/image/certified-natural-untreated-madagascar-cushion-padparadscha-sapphire-2.0500-cts-pa4057-1-full.jpg\" width=\"400\"/>"
      ],
      "text/plain": [
       "<IPython.core.display.Image object>"
      ]
     },
     "metadata": {},
     "output_type": "display_data"
    },
    {
     "name": "stdout",
     "output_type": "stream",
     "text": [
      "https://www.thenaturalsapphirecompany.com/2.53ct-ceylon-sri-lanka-oval-padparadscha-sapphire-s13435-/\n",
      "Padparadscha Sapphire - Oval 2.53 Ct. #S13435\n",
      "Price per length: 1273.9336492890995\n",
      "Price: 10752.0\n",
      "Dims: 8.44 x 6.75 x 4.74\n",
      "Color: Padparadscha (Pinkish-Orange / Orangish-Pink)\n",
      "Treatments: No Enhancement\n"
     ]
    },
    {
     "data": {
      "text/html": [
       "<img src=\"https://image.thenaturalsapphirecompany.com/nsc/sapphire/s13435/image/certified-natural-untreated-ceylon(srilanka)-oval-padparadscha-sapphire-2.5300-cts-s13435-1-full.jpg\" width=\"400\"/>"
      ],
      "text/plain": [
       "<IPython.core.display.Image object>"
      ]
     },
     "metadata": {},
     "output_type": "display_data"
    },
    {
     "name": "stdout",
     "output_type": "stream",
     "text": [
      "https://www.thenaturalsapphirecompany.com/2.34ct-ceylon-sri-lanka-oval-padparadscha-sapphire-s17159-/\n",
      "Padparadscha Sapphire - Oval 2.34 Ct. #S17159\n",
      "Price per length: 1310.352422907489\n",
      "Price: 11898.0\n",
      "Dims: 9.08 x 7.06 x 3.9\n",
      "Color: Padparadscha (Pinkish-Orange / Orangish-Pink)\n",
      "Treatments: No Enhancement\n"
     ]
    },
    {
     "data": {
      "text/html": [
       "<img src=\"https://image.thenaturalsapphirecompany.com/nsc/sapphire/s17159/image/certified-natural-untreated-ceylon(srilanka)-oval-padparadscha-sapphire-2.3400-cts-s17159-1-full.jpg\" width=\"400\"/>"
      ],
      "text/plain": [
       "<IPython.core.display.Image object>"
      ]
     },
     "metadata": {},
     "output_type": "display_data"
    },
    {
     "name": "stdout",
     "output_type": "stream",
     "text": [
      "https://www.thenaturalsapphirecompany.com/1.96ct-madagascar-cushion-padparadscha-sapphire-pa3209-/\n",
      "Padparadscha Sapphire - Cushion 1.96 Ct. #PA3209\n",
      "Price per length: 1369.2922374429224\n",
      "Price: 11995.0\n",
      "Dims: 8.76 x 6.07 x 3.93\n",
      "Color: Padparadscha (Pinkish-Orange / Orangish-Pink)\n",
      "Treatments: No Enhancement\n"
     ]
    },
    {
     "data": {
      "text/html": [
       "<img src=\"https://image.thenaturalsapphirecompany.com/nsc/sapphire/pa3209/image/certified-natural-untreated-madagascar-cushion-padparadscha-sapphire-1.9600-cts-pa3209-1-full.jpg\" width=\"400\"/>"
      ],
      "text/plain": [
       "<IPython.core.display.Image object>"
      ]
     },
     "metadata": {},
     "output_type": "display_data"
    },
    {
     "name": "stdout",
     "output_type": "stream",
     "text": [
      "https://www.thenaturalsapphirecompany.com/3.03ct-ceylon-sri-lanka-cushion-padparadscha-sapphire-s17461-/\n",
      "Padparadscha Sapphire - Cushion 3.03 Ct. #S17461\n",
      "Price per length: 1468.9480354879595\n",
      "Price: 11590.0\n",
      "Dims: 7.89 x 7.14 x 5.93\n",
      "Color: Padparadscha (Pinkish-Orange / Orangish-Pink)\n",
      "Treatments: No Enhancement\n"
     ]
    },
    {
     "data": {
      "text/html": [
       "<img src=\"https://image.thenaturalsapphirecompany.com/nsc/sapphire/s17461/image/certified-natural-untreated-ceylon(srilanka)-cushion-padparadscha-sapphire-3.0300-cts-s17461-1-full.jpg\" width=\"400\"/>"
      ],
      "text/plain": [
       "<IPython.core.display.Image object>"
      ]
     },
     "metadata": {},
     "output_type": "display_data"
    }
   ],
   "execution_count": 80
  },
  {
   "cell_type": "code",
   "execution_count": null,
   "id": "7fa45439",
   "metadata": {},
   "outputs": [],
   "source": []
  }
 ],
 "metadata": {
  "kernelspec": {
   "display_name": "Python 3 (ipykernel)",
   "language": "python",
   "name": "python3"
  },
  "language_info": {
   "codemirror_mode": {
    "name": "ipython",
    "version": 3
   },
   "file_extension": ".py",
   "mimetype": "text/x-python",
   "name": "python",
   "nbconvert_exporter": "python",
   "pygments_lexer": "ipython3",
   "version": "3.9.18"
  }
 },
 "nbformat": 4,
 "nbformat_minor": 5
}
